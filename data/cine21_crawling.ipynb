{
 "cells": [
  {
   "cell_type": "markdown",
   "metadata": {},
   "source": [
    "# Cine21 Crawling"
   ]
  },
  {
   "cell_type": "markdown",
   "metadata": {},
   "source": [
    "## 1. Import libraries"
   ]
  },
  {
   "cell_type": "code",
   "execution_count": 2,
   "metadata": {},
   "outputs": [],
   "source": [
    "import time\n",
    "import pandas as pd\n",
    "\n",
    "from selenium.common.exceptions import NoSuchElementException\n",
    "from selenium.common.exceptions import StaleElementReferenceException\n",
    "from selenium.webdriver.common.by import By\n",
    "from selenium.webdriver.support.ui import WebDriverWait\n",
    "from selenium.webdriver.support import expected_conditions"
   ]
  },
  {
   "cell_type": "markdown",
   "metadata": {},
   "source": [
    "## 2. Connect to Cine21 website"
   ]
  },
  {
   "cell_type": "code",
   "execution_count": 3,
   "metadata": {},
   "outputs": [
    {
     "name": "stdout",
     "output_type": "stream",
     "text": [
      "--- 17.34216046333313 seconds ---\n"
     ]
    }
   ],
   "source": [
    "start_time = time.time()\n",
    "\n",
    "from selenium import webdriver\n",
    "\n",
    "driver = webdriver.Chrome(\"./chromedriver\")\n",
    "\n",
    "# 씨네21 영화 검색 페이지 접속 (''검색 결과)\n",
    "driver.get(\"http://www.cine21.com/\")\n",
    "\n",
    "print(\"--- %s seconds ---\" % (time.time() - start_time))"
   ]
  },
  {
   "cell_type": "markdown",
   "metadata": {
    "scrolled": true
   },
   "source": [
    "## 3. Prepare Data\n",
    "네이버 3년치 데이터 가져온 뒤 취합"
   ]
  },
  {
   "cell_type": "code",
   "execution_count": 4,
   "metadata": {},
   "outputs": [],
   "source": [
    "naver_df_2019 = pd.read_csv('C:/Users/Danbee/Desktop/luckyseven/naver_data/naver_2019_poster.csv', encoding='UTF8')\n",
    "naver_df_2020 = pd.read_csv('C:/Users/Danbee/Desktop/luckyseven/naver_data/naver_2020_poster.csv', encoding='UTF8')\n",
    "naver_df_2021 = pd.read_csv('C:/Users/Danbee/Desktop/luckyseven/naver_data/naver_2021_poster.csv', encoding='UTF8')"
   ]
  },
  {
   "cell_type": "code",
   "execution_count": 5,
   "metadata": {},
   "outputs": [
    {
     "name": "stdout",
     "output_type": "stream",
     "text": [
      "722\n",
      "647\n",
      "549\n",
      "2019년에서 누락된 데이터 수: 128\n",
      "2020년에서 누락된 데이터 수: 83\n",
      "2021년에서 누락된 데이터 수: 179\n",
      "2019~2021년에서 누락된 데이터 수: 390\n"
     ]
    }
   ],
   "source": [
    "print(len(naver_df_2019)) # 722 vs 850\n",
    "print(len(naver_df_2020)) # 647 vs 730\n",
    "print(len(naver_df_2021)) # 549 vs 728\n",
    "\n",
    "# 누락된 데이터 수\n",
    "print(\"2019년에서 누락된 데이터 수:\", 850-722)\n",
    "print(\"2020년에서 누락된 데이터 수:\", 730-647)\n",
    "print(\"2021년에서 누락된 데이터 수:\", 728-549)\n",
    "\n",
    "# 3년 전체\n",
    "print(\"2019~2021년에서 누락된 데이터 수:\", (850+730+728)-(722+647+549))"
   ]
  },
  {
   "cell_type": "code",
   "execution_count": 6,
   "metadata": {},
   "outputs": [],
   "source": [
    "# 모아온 3년 전체 데이터 수 = 722+647+549 = 1918\n",
    "df = pd.concat([naver_df_2019, naver_df_2020, naver_df_2021], ignore_index=True)"
   ]
  },
  {
   "cell_type": "markdown",
   "metadata": {},
   "source": [
    "## 4. find the match and get urls\n",
    "네이버 영화 리스트를 받아서 씨네21에서 title로 검색하여 나온 결과 페이지의 1페이지를 차례로 보면서\n",
    "title과 director가 매칭되면 해당 영화의 상세페이지로 가는 url을 리턴한다."
   ]
  },
  {
   "cell_type": "code",
   "execution_count": 55,
   "metadata": {},
   "outputs": [],
   "source": [
    "def find_matching_movie(title_director_list):\n",
    "    \n",
    "    title = title_director_list[0]\n",
    "    director = title_director_list[1]\n",
    "    \n",
    "    # 검색창: input#search_q.input_search\n",
    "    search_box = driver.find_element_by_css_selector(\"input#search_q.input_search\")\n",
    "    # 검색버튼: a.btn_search\n",
    "    search_btn = driver.find_element_by_css_selector(\"#total_search_form > fieldset > a\")\n",
    "    \n",
    "#     time.sleep(2)\n",
    "    \n",
    "    # 홈페이지에서 제목으로 검색\n",
    "    search_box.send_keys(title)\n",
    "    search_btn.click()\n",
    "    \n",
    "#     time.sleep(2)\n",
    "\n",
    "    # 영화 탭 버튼 눌러서 영화에 대한 검색 결과만 보기\n",
    "    movie_tab_btn = driver.find_element_by_css_selector(\"#snb_t > li:nth-child(2) > a\")\n",
    "    movie_tab_btn.click()\n",
    "    \n",
    "    time.sleep(2)\n",
    "\n",
    "    # 일단 해당 영화 제목으로 검색해서 검색 결과가 있는 지 확인\n",
    "    try:\n",
    "        # 결과가 하나라도 있는 경우\n",
    "        # 검색 결과 수 보기\n",
    "        num_of_movies = driver.find_element_by_css_selector(\"#content > div.culm2_area > div.culm2_l > h2 > span\").text\n",
    "        num_of_movies = int(num_of_movies.replace('영화', '').replace('(', '').replace(')', '').replace(' ', ''))\n",
    "#         print(f'씨네21에서 {title}에 대해 찾은 검색 결과는 {num_of_movies}건 입니다.')\n",
    "\n",
    "#         time.sleep(2)\n",
    "        \n",
    "        # 영화 검색 결과 페이지에서\n",
    "        # 일단 1페이지에 내가 찾는 있다고 가정\n",
    "        # 영화 제목, 감독 일치하면 해당 페이지로 들어가서 정보 가져오기\n",
    "        \n",
    "        for i in range(1, 11):\n",
    "\n",
    "            titles = driver.find_elements_by_css_selector(f\"#content > div.culm2_area > div.culm2_l > ul.mov_list > li:nth-child({i}) > p.name > a\")\n",
    "            href = titles[0].get_attribute('href')\n",
    "            \n",
    "            try:\n",
    "                directors = driver.find_elements_by_css_selector(f\"#content > div.culm2_area > div.culm2_l > ul.mov_list > li:nth-child({i}) > p:nth-child(4) > a:nth-child(2)\")\n",
    "                \n",
    "#                 print('제목:', title, titles[0].text)\n",
    "#                 print('감독:', director, directors[0].text)\n",
    "\n",
    "    #             time.sleep(2)\n",
    "\n",
    "                if (title == titles[0].text) and (director.replace('.', '') == directors[0].text.replace('.','')):\n",
    "                    return href\n",
    "\n",
    "                else:\n",
    "#                     print(f'{title}와/과 제목과 감독이 일치하는 영화가 이 페이지에 없습니다.')\n",
    "                    return('매칭 영화 없음')\n",
    "    #                 continue\n",
    "    \n",
    "            except IndexError:\n",
    "                pass\n",
    "#                 print(f\"{title}에 대한 감독 정보가 없습니다\")\n",
    "    \n",
    "    except NoSuchElementException:\n",
    "#         print(f\"{title}에 대한 검색 결과가 없습니다.\")\n",
    "        return('검색 결과 없음')"
   ]
  },
  {
   "cell_type": "markdown",
   "metadata": {},
   "source": [
    "### find_matching_movie function testing\n",
    "테스팅 데이터 준비"
   ]
  },
  {
   "cell_type": "code",
   "execution_count": 57,
   "metadata": {},
   "outputs": [
    {
     "data": {
      "text/plain": [
       "[['0.0MHz', '유선동'],\n",
       " ['1 더하기 3', '프룻 첸'],\n",
       " ['10 미니츠 곤', '브라이언 A 밀러'],\n",
       " ['100일 동안 100가지로 100퍼센트 행복찾기', '플로리안 데이비드 핏츠'],\n",
       " ['10년', '하야카와 치에, 키노시타 유스케, 츠노 메구미'],\n",
       " ['글래스', 'M 나이트 샤말란']]"
      ]
     },
     "execution_count": 57,
     "metadata": {},
     "output_type": "execute_result"
    }
   ],
   "source": [
    "test_list = list(map(list, zip(df['title'], df['director'])))[:5]\n",
    "test_list.append(['글래스', 'M 나이트 샤말란'])\n",
    "test_list"
   ]
  },
  {
   "cell_type": "code",
   "execution_count": 58,
   "metadata": {
    "scrolled": false
   },
   "outputs": [
    {
     "name": "stdout",
     "output_type": "stream",
     "text": [
      "--- 39.1094331741333 seconds ---\n"
     ]
    }
   ],
   "source": [
    "start_time = time.time()\n",
    "\n",
    "urls_from_cine = []\n",
    "\n",
    "for i in test_list:\n",
    "    result = find_matching_movie(i)\n",
    "    urls_from_cine.append(result)\n",
    "    \n",
    "print(\"--- %s seconds ---\" % (time.time() - start_time))"
   ]
  },
  {
   "cell_type": "code",
   "execution_count": 61,
   "metadata": {
    "scrolled": true
   },
   "outputs": [
    {
     "data": {
      "text/plain": [
       "['http://www.cine21.com/movie/info/?movie_id=52988',\n",
       " '검색 결과 없음',\n",
       " 'http://www.cine21.com/movie/info/?movie_id=55539',\n",
       " 'http://www.cine21.com/movie/info/?movie_id=55031',\n",
       " '매칭 영화 없음',\n",
       " 'http://www.cine21.com/movie/info/?movie_id=53710']"
      ]
     },
     "execution_count": 61,
     "metadata": {},
     "output_type": "execute_result"
    }
   ],
   "source": [
    "urls_from_cine # 371 rows 있어야 함 (value는 url, 검색 결과 없음, 매칭 영화 없음 셋 중 하나)"
   ]
  },
  {
   "cell_type": "markdown",
   "metadata": {},
   "source": [
    "### parmap 코드는 커널이 계속 돌기만 하고 진행이 안됨\n",
    "\n",
    "# https://dailyheumsi.tistory.com/105\n",
    "# https://pypi.org/project/parmap/\n",
    "\n",
    "import numpy as np\n",
    "import multiprocessing\n",
    "import parmap\n",
    "\n",
    "start_time = time.time()\n",
    "\n",
    "# num_cores = multiprocessing.cpu_count() # 4\n",
    "num_cores = 2\n",
    "\n",
    "splited_data = np.array_split(test_list, num_cores)\n",
    "\n",
    "result = parmap.map(find_matching_movie, splited_data, pm_pbar=True, pm_processes=num_cores)\n",
    "\n",
    "print(\"--- %s seconds ---\" % (time.time() - start_time))"
   ]
  },
  {
   "cell_type": "markdown",
   "metadata": {},
   "source": [
    "## 얘도 마찬가지로 계속 돌기만 하고 진행이 안 됨\n",
    "\n",
    "https://beomi.github.io/2017/07/05/HowToMakeWebCrawler-with-Multiprocess/\n",
    "\n",
    "from multiprocessing import Pool\n",
    "\n",
    "start_time = time.time()\n",
    "\n",
    "pool = Pool(processes=4)\n",
    "pool.map(find_matching_movie, test_list)\n",
    "\n",
    "print(\"--- %s seconds ---\" % (time.time() - start-time))"
   ]
  },
  {
   "cell_type": "markdown",
   "metadata": {},
   "source": [
    "## 네이버 영화 데이터에서 제목과 감독 이름 매칭해서 씨네21 사이트에서 매칭되는 영화 찾아 해당 영화의 상세페이지로 연결되는 url 리스트 얻어오기"
   ]
  },
  {
   "cell_type": "code",
   "execution_count": 62,
   "metadata": {},
   "outputs": [
    {
     "data": {
      "text/plain": [
       "1918"
      ]
     },
     "execution_count": 62,
     "metadata": {},
     "output_type": "execute_result"
    }
   ],
   "source": [
    "naver_list = list(map(list, zip(df['title'], df['director'])))\n",
    "len(naver_list)"
   ]
  },
  {
   "cell_type": "code",
   "execution_count": 63,
   "metadata": {
    "scrolled": true
   },
   "outputs": [
    {
     "name": "stdout",
     "output_type": "stream",
     "text": [
      "현재 1번째 영화를 찾고 있습니다.\n",
      "현재 2번째 영화를 찾고 있습니다.\n",
      "현재 3번째 영화를 찾고 있습니다.\n",
      "현재 4번째 영화를 찾고 있습니다.\n",
      "현재 5번째 영화를 찾고 있습니다.\n",
      "현재 6번째 영화를 찾고 있습니다.\n",
      "--- 52.1204469203949 seconds ---\n"
     ]
    }
   ],
   "source": [
    "start_time = time.time()\n",
    "\n",
    "urls_from_cine = []\n",
    "\n",
    "for i in naver_list:\n",
    "    print(f\"현재 {naver_list.index(i)+1}번째 영화를 찾고 있습니다.\")\n",
    "    result = find_matching_movie(i)\n",
    "    urls_from_cine.append(result)\n",
    "    \n",
    "print(\"--- %s seconds ---\" % (time.time() - start_time))"
   ]
  },
  {
   "cell_type": "code",
   "execution_count": 64,
   "metadata": {
    "scrolled": false
   },
   "outputs": [
    {
     "data": {
      "text/plain": [
       "['http://www.cine21.com/movie/info/?movie_id=52988',\n",
       " '검색 결과 없음',\n",
       " 'http://www.cine21.com/movie/info/?movie_id=55539',\n",
       " 'http://www.cine21.com/movie/info/?movie_id=55031',\n",
       " '매칭 영화 없음',\n",
       " 'http://www.cine21.com/movie/info/?movie_id=53710']"
      ]
     },
     "execution_count": 64,
     "metadata": {},
     "output_type": "execute_result"
    }
   ],
   "source": [
    "urls_from_cine # 1918 rows 있어야 함 (value는 url, 검색 결과 없음, 매칭 영화 없음 셋 중 하나)"
   ]
  },
  {
   "cell_type": "markdown",
   "metadata": {},
   "source": []
  }
 ],
 "metadata": {
  "kernelspec": {
   "display_name": "Python 3",
   "language": "python",
   "name": "python3"
  },
  "language_info": {
   "codemirror_mode": {
    "name": "ipython",
    "version": 3
   },
   "file_extension": ".py",
   "mimetype": "text/x-python",
   "name": "python",
   "nbconvert_exporter": "python",
   "pygments_lexer": "ipython3",
   "version": "3.7.6"
  }
 },
 "nbformat": 4,
 "nbformat_minor": 4
}
