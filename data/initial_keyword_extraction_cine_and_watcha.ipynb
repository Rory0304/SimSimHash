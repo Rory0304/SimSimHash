{
 "cells": [
  {
   "cell_type": "markdown",
   "metadata": {},
   "source": [
    "# Cine21 데이터로 konlpy 테스트"
   ]
  },
  {
   "cell_type": "code",
   "execution_count": 218,
   "metadata": {},
   "outputs": [
    {
     "ename": "SyntaxError",
     "evalue": "invalid syntax (<ipython-input-218-a5343a1a1389>, line 1)",
     "output_type": "error",
     "traceback": [
      "\u001b[1;36m  File \u001b[1;32m\"<ipython-input-218-a5343a1a1389>\"\u001b[1;36m, line \u001b[1;32m1\u001b[0m\n\u001b[1;33m    $ jupyter notebook list\u001b[0m\n\u001b[1;37m    ^\u001b[0m\n\u001b[1;31mSyntaxError\u001b[0m\u001b[1;31m:\u001b[0m invalid syntax\n"
     ]
    }
   ],
   "source": [
    "$ jupyter notebook list"
   ]
  },
  {
   "cell_type": "code",
   "execution_count": 178,
   "metadata": {},
   "outputs": [
    {
     "data": {
      "text/html": [
       "<style>.container { width:80% !important; }</style>"
      ],
      "text/plain": [
       "<IPython.core.display.HTML object>"
      ]
     },
     "metadata": {},
     "output_type": "display_data"
    }
   ],
   "source": [
    "# Jupyter Notebook 화면 크기 조정 (width 값)\n",
    "\n",
    "from IPython.core.display import display, HTML\n",
    "display(HTML(\"<style>.container { width:80% !important; }</style>\"))"
   ]
  },
  {
   "cell_type": "markdown",
   "metadata": {},
   "source": [
    "## 1. Import libraries"
   ]
  },
  {
   "cell_type": "code",
   "execution_count": 179,
   "metadata": {},
   "outputs": [],
   "source": [
    "import sys\n",
    "import time\n",
    "import math\n",
    "\n",
    "import pandas as pd\n",
    "import numpy as np\n",
    "import matplotlib.pyplot as plt\n",
    "from matplotlib import font_manager, rc\n",
    "\n",
    "from collections import Counter\n",
    "from wordcloud import WordCloud, STOPWORDS\n",
    "import nltk\n",
    "from nltk.corpus import stopwords\n",
    "import gensim\n",
    "\n",
    "import warnings\n",
    "warnings.filterwarnings('ignore')"
   ]
  },
  {
   "cell_type": "markdown",
   "metadata": {},
   "source": [
    "## 2. Import data"
   ]
  },
  {
   "cell_type": "markdown",
   "metadata": {},
   "source": [
    "### 2.1. Import raw data"
   ]
  },
  {
   "cell_type": "code",
   "execution_count": 180,
   "metadata": {
    "scrolled": true
   },
   "outputs": [
    {
     "data": {
      "text/html": [
       "<div>\n",
       "<style scoped>\n",
       "    .dataframe tbody tr th:only-of-type {\n",
       "        vertical-align: middle;\n",
       "    }\n",
       "\n",
       "    .dataframe tbody tr th {\n",
       "        vertical-align: top;\n",
       "    }\n",
       "\n",
       "    .dataframe thead th {\n",
       "        text-align: right;\n",
       "    }\n",
       "</style>\n",
       "<table border=\"1\" class=\"dataframe\">\n",
       "  <thead>\n",
       "    <tr style=\"text-align: right;\">\n",
       "      <th></th>\n",
       "      <th>title</th>\n",
       "      <th>release_date</th>\n",
       "      <th>genre</th>\n",
       "      <th>rating</th>\n",
       "      <th>story</th>\n",
       "      <th>url</th>\n",
       "      <th>write_date</th>\n",
       "      <th>score</th>\n",
       "      <th>review</th>\n",
       "    </tr>\n",
       "  </thead>\n",
       "  <tbody>\n",
       "    <tr>\n",
       "      <th>0</th>\n",
       "      <td>0.0MHz</td>\n",
       "      <td>개봉일 : 2019-05-29</td>\n",
       "      <td>공포</td>\n",
       "      <td>Unable to get rating</td>\n",
       "      <td>에디슨의 마지막 발명품, 유령 탐지기?“증명할 수 없는 미스터리란 없다”가지 말라는...</td>\n",
       "      <td>http://www.cine21.com/movie/info/?movie_id=52988</td>\n",
       "      <td>2019-06-02</td>\n",
       "      <td>5</td>\n",
       "      <td>90년대 중반 심은하 주연 납량 특집드라마 'M' 을 다시 보는 느낌이 들었다.</td>\n",
       "    </tr>\n",
       "    <tr>\n",
       "      <th>1</th>\n",
       "      <td>10 미니츠 곤</td>\n",
       "      <td>개봉일 : 2019-11</td>\n",
       "      <td>범죄, 액션</td>\n",
       "      <td>Unable to get rating</td>\n",
       "      <td>룰이 깨진 순간, 모든 멤버가 타겟이 된다!동물적인 직감과 1초의 오차도 용납하지 ...</td>\n",
       "      <td>http://www.cine21.com/movie/info/?movie_id=55539</td>\n",
       "      <td>2019-12-28</td>\n",
       "      <td>2</td>\n",
       "      <td>전개도 너무 시시한데다 결말도 엄청 이상하게 지어서 내용이 뭐가 어떻게 돌아가는지 ...</td>\n",
       "    </tr>\n",
       "    <tr>\n",
       "      <th>2</th>\n",
       "      <td>100일 동안 100가지로 100퍼센트 행복찾기</td>\n",
       "      <td>개봉일 : 2019-09-12</td>\n",
       "      <td>코미디</td>\n",
       "      <td>Unable to get rating</td>\n",
       "      <td>어렸을 적부터 함께 자라고, IT 회사도 공동 운영,사는 집도 아랫집, 윗집으로 이...</td>\n",
       "      <td>http://www.cine21.com/movie/info/?movie_id=55031</td>\n",
       "      <td>2019-09-22</td>\n",
       "      <td>6</td>\n",
       "      <td>뻔한 재미와 감동이지만 시츄에이션 설정이 독창적이었다.</td>\n",
       "    </tr>\n",
       "    <tr>\n",
       "      <th>3</th>\n",
       "      <td>12번째 솔저</td>\n",
       "      <td>개봉일 : 2019-04-11</td>\n",
       "      <td>전쟁</td>\n",
       "      <td>12세이상관람가</td>\n",
       "      <td>제2차 세계대전 나치에 점령된 노르웨이.나치를 함락시킬 유일한 ‘마틴 레드 작전’에...</td>\n",
       "      <td>http://www.cine21.com/movie/info/?movie_id=54607</td>\n",
       "      <td>2019-04-27</td>\n",
       "      <td>7</td>\n",
       "      <td>제2차 세계대전 때, 나치로부터 노르웨이를 되찾기 위한 작전을 펼친 노르웨이 비밀 ...</td>\n",
       "    </tr>\n",
       "    <tr>\n",
       "      <th>4</th>\n",
       "      <td>13년의 공백</td>\n",
       "      <td>개봉일 : 2019-07-04</td>\n",
       "      <td>드라마, 가족</td>\n",
       "      <td>12세이상관람가</td>\n",
       "      <td>“아버지가 너무 싫습니다.그런데, 조금은 좋아하는 것 같기도 합니다.”담배를 사러 ...</td>\n",
       "      <td>http://www.cine21.com/movie/info/?movie_id=54778</td>\n",
       "      <td>NaN</td>\n",
       "      <td>NaN</td>\n",
       "      <td>NaN</td>\n",
       "    </tr>\n",
       "    <tr>\n",
       "      <th>...</th>\n",
       "      <td>...</td>\n",
       "      <td>...</td>\n",
       "      <td>...</td>\n",
       "      <td>...</td>\n",
       "      <td>...</td>\n",
       "      <td>...</td>\n",
       "      <td>...</td>\n",
       "      <td>...</td>\n",
       "      <td>...</td>\n",
       "    </tr>\n",
       "    <tr>\n",
       "      <th>1806</th>\n",
       "      <td>호라이즌 라인</td>\n",
       "      <td>개봉일 : 2021-02-10</td>\n",
       "      <td>스릴러</td>\n",
       "      <td>12세이상관람가</td>\n",
       "      <td>계기판도 GPS도 조종사도 없다!내 안의 생존 본능을 깨워라!에메랄드 빛 해안을 낀...</td>\n",
       "      <td>http://www.cine21.com/movie/info/?movie_id=57226</td>\n",
       "      <td>2021-02-22</td>\n",
       "      <td>4</td>\n",
       "      <td>재난 스릴러물은데 전혀 긴장감이 안 느껴지는게 문제</td>\n",
       "    </tr>\n",
       "    <tr>\n",
       "      <th>1807</th>\n",
       "      <td>호스트: 접속금지</td>\n",
       "      <td>개봉일 : 2021-07-21</td>\n",
       "      <td>공포</td>\n",
       "      <td>12세이상관람가</td>\n",
       "      <td>전 세계가 극찬한 100% 리얼 팬데믹 호러!지금, 당신의 랜선미팅에 무언가가 접속...</td>\n",
       "      <td>http://www.cine21.com/movie/info/?movie_id=57001</td>\n",
       "      <td>2021-08-01</td>\n",
       "      <td>6</td>\n",
       "      <td>맨 마지막 장면을 위한 빌드업이 조금 루즈했지만 마지막은 진짜 놀랐다.</td>\n",
       "    </tr>\n",
       "    <tr>\n",
       "      <th>1808</th>\n",
       "      <td>호스트: 접속금지</td>\n",
       "      <td>개봉일 : 2021-07-21</td>\n",
       "      <td>공포</td>\n",
       "      <td>12세이상관람가</td>\n",
       "      <td>전 세계가 극찬한 100% 리얼 팬데믹 호러!지금, 당신의 랜선미팅에 무언가가 접속...</td>\n",
       "      <td>http://www.cine21.com/movie/info/?movie_id=57001</td>\n",
       "      <td>2021-08-01</td>\n",
       "      <td>5</td>\n",
       "      <td>&lt;호스트:접속금지&gt;는 코로나 시대에 자가 격리 된 여섯 명의 친구가 화상채팅 프로그...</td>\n",
       "    </tr>\n",
       "    <tr>\n",
       "      <th>1809</th>\n",
       "      <td>혼자 사는 사람들</td>\n",
       "      <td>개봉일 : 2021-05-19</td>\n",
       "      <td>드라마</td>\n",
       "      <td>12세이상관람가</td>\n",
       "      <td>집에서도 밖에서도 늘 혼자가 편한 진아.사람들은 자꾸 말을 걸어오지만, 진아는 그저...</td>\n",
       "      <td>http://www.cine21.com/movie/info/?movie_id=57892</td>\n",
       "      <td>2021-05-23</td>\n",
       "      <td>10</td>\n",
       "      <td>시대가 좋아졌다고는 하지만 좋아진 시대를 누리는 이들은 많지 않으며  좋든 싫든 인...</td>\n",
       "    </tr>\n",
       "    <tr>\n",
       "      <th>1810</th>\n",
       "      <td>혼자 사는 사람들</td>\n",
       "      <td>개봉일 : 2021-05-19</td>\n",
       "      <td>드라마</td>\n",
       "      <td>12세이상관람가</td>\n",
       "      <td>집에서도 밖에서도 늘 혼자가 편한 진아.사람들은 자꾸 말을 걸어오지만, 진아는 그저...</td>\n",
       "      <td>http://www.cine21.com/movie/info/?movie_id=57892</td>\n",
       "      <td>2021-05-19</td>\n",
       "      <td>7</td>\n",
       "      <td>혼자 살고 비슷한 성향이라 많이 공감이 가는 영화</td>\n",
       "    </tr>\n",
       "  </tbody>\n",
       "</table>\n",
       "<p>1811 rows × 9 columns</p>\n",
       "</div>"
      ],
      "text/plain": [
       "                           title      release_date    genre  \\\n",
       "0                         0.0MHz  개봉일 : 2019-05-29       공포   \n",
       "1                       10 미니츠 곤     개봉일 : 2019-11   범죄, 액션   \n",
       "2     100일 동안 100가지로 100퍼센트 행복찾기  개봉일 : 2019-09-12      코미디   \n",
       "3                        12번째 솔저  개봉일 : 2019-04-11       전쟁   \n",
       "4                        13년의 공백  개봉일 : 2019-07-04  드라마, 가족   \n",
       "...                          ...               ...      ...   \n",
       "1806                     호라이즌 라인  개봉일 : 2021-02-10      스릴러   \n",
       "1807                   호스트: 접속금지  개봉일 : 2021-07-21       공포   \n",
       "1808                   호스트: 접속금지  개봉일 : 2021-07-21       공포   \n",
       "1809                   혼자 사는 사람들  개봉일 : 2021-05-19      드라마   \n",
       "1810                   혼자 사는 사람들  개봉일 : 2021-05-19      드라마   \n",
       "\n",
       "                    rating                                              story  \\\n",
       "0     Unable to get rating  에디슨의 마지막 발명품, 유령 탐지기?“증명할 수 없는 미스터리란 없다”가지 말라는...   \n",
       "1     Unable to get rating  룰이 깨진 순간, 모든 멤버가 타겟이 된다!동물적인 직감과 1초의 오차도 용납하지 ...   \n",
       "2     Unable to get rating  어렸을 적부터 함께 자라고, IT 회사도 공동 운영,사는 집도 아랫집, 윗집으로 이...   \n",
       "3                 12세이상관람가  제2차 세계대전 나치에 점령된 노르웨이.나치를 함락시킬 유일한 ‘마틴 레드 작전’에...   \n",
       "4                 12세이상관람가  “아버지가 너무 싫습니다.그런데, 조금은 좋아하는 것 같기도 합니다.”담배를 사러 ...   \n",
       "...                    ...                                                ...   \n",
       "1806              12세이상관람가  계기판도 GPS도 조종사도 없다!내 안의 생존 본능을 깨워라!에메랄드 빛 해안을 낀...   \n",
       "1807              12세이상관람가  전 세계가 극찬한 100% 리얼 팬데믹 호러!지금, 당신의 랜선미팅에 무언가가 접속...   \n",
       "1808              12세이상관람가  전 세계가 극찬한 100% 리얼 팬데믹 호러!지금, 당신의 랜선미팅에 무언가가 접속...   \n",
       "1809              12세이상관람가  집에서도 밖에서도 늘 혼자가 편한 진아.사람들은 자꾸 말을 걸어오지만, 진아는 그저...   \n",
       "1810              12세이상관람가  집에서도 밖에서도 늘 혼자가 편한 진아.사람들은 자꾸 말을 걸어오지만, 진아는 그저...   \n",
       "\n",
       "                                                   url  write_date score  \\\n",
       "0     http://www.cine21.com/movie/info/?movie_id=52988  2019-06-02     5   \n",
       "1     http://www.cine21.com/movie/info/?movie_id=55539  2019-12-28     2   \n",
       "2     http://www.cine21.com/movie/info/?movie_id=55031  2019-09-22     6   \n",
       "3     http://www.cine21.com/movie/info/?movie_id=54607  2019-04-27     7   \n",
       "4     http://www.cine21.com/movie/info/?movie_id=54778         NaN   NaN   \n",
       "...                                                ...         ...   ...   \n",
       "1806  http://www.cine21.com/movie/info/?movie_id=57226  2021-02-22     4   \n",
       "1807  http://www.cine21.com/movie/info/?movie_id=57001  2021-08-01     6   \n",
       "1808  http://www.cine21.com/movie/info/?movie_id=57001  2021-08-01     5   \n",
       "1809  http://www.cine21.com/movie/info/?movie_id=57892  2021-05-23    10   \n",
       "1810  http://www.cine21.com/movie/info/?movie_id=57892  2021-05-19     7   \n",
       "\n",
       "                                                 review  \n",
       "0          90년대 중반 심은하 주연 납량 특집드라마 'M' 을 다시 보는 느낌이 들었다.  \n",
       "1     전개도 너무 시시한데다 결말도 엄청 이상하게 지어서 내용이 뭐가 어떻게 돌아가는지 ...  \n",
       "2                        뻔한 재미와 감동이지만 시츄에이션 설정이 독창적이었다.  \n",
       "3     제2차 세계대전 때, 나치로부터 노르웨이를 되찾기 위한 작전을 펼친 노르웨이 비밀 ...  \n",
       "4                                                   NaN  \n",
       "...                                                 ...  \n",
       "1806                       재난 스릴러물은데 전혀 긴장감이 안 느껴지는게 문제  \n",
       "1807            맨 마지막 장면을 위한 빌드업이 조금 루즈했지만 마지막은 진짜 놀랐다.  \n",
       "1808  <호스트:접속금지>는 코로나 시대에 자가 격리 된 여섯 명의 친구가 화상채팅 프로그...  \n",
       "1809  시대가 좋아졌다고는 하지만 좋아진 시대를 누리는 이들은 많지 않으며  좋든 싫든 인...  \n",
       "1810                        혼자 살고 비슷한 성향이라 많이 공감이 가는 영화  \n",
       "\n",
       "[1811 rows x 9 columns]"
      ]
     },
     "execution_count": 180,
     "metadata": {},
     "output_type": "execute_result"
    }
   ],
   "source": [
    "cine_raw_df = pd.read_csv(\"./cine21_final_df.csv\")\n",
    "cine_raw_df"
   ]
  },
  {
   "cell_type": "code",
   "execution_count": 181,
   "metadata": {},
   "outputs": [
    {
     "name": "stdout",
     "output_type": "stream",
     "text": [
      "<class 'pandas.core.frame.DataFrame'>\n",
      "RangeIndex: 1811 entries, 0 to 1810\n",
      "Data columns (total 9 columns):\n",
      " #   Column        Non-Null Count  Dtype \n",
      "---  ------        --------------  ----- \n",
      " 0   title         1811 non-null   object\n",
      " 1   release_date  1785 non-null   object\n",
      " 2   genre         1785 non-null   object\n",
      " 3   rating        1726 non-null   object\n",
      " 4   story         1785 non-null   object\n",
      " 5   url           1785 non-null   object\n",
      " 6   write_date    1152 non-null   object\n",
      " 7   score         1152 non-null   object\n",
      " 8   review        1152 non-null   object\n",
      "dtypes: object(9)\n",
      "memory usage: 127.5+ KB\n"
     ]
    }
   ],
   "source": [
    "cine_raw_df.info()"
   ]
  },
  {
   "cell_type": "code",
   "execution_count": 6,
   "metadata": {},
   "outputs": [],
   "source": [
    "##### rating column data compromised"
   ]
  },
  {
   "cell_type": "markdown",
   "metadata": {},
   "source": [
    "### 2.2. Prepare test data\n",
    "1. Pick a movie with lots of reviews\n",
    "2. make a string out of all reviews"
   ]
  },
  {
   "cell_type": "code",
   "execution_count": 182,
   "metadata": {},
   "outputs": [
    {
     "data": {
      "text/plain": [
       "1785"
      ]
     },
     "execution_count": 182,
     "metadata": {},
     "output_type": "execute_result"
    }
   ],
   "source": [
    "# len(raw_df) # 1811\n",
    "# raw_df에서 리뷰 정보가 없는 영화를 뺀 work_df 만들기\n",
    "\n",
    "# 타이틀 기준 정보 없는 영화 빼기\n",
    "tmp = cine_raw_df[cine_raw_df['title'] != 'url을 찾을 수 없습니다.']\n",
    "len(tmp) # 1785"
   ]
  },
  {
   "cell_type": "code",
   "execution_count": 183,
   "metadata": {},
   "outputs": [
    {
     "data": {
      "text/plain": [
       "633"
      ]
     },
     "execution_count": 183,
     "metadata": {},
     "output_type": "execute_result"
    }
   ],
   "source": [
    "# 리뷰 정보가 NaN인 영화 633건\n",
    "tmp.review.isnull().sum()"
   ]
  },
  {
   "cell_type": "code",
   "execution_count": 184,
   "metadata": {},
   "outputs": [
    {
     "data": {
      "text/plain": [
       "1152"
      ]
     },
     "execution_count": 184,
     "metadata": {},
     "output_type": "execute_result"
    }
   ],
   "source": [
    "work_df = tmp.drop(tmp[tmp.review.isnull() == True].index)\n",
    "len(work_df)"
   ]
  },
  {
   "cell_type": "code",
   "execution_count": 185,
   "metadata": {
    "scrolled": false
   },
   "outputs": [
    {
     "data": {
      "text/plain": [
       "494"
      ]
     },
     "execution_count": 185,
     "metadata": {},
     "output_type": "execute_result"
    }
   ],
   "source": [
    "# 리뷰가 한 건이라도 존재하는 영화의 수: 494편\n",
    "work_df.title.nunique()"
   ]
  },
  {
   "cell_type": "code",
   "execution_count": 186,
   "metadata": {
    "scrolled": true
   },
   "outputs": [
    {
     "data": {
      "text/plain": [
       "기생충            18\n",
       "달콤한 인생         17\n",
       "극한직업           14\n",
       "함께 있을 수 있다면    12\n",
       "조커             10\n",
       "               ..\n",
       "누구나 아는 비밀       1\n",
       "해수의 아이          1\n",
       "마음의 저편          1\n",
       "생각의 여름          1\n",
       "완벽한 가족          1\n",
       "Name: title, Length: 494, dtype: int64"
      ]
     },
     "execution_count": 186,
     "metadata": {},
     "output_type": "execute_result"
    }
   ],
   "source": [
    "# 제목을 기준으로 리뷰 수가 가장 많은 영화 찾기: 기생충 18건\n",
    "work_df.title.value_counts()"
   ]
  },
  {
   "cell_type": "markdown",
   "metadata": {},
   "source": [
    "## 3. Konlpy code"
   ]
  },
  {
   "cell_type": "code",
   "execution_count": 159,
   "metadata": {},
   "outputs": [],
   "source": [
    "stop_words= ['또','영화','분','꼭', '하', '받', '않', '말', '알','진짜', '많이', '정말', '그냥', '그', '애', '생각', '완전', '편','내용',\n",
    "             '중간', '꼭','편','상미', '모두' , '거', \n",
    " '더', '가', '뭐', '그렇', '말하', '중', '때', '되', '암', '보', '있', '개', '볼','일',\n",
    "             '안','진짜', '듯', '위하', '대하', '년', '쫌', '위', '없', '주', '같', '나', '정말',\n",
    " '지', '걸', '못','좀', '그', '왜','때문', '임', '게', '것', '의', '사람', '이','대한',\n",
    "             '수','이','있','하','것','들','그','되','수','보','않','나','사람','주','아니',\n",
    "             '등',\n",
    "             '같','우리','때','년','가','한','지','대하','오','말','일','그렇','위하','때문',\n",
    "             '그것','두','말하','알','그러나','그런데','그래도','그래서','받','못하','일',\n",
    "             '그런','또','문제','더','사회','많','좋','크','중','나오','가지','씨','시키',\n",
    "             '만들','지금','생각하','그러','속','하나','집','살','모르','적','월','데','자신',\n",
    "             '안','어떤','내','경우','명','생각','시간','그녀','다시','이런','앞','보이','번',\n",
    "             '나','다른','어떻','여자','남자','개','전','들','사실','이렇','점','싶','말','정도',\n",
    "             '좀','원','잘','통하','소리','놓','영화','진짜', '많이', '정말', '그냥', '그', '애',\n",
    "             '생각', '완전', '편','내용','중간', '꼭','편','상미', '모두' , '거']\n"
   ]
  },
  {
   "cell_type": "code",
   "execution_count": 141,
   "metadata": {
    "scrolled": false
   },
   "outputs": [
    {
     "data": {
      "text/plain": [
       "494"
      ]
     },
     "execution_count": 141,
     "metadata": {},
     "output_type": "execute_result"
    }
   ],
   "source": [
    "movie_titles = work_df.title.unique().tolist()\n",
    "len(movie_titles)"
   ]
  },
  {
   "cell_type": "code",
   "execution_count": 219,
   "metadata": {},
   "outputs": [],
   "source": [
    "def get_noun(name):\n",
    "    s_list = []\n",
    "    s = work_df[work_df['title']==name]['review'] # input의 name과 같은 영화의 리뷰들만 추출 \n",
    "    s = s.tolist() # 리뷰들을 리스트화 \n",
    "    mid = []\n",
    "    for i in range(0,len(s)): # 리뷰들의 형태소 분류 및 최소 길이 미만 제거 \n",
    "        noun = okt.nouns(s[i])\n",
    "        for i,v in enumerate(noun):\n",
    "            if len(v)<2:\n",
    "                noun.pop(i)\n",
    "        mid+=noun\n",
    "\n",
    "    count = Counter(mid) # 단어별 개수\n",
    "    noun_list = count.most_common(100) # (리뷰 하나의)최빈 단어\n",
    "    for v in noun_list: # (리뷰 하나의) 단어 list에서 불용어 제거 \n",
    "        if v[0] not in stop_words:\n",
    "            s_list.append(v) # 유효단어 추출후 append \n",
    "    # 리뷰별로 반복\n",
    "\n",
    "    df= pd.DataFrame(s_list, columns =['noun', 'count'])\n",
    "    df['title']=name\n",
    "    return df"
   ]
  },
  {
   "cell_type": "code",
   "execution_count": 220,
   "metadata": {},
   "outputs": [],
   "source": [
    "# 반복문을 돌며 영화를 검색하고 해당하는 단어의 빈도수를 상위 50개까지만 담는다.\n",
    "\n",
    "results = []\n",
    "\n",
    "for i in range(0,len(movie_titles)):\n",
    "    results.append(get_noun(movie_titles[i]).sort_values(by='count',ascending=False).head(50))    "
   ]
  },
  {
   "cell_type": "code",
   "execution_count": 221,
   "metadata": {},
   "outputs": [
    {
     "ename": "KeyboardInterrupt",
     "evalue": "",
     "output_type": "error",
     "traceback": [
      "\u001b[1;31m---------------------------------------------------------------------------\u001b[0m",
      "\u001b[1;31mKeyboardInterrupt\u001b[0m                         Traceback (most recent call last)",
      "\u001b[1;32m<ipython-input-221-b6f3ad5aac5f>\u001b[0m in \u001b[0;36m<module>\u001b[1;34m\u001b[0m\n\u001b[1;32m----> 1\u001b[1;33m \u001b[0mcine21_keywords\u001b[0m \u001b[1;33m=\u001b[0m \u001b[0mpd\u001b[0m\u001b[1;33m.\u001b[0m\u001b[0mconcat\u001b[0m\u001b[1;33m(\u001b[0m\u001b[0mresults\u001b[0m\u001b[1;33m)\u001b[0m\u001b[1;33m.\u001b[0m\u001b[0mreset_index\u001b[0m\u001b[1;33m(\u001b[0m\u001b[0mdrop\u001b[0m\u001b[1;33m=\u001b[0m\u001b[1;32mTrue\u001b[0m\u001b[1;33m)\u001b[0m\u001b[1;33m\u001b[0m\u001b[1;33m\u001b[0m\u001b[0m\n\u001b[0m",
      "\u001b[1;32m~\\anaconda3\\lib\\site-packages\\pandas\\core\\reshape\\concat.py\u001b[0m in \u001b[0;36mconcat\u001b[1;34m(objs, axis, join, ignore_index, keys, levels, names, verify_integrity, sort, copy)\u001b[0m\n\u001b[0;32m    279\u001b[0m         \u001b[0mverify_integrity\u001b[0m\u001b[1;33m=\u001b[0m\u001b[0mverify_integrity\u001b[0m\u001b[1;33m,\u001b[0m\u001b[1;33m\u001b[0m\u001b[1;33m\u001b[0m\u001b[0m\n\u001b[0;32m    280\u001b[0m         \u001b[0mcopy\u001b[0m\u001b[1;33m=\u001b[0m\u001b[0mcopy\u001b[0m\u001b[1;33m,\u001b[0m\u001b[1;33m\u001b[0m\u001b[1;33m\u001b[0m\u001b[0m\n\u001b[1;32m--> 281\u001b[1;33m         \u001b[0msort\u001b[0m\u001b[1;33m=\u001b[0m\u001b[0msort\u001b[0m\u001b[1;33m,\u001b[0m\u001b[1;33m\u001b[0m\u001b[1;33m\u001b[0m\u001b[0m\n\u001b[0m\u001b[0;32m    282\u001b[0m     )\n\u001b[0;32m    283\u001b[0m \u001b[1;33m\u001b[0m\u001b[0m\n",
      "\u001b[1;32m~\\anaconda3\\lib\\site-packages\\pandas\\core\\reshape\\concat.py\u001b[0m in \u001b[0;36m__init__\u001b[1;34m(self, objs, axis, join, keys, levels, names, ignore_index, verify_integrity, copy, sort)\u001b[0m\n\u001b[0;32m    450\u001b[0m         \u001b[0mself\u001b[0m\u001b[1;33m.\u001b[0m\u001b[0mcopy\u001b[0m \u001b[1;33m=\u001b[0m \u001b[0mcopy\u001b[0m\u001b[1;33m\u001b[0m\u001b[1;33m\u001b[0m\u001b[0m\n\u001b[0;32m    451\u001b[0m \u001b[1;33m\u001b[0m\u001b[0m\n\u001b[1;32m--> 452\u001b[1;33m         \u001b[0mself\u001b[0m\u001b[1;33m.\u001b[0m\u001b[0mnew_axes\u001b[0m \u001b[1;33m=\u001b[0m \u001b[0mself\u001b[0m\u001b[1;33m.\u001b[0m\u001b[0m_get_new_axes\u001b[0m\u001b[1;33m(\u001b[0m\u001b[1;33m)\u001b[0m\u001b[1;33m\u001b[0m\u001b[1;33m\u001b[0m\u001b[0m\n\u001b[0m\u001b[0;32m    453\u001b[0m \u001b[1;33m\u001b[0m\u001b[0m\n\u001b[0;32m    454\u001b[0m     \u001b[1;32mdef\u001b[0m \u001b[0mget_result\u001b[0m\u001b[1;33m(\u001b[0m\u001b[0mself\u001b[0m\u001b[1;33m)\u001b[0m\u001b[1;33m:\u001b[0m\u001b[1;33m\u001b[0m\u001b[1;33m\u001b[0m\u001b[0m\n",
      "\u001b[1;32m~\\anaconda3\\lib\\site-packages\\pandas\\core\\reshape\\concat.py\u001b[0m in \u001b[0;36m_get_new_axes\u001b[1;34m(self)\u001b[0m\n\u001b[0;32m    515\u001b[0m         return [\n\u001b[0;32m    516\u001b[0m             \u001b[0mself\u001b[0m\u001b[1;33m.\u001b[0m\u001b[0m_get_concat_axis\u001b[0m\u001b[1;33m(\u001b[0m\u001b[1;33m)\u001b[0m \u001b[1;32mif\u001b[0m \u001b[0mi\u001b[0m \u001b[1;33m==\u001b[0m \u001b[0mself\u001b[0m\u001b[1;33m.\u001b[0m\u001b[0maxis\u001b[0m \u001b[1;32melse\u001b[0m \u001b[0mself\u001b[0m\u001b[1;33m.\u001b[0m\u001b[0m_get_comb_axis\u001b[0m\u001b[1;33m(\u001b[0m\u001b[0mi\u001b[0m\u001b[1;33m)\u001b[0m\u001b[1;33m\u001b[0m\u001b[1;33m\u001b[0m\u001b[0m\n\u001b[1;32m--> 517\u001b[1;33m             \u001b[1;32mfor\u001b[0m \u001b[0mi\u001b[0m \u001b[1;32min\u001b[0m \u001b[0mrange\u001b[0m\u001b[1;33m(\u001b[0m\u001b[0mndim\u001b[0m\u001b[1;33m)\u001b[0m\u001b[1;33m\u001b[0m\u001b[1;33m\u001b[0m\u001b[0m\n\u001b[0m\u001b[0;32m    518\u001b[0m         ]\n\u001b[0;32m    519\u001b[0m \u001b[1;33m\u001b[0m\u001b[0m\n",
      "\u001b[1;32m~\\anaconda3\\lib\\site-packages\\pandas\\core\\reshape\\concat.py\u001b[0m in \u001b[0;36m<listcomp>\u001b[1;34m(.0)\u001b[0m\n\u001b[0;32m    515\u001b[0m         return [\n\u001b[0;32m    516\u001b[0m             \u001b[0mself\u001b[0m\u001b[1;33m.\u001b[0m\u001b[0m_get_concat_axis\u001b[0m\u001b[1;33m(\u001b[0m\u001b[1;33m)\u001b[0m \u001b[1;32mif\u001b[0m \u001b[0mi\u001b[0m \u001b[1;33m==\u001b[0m \u001b[0mself\u001b[0m\u001b[1;33m.\u001b[0m\u001b[0maxis\u001b[0m \u001b[1;32melse\u001b[0m \u001b[0mself\u001b[0m\u001b[1;33m.\u001b[0m\u001b[0m_get_comb_axis\u001b[0m\u001b[1;33m(\u001b[0m\u001b[0mi\u001b[0m\u001b[1;33m)\u001b[0m\u001b[1;33m\u001b[0m\u001b[1;33m\u001b[0m\u001b[0m\n\u001b[1;32m--> 517\u001b[1;33m             \u001b[1;32mfor\u001b[0m \u001b[0mi\u001b[0m \u001b[1;32min\u001b[0m \u001b[0mrange\u001b[0m\u001b[1;33m(\u001b[0m\u001b[0mndim\u001b[0m\u001b[1;33m)\u001b[0m\u001b[1;33m\u001b[0m\u001b[1;33m\u001b[0m\u001b[0m\n\u001b[0m\u001b[0;32m    518\u001b[0m         ]\n\u001b[0;32m    519\u001b[0m \u001b[1;33m\u001b[0m\u001b[0m\n",
      "\u001b[1;32m~\\anaconda3\\lib\\site-packages\\pandas\\core\\reshape\\concat.py\u001b[0m in \u001b[0;36m_get_concat_axis\u001b[1;34m(self)\u001b[0m\n\u001b[0;32m    564\u001b[0m \u001b[1;33m\u001b[0m\u001b[0m\n\u001b[0;32m    565\u001b[0m         \u001b[1;32mif\u001b[0m \u001b[0mself\u001b[0m\u001b[1;33m.\u001b[0m\u001b[0mkeys\u001b[0m \u001b[1;32mis\u001b[0m \u001b[1;32mNone\u001b[0m\u001b[1;33m:\u001b[0m\u001b[1;33m\u001b[0m\u001b[1;33m\u001b[0m\u001b[0m\n\u001b[1;32m--> 566\u001b[1;33m             \u001b[0mconcat_axis\u001b[0m \u001b[1;33m=\u001b[0m \u001b[0m_concat_indexes\u001b[0m\u001b[1;33m(\u001b[0m\u001b[0mindexes\u001b[0m\u001b[1;33m)\u001b[0m\u001b[1;33m\u001b[0m\u001b[1;33m\u001b[0m\u001b[0m\n\u001b[0m\u001b[0;32m    567\u001b[0m         \u001b[1;32melse\u001b[0m\u001b[1;33m:\u001b[0m\u001b[1;33m\u001b[0m\u001b[1;33m\u001b[0m\u001b[0m\n\u001b[0;32m    568\u001b[0m             concat_axis = _make_concat_multiindex(\n",
      "\u001b[1;32m~\\anaconda3\\lib\\site-packages\\pandas\\core\\reshape\\concat.py\u001b[0m in \u001b[0;36m_concat_indexes\u001b[1;34m(indexes)\u001b[0m\n\u001b[0;32m    585\u001b[0m \u001b[1;33m\u001b[0m\u001b[0m\n\u001b[0;32m    586\u001b[0m \u001b[1;32mdef\u001b[0m \u001b[0m_concat_indexes\u001b[0m\u001b[1;33m(\u001b[0m\u001b[0mindexes\u001b[0m\u001b[1;33m)\u001b[0m \u001b[1;33m->\u001b[0m \u001b[0mIndex\u001b[0m\u001b[1;33m:\u001b[0m\u001b[1;33m\u001b[0m\u001b[1;33m\u001b[0m\u001b[0m\n\u001b[1;32m--> 587\u001b[1;33m     \u001b[1;32mreturn\u001b[0m \u001b[0mindexes\u001b[0m\u001b[1;33m[\u001b[0m\u001b[1;36m0\u001b[0m\u001b[1;33m]\u001b[0m\u001b[1;33m.\u001b[0m\u001b[0mappend\u001b[0m\u001b[1;33m(\u001b[0m\u001b[0mindexes\u001b[0m\u001b[1;33m[\u001b[0m\u001b[1;36m1\u001b[0m\u001b[1;33m:\u001b[0m\u001b[1;33m]\u001b[0m\u001b[1;33m)\u001b[0m\u001b[1;33m\u001b[0m\u001b[1;33m\u001b[0m\u001b[0m\n\u001b[0m\u001b[0;32m    588\u001b[0m \u001b[1;33m\u001b[0m\u001b[0m\n\u001b[0;32m    589\u001b[0m \u001b[1;33m\u001b[0m\u001b[0m\n",
      "\u001b[1;32m~\\anaconda3\\lib\\site-packages\\pandas\\core\\indexes\\base.py\u001b[0m in \u001b[0;36mappend\u001b[1;34m(self, other)\u001b[0m\n\u001b[0;32m   3988\u001b[0m         \u001b[0mname\u001b[0m \u001b[1;33m=\u001b[0m \u001b[1;32mNone\u001b[0m \u001b[1;32mif\u001b[0m \u001b[0mlen\u001b[0m\u001b[1;33m(\u001b[0m\u001b[0mnames\u001b[0m\u001b[1;33m)\u001b[0m \u001b[1;33m>\u001b[0m \u001b[1;36m1\u001b[0m \u001b[1;32melse\u001b[0m \u001b[0mself\u001b[0m\u001b[1;33m.\u001b[0m\u001b[0mname\u001b[0m\u001b[1;33m\u001b[0m\u001b[1;33m\u001b[0m\u001b[0m\n\u001b[0;32m   3989\u001b[0m \u001b[1;33m\u001b[0m\u001b[0m\n\u001b[1;32m-> 3990\u001b[1;33m         \u001b[1;32mreturn\u001b[0m \u001b[0mself\u001b[0m\u001b[1;33m.\u001b[0m\u001b[0m_concat\u001b[0m\u001b[1;33m(\u001b[0m\u001b[0mto_concat\u001b[0m\u001b[1;33m,\u001b[0m \u001b[0mname\u001b[0m\u001b[1;33m)\u001b[0m\u001b[1;33m\u001b[0m\u001b[1;33m\u001b[0m\u001b[0m\n\u001b[0m\u001b[0;32m   3991\u001b[0m \u001b[1;33m\u001b[0m\u001b[0m\n\u001b[0;32m   3992\u001b[0m     \u001b[1;32mdef\u001b[0m \u001b[0m_concat\u001b[0m\u001b[1;33m(\u001b[0m\u001b[0mself\u001b[0m\u001b[1;33m,\u001b[0m \u001b[0mto_concat\u001b[0m\u001b[1;33m,\u001b[0m \u001b[0mname\u001b[0m\u001b[1;33m)\u001b[0m\u001b[1;33m:\u001b[0m\u001b[1;33m\u001b[0m\u001b[1;33m\u001b[0m\u001b[0m\n",
      "\u001b[1;32m~\\anaconda3\\lib\\site-packages\\pandas\\core\\indexes\\base.py\u001b[0m in \u001b[0;36m_concat\u001b[1;34m(self, to_concat, name)\u001b[0m\n\u001b[0;32m   3996\u001b[0m         \u001b[1;32mif\u001b[0m \u001b[0mlen\u001b[0m\u001b[1;33m(\u001b[0m\u001b[0mtyps\u001b[0m\u001b[1;33m)\u001b[0m \u001b[1;33m==\u001b[0m \u001b[1;36m1\u001b[0m\u001b[1;33m:\u001b[0m\u001b[1;33m\u001b[0m\u001b[1;33m\u001b[0m\u001b[0m\n\u001b[0;32m   3997\u001b[0m             \u001b[1;32mreturn\u001b[0m \u001b[0mself\u001b[0m\u001b[1;33m.\u001b[0m\u001b[0m_concat_same_dtype\u001b[0m\u001b[1;33m(\u001b[0m\u001b[0mto_concat\u001b[0m\u001b[1;33m,\u001b[0m \u001b[0mname\u001b[0m\u001b[1;33m=\u001b[0m\u001b[0mname\u001b[0m\u001b[1;33m)\u001b[0m\u001b[1;33m\u001b[0m\u001b[1;33m\u001b[0m\u001b[0m\n\u001b[1;32m-> 3998\u001b[1;33m         \u001b[1;32mreturn\u001b[0m \u001b[0mIndex\u001b[0m\u001b[1;33m.\u001b[0m\u001b[0m_concat_same_dtype\u001b[0m\u001b[1;33m(\u001b[0m\u001b[0mself\u001b[0m\u001b[1;33m,\u001b[0m \u001b[0mto_concat\u001b[0m\u001b[1;33m,\u001b[0m \u001b[0mname\u001b[0m\u001b[1;33m=\u001b[0m\u001b[0mname\u001b[0m\u001b[1;33m)\u001b[0m\u001b[1;33m\u001b[0m\u001b[1;33m\u001b[0m\u001b[0m\n\u001b[0m\u001b[0;32m   3999\u001b[0m \u001b[1;33m\u001b[0m\u001b[0m\n\u001b[0;32m   4000\u001b[0m     \u001b[1;32mdef\u001b[0m \u001b[0m_concat_same_dtype\u001b[0m\u001b[1;33m(\u001b[0m\u001b[0mself\u001b[0m\u001b[1;33m,\u001b[0m \u001b[0mto_concat\u001b[0m\u001b[1;33m,\u001b[0m \u001b[0mname\u001b[0m\u001b[1;33m)\u001b[0m\u001b[1;33m:\u001b[0m\u001b[1;33m\u001b[0m\u001b[1;33m\u001b[0m\u001b[0m\n",
      "\u001b[1;32m~\\anaconda3\\lib\\site-packages\\pandas\\core\\indexes\\base.py\u001b[0m in \u001b[0;36m_concat_same_dtype\u001b[1;34m(self, to_concat, name)\u001b[0m\n\u001b[0;32m   4020\u001b[0m         \u001b[0mto_concat\u001b[0m \u001b[1;33m=\u001b[0m \u001b[1;33m[\u001b[0m\u001b[0mx\u001b[0m\u001b[1;33m.\u001b[0m\u001b[0m_values\u001b[0m \u001b[1;32mif\u001b[0m \u001b[0misinstance\u001b[0m\u001b[1;33m(\u001b[0m\u001b[0mx\u001b[0m\u001b[1;33m,\u001b[0m \u001b[0mIndex\u001b[0m\u001b[1;33m)\u001b[0m \u001b[1;32melse\u001b[0m \u001b[0mx\u001b[0m \u001b[1;32mfor\u001b[0m \u001b[0mx\u001b[0m \u001b[1;32min\u001b[0m \u001b[0mto_concat\u001b[0m\u001b[1;33m]\u001b[0m\u001b[1;33m\u001b[0m\u001b[1;33m\u001b[0m\u001b[0m\n\u001b[0;32m   4021\u001b[0m \u001b[1;33m\u001b[0m\u001b[0m\n\u001b[1;32m-> 4022\u001b[1;33m         \u001b[1;32mreturn\u001b[0m \u001b[0mself\u001b[0m\u001b[1;33m.\u001b[0m\u001b[0m_shallow_copy_with_infer\u001b[0m\u001b[1;33m(\u001b[0m\u001b[0mnp\u001b[0m\u001b[1;33m.\u001b[0m\u001b[0mconcatenate\u001b[0m\u001b[1;33m(\u001b[0m\u001b[0mto_concat\u001b[0m\u001b[1;33m)\u001b[0m\u001b[1;33m,\u001b[0m \u001b[1;33m**\u001b[0m\u001b[0mattribs\u001b[0m\u001b[1;33m)\u001b[0m\u001b[1;33m\u001b[0m\u001b[1;33m\u001b[0m\u001b[0m\n\u001b[0m\u001b[0;32m   4023\u001b[0m \u001b[1;33m\u001b[0m\u001b[0m\n\u001b[0;32m   4024\u001b[0m     \u001b[1;32mdef\u001b[0m \u001b[0mputmask\u001b[0m\u001b[1;33m(\u001b[0m\u001b[0mself\u001b[0m\u001b[1;33m,\u001b[0m \u001b[0mmask\u001b[0m\u001b[1;33m,\u001b[0m \u001b[0mvalue\u001b[0m\u001b[1;33m)\u001b[0m\u001b[1;33m:\u001b[0m\u001b[1;33m\u001b[0m\u001b[1;33m\u001b[0m\u001b[0m\n",
      "\u001b[1;32m<__array_function__ internals>\u001b[0m in \u001b[0;36mconcatenate\u001b[1;34m(*args, **kwargs)\u001b[0m\n",
      "\u001b[1;31mKeyboardInterrupt\u001b[0m: "
     ]
    }
   ],
   "source": [
    "cine21_keywords = pd.concat(results).reset_index(drop=True)"
   ]
  },
  {
   "cell_type": "code",
   "execution_count": null,
   "metadata": {},
   "outputs": [],
   "source": [
    "cine21_keywords = cine21_keywords[['title', 'noun', 'count']]"
   ]
  },
  {
   "cell_type": "code",
   "execution_count": null,
   "metadata": {},
   "outputs": [],
   "source": [
    "cine21_keywords"
   ]
  },
  {
   "cell_type": "code",
   "execution_count": null,
   "metadata": {},
   "outputs": [],
   "source": [
    "# 결과 저장\n",
    "cine21_keywords.to_csv(\"cine21_word_count.csv\", index=False)"
   ]
  },
  {
   "cell_type": "markdown",
   "metadata": {},
   "source": [
    "아래는 왓챠 리뷰 데이터 키워드 추출"
   ]
  },
  {
   "cell_type": "code",
   "execution_count": 168,
   "metadata": {},
   "outputs": [],
   "source": [
    "watcha_df = pd.read_csv(\"C:/Users/Danbee/Desktop/sample-project/server/flask/utils/data/review/Wa_review_192021.csv\")"
   ]
  },
  {
   "cell_type": "code",
   "execution_count": 170,
   "metadata": {},
   "outputs": [],
   "source": [
    "movie_titles = watcha_df.title.unique().tolist()\n",
    "len(movie_titles) # 411\n",
    "\n",
    "results = []\n",
    "\n",
    "for i in range(0,len(movie_titles)):\n",
    "    results.append(get_noun(movie_titles[i]).sort_values(by='count',ascending=False).head(50))"
   ]
  },
  {
   "cell_type": "code",
   "execution_count": 174,
   "metadata": {},
   "outputs": [
    {
     "data": {
      "text/html": [
       "<div>\n",
       "<style scoped>\n",
       "    .dataframe tbody tr th:only-of-type {\n",
       "        vertical-align: middle;\n",
       "    }\n",
       "\n",
       "    .dataframe tbody tr th {\n",
       "        vertical-align: top;\n",
       "    }\n",
       "\n",
       "    .dataframe thead th {\n",
       "        text-align: right;\n",
       "    }\n",
       "</style>\n",
       "<table border=\"1\" class=\"dataframe\">\n",
       "  <thead>\n",
       "    <tr style=\"text-align: right;\">\n",
       "      <th></th>\n",
       "      <th>title</th>\n",
       "      <th>noun</th>\n",
       "      <th>count</th>\n",
       "    </tr>\n",
       "  </thead>\n",
       "  <tbody>\n",
       "    <tr>\n",
       "      <th>0</th>\n",
       "      <td>나의 특별한 형제</td>\n",
       "      <td>장애인</td>\n",
       "      <td>14</td>\n",
       "    </tr>\n",
       "    <tr>\n",
       "      <th>1</th>\n",
       "      <td>나의 특별한 형제</td>\n",
       "      <td>모습</td>\n",
       "      <td>9</td>\n",
       "    </tr>\n",
       "    <tr>\n",
       "      <th>2</th>\n",
       "      <td>나의 특별한 형제</td>\n",
       "      <td>동구</td>\n",
       "      <td>7</td>\n",
       "    </tr>\n",
       "    <tr>\n",
       "      <th>3</th>\n",
       "      <td>나의 특별한 형제</td>\n",
       "      <td>비장</td>\n",
       "      <td>5</td>\n",
       "    </tr>\n",
       "    <tr>\n",
       "      <th>4</th>\n",
       "      <td>나의 특별한 형제</td>\n",
       "      <td>애인</td>\n",
       "      <td>5</td>\n",
       "    </tr>\n",
       "    <tr>\n",
       "      <th>...</th>\n",
       "      <td>...</td>\n",
       "      <td>...</td>\n",
       "      <td>...</td>\n",
       "    </tr>\n",
       "    <tr>\n",
       "      <th>6661</th>\n",
       "      <td>올드</td>\n",
       "      <td>생략</td>\n",
       "      <td>1</td>\n",
       "    </tr>\n",
       "    <tr>\n",
       "      <th>6662</th>\n",
       "      <td>올드</td>\n",
       "      <td>의혹</td>\n",
       "      <td>1</td>\n",
       "    </tr>\n",
       "    <tr>\n",
       "      <th>6663</th>\n",
       "      <td>미드나이트</td>\n",
       "      <td>단거리</td>\n",
       "      <td>1</td>\n",
       "    </tr>\n",
       "    <tr>\n",
       "      <th>6664</th>\n",
       "      <td>미드나이트</td>\n",
       "      <td>육상</td>\n",
       "      <td>1</td>\n",
       "    </tr>\n",
       "    <tr>\n",
       "      <th>6665</th>\n",
       "      <td>미드나이트</td>\n",
       "      <td>스타</td>\n",
       "      <td>1</td>\n",
       "    </tr>\n",
       "  </tbody>\n",
       "</table>\n",
       "<p>6666 rows × 3 columns</p>\n",
       "</div>"
      ],
      "text/plain": [
       "          title noun count\n",
       "0     나의 특별한 형제  장애인    14\n",
       "1     나의 특별한 형제   모습     9\n",
       "2     나의 특별한 형제   동구     7\n",
       "3     나의 특별한 형제   비장     5\n",
       "4     나의 특별한 형제   애인     5\n",
       "...         ...  ...   ...\n",
       "6661         올드   생략     1\n",
       "6662         올드   의혹     1\n",
       "6663      미드나이트  단거리     1\n",
       "6664      미드나이트   육상     1\n",
       "6665      미드나이트   스타     1\n",
       "\n",
       "[6666 rows x 3 columns]"
      ]
     },
     "execution_count": 174,
     "metadata": {},
     "output_type": "execute_result"
    }
   ],
   "source": [
    "watcha_keywords = pd.concat(results).reset_index(drop=True)\n",
    "watcha_keywords = watcha_keywords[['title', 'noun', 'count']]\n",
    "watcha_keywords"
   ]
  },
  {
   "cell_type": "code",
   "execution_count": 175,
   "metadata": {},
   "outputs": [],
   "source": [
    "# 결과 저장\n",
    "watcha_keywords.to_csv(\"watcha_word_count.csv\", index=False)"
   ]
  },
  {
   "cell_type": "markdown",
   "metadata": {},
   "source": [
    "### 형태소 분석기"
   ]
  },
  {
   "cell_type": "code",
   "execution_count": 195,
   "metadata": {},
   "outputs": [],
   "source": [
    "greenbook_df = work_df[work_df.title == '그린 북']"
   ]
  },
  {
   "cell_type": "code",
   "execution_count": 204,
   "metadata": {},
   "outputs": [],
   "source": [
    "greenbook_str = ''\n",
    "\n",
    "for row in greenbook_df.review:\n",
    "    greenbook_str += row + ' '\n",
    "    \n",
    "# greenbook_str"
   ]
  },
  {
   "cell_type": "code",
   "execution_count": 215,
   "metadata": {},
   "outputs": [
    {
     "name": "stdout",
     "output_type": "stream",
     "text": [
      "---------- 형태소 분석 결과 ----------\n",
      "[('함께', 'Adverb'), ('생활', 'Noun'), ('하며', 'Verb'), ('대화', 'Noun'), ('를', 'Josa'), ('하는', 'Verb'), ('것', 'Noun'), ('만으로도', 'Josa'), ('서로', 'Noun'), ('가', 'Josa'), ('받아들여질', 'Verb'), ('수', 'Noun'), ('있다는', 'Adjective'), ('소중한', 'Adjective'), ('경험', 'Noun'), ('.', 'Punctuation'), ('다름에서', 'Adjective'), ('오는', 'Verb'), ('고통', 'Noun'), ('을', 'Josa'), ('이해', 'Noun'), ('하고자', 'Verb'), ('했던', 'Verb'), ('우정', 'Noun'), ('.', 'Punctuation'), ('more', 'Alpha'), ('두', 'Determiner'), ('남자', 'Noun'), ('의', 'Josa'), ('우정', 'Noun'), ('..', 'Punctuation'), ('감동', 'Noun'), ('..', 'Punctuation'), ('ㅎㅎ', 'KoreanParticle'), ('상당히', 'Adjective'), ('감동', 'Noun'), ('적', 'Suffix'), ('이고', 'Josa'), ('우정', 'Noun'), ('이', 'Josa'), ('넘치는', 'Adjective'), ('실화', 'Noun'), ('였습니다', 'Verb'), ('!', 'Punctuation'), ('제', 'Noun'), ('91회', 'Number'), ('오스카', 'Noun'), ('어워즈', 'Noun'), ('에서', 'Josa'), ('최우수', 'Noun'), ('작품', 'Noun'), ('상', 'Suffix'), ('을', 'Josa'), ('수상한', 'Noun'), ('영화', 'Noun'), ('이길래', 'Verb'), ('봤는데', 'Verb'), (',', 'Punctuation'), ('보고', 'Noun'), ('나서는', 'Verb'), ('작품', 'Noun'), ('상', 'Suffix'), ('에', 'Josa'), ('도전', 'Noun'), ('할만', 'Verb'), ('했고', 'Verb'), (',', 'Punctuation'), ('받을만도', 'Verb'), ('했습니다', 'Verb'), ('!', 'Punctuation'), ('무엇', 'Noun'), ('보다', 'Josa'), ('1960년', 'Number'), ('대', 'Foreign'), ('흑백', 'Noun'), ('차별', 'Noun'), ('이', 'Josa'), ('극심했던', 'Adjective'), ('시기', 'Noun'), ('에', 'Josa'), ('백인', 'Noun'), ('운전사', 'Noun'), ('와', 'Josa'), ('흑인', 'Noun'), ('뮤지션', 'Noun'), ('간의', 'Noun'), ('우정', 'Noun'), ('이', 'Josa'), ('인종', 'Noun'), ('을', 'Josa'), ('뛰어넘는', 'Verb'), ('우정', 'Noun'), ('이', 'Josa'), ('제일', 'Noun'), ('큰', 'Verb'), ('감동', 'Noun'), ('을', 'Josa'), ('주었는', 'Verb'), ('점', 'Noun'), ('에서', 'Josa'), ('평화', 'Noun'), ('와', 'Josa'), ('우정', 'Noun'), ('의', 'Josa'), ('진정한', 'Adjective'), ('의미', 'Noun'), ('를', 'Josa'), ('알', 'Noun'), ('게', 'Josa'), ('되었습니다', 'Verb'), ('!', 'Punctuation'), ('이', 'Noun'), ('영화', 'Noun'), ('를', 'Josa'), ('크게', 'Noun'), ('강', 'Noun'), ('추하면서', 'Adjective'), ('별', 'Noun'), ('4', 'Number'), ('개', 'Noun'), ('반', 'Noun'), ('드립니다', 'Verb'), ('!!', 'Punctuation'), ('more', 'Alpha'), ('진정한', 'Adjective'), ('남자', 'Noun'), ('들', 'Suffix'), ('의', 'Josa'), ('개꿀잼', 'Noun'), ('버디', 'Noun'), ('무비', 'Noun'), ('원래', 'Noun'), ('이런', 'Adjective'), ('인종차별', 'Noun'), ('같은', 'Adjective'), ('편견', 'Noun'), ('에', 'Josa'), ('대해', 'Noun'), ('풀어내는', 'Verb'), ('영화', 'Noun'), ('를', 'Josa'), ('좋아했습니다', 'Adjective'), ('영화', 'Noun'), ('같은', 'Adjective'), ('매체', 'Noun'), ('의', 'Josa'), ('순', 'Modifier'), ('기능', 'Noun'), ('이기도', 'Josa'), ('하구요', 'Verb'), ('최근', 'Noun'), ('에', 'Josa'), ('조지', 'Noun'), ('클루니', 'Noun'), ('감독', 'Noun'), ('(', 'Punctuation'), ('맞습니다', 'Verb'), ('배우', 'Noun'), ('!)', 'Punctuation'), ('의', 'Noun'), ('서버', 'Noun'), ('비콘', 'Noun'), ('같은', 'Adjective'), ('경우', 'Noun'), ('는', 'Josa'), ('조금', 'Noun'), ('억지', 'Noun'), ('PC', 'Alpha'), ('아닌가', 'Adjective'), ('느낌', 'Noun'), ('이', 'Josa'), ('들어서', 'Verb'), ('별로', 'Noun'), ('였는데', 'Verb'), ('그린북', 'Noun'), ('은', 'Josa'), ('참', 'Verb'), ('유쾌하더군요', 'Adjective'), ('일단', 'Noun'), ('로드무비', 'Noun'), ('라는', 'Josa'), ('형식', 'Noun'), ('이', 'Josa'), ('맘', 'Noun'), ('에', 'Josa'), ('들었는데', 'Verb'), ('차라', 'Noun'), ('는', 'Josa'), ('좁은', 'Adjective'), ('공간', 'Noun'), ('에서', 'Josa'), ('티격태격', 'Noun'), ('하고', 'Josa'), ('하는게', 'Verb'), ('재미있더라구요', 'Adjective'), ('친구', 'Noun'), ('들', 'Suffix'), ('이랑', 'Josa'), ('여행가', 'Noun'), ('도', 'Josa'), ('개인', 'Noun'), ('공간', 'Noun'), ('이', 'Josa'), ('없어지잖아요', 'Verb'), ('?', 'Punctuation'), ('그래서', 'Adverb'), ('싸우', 'Verb'), ('기도', 'Noun'), ('하고', 'Josa'), ('가까워지', 'Verb'), ('기도', 'Noun'), ('하고', 'Verb'), ('서로', 'Noun'), ('다른', 'Noun'), ('2', 'Number'), ('인의', 'Noun'), ('대비', 'Noun'), ('를', 'Josa'), ('보여주는데', 'Verb'), ('좋은', 'Adjective'), ('도구', 'Noun'), ('라는', 'Josa'), ('생각', 'Noun'), ('이', 'Josa'), ('들었어요', 'Verb'), ('피자', 'Noun'), ('장면', 'Noun'), ('은', 'Josa'), ('극장', 'Noun'), ('에서', 'Josa'), ('빵터져서', 'Adjective'), ('너무', 'Adverb'), ('쪽팔리더라구요', 'Verb'), ('근데', 'Adverb'), ('저', 'Noun'), ('같은', 'Adjective'), ('경우', 'Noun'), ('보랩', 'Noun'), ('은', 'Josa'), ('아무', 'Noun'), ('느낌', 'Noun'), ('없이', 'Adverb'), ('봤지만', 'Verb'), ('그린북', 'Noun'), ('의', 'Josa'), ('동성애자', 'Noun'), ('설정', 'Noun'), ('은', 'Josa'), ('아니였으면', 'Adjective'), ('하더라구요', 'Verb'), ('(', 'Punctuation'), ('그냥', 'Noun'), ('너무', 'Adverb'), ('편견', 'Noun'), ('요소', 'Noun'), ('를', 'Josa'), ('다', 'Adverb'), ('때려', 'Verb'), ('박아', 'Noun'), ('넣은', 'Verb'), ('느낌', 'Noun'), ('이라서', 'Josa'), ('요', 'Noun'), (')', 'Punctuation'), ('사람', 'Noun'), ('들', 'Suffix'), ('이슈', 'Noun'), ('가', 'Josa'), ('능력', 'Noun'), ('이', 'Josa'), ('있는', 'Adjective'), ('사람', 'Noun'), ('만', 'Josa'), ('인종차별', 'Noun'), ('이냐', 'Josa'), ('하는', 'Verb'), ('부분', 'Noun'), ('은', 'Josa'), ('(', 'Punctuation'), ('물론', 'Adverb'), ('감독', 'Noun'), ('이', 'Josa'), ('마지막', 'Noun'), ('펍씬', 'Noun'), ('을', 'Josa'), ('통해', 'Noun'), ('오해', 'Noun'), ('가', 'Josa'), ('없도록', 'Adjective'), ('했다고', 'Verb'), ('생각', 'Noun'), ('합니다', 'Verb'), (')', 'Punctuation'), ('그리고', 'Conjunction'), ('개인', 'Noun'), ('생각', 'Noun'), ('이지만', 'Josa'), ('인종차별', 'Noun'), (',', 'Punctuation'), ('성차별', 'Noun'), ('에', 'Josa'), ('반대', 'Noun'), ('하는게', 'Verb'), ('능력', 'Noun'), ('기반', 'Noun'), ('이', 'Josa'), ('되는게', 'Verb'), ('맞다고', 'Verb'), ('생각', 'Noun'), ('합니다', 'Verb'), ('.(', 'Punctuation'), ('무한', 'Noun'), ('히', 'Adverb'), ('보편', 'Noun'), ('적', 'Suffix'), ('으로', 'Josa'), ('만인', 'Noun'), ('은', 'Josa'), ('평등하다가', 'Adjective'), ('아니에요', 'Adjective'), ('ㅠ', 'KoreanParticle'), (')', 'Punctuation'), ('어디', 'Noun'), ('까지나', 'Josa'), ('능력', 'Noun'), ('있는', 'Adjective'), ('사람', 'Noun'), ('을', 'Josa'), ('인종', 'Noun'), (',', 'Punctuation'), ('성별', 'Noun'), ('등', 'Noun'), ('색안경', 'Noun'), ('때문', 'Noun'), ('에', 'Josa'), ('놓치지', 'Verb'), ('말', 'Noun'), ('자', 'Suffix'), ('정도', 'Noun'), ('입니다', 'Adjective'), ('.', 'Punctuation'), ('그리고', 'Conjunction'), ('재밌는', 'Adjective'), ('포인트', 'Noun'), ('는', 'Josa'), ('주인공', 'Noun'), ('이', 'Josa'), ('이탈리아', 'Noun'), ('사람', 'Noun'), ('이라는', 'Josa'), ('점', 'Noun'), ('인데', 'Josa'), ('미국', 'Noun'), ('내', 'Noun'), ('주류', 'Noun'), ('세력', 'Noun'), ('인', 'Josa'), ('WASP', 'Alpha'), ('(', 'Punctuation'), ('영국', 'Noun'), (',', 'Punctuation'), ('독일', 'Noun'), ('계', 'Suffix'), ('앵글', 'Noun'), ('로', 'Josa'), ('섹슨', 'Noun'), (')', 'Punctuation'), ('이', 'Noun'), ('아니라는', 'Adjective'), ('이유', 'Noun'), ('로', 'Josa'), ('백인', 'Noun'), ('경찰', 'Noun'), ('에게', 'Josa'), ('\"', 'Punctuation'), ('너', 'Noun'), ('도', 'Josa'), ('반', 'Noun'), ('은', 'Josa'), ('흑인', 'Noun'), ('이구나', 'Josa'), ('\"', 'Punctuation'), ('하는', 'Verb'), ('부분', 'Noun'), ('이', 'Josa'), ('독특했습니다', 'Adjective'), ('.', 'Punctuation'), ('평소', 'Noun'), ('에도', 'Josa'), ('백', 'Modifier'), ('인내', 'Noun'), ('에서도', 'Josa'), ('슬라브', 'Noun'), (',', 'Punctuation'), ('라틴', 'Noun'), ('(', 'Punctuation'), ('국적', 'Noun'), ('으로는', 'Josa'), ('폴란드', 'Noun'), ('러시아', 'Noun'), ('그리스', 'Noun'), (')', 'Punctuation'), ('쪽', 'Noun'), ('사람', 'Noun'), ('을', 'Josa'), ('좀', 'Noun'), ('부정', 'Noun'), ('적', 'Suffix'), ('으로', 'Josa'), ('보는', 'Verb'), ('경우', 'Noun'), ('를', 'Josa'), ('많이', 'Adverb'), ('봤거든요', 'Verb'), ('백인', 'Noun'), ('니', 'Modifier'), ('네', 'Noun'), ('도', 'Josa'), ('인종차별', 'Noun'), ('에서', 'Josa'), ('자유로울수', 'Adjective'), ('없다는', 'Adjective'), ('경고', 'Noun'), ('같기도', 'Adjective'), ('하구요', 'Verb'), ('P', 'Alpha'), ('.', 'Punctuation'), ('S', 'Alpha'), ('.', 'Punctuation'), ('감독', 'Noun'), ('이', 'Josa'), ('조금', 'Noun'), ('이슈', 'Noun'), ('가', 'Josa'), ('있더군요', 'Adjective'), ('...', 'Punctuation'), ('모른', 'Verb'), ('채', 'Noun'), ('로', 'Josa'), ('영화', 'Noun'), ('를', 'Josa'), ('봐서', 'Verb'), ('다행', 'Noun'), ('이네', 'Josa'), ('요', 'Noun'), ('알았으면', 'Verb'), ('보는내내', 'Verb'), ('생각났을지도', 'Verb'), ('요', 'Noun'), ('more', 'Alpha'), ('1960년', 'Number'), ('대', 'Foreign'), ('미국', 'Noun'), ('은', 'Josa'), ('흑인', 'Noun'), ('들', 'Suffix'), ('에겐', 'Josa'), ('암흑', 'Noun'), ('이었다', 'Verb'), ('.', 'Punctuation'), ('특히', 'Adverb'), ('미국', 'Noun'), ('남부', 'Noun'), ('는', 'Josa'), ('노예제', 'Noun'), ('폐지', 'Noun'), ('에도', 'Josa'), ('불구', 'Noun'), ('하고', 'Josa'), ('여전히', 'Adjective'), ('흑인', 'Noun'), ('들', 'Suffix'), ('이', 'Josa'), ('노예', 'Noun'), ('와', 'Josa'), ('다를', 'Adjective'), ('바', 'Noun'), ('없었으며', 'Adjective'), ('백인', 'Noun'), ('들', 'Suffix'), ('에겐', 'Josa'), ('사람', 'Noun'), ('이', 'Josa'), ('아니었다', 'Adjective'), ('.', 'Punctuation'), ('그렇다고', 'Conjunction'), ('해서', 'Verb'), ('북부', 'Noun'), ('에서도', 'Josa'), ('남부', 'Noun'), ('만큼은', 'Josa'), ('아니지만', 'Adjective'), ('편견', 'Noun'), ('과', 'Josa'), ('멸시', 'Noun'), ('에서', 'Josa'), ('벗어날', 'Verb'), ('수', 'Noun'), ('있는', 'Adjective'), ('이', 'Noun'), ('들', 'Suffix'), ('은', 'Josa'), ('거의', 'Noun'), ('없었으며', 'Adjective'), ('당연히', 'Adjective'), ('현재', 'Noun'), ('트럼프', 'Noun'), ('가', 'Josa'), ('집권', 'Noun'), ('하고', 'Josa'), ('있는', 'Adjective'), ('미국', 'Noun'), ('에서', 'Josa'), ('왕왕', 'Noun'), ('벌어지는', 'Verb'), ('인종차별', 'Noun'), ('의', 'Josa'), ('인상', 'Noun'), ('이', 'Josa'), ('짙은', 'Adjective'), ('사건', 'Noun'), ('들', 'Suffix'), ('은', 'Josa'), ('아직', 'Adverb'), ('까지', 'Josa'), ('미국', 'Noun'), ('에서', 'Josa'), ('흑인', 'Noun'), ('들', 'Suffix'), ('을', 'Josa'), ('범죄자', 'Noun'), (',', 'Punctuation'), ('하층', 'Noun'), ('민', 'Noun'), ('으로', 'Josa'), ('보는', 'Verb'), ('시선', 'Noun'), ('이', 'Josa'), ('농후', 'Noun'), ('하다는', 'Verb'), ('증거', 'Noun'), ('다', 'Josa'), ('.', 'Punctuation'), ('이런', 'Adjective'), ('전', 'Modifier'), ('제', 'Modifier'), ('조건', 'Noun'), ('하', 'Suffix'), ('에서', 'Josa'), ('1960년', 'Number'), ('대', 'Foreign'), ('돈', 'Noun'), ('셜리', 'Noun'), ('(', 'Punctuation'), ('마허샬리', 'Noun'), ('알리', 'Noun'), (')', 'Punctuation'), ('는', 'Verb'), ('클래식', 'Noun'), ('피아니스트', 'Noun'), ('로', 'Josa'), ('당시', 'Noun'), ('일반', 'Noun'), ('흑인', 'Noun'), ('들', 'Suffix'), ('이', 'Josa'), ('전혀', 'Noun'), ('누리', 'Noun'), ('지', 'Josa'), ('못', 'VerbPrefix'), ('했던', 'Verb'), ('부와', 'Noun'), ('명예', 'Noun'), ('를', 'Josa'), ('누리는', 'Verb'), ('이다', 'Josa'), ('.', 'Punctuation'), ('당연히', 'Adjective'), ('그', 'Noun'), ('가', 'Josa'), ('노력', 'Noun'), ('한', 'Josa'), ('피아노', 'Noun'), ('연주', 'Noun'), ('실력', 'Noun'), ('과', 'Josa'), ('학력', 'Noun'), ('과', 'Josa'), ('교양', 'Noun'), ('으로', 'Josa'), ('자수', 'Noun'), ('성가', 'Noun'), ('했고', 'Verb'), ('카네기', 'Noun'), ('홀', 'Noun'), ('상층', 'Noun'), ('부', 'Noun'), ('에서', 'Josa'), ('인도', 'Noun'), ('출신', 'Noun'), ('집사', 'Noun'), ('의', 'Josa'), ('보살핌을', 'Verb'), ('받으며', 'Verb'), ('박사', 'Noun'), ('학위', 'Noun'), ('를', 'Josa'), ('받은', 'Verb'), ('일종', 'Noun'), ('의', 'Josa'), ('왕', 'Noun'), ('과', 'Josa'), ('같은', 'Adjective'), ('모습', 'Noun'), ('으로', 'Josa'), ('뉴욕', 'Noun'), ('에서', 'Josa'), ('살', 'Noun'), ('고', 'Josa'), ('있다', 'Adjective'), ('.', 'Punctuation'), ('토니', 'Noun'), ('(', 'Punctuation'), ('비고', 'Noun'), ('모텐슨', 'Noun'), (')', 'Punctuation'), ('는', 'Verb'), ('이탈리아', 'Noun'), ('이민자', 'Noun'), ('출신', 'Noun'), ('으로', 'Josa'), ('나이트클럽', 'Noun'), ('에서', 'Josa'), ('말썽', 'Noun'), ('을', 'Josa'), ('일으키는', 'Verb'), ('사건', 'Noun'), ('사고', 'Noun'), ('를', 'Josa'), ('해결', 'Noun'), ('해', 'Verb'), ('주는', 'Verb'), ('해결사', 'Noun'), ('이자', 'Noun'), ('이탈리아', 'Noun'), ('출신', 'Noun'), ('답', 'Noun'), ('게', 'Josa'), ('다혈질', 'Noun'), ('이라', 'Josa'), ('분쟁', 'Noun'), ('이', 'Josa'), ('생기', 'Noun'), ('면', 'Josa'), ('주먹', 'Noun'), ('부터', 'Josa'), ('나가는', 'Verb'), ('사람', 'Noun'), ('이다', 'Josa'), ('.', 'Punctuation'), ('이탈리아', 'Noun'), ('출신', 'Noun'), ('답', 'Noun'), ('게', 'Josa'), ('토니', 'Noun'), ('주변', 'Noun'), ('에', 'Josa'), ('가족', 'Noun'), ('은', 'Josa'), ('물론', 'Adverb'), ('이고', 'Josa'), ('친구', 'Noun'), ('들', 'Suffix'), ('중', 'Noun'), ('에', 'Josa'), ('마피아', 'Noun'), ('들', 'Suffix'), ('이', 'Josa'), ('득실득실', 'Adverb'), ('대는데다가', 'Verb'), ('돈', 'Noun'), ('이', 'Josa'), ('필요하면', 'Adjective'), ('주먹', 'Noun'), ('세계', 'Noun'), ('에', 'Josa'), ('있는', 'Adjective'), ('친구', 'Noun'), ('들', 'Suffix'), ('이', 'Josa'), ('토니', 'Noun'), ('에게', 'Josa'), ('찾아와', 'Verb'), ('일', 'Noun'), ('을', 'Josa'), ('맡기려고', 'Verb'), ('하지만', 'Conjunction'), ('그러나', 'Conjunction'), ('토니', 'Noun'), ('는', 'Josa'), ('같은', 'Adjective'), ('이탈리아', 'Noun'), ('출신', 'Noun'), ('이라고', 'Josa'), ('해도', 'Noun'), ('주먹', 'Noun'), ('세계', 'Noun'), ('의', 'Josa'), ('친구', 'Noun'), ('들', 'Suffix'), ('과', 'Josa'), ('아주', 'Noun'), ('큰', 'Verb'), ('차이점', 'Noun'), ('이', 'Josa'), ('있다', 'Adjective'), ('.', 'Punctuation'), ('결혼', 'Noun'), ('전', 'Noun'), ('에는', 'Josa'), ('모르지만', 'Verb'), ('기', 'Modifier'), ('혼자', 'Noun'), ('로서', 'Noun'), ('자신', 'Noun'), ('의', 'Josa'), ('아내', 'Noun'), ('돌로레스', 'Noun'), ('(', 'Punctuation'), ('린다', 'Noun'), ('카', 'Noun'), ('델리', 'Noun'), ('니', 'Josa'), (')', 'Punctuation'), ('와', 'Verb'), ('아이', 'Noun'), ('들', 'Suffix'), ('을', 'Josa'), ('위해', 'Noun'), ('전혀', 'Noun'), ('주먹', 'Noun'), ('세계', 'Noun'), ('의', 'Josa'), ('돈', 'Noun'), ('은', 'Josa'), ('만', 'Modifier'), ('지지', 'Noun'), ('않는다는', 'Verb'), ('철칙', 'Noun'), ('이', 'Josa'), ('있는', 'Adjective'), ('이다', 'Josa'), ('.', 'Punctuation'), ('당대', 'Noun'), ('생각', 'Noun'), ('하기', 'Verb'), ('어려운', 'Adjective'), ('지식', 'Noun'), ('과', 'Josa'), ('교양', 'Noun'), ('과', 'Josa'), ('품위', 'Noun'), ('가', 'Josa'), ('있는', 'Adjective'), ('슈퍼', 'Noun'), ('엘리트', 'Noun'), ('흑인', 'Noun'), ('과', 'Josa'), ('이탈리아', 'Noun'), ('이민자', 'Noun'), ('출신', 'Noun'), ('의', 'Josa'), ('다혈질', 'Noun'), ('사내', 'Noun'), ('의', 'Josa'), ('조합', 'Noun'), ('은', 'Josa'), ('여타', 'Noun'), ('작품', 'Noun'), ('처럼', 'Josa'), ('처음', 'Noun'), ('엔', 'Josa'), ('불협화음', 'Noun'), ('을', 'Josa'), ('일으키고', 'Verb'), ('갈등', 'Noun'), ('을', 'Josa'), ('일으키지만', 'Verb'), ('여행', 'Noun'), ('을', 'Josa'), ('통해', 'Noun'), ('서로', 'Noun'), ('를', 'Josa'), ('알아가고', 'Verb'), ('알아가는', 'Verb'), ('과정', 'Noun'), ('에서', 'Josa'), ('전', 'Noun'), ('에', 'Josa'), ('가졌던', 'Verb'), ('편견', 'Noun'), ('과', 'Josa'), ('고정관념', 'Noun'), ('을', 'Josa'), ('눈', 'Noun'), ('녹듯이', 'Verb'), ('녹인다는', 'Verb'), ('게', 'Noun'), ('매력', 'Noun'), ('적', 'Suffix'), ('인', 'Josa'), ('작품', 'Noun'), ('이다', 'Josa'), ('.', 'Punctuation'), ('흑인', 'Noun'), ('으로서', 'Josa'), ('돈', 'Noun'), ('셜리', 'Noun'), ('는', 'Josa'), ('북부', 'Noun'), ('에서만', 'Josa'), ('연주회', 'Noun'), ('를', 'Josa'), ('하고', 'Verb'), ('굳이', 'Noun'), ('흑인', 'Noun'), ('들', 'Suffix'), ('의', 'Josa'), ('비참한', 'Adjective'), ('생활', 'Noun'), ('을', 'Josa'), ('알면서도', 'Verb'), ('남부', 'Noun'), ('에', 'Josa'), ('갈', 'Verb'), ('이유', 'Noun'), ('가', 'Josa'), ('없다', 'Adjective'), ('.', 'Punctuation'), ('그러나', 'Conjunction'), ('셜리', 'Noun'), ('는', 'Josa'), ('기어', 'Noun'), ('코', 'Noun'), ('남부', 'Noun'), ('에', 'Josa'), ('가며', 'Verb'), ('다혈질', 'Noun'), ('이자', 'Noun'), ('문제해결', 'Noun'), ('력', 'Suffix'), ('이', 'Josa'), ('있으며', 'Adjective'), ('돈', 'Noun'), ('셜리', 'Noun'), ('를', 'Josa'), ('만나기', 'Verb'), ('전', 'Noun'), ('에', 'Josa'), ('집', 'Noun'), ('에서', 'Josa'), ('흑인', 'Noun'), ('배관', 'Noun'), ('공', 'Noun'), ('들', 'Suffix'), ('이', 'Josa'), ('마신', 'Verb'), ('물', 'Noun'), ('컵', 'Noun'), ('을', 'Josa'), ('버릴', 'Verb'), ('정도', 'Noun'), ('의', 'Josa'), ('편견', 'Noun'), ('에', 'Josa'), ('가득', 'Noun'), ('찬', 'Noun'), ('토니', 'Noun'), ('를', 'Josa'), ('운전기사', 'Noun'), ('로', 'Josa'), ('고용', 'Noun'), ('한', 'Josa'), ('다', 'Adverb'), ('.', 'Punctuation'), ('고고', 'Noun'), ('하고', 'Josa'), ('결벽증', 'Noun'), ('이', 'Josa'), ('있으며', 'Adjective'), ('깨끗해야', 'Adjective'), ('하는', 'Verb'), ('돈', 'Noun'), ('셜리', 'Noun'), ('에게', 'Josa'), ('토니', 'Noun'), ('의', 'Josa'), ('첫', 'Noun'), ('인상', 'Noun'), ('을', 'Josa'), ('좋지', 'Adjective'), ('못', 'VerbPrefix'), ('하다', 'Verb'), ('.', 'Punctuation'), ('직설', 'Noun'), ('적', 'Suffix'), ('으로', 'Josa'), ('내뱉는', 'Verb'), ('말', 'Noun'), ('부터', 'Josa'), ('부', 'Noun'), ('정확한', 'Adjective'), ('영어', 'Noun'), ('발음', 'Noun'), ('에', 'Josa'), ('온갖', 'Noun'), ('비속어', 'Noun'), ('를', 'Josa'), ('쏟아내고', 'Verb'), ('전반', 'Noun'), ('적', 'Suffix'), ('으로', 'Josa'), ('교양', 'Noun'), ('머리', 'Noun'), ('없는', 'Adjective'), ('모양새', 'Noun'), ('가', 'Josa'), ('돈', 'Noun'), ('에게는', 'Josa'), ('참', 'Verb'), ('불편해', 'Adjective'), ('보이는', 'Verb'), ('것', 'Noun'), ('이다', 'Josa'), ('.', 'Punctuation'), ('그러나', 'Conjunction'), ('토니', 'Noun'), ('또한', 'Noun'), ('돈', 'Noun'), ('이', 'Josa'), ('너무', 'Adverb'), ('결벽증', 'Noun'), ('이', 'Josa'), ('심하고', 'Adjective'), ('지식', 'Noun'), ('을', 'Josa'), ('추구', 'Noun'), ('하고', 'Josa'), ('세상', 'Noun'), ('의', 'Josa'), ('험한', 'Adjective'), ('꼴', 'Noun'), ('을', 'Josa'), ('보지', 'Noun'), ('못', 'Noun'), ('한', 'Josa'), ('샌님', 'Noun'), ('인', 'Josa'), ('게', 'Noun'), ('불만', 'Noun'), ('이다', 'Josa'), ('.', 'Punctuation'), ('작품', 'Noun'), ('은', 'Josa'), ('이', 'Noun'), ('두', 'Noun'), ('대조', 'Noun'), ('적', 'Suffix'), ('이고', 'Josa'), ('극단', 'Noun'), ('의', 'Josa'), ('성향', 'Noun'), ('인', 'Josa'), ('사람', 'Noun'), ('들', 'Suffix'), ('이', 'Josa'), ('여행', 'Noun'), ('을', 'Josa'), ('통해', 'Noun'), ('변화', 'Noun'), ('되는', 'Verb'), ('과정', 'Noun'), ('을', 'Josa'), ('로드', 'Noun'), ('무비', 'Noun'), ('의', 'Josa'), ('정석', 'Noun'), ('대로', 'Josa'), ('보여주며', 'Verb'), ('아울러', 'Verb'), ('이', 'Noun'), ('두', 'Noun'), ('배우', 'Noun'), ('가', 'Josa'), ('상당한', 'Adjective'), ('연기', 'Noun'), ('내공', 'Noun'), ('을', 'Josa'), ('선사', 'Noun'), ('한다는', 'Modifier'), ('걸', 'Noun'), ('전제', 'Noun'), ('하고', 'Josa'), ('작품', 'Noun'), ('을', 'Josa'), ('진행', 'Noun'), ('한다', 'Verb'), ('.', 'Punctuation'), ('남부', 'Noun'), ('에서의', 'Josa'), ('첫', 'Noun'), ('연주', 'Noun'), ('에서', 'Josa'), ('클래식', 'Noun'), ('연주', 'Noun'), ('를', 'Josa'), ('선보이는', 'Verb'), ('돈', 'Noun'), ('을', 'Josa'), ('보고', 'Noun'), ('토니', 'Noun'), ('는', 'Josa'), ('돈', 'Noun'), ('이', 'Josa'), ('예사', 'Noun'), ('인물', 'Noun'), ('이', 'Josa'), ('아님을', 'Adjective'), ('알', 'Noun'), ('게', 'Josa'), ('된다', 'Verb'), ('.', 'Punctuation'), ('그러나', 'Conjunction'), ('돈', 'Noun'), ('은', 'Josa'), ('남부', 'Noun'), ('의', 'Josa'), ('고고', 'Noun'), ('하고', 'Josa'), ('부유', 'Noun'), ('층', 'Noun'), ('인', 'Josa'), ('이', 'Noun'), ('들', 'Suffix'), ('을', 'Josa'), ('위해', 'Noun'), ('실내', 'Noun'), ('에서', 'Josa'), ('멋', 'Noun'), ('들어지고', 'Verb'), ('화려한', 'Adjective'), ('연주', 'Noun'), ('실력', 'Noun'), ('을', 'Josa'), ('뽐낼', 'Verb'), ('때', 'Noun'), ('는', 'Josa'), ('연주자', 'Noun'), ('로서', 'Noun'), ('의', 'Josa'), ('대접', 'Noun'), ('을', 'Josa'), ('받지만', 'Verb'), ('무대', 'Noun'), ('에서', 'Josa'), ('내려왔을', 'Verb'), ('때', 'Noun'), ('는', 'Josa'), ('남부', 'Noun'), ('흑인', 'Noun'), ('들', 'Suffix'), ('과', 'Josa'), ('같은', 'Adjective'), ('흑인', 'Noun'), ('으로', 'Josa'), ('화장실', 'Noun'), (',', 'Punctuation'), ('식당', 'Noun'), (',', 'Punctuation'), ('양품', 'Noun'), ('점', 'Noun'), ('에서', 'Josa'), ('온갖', 'Noun'), ('차별', 'Noun'), ('을', 'Josa'), ('받아내야', 'Verb'), ('하고', 'Verb'), ('이를', 'Verb'), ('지켜보는', 'Verb'), ('토니', 'Noun'), ('는', 'Josa'), ('남부', 'Noun'), ('의', 'Josa'), ('고집', 'Noun'), ('스런', 'Josa'), ('흑인', 'Noun'), ('차별', 'Noun'), ('과', 'Josa'), ('학대', 'Noun'), ('가', 'Josa'), ('잘', 'VerbPrefix'), ('못', 'VerbPrefix'), ('됐다는', 'Verb'), ('것', 'Noun'), ('을', 'Josa'), ('깨닫게', 'Verb'), ('되며', 'Verb'), ('인종', 'Noun'), ('적', 'Suffix'), ('편견', 'Noun'), ('으로부터', 'Josa'), ('점점', 'Noun'), ('거리', 'Noun'), ('를', 'Josa'), ('두게', 'Verb'), ('된다', 'Verb'), ('.', 'Punctuation'), ('특히', 'Adverb'), ('돈', 'Noun'), ('이', 'Josa'), ('어느', 'Adverb'), ('바', 'Noun'), ('에서', 'Josa'), ('한잔', 'Noun'), ('마시러', 'Verb'), ('갔다가', 'Verb'), ('백인', 'Noun'), ('들', 'Suffix'), ('에게', 'Josa'), ('호', 'Noun'), ('되게', 'Adverb'), ('맞을', 'Verb'), ('때', 'Noun'), ('토니', 'Noun'), ('는', 'Josa'), ('자신', 'Noun'), ('의', 'Josa'), ('다혈질', 'Noun'), ('적', 'Noun'), ('인', 'Josa'), ('성격', 'Noun'), ('을', 'Josa'), ('잠시', 'Noun'), ('잠재우고', 'Verb'), ('총', 'Noun'), ('이', 'Josa'), ('있는', 'Adjective'), ('척', 'Noun'), ('연기', 'Noun'), ('하는', 'Verb'), ('모습', 'Noun'), ('은', 'Josa'), ('그', 'Noun'), ('가', 'Josa'), ('아무리', 'Adverb'), ('다혈질', 'Noun'), ('이라고', 'Josa'), ('하더라고', 'Verb'), ('발생', 'Noun'), ('한', 'Josa'), ('문제', 'Noun'), ('를', 'Josa'), ('더', 'Noun'), ('이상', 'Noun'), ('확대', 'Noun'), ('재생산', 'Noun'), ('하지', 'Verb'), ('않는', 'Verb'), ('유연한', 'Adjective'), ('모습', 'Noun'), ('도', 'Josa'), ('지니', 'Noun'), ('고', 'Josa'), ('있다는', 'Adjective'), ('걸', 'Noun'), ('알', 'Noun'), ('수', 'Noun'), ('있다', 'Adjective'), ('.', 'Punctuation'), ('토니', 'Noun'), ('가', 'Josa'), ('남부', 'Noun'), ('에서', 'Josa'), ('돈', 'Noun'), ('이', 'Josa'), ('백인', 'Noun'), ('들', 'Suffix'), ('에게', 'Josa'), ('온갖', 'Noun'), ('차별', 'Noun'), ('과', 'Josa'), ('멸시', 'Noun'), ('를', 'Josa'), ('당하고', 'Adjective'), ('위기', 'Noun'), ('에', 'Josa'), ('처', 'Noun'), ('할', 'Verb'), ('때', 'Noun'), ('마다', 'Josa'), ('구', 'Noun'), ('해주면서', 'Verb'), ('큰', 'Verb'), ('도움', 'Noun'), ('을', 'Josa'), ('주는', 'Verb'), ('경우', 'Noun'), ('도', 'Josa'), ('있지만', 'Adjective'), ('돈', 'Noun'), ('이', 'Josa'), ('토니', 'Noun'), ('를', 'Josa'), ('학생', 'Noun'), ('다루듯', 'Verb'), ('계몽', 'Noun'), ('시키고', 'Verb'), ('지시', 'Noun'), ('만', 'Josa'), ('하다가', 'Verb'), ('토니', 'Noun'), ('가', 'Josa'), ('아내', 'Noun'), ('돌로레스', 'Noun'), ('에게', 'Josa'), ('쓰는', 'Verb'), ('편지', 'Noun'), ('를', 'Josa'), ('직접', 'Noun'), ('적', 'Suffix'), ('으로', 'Josa'), ('교정', 'Noun'), ('해', 'Verb'), ('주고', 'Verb'), ('문학', 'Noun'), ('적', 'Suffix'), ('인', 'Josa'), ('기교', 'Noun'), ('와', 'Josa'), ('미사여구', 'Noun'), ('를', 'Josa'), ('첨가', 'Noun'), ('해', 'Verb'), ('주자', 'Noun'), ('토니', 'Noun'), ('와', 'Josa'), ('돌로레스', 'Noun'), ('의', 'Josa'), ('관계', 'Noun'), ('는', 'Josa'), ('돈', 'Noun'), ('의', 'Josa'), ('투어', 'Noun'), ('중', 'Noun'), ('에도', 'Josa'), ('더', 'Noun'), ('돈독해', 'Adjective'), ('지며', 'Verb'), ('그', 'Noun'), ('부부', 'Noun'), ('의', 'Josa'), ('금슬', 'Noun'), ('이', 'Josa'), ('더', 'Noun'), ('나아지는', 'Verb'), ('효과', 'Noun'), ('를', 'Josa'), ('본다', 'Verb'), ('.', 'Punctuation'), ('특히', 'Adverb'), ('차', 'Noun'), ('안', 'Noun'), ('에서', 'Josa'), ('켄터키', 'Noun'), ('주', 'Noun'), ('에', 'Josa'), ('진입', 'Noun'), ('했을', 'Verb'), ('때', 'Noun'), ('토니', 'Noun'), ('의', 'Josa'), ('권유', 'Noun'), ('에', 'Josa'), ('못', 'Noun'), ('이겨', 'Verb'), ('맨손', 'Noun'), ('으로', 'Josa'), ('닭', 'Noun'), ('을', 'Josa'), ('먹게', 'Verb'), ('된', 'Verb'), ('돈', 'Noun'), ('은', 'Josa'), ('또한', 'Noun'), ('토니', 'Noun'), ('가', 'Josa'), ('살아왔던', 'Verb'), ('삶', 'Noun'), ('의', 'Josa'), ('흔적', 'Noun'), ('에', 'Josa'), ('발', 'Noun'), ('을', 'Josa'), ('들여놓는', 'Verb'), ('순간', 'Noun'), ('이', 'Josa'), ('되고', 'Verb'), ('둘', 'Noun'), ('은', 'Josa'), ('점차', 'Noun'), ('적', 'Suffix'), ('으로', 'Josa'), ('일방', 'Noun'), ('적', 'Suffix'), ('인', 'Josa'), ('관계', 'Noun'), ('가', 'Josa'), ('아닌', 'Adjective'), ('쌍', 'Noun'), ('방향', 'Noun'), ('적', 'Suffix'), ('으로', 'Josa'), ('동화', 'Noun'), ('와', 'Josa'), ('소통', 'Noun'), ('하는', 'Verb'), ('관계', 'Noun'), ('에', 'Josa'), ('놓이게', 'Verb'), ('되고', 'Verb'), ('이', 'Noun'), ('투어', 'Noun'), ('를', 'Josa'), ('통해', 'Noun'), ('둘', 'Noun'), ('은', 'Josa'), ('단순한', 'Adjective'), ('고용', 'Noun'), ('관계', 'Noun'), ('가', 'Josa'), ('아닌', 'Adjective'), ('인종', 'Noun'), ('과', 'Josa'), ('신분', 'Noun'), ('과', 'Josa'), ('계층', 'Noun'), ('을', 'Josa'), ('초월', 'Noun'), ('한', 'Josa'), ('우정', 'Noun'), ('을', 'Josa'), ('쌓게', 'Verb'), ('된다', 'Verb'), ('.', 'Punctuation'), ('특히', 'Adverb'), ('북부', 'Noun'), ('에서만', 'Josa'), ('있었어도', 'Adjective'), ('편안한', 'Adjective'), ('생활', 'Noun'), ('을', 'Josa'), ('영위', 'Noun'), ('할', 'Verb'), ('수', 'Noun'), ('있었던', 'Adjective'), ('돈', 'Noun'), ('이', 'Josa'), ('자신', 'Noun'), ('이', 'Josa'), ('흑인', 'Noun'), ('이라는', 'Josa'), ('정체', 'Noun'), ('성', 'Suffix'), ('을', 'Josa'), ('지니면서', 'Verb'), ('남부', 'Noun'), ('로', 'Josa'), ('가는', 'Verb'), ('걸', 'Noun'), ('택', 'Noun'), ('한', 'Josa'), ('걸', 'Noun'), ('동료', 'Noun'), ('첼리스트', 'Noun'), ('올', 'Modifier'), ('렉', 'Noun'), ('(', 'Punctuation'), ('디', 'Noun'), ('미터', 'Suffix'), ('D', 'Alpha'), ('마리', 'Noun'), ('노프', 'Noun'), (')', 'Punctuation'), ('은', 'Noun'), ('영화', 'Noun'), ('후반', 'Noun'), ('부의', 'Noun'), ('토니', 'Noun'), ('에게', 'Josa'), ('그게', 'Noun'), ('용기', 'Noun'), ('이자', 'Noun'), ('틀', 'Noun'), ('을', 'Josa'), ('깨는', 'Verb'), ('시도', 'Noun'), ('였다고', 'Verb'), ('알려', 'Verb'), ('준다', 'Verb'), ('.', 'Punctuation'), ('작품', 'Noun'), ('에', 'Josa'), ('나온', 'Verb'), ('두', 'Noun'), ('주연', 'Noun'), ('배우는', 'Verb'), ('남부', 'Noun'), ('여행', 'Noun'), ('을', 'Josa'), ('통해', 'Noun'), ('서', 'Josa'), ('사건', 'Noun'), (',', 'Punctuation'), ('사고', 'Noun'), ('를', 'Josa'), ('겪고', 'Verb'), ('힘들', 'Adjective'), ('기도', 'Noun'), ('했으나', 'Verb'), ('두', 'Noun'), ('사람', 'Noun'), ('간의', 'Noun'), ('틀', 'Noun'), ('을', 'Josa'), ('깨고', 'Verb'), ('세상', 'Noun'), ('의', 'Josa'), ('틀', 'Noun'), ('을', 'Josa'), ('깨고', 'Verb'), ('시선', 'Noun'), ('을', 'Josa'), ('넓히는', 'Verb'), ('인생', 'Noun'), ('의', 'Josa'), ('가치', 'Noun'), ('를', 'Josa'), ('얻게', 'Verb'), ('된다', 'Verb'), ('.', 'Punctuation'), ('사람', 'Noun'), ('이라는', 'Josa'), ('건', 'Noun'), ('동서', 'Noun'), ('고금', 'Noun'), (',', 'Punctuation'), ('남녀', 'Noun'), ('노소', 'Noun'), ('를', 'Josa'), ('불문', 'Noun'), ('하고', 'Josa'), ('서로', 'Noun'), ('쌍', 'Noun'), ('방향', 'Noun'), ('으로', 'Josa'), ('배우는', 'Verb'), ('게', 'Noun'), ('정상', 'Noun'), ('이고', 'Josa'), ('보편', 'Noun'), ('적', 'Suffix'), ('이며', 'Josa'), ('상식', 'Noun'), ('이다', 'Josa'), ('.', 'Punctuation'), ('그러나', 'Conjunction'), ('현재', 'Noun'), ('에', 'Josa'), ('대부분', 'Noun'), ('의', 'Josa'), ('관계', 'Noun'), ('가', 'Josa'), ('일방', 'Noun'), ('적', 'Suffix'), ('이기', 'Noun'), ('가', 'Verb'), ('일쑤', 'Noun'), ('이며', 'Josa'), ('그', 'Noun'), ('부작용', 'Noun'), ('의', 'Josa'), ('폐해', 'Noun'), ('가', 'Josa'), ('심각해도', 'Adjective'), ('고쳐지지', 'Verb'), ('않는', 'Verb'), ('다는', 'Verb'), ('현실', 'Noun'), ('에서', 'Josa'), ('‘', 'Foreign'), ('그린', 'Noun'), ('북', 'Noun'), ('’', 'Punctuation'), ('은', 'Noun'), ('흑인', 'Noun'), ('들', 'Suffix'), ('의', 'Josa'), ('남부', 'Noun'), ('생존', 'Noun'), ('기', 'Noun'), ('가', 'Josa'), ('아닌', 'Adjective'), ('인종', 'Noun'), ('을', 'Josa'), ('초월', 'Noun'), ('한', 'Josa'), ('아름다운', 'Adjective'), ('우정', 'Noun'), ('기', 'Noun'), ('가', 'Josa'), ('되었으며', 'Verb'), ('인생', 'Noun'), ('에서', 'Josa'), ('평생', 'Noun'), ('의', 'Josa'), ('친구', 'Noun'), ('를', 'Josa'), ('얻은', 'Verb'), ('둘', 'Noun'), ('의', 'Josa'), ('모습', 'Noun'), ('이', 'Josa'), ('인생', 'Noun'), ('의', 'Josa'), ('아름다', 'Adjective'), ('움', 'Noun'), ('을', 'Josa'), ('장식', 'Noun'), ('한다고', 'Verb'), ('밖에', 'Josa'), ('할', 'Verb'), ('말', 'Noun'), ('이', 'Josa'), ('없다', 'Adjective'), ('.', 'Punctuation'), ('more', 'Alpha'), ('인종차별', 'Noun'), ('을', 'Josa'), ('꽤', 'Noun'), ('나', 'Josa'), ('유쾌하게', 'Adjective'), ('그려내는', 'Verb'), ('수작', 'Noun')]\n",
      "---------- 0.6124815940856934 seconds ----------\n"
     ]
    }
   ],
   "source": [
    "# 코드 출처: https://m.blog.naver.com/vangarang/221066229238\n",
    "\n",
    "start_time = time.time()\n",
    "\n",
    "txt = greenbook_str\n",
    "\n",
    "okt = Okt()\n",
    "\n",
    "print(\"-\"*10, \"형태소 분석 결과\", \"-\"*10)\n",
    "\n",
    "try:\n",
    "    print(tagger.pos(txt))    # 품사 태깅\n",
    "#     print(tagger.morphs(example)) # 형태소만 추출\n",
    "#     print(okt.nouns(txt))  # 명사 추출\n",
    "    \n",
    "except Exception as e:\n",
    "    print(e)\n",
    "\n",
    "print(\"---------- %s seconds ----------\" % (time.time() - start_time))"
   ]
  },
  {
   "cell_type": "code",
   "execution_count": 216,
   "metadata": {
    "scrolled": true
   },
   "outputs": [
    {
     "name": "stdout",
     "output_type": "stream",
     "text": [
      "[(('을', 'Josa'), 46), (('이', 'Josa'), 43), (('하다', 'Verb'), 42), (('의', 'Josa'), 36), (('.', 'Punctuation'), 30), (('를', 'Josa'), 29), (('에서', 'Josa'), 23), (('에', 'Josa'), 23), (('들', 'Suffix'), 23), (('가', 'Josa'), 21), (('있다', 'Adjective'), 19), (('은', 'Josa'), 19), (('돈', 'Noun'), 17), (('토니', 'Noun'), 17), (('적', 'Suffix'), 15), (('흑인', 'Noun'), 15), (('으로', 'Josa'), 14), (('과', 'Josa'), 14), (('는', 'Josa'), 13), (('남부', 'Noun'), 12), ((',', 'Punctuation'), 11), (('아니다', 'Adjective'), 10), (('사람', 'Noun'), 10), (('되다', 'Verb'), 10), (('(', 'Punctuation'), 9), (('하고', 'Josa'), 9), ((')', 'Punctuation'), 9), (('우정', 'Noun'), 8), (('보다', 'Verb'), 8), (('같다', 'Adjective'), 8), (('인', 'Josa'), 8), (('작품', 'Noun'), 7), (('이', 'Noun'), 7), (('없다', 'Adjective'), 7), (('에게', 'Josa'), 7), (('이다', 'Josa'), 7), (('한', 'Josa'), 7), (('영화', 'Noun'), 6), (('백인', 'Noun'), 6), (('와', 'Josa'), 6), (('인종차별', 'Noun'), 6), (('편견', 'Noun'), 6), (('이탈리아', 'Noun'), 6), (('로', 'Josa'), 6), (('출신', 'Noun'), 6), (('받다', 'Verb'), 5), (('인종', 'Noun'), 5), (('주다', 'Verb'), 5), (('친구', 'Noun'), 5), (('도', 'Josa'), 5), (('생각', 'Noun'), 5), (('통해', 'Noun'), 5), (('미국', 'Noun'), 5), (('알다', 'Verb'), 5), (('셜리', 'Noun'), 5), (('다혈질', 'Noun'), 5), (('그러나', 'Conjunction'), 5), (('때', 'Noun'), 5), (('관계', 'Noun'), 5), (('서로', 'Noun'), 4), (('수', 'Noun'), 4), (('more', 'Alpha'), 4), (('이고', 'Josa'), 4), (('이다', 'Verb'), 4), (('차별', 'Noun'), 4), (('게', 'Josa'), 4), (('경우', 'Noun'), 4), (('특히', 'Adverb'), 4), (('그', 'Noun'), 4), (('연주', 'Noun'), 4), (('모습', 'Noun'), 4), (('주먹', 'Noun'), 4), (('가다', 'Verb'), 4), (('두', 'Noun'), 4), (('걸', 'Noun'), 4), (('생활', 'Noun'), 3), (('것', 'Noun'), 3), (('감동', 'Noun'), 3), (('!', 'Punctuation'), 3), (('1960년', 'Number'), 3), (('대', 'Foreign'), 3), (('크다', 'Verb'), 3), (('점', 'Noun'), 3), (('알', 'Noun'), 3), (('감독', 'Noun'), 3), (('맞다', 'Verb'), 3), (('느낌', 'Noun'), 3), (('들다', 'Verb'), 3), (('기도', 'Noun'), 3), (('너무', 'Adverb'), 3), (('요', 'Noun'), 3), (('능력', 'Noun'), 3), (('말', 'Noun'), 3), (('이라는', 'Josa'), 3), (('에도', 'Josa'), 3), (('북부', 'Noun'), 3), (('사건', 'Noun'), 3), (('못', 'VerbPrefix'), 3), (('교양', 'Noun'), 3), (('일으키다', 'Verb'), 3), (('이자', 'Noun'), 3), (('세계', 'Noun'), 3), (('전', 'Noun'), 3), (('자신', 'Noun'), 3), (('돌로레스', 'Noun'), 3), (('않다', 'Verb'), 3), (('여행', 'Noun'), 3), (('게', 'Noun'), 3), (('온갖', 'Noun'), 3), (('더', 'Noun'), 3), (('둘', 'Noun'), 3), (('틀', 'Noun'), 3), (('깨다', 'Verb'), 3), (('인생', 'Noun'), 3), (('다르다', 'Adjective'), 2), (('오다', 'Verb'), 2), (('남자', 'Noun'), 2), (('..', 'Punctuation'), 2), (('상당하다', 'Adjective'), 2), (('상', 'Suffix'), 2), (('이기다', 'Verb'), 2), (('보고', 'Noun'), 2), (('간의', 'Noun'), 2), (('진정하다', 'Adjective'), 2), (('되어다', 'Verb'), 2), (('반', 'Noun'), 2), (('무비', 'Noun'), 2), (('이렇다', 'Adjective'), 2), (('배우', 'Noun'), 2), (('조금', 'Noun'), 2), (('그린북', 'Noun'), 2), (('차다', 'Verb'), 2), (('유쾌하다', 'Adjective'), 2), (('라는', 'Josa'), 2), (('공간', 'Noun'), 2), (('개인', 'Noun'), 2), (('보여주다', 'Verb'), 2), (('좋다', 'Adjective'), 2), (('다', 'Adverb'), 2), (('이슈', 'Noun'), 2), (('만', 'Josa'), 2), (('부분', 'Noun'), 2), (('물론', 'Adverb'), 2), (('그리고', 'Conjunction'), 2), (('보편', 'Noun'), 2), (('정도', 'Noun'), 2), (('이유', 'Noun'), 2), (('\"', 'Punctuation'), 2), (('에서도', 'Josa'), 2), (('모르다', 'Verb'), 2), (('에겐', 'Josa'), 2), (('바', 'Noun'), 2), (('멸시', 'Noun'), 2), (('당연하다', 'Adjective'), 2), (('현재', 'Noun'), 2), (('인상', 'Noun'), 2), (('시선', 'Noun'), 2), (('늘다', 'Verb'), 2), (('클래식', 'Noun'), 2), (('전혀', 'Noun'), 2), (('실력', 'Noun'), 2), (('부', 'Noun'), 2), (('고', 'Josa'), 2), (('이민자', 'Noun'), 2), (('사고', 'Noun'), 2), (('답', 'Noun'), 2), (('부터', 'Josa'), 2), (('중', 'Noun'), 2), (('이라고', 'Josa'), 2), (('로서', 'Noun'), 2), (('아내', 'Noun'), 2), (('위해', 'Noun'), 2), (('지식', 'Noun'), 2), (('과정', 'Noun'), 2), (('에서만', 'Josa'), 2), (('말다', 'Verb'), 2), (('고용', 'Noun'), 2), (('고고', 'Noun'), 2), (('결벽증', 'Noun'), 2), (('첫', 'Noun'), 2), (('또한', 'Noun'), 2), (('세상', 'Noun'), 2), (('못', 'Noun'), 2), (('연기', 'Noun'), 2), (('투어', 'Noun'), 2), (('지다', 'Verb'), 2), (('일방', 'Noun'), 2), (('쌍', 'Noun'), 2), (('방향', 'Noun'), 2), (('초월', 'Noun'), 2), (('은', 'Noun'), 2), (('배우다', 'Verb'), 2), (('얻다', 'Verb'), 2), (('이며', 'Josa'), 2), (('기', 'Noun'), 2), (('아름답다', 'Adjective'), 2), (('함께', 'Adverb'), 1), (('대화', 'Noun'), 1), (('만으로도', 'Josa'), 1), (('받아들이다', 'Verb'), 1), (('소중하다', 'Adjective'), 1), (('경험', 'Noun'), 1), (('고통', 'Noun'), 1), (('이해', 'Noun'), 1), (('두', 'Determiner'), 1), (('ㅎㅎ', 'KoreanParticle'), 1), (('넘치다', 'Adjective'), 1), (('실화', 'Noun'), 1), (('제', 'Noun'), 1), (('91회', 'Number'), 1), (('오스카', 'Noun'), 1), (('어워즈', 'Noun'), 1), (('최우수', 'Noun'), 1), (('수상한', 'Noun'), 1), (('나서다', 'Verb'), 1), (('도전', 'Noun'), 1), (('무엇', 'Noun'), 1), (('보다', 'Josa'), 1), (('흑백', 'Noun'), 1), (('극심하다', 'Adjective'), 1), (('시기', 'Noun'), 1), (('운전사', 'Noun'), 1), (('뮤지션', 'Noun'), 1), (('뛰어넘다', 'Verb'), 1), (('제일', 'Noun'), 1), (('평화', 'Noun'), 1), (('의미', 'Noun'), 1), (('크게', 'Noun'), 1), (('강', 'Noun'), 1), (('추하다', 'Adjective'), 1), (('별', 'Noun'), 1), (('4', 'Number'), 1), (('개', 'Noun'), 1), (('드리다', 'Verb'), 1), (('!!', 'Punctuation'), 1), (('개꿀잼', 'Noun'), 1), (('버디', 'Noun'), 1), (('원래', 'Noun'), 1), (('대해', 'Noun'), 1), (('풀다', 'Verb'), 1), (('좋아하다', 'Adjective'), 1), (('매체', 'Noun'), 1), (('순', 'Modifier'), 1), (('기능', 'Noun'), 1), (('이기도', 'Josa'), 1), (('최근', 'Noun'), 1), (('조지', 'Noun'), 1), (('클루니', 'Noun'), 1), (('!)', 'Punctuation'), 1), (('의', 'Noun'), 1), (('서버', 'Noun'), 1), (('비콘', 'Noun'), 1), (('억지', 'Noun'), 1), (('PC', 'Alpha'), 1), (('들어서다', 'Verb'), 1), (('별로', 'Noun'), 1), (('일단', 'Noun'), 1), (('로드무비', 'Noun'), 1), (('형식', 'Noun'), 1), (('맘', 'Noun'), 1), (('차라', 'Noun'), 1), (('좁다', 'Adjective'), 1), (('티격태격', 'Noun'), 1), (('재미있다', 'Adjective'), 1), (('이랑', 'Josa'), 1), (('여행가', 'Noun'), 1), (('없어지다', 'Verb'), 1), (('?', 'Punctuation'), 1), (('그래서', 'Adverb'), 1), (('싸우다', 'Verb'), 1), (('가까워지다', 'Verb'), 1), (('다른', 'Noun'), 1), (('2', 'Number'), 1), (('인의', 'Noun'), 1), (('대비', 'Noun'), 1), (('도구', 'Noun'), 1), (('피자', 'Noun'), 1), (('장면', 'Noun'), 1), (('극장', 'Noun'), 1), (('빵터지다', 'Adjective'), 1), (('쪽팔리다', 'Verb'), 1), (('근데', 'Adverb'), 1), (('저', 'Noun'), 1), (('보랩', 'Noun'), 1), (('아무', 'Noun'), 1), (('없이', 'Adverb'), 1), (('동성애자', 'Noun'), 1), (('설정', 'Noun'), 1), (('그냥', 'Noun'), 1), (('요소', 'Noun'), 1), (('때리다', 'Verb'), 1), (('박아', 'Noun'), 1), (('넣다', 'Verb'), 1), (('이라서', 'Josa'), 1), (('이냐', 'Josa'), 1), (('마지막', 'Noun'), 1), (('펍씬', 'Noun'), 1), (('오해', 'Noun'), 1), (('이지만', 'Josa'), 1), (('성차별', 'Noun'), 1), (('반대', 'Noun'), 1), (('기반', 'Noun'), 1), (('.(', 'Punctuation'), 1), (('무한', 'Noun'), 1), (('히', 'Adverb'), 1), (('만인', 'Noun'), 1), (('평등하다', 'Adjective'), 1), (('ㅠ', 'KoreanParticle'), 1), (('어디', 'Noun'), 1), (('까지나', 'Josa'), 1), (('성별', 'Noun'), 1), (('등', 'Noun'), 1), (('색안경', 'Noun'), 1), (('때문', 'Noun'), 1), (('놓치다', 'Verb'), 1), (('자', 'Suffix'), 1), (('이다', 'Adjective'), 1), (('재밌다', 'Adjective'), 1), (('포인트', 'Noun'), 1), (('주인공', 'Noun'), 1), (('인데', 'Josa'), 1), (('내', 'Noun'), 1), (('주류', 'Noun'), 1), (('세력', 'Noun'), 1), (('WASP', 'Alpha'), 1), (('영국', 'Noun'), 1), (('독일', 'Noun'), 1), (('계', 'Suffix'), 1), (('앵글', 'Noun'), 1), (('섹슨', 'Noun'), 1), (('경찰', 'Noun'), 1), (('너', 'Noun'), 1), (('이구나', 'Josa'), 1), (('독특하다', 'Adjective'), 1), (('평소', 'Noun'), 1), (('백', 'Modifier'), 1), (('인내', 'Noun'), 1), (('슬라브', 'Noun'), 1), (('라틴', 'Noun'), 1), (('국적', 'Noun'), 1), (('으로는', 'Josa'), 1), (('폴란드', 'Noun'), 1), (('러시아', 'Noun'), 1), (('그리스', 'Noun'), 1), (('쪽', 'Noun'), 1), (('좀', 'Noun'), 1), (('부정', 'Noun'), 1), (('많이', 'Adverb'), 1), (('니', 'Modifier'), 1), (('네', 'Noun'), 1), (('자유롭다', 'Adjective'), 1), (('경고', 'Noun'), 1), (('P', 'Alpha'), 1), (('S', 'Alpha'), 1), (('...', 'Punctuation'), 1), (('채', 'Noun'), 1), (('다행', 'Noun'), 1), (('이네', 'Josa'), 1), (('생각나다', 'Verb'), 1), (('암흑', 'Noun'), 1), (('노예제', 'Noun'), 1), (('폐지', 'Noun'), 1), (('불구', 'Noun'), 1), (('여전하다', 'Adjective'), 1), (('노예', 'Noun'), 1), (('그렇다고', 'Conjunction'), 1), (('만큼은', 'Josa'), 1), (('벗어나다', 'Verb'), 1), (('거의', 'Noun'), 1), (('트럼프', 'Noun'), 1), (('집권', 'Noun'), 1), (('왕왕', 'Noun'), 1), (('벌어지다', 'Verb'), 1), (('짙다', 'Adjective'), 1), (('아직', 'Adverb'), 1), (('까지', 'Josa'), 1), (('범죄자', 'Noun'), 1), (('하층', 'Noun'), 1), (('민', 'Noun'), 1), (('농후', 'Noun'), 1), (('증거', 'Noun'), 1), (('다', 'Josa'), 1), (('전', 'Modifier'), 1), (('제', 'Modifier'), 1), (('조건', 'Noun'), 1), (('하', 'Suffix'), 1), (('마허샬리', 'Noun'), 1), (('알리', 'Noun'), 1), (('피아니스트', 'Noun'), 1), (('당시', 'Noun'), 1), (('일반', 'Noun'), 1), (('누리', 'Noun'), 1), (('지', 'Josa'), 1), (('부와', 'Noun'), 1), (('명예', 'Noun'), 1), (('누리다', 'Verb'), 1), (('노력', 'Noun'), 1), (('피아노', 'Noun'), 1), (('학력', 'Noun'), 1), (('자수', 'Noun'), 1), (('성가', 'Noun'), 1), (('카네기', 'Noun'), 1), (('홀', 'Noun'), 1), (('상층', 'Noun'), 1), (('인도', 'Noun'), 1), (('집사', 'Noun'), 1), (('보살피다', 'Verb'), 1), (('박사', 'Noun'), 1), (('학위', 'Noun'), 1), (('일종', 'Noun'), 1), (('왕', 'Noun'), 1), (('뉴욕', 'Noun'), 1), (('살', 'Noun'), 1), (('비고', 'Noun'), 1), (('모텐슨', 'Noun'), 1), (('나이트클럽', 'Noun'), 1), (('말썽', 'Noun'), 1), (('해결', 'Noun'), 1), (('해결사', 'Noun'), 1), (('이라', 'Josa'), 1), (('분쟁', 'Noun'), 1), (('생기', 'Noun'), 1), (('면', 'Josa'), 1), (('나가다', 'Verb'), 1), (('주변', 'Noun'), 1), (('가족', 'Noun'), 1), (('마피아', 'Noun'), 1), (('득실득실', 'Adverb'), 1), (('대다', 'Verb'), 1), (('필요하다', 'Adjective'), 1), (('찾아오다', 'Verb'), 1), (('일', 'Noun'), 1), (('맡다', 'Verb'), 1), (('하지만', 'Conjunction'), 1), (('해도', 'Noun'), 1), (('아주', 'Noun'), 1), (('차이점', 'Noun'), 1), (('결혼', 'Noun'), 1), (('에는', 'Josa'), 1), (('기', 'Modifier'), 1), (('혼자', 'Noun'), 1), (('린다', 'Noun'), 1), (('카', 'Noun'), 1), (('델리', 'Noun'), 1), (('니', 'Josa'), 1), (('아이', 'Noun'), 1), (('만', 'Modifier'), 1), (('지지', 'Noun'), 1), (('철칙', 'Noun'), 1), (('당대', 'Noun'), 1), (('어렵다', 'Adjective'), 1), (('품위', 'Noun'), 1), (('슈퍼', 'Noun'), 1), (('엘리트', 'Noun'), 1), (('사내', 'Noun'), 1), (('조합', 'Noun'), 1), (('여타', 'Noun'), 1), (('처럼', 'Josa'), 1), (('처음', 'Noun'), 1), (('엔', 'Josa'), 1), (('불협화음', 'Noun'), 1), (('갈등', 'Noun'), 1), (('가지다', 'Verb'), 1), (('고정관념', 'Noun'), 1), (('눈', 'Noun'), 1), (('녹다', 'Verb'), 1), (('녹이다', 'Verb'), 1), (('매력', 'Noun'), 1), (('으로서', 'Josa'), 1), (('연주회', 'Noun'), 1), (('굳이', 'Noun'), 1), (('비참하다', 'Adjective'), 1), (('갈다', 'Verb'), 1), (('기어', 'Noun'), 1), (('코', 'Noun'), 1), (('문제해결', 'Noun'), 1), (('력', 'Suffix'), 1), (('만나다', 'Verb'), 1), (('집', 'Noun'), 1), (('배관', 'Noun'), 1), (('공', 'Noun'), 1), (('물', 'Noun'), 1), (('컵', 'Noun'), 1), (('버리다', 'Verb'), 1), (('가득', 'Noun'), 1), (('찬', 'Noun'), 1), (('운전기사', 'Noun'), 1), (('깨끗하다', 'Adjective'), 1), (('직설', 'Noun'), 1), (('내뱉다', 'Verb'), 1), (('정확하다', 'Adjective'), 1), (('영어', 'Noun'), 1), (('발음', 'Noun'), 1), (('비속어', 'Noun'), 1), (('쏟아내다', 'Verb'), 1), (('전반', 'Noun'), 1), (('머리', 'Noun'), 1), (('모양새', 'Noun'), 1), (('에게는', 'Josa'), 1), (('불편하다', 'Adjective'), 1), (('보이다', 'Verb'), 1), (('심하다', 'Adjective'), 1), (('추구', 'Noun'), 1), (('험하다', 'Adjective'), 1), (('꼴', 'Noun'), 1), (('보지', 'Noun'), 1), (('샌님', 'Noun'), 1), (('불만', 'Noun'), 1), (('대조', 'Noun'), 1), (('극단', 'Noun'), 1), (('성향', 'Noun'), 1), (('변화', 'Noun'), 1), (('로드', 'Noun'), 1), (('정석', 'Noun'), 1), (('대로', 'Josa'), 1), (('아우르다', 'Verb'), 1), (('내공', 'Noun'), 1), (('선사', 'Noun'), 1), (('한다는', 'Modifier'), 1), (('전제', 'Noun'), 1), (('진행', 'Noun'), 1), (('에서의', 'Josa'), 1), (('선보이다', 'Verb'), 1), (('예사', 'Noun'), 1), (('인물', 'Noun'), 1), (('부유', 'Noun'), 1), (('층', 'Noun'), 1), (('실내', 'Noun'), 1), (('멋', 'Noun'), 1), (('화려하다', 'Adjective'), 1), (('뽐내다', 'Verb'), 1), (('연주자', 'Noun'), 1), (('대접', 'Noun'), 1), (('무대', 'Noun'), 1), (('내려오다', 'Verb'), 1), (('화장실', 'Noun'), 1), (('식당', 'Noun'), 1), (('양품', 'Noun'), 1), (('이르다', 'Verb'), 1), (('지켜보다', 'Verb'), 1), (('고집', 'Noun'), 1), (('스런', 'Josa'), 1), (('학대', 'Noun'), 1), (('잘', 'VerbPrefix'), 1), (('돼다', 'Verb'), 1), (('깨닫다', 'Verb'), 1), (('으로부터', 'Josa'), 1), (('점점', 'Noun'), 1), (('거리', 'Noun'), 1), (('두다', 'Verb'), 1), (('어느', 'Adverb'), 1), (('한잔', 'Noun'), 1), (('호', 'Noun'), 1), (('되게', 'Adverb'), 1), (('적', 'Noun'), 1), (('성격', 'Noun'), 1), (('잠시', 'Noun'), 1), (('잠재우다', 'Verb'), 1), (('총', 'Noun'), 1), (('척', 'Noun'), 1), (('아무리', 'Adverb'), 1), (('발생', 'Noun'), 1), (('문제', 'Noun'), 1), (('이상', 'Noun'), 1), (('확대', 'Noun'), 1), (('재생산', 'Noun'), 1), (('유연하다', 'Adjective'), 1), (('지니', 'Noun'), 1), (('당하다', 'Adjective'), 1), (('위기', 'Noun'), 1), (('처', 'Noun'), 1), (('마다', 'Josa'), 1), (('구', 'Noun'), 1), (('해주다', 'Verb'), 1), (('도움', 'Noun'), 1), (('학생', 'Noun'), 1), (('다루다', 'Verb'), 1), (('계몽', 'Noun'), 1), (('시키다', 'Verb'), 1), (('지시', 'Noun'), 1), (('쓰다', 'Verb'), 1), (('편지', 'Noun'), 1), (('직접', 'Noun'), 1), (('교정', 'Noun'), 1), (('문학', 'Noun'), 1), (('기교', 'Noun'), 1), (('미사여구', 'Noun'), 1), (('첨가', 'Noun'), 1), (('주자', 'Noun'), 1), (('돈독하다', 'Adjective'), 1), (('부부', 'Noun'), 1), (('금슬', 'Noun'), 1), (('나아지다', 'Verb'), 1), (('효과', 'Noun'), 1), (('차', 'Noun'), 1), (('안', 'Noun'), 1), (('켄터키', 'Noun'), 1), (('주', 'Noun'), 1), (('진입', 'Noun'), 1), (('권유', 'Noun'), 1), (('맨손', 'Noun'), 1), (('닭', 'Noun'), 1), (('먹다', 'Verb'), 1), (('살아오다', 'Verb'), 1), (('삶', 'Noun'), 1), (('흔적', 'Noun'), 1), (('발', 'Noun'), 1), (('들여놓다', 'Verb'), 1), (('순간', 'Noun'), 1), (('점차', 'Noun'), 1), (('동화', 'Noun'), 1), (('소통', 'Noun'), 1), (('놓이다', 'Verb'), 1), (('단순하다', 'Adjective'), 1), (('신분', 'Noun'), 1), (('계층', 'Noun'), 1), (('쌓다', 'Verb'), 1), (('편안하다', 'Adjective'), 1), (('영위', 'Noun'), 1), (('정체', 'Noun'), 1), (('성', 'Suffix'), 1), (('택', 'Noun'), 1), (('동료', 'Noun'), 1), (('첼리스트', 'Noun'), 1), (('올', 'Modifier'), 1), (('렉', 'Noun'), 1), (('디', 'Noun'), 1), (('미터', 'Suffix'), 1), (('D', 'Alpha'), 1), (('마리', 'Noun'), 1), (('노프', 'Noun'), 1), (('후반', 'Noun'), 1), (('부의', 'Noun'), 1), (('그게', 'Noun'), 1), (('용기', 'Noun'), 1), (('시도', 'Noun'), 1), (('나오다', 'Verb'), 1), (('주연', 'Noun'), 1), (('서', 'Josa'), 1), (('겪다', 'Verb'), 1), (('힘들다', 'Adjective'), 1), (('넓히다', 'Verb'), 1), (('가치', 'Noun'), 1), (('건', 'Noun'), 1), (('동서', 'Noun'), 1), (('고금', 'Noun'), 1), (('남녀', 'Noun'), 1), (('노소', 'Noun'), 1), (('불문', 'Noun'), 1), (('정상', 'Noun'), 1), (('상식', 'Noun'), 1), (('대부분', 'Noun'), 1), (('이기', 'Noun'), 1), (('일쑤', 'Noun'), 1), (('부작용', 'Noun'), 1), (('폐해', 'Noun'), 1), (('심각하다', 'Adjective'), 1), (('고치다', 'Verb'), 1), (('달다', 'Verb'), 1), (('현실', 'Noun'), 1), (('‘', 'Foreign'), 1), (('그린', 'Noun'), 1), (('북', 'Noun'), 1), (('’', 'Punctuation'), 1), (('생존', 'Noun'), 1), (('평생', 'Noun'), 1), (('움', 'Noun'), 1), (('장식', 'Noun'), 1), (('밖에', 'Josa'), 1), (('꽤', 'Noun'), 1), (('나', 'Josa'), 1), (('그리다', 'Verb'), 1), (('수작', 'Noun'), 1)]\n"
     ]
    }
   ],
   "source": [
    "stemmed = okt.pos(phrase = txt, norm=True, stem=True)\n",
    "not_stemmed = okt.pos(phrase = txt, norm=False, stem=False)\n",
    "\n",
    "print(Counter(stemmed).most_common())"
   ]
  },
  {
   "cell_type": "code",
   "execution_count": 81,
   "metadata": {},
   "outputs": [
    {
     "data": {
      "text/plain": [
       "['영화',\n",
       " '영화 기생충',\n",
       " '어떤 평론가',\n",
       " '어떤 평론가의 말',\n",
       " '생각',\n",
       " '생각해낸 리뷰로서',\n",
       " '생각해낸 리뷰로서 기생충',\n",
       " '사회적 메세지',\n",
       " '대한',\n",
       " '대한 소소한 생각',\n",
       " '기생충',\n",
       " '깐느영화제',\n",
       " '깐느영화제 최고상',\n",
       " '수상했다는 소식',\n",
       " '국내개봉',\n",
       " '국내개봉 첫날',\n",
       " '국내개봉 첫날 열일',\n",
       " '일찍',\n",
       " '일찍 영화',\n",
       " '첫날',\n",
       " '진짜',\n",
       " '진짜 기대감',\n",
       " '진짜 기대감 만땅',\n",
       " '보고',\n",
       " '보고 난후',\n",
       " '보고 난후의 느낌',\n",
       " '깐느상',\n",
       " '거머',\n",
       " '전혀',\n",
       " '전혀 손색',\n",
       " '그 이후',\n",
       " '그 이후 여러',\n",
       " '그 이후 여러 매체',\n",
       " '연속',\n",
       " '어제',\n",
       " '어제 다시',\n",
       " '어제 다시 신랑',\n",
       " '어제 다시 신랑과 티비',\n",
       " '통해',\n",
       " '두번째',\n",
       " '긴장',\n",
       " '긴장된 상태',\n",
       " '덜 몰입',\n",
       " '두번째 볼때',\n",
       " '감정이입',\n",
       " '지하',\n",
       " '문광',\n",
       " '문광 부부',\n",
       " '문광 부부의 처참한 몰골씬',\n",
       " '슬픔',\n",
       " '눈물',\n",
       " '눈물과 키득거리는 웃음',\n",
       " '뒤엉킨채',\n",
       " '그런 영화',\n",
       " '웃음',\n",
       " '웃음 80',\n",
       " '눈물 20',\n",
       " '눈물 20 이',\n",
       " '더 큰 감동',\n",
       " '더해진 보기',\n",
       " '더해진 보기드문 수작',\n",
       " '아주',\n",
       " '아주 잘 만들어진 블랙코미디',\n",
       " '공포',\n",
       " '공포와 웃음',\n",
       " '바로',\n",
       " '바로 인',\n",
       " '바로 인 현실',\n",
       " '적나라한 묘사이기',\n",
       " '영화자체',\n",
       " '픽션',\n",
       " '그럴듯한 픽션이자',\n",
       " '리얼리스틱',\n",
       " '따름',\n",
       " '처음',\n",
       " '처음 영화',\n",
       " '때의 느낌',\n",
       " '바로 글자그대로',\n",
       " '경이로움',\n",
       " '자체',\n",
       " '채 대저택',\n",
       " '도착',\n",
       " '비디오폰',\n",
       " '대화',\n",
       " '장면',\n",
       " '정말',\n",
       " '정말 입',\n",
       " '움의 연속',\n",
       " '봉준호',\n",
       " '봉준호의 상상력',\n",
       " '바로 이',\n",
       " '바로 이 지점부터',\n",
       " '여기',\n",
       " '부터',\n",
       " '부터 지하실',\n",
       " '부터 지하실 시퀀스',\n",
       " '이 부분',\n",
       " '밋밋한 한편',\n",
       " '밋밋한 한편의 코미디',\n",
       " '우리',\n",
       " '단 하나',\n",
       " '단 하나의 분명한 메세지',\n",
       " '사람',\n",
       " '윤리',\n",
       " '도덕',\n",
       " '초등학교',\n",
       " '그런 개념',\n",
       " '난 그것',\n",
       " '좀 더 확장',\n",
       " '좀 더 확장된 개념',\n",
       " '그것',\n",
       " '어떤 현상',\n",
       " '사물',\n",
       " '걸맞는 자리',\n",
       " '야함을 알',\n",
       " '한다는',\n",
       " '한다는 개념',\n",
       " '계층',\n",
       " '계층같은것을 초월',\n",
       " '계층같은것을 초월하는 개념',\n",
       " '인간',\n",
       " '대한 어떤 최소한',\n",
       " '대한 어떤 최소한의 예의',\n",
       " '출발',\n",
       " '이 영화',\n",
       " '바로 그런 윤리성',\n",
       " '대해',\n",
       " '양심',\n",
       " '무방',\n",
       " '게다가',\n",
       " '게다가 영화',\n",
       " '바퀴벌레',\n",
       " '상징물',\n",
       " '존재',\n",
       " '기우',\n",
       " '기우의 곁',\n",
       " '늘 맴도',\n",
       " '수석',\n",
       " '의 존재',\n",
       " '등장인물들',\n",
       " '등장인물들의 대사',\n",
       " '통해서도',\n",
       " '통해서도 암시',\n",
       " '기택',\n",
       " '틈틈이',\n",
       " '이란',\n",
       " '이란 대사',\n",
       " '사람들',\n",
       " '영화의 메세지',\n",
       " '대한 힌트로서',\n",
       " '대한 힌트로서 작용하',\n",
       " '자꾸',\n",
       " '그자체',\n",
       " '어느정도',\n",
       " '어느정도 스포일러화',\n",
       " '어느정도 스포일러화되는 느낌',\n",
       " '이 수석',\n",
       " '의 상징물',\n",
       " '예술작품',\n",
       " '대저택',\n",
       " '대체',\n",
       " '대체되는 오브제',\n",
       " '기택의 집',\n",
       " '이것',\n",
       " '아름다운사람',\n",
       " '아름다운사람의 손',\n",
       " '마치',\n",
       " '마치 돼지목',\n",
       " '진주목걸이',\n",
       " '같은 상황',\n",
       " '사용',\n",
       " '사용하는 사람',\n",
       " '그 가치',\n",
       " '가치',\n",
       " '오히려',\n",
       " '오히려 훼손',\n",
       " '음의 상징',\n",
       " '의 여정',\n",
       " '그것의 기택',\n",
       " '그것의 기택의 집',\n",
       " '귀중한 선물',\n",
       " '호우',\n",
       " '똥물이',\n",
       " '기택 집안',\n",
       " '다시',\n",
       " '다시 그것',\n",
       " '기우의 손',\n",
       " '지하실',\n",
       " '지하실의 남자',\n",
       " '지하실의 남자의 손',\n",
       " '무기',\n",
       " '마지막',\n",
       " '모든',\n",
       " '모든 광풍',\n",
       " '끝난후',\n",
       " '은 기우',\n",
       " '은 기우의 손',\n",
       " '원래',\n",
       " '원래 있었던 장소',\n",
       " '냇가',\n",
       " '로 거처',\n",
       " '이 사물',\n",
       " '단순한 물건',\n",
       " '굉장한 상징성',\n",
       " '오브제',\n",
       " '로서',\n",
       " '로서 기능',\n",
       " '이건',\n",
       " '이건 주제',\n",
       " '관통',\n",
       " '속된 말로',\n",
       " '돼지목',\n",
       " '를 걸지말라는 말',\n",
       " '싸구려',\n",
       " '싸구려 인스턴트식품',\n",
       " '한우',\n",
       " '우스꽝스런 행위',\n",
       " '누가',\n",
       " '누가 이',\n",
       " '누가 이 끔찍한 현실',\n",
       " '돼지',\n",
       " '진주목걸이의 주인공',\n",
       " '최소한',\n",
       " '그런면',\n",
       " '가정부',\n",
       " '힘든일',\n",
       " '온 문광',\n",
       " '온 문광과 지하실',\n",
       " '칩거',\n",
       " '칩거했던 그',\n",
       " '칩거했던 그의 남편',\n",
       " '칩거했던 그의 남편 근세',\n",
       " '가장',\n",
       " '가장 우리',\n",
       " '야할 인물',\n",
       " '왜냐면',\n",
       " '왜냐면 문광',\n",
       " '자기',\n",
       " '사서',\n",
       " '사서 근세',\n",
       " '근세',\n",
       " '절대',\n",
       " '절대 자신',\n",
       " '절대 자신의 존재',\n",
       " '저택',\n",
       " '저택의 주인들',\n",
       " '바랬기',\n",
       " '때문',\n",
       " '영화적 과장',\n",
       " '문광과 근세',\n",
       " '문광과 근세의 존재',\n",
       " '지금',\n",
       " '지금 imf',\n",
       " '지금 imf 이후',\n",
       " '있는 많은 서민들',\n",
       " '대변',\n",
       " '있는 듯',\n",
       " '느낌',\n",
       " '기택의 가족',\n",
       " '이들',\n",
       " '범죄자',\n",
       " '범죄자의 모습',\n",
       " '대부분',\n",
       " '대부분의 시간',\n",
       " '가끔',\n",
       " '가끔 위로',\n",
       " '하나',\n",
       " '하나의 예술작품',\n",
       " '감상',\n",
       " '감상하는 문광부부와',\n",
       " '감상하는 문광부부와 치밀한 사기적',\n",
       " '계획하',\n",
       " '가택',\n",
       " '침입',\n",
       " '술파티',\n",
       " '기택네',\n",
       " '누가 대저택',\n",
       " '자격',\n",
       " '기택가족',\n",
       " '분명',\n",
       " '분명 진주목걸이',\n",
       " '왜냐면 그들',\n",
       " '윤리성과',\n",
       " '윤리성과 양심',\n",
       " '망각',\n",
       " '같은 불쌍한 사람',\n",
       " '끼리',\n",
       " '끼리의 측은지심',\n",
       " '그들',\n",
       " '월급',\n",
       " '대한 예의',\n",
       " '존재이기때문',\n",
       " '후반부',\n",
       " '크게',\n",
       " '지하실과 반지하',\n",
       " '상층',\n",
       " '구조화',\n",
       " '구조화된 영화',\n",
       " '구조화된 영화의 배경',\n",
       " '통해 그런 사회구조속',\n",
       " '이 세가족',\n",
       " '이 세가족 모두',\n",
       " '은 어느정도',\n",
       " '은 어느정도 희생당',\n",
       " '마는',\n",
       " '마는 구조',\n",
       " '현실이기',\n",
       " '현실이기 때문',\n",
       " '거기',\n",
       " '가장 불쌍한 사람',\n",
       " '누구',\n",
       " '구조',\n",
       " '문제라면',\n",
       " '문제라면 구조',\n",
       " '무엇',\n",
       " '개개인',\n",
       " '어떤 가치관속',\n",
       " '서로',\n",
       " '증오심의',\n",
       " '증오심의 사회',\n",
       " '증오',\n",
       " '평화로운 공존',\n",
       " '현시대',\n",
       " '있는 우리',\n",
       " '하나의 과제로서',\n",
       " 'more',\n",
       " '평론가',\n",
       " '리뷰',\n",
       " '메세지',\n",
       " '최고상',\n",
       " '소식',\n",
       " '국내',\n",
       " '개봉',\n",
       " '열일',\n",
       " '기대감',\n",
       " '만땅',\n",
       " '난후',\n",
       " '손색',\n",
       " '이후',\n",
       " '여러',\n",
       " '매체',\n",
       " '신랑',\n",
       " '티비',\n",
       " '상태',\n",
       " '몰입',\n",
       " '볼때',\n",
       " '부부',\n",
       " '몰골씬',\n",
       " '80',\n",
       " '20',\n",
       " '감동',\n",
       " '보기',\n",
       " '수작',\n",
       " '블랙코미디',\n",
       " '현실',\n",
       " '묘사',\n",
       " '이기',\n",
       " '이자',\n",
       " '리얼리',\n",
       " '스틱',\n",
       " '글자',\n",
       " '그대로',\n",
       " '경이',\n",
       " '로움',\n",
       " '상상력',\n",
       " '지점',\n",
       " '시퀀스',\n",
       " '부분',\n",
       " '한편',\n",
       " '코미디',\n",
       " '개념',\n",
       " '확장',\n",
       " '현상',\n",
       " '자리',\n",
       " '초월',\n",
       " '예의',\n",
       " '윤리성',\n",
       " '맴도',\n",
       " '대사',\n",
       " '서도',\n",
       " '암시',\n",
       " '힌트',\n",
       " '작용하',\n",
       " '스포일러화',\n",
       " '예술',\n",
       " '작품',\n",
       " '오브',\n",
       " '진주',\n",
       " '목걸이',\n",
       " '상황',\n",
       " '훼손',\n",
       " '상징',\n",
       " '여정',\n",
       " '선물',\n",
       " '물이',\n",
       " '집안',\n",
       " '남자',\n",
       " '광풍',\n",
       " '장소',\n",
       " '거처',\n",
       " '물건',\n",
       " '상징성',\n",
       " '기능',\n",
       " '주제',\n",
       " '말로',\n",
       " '인스턴트식품',\n",
       " '행위',\n",
       " '주인공',\n",
       " '남편',\n",
       " '인물',\n",
       " '자신',\n",
       " '주인들',\n",
       " '과장',\n",
       " 'imf',\n",
       " '서민들',\n",
       " '가족',\n",
       " '모습',\n",
       " '시간',\n",
       " '위로',\n",
       " '문광부',\n",
       " '부와',\n",
       " '사기적',\n",
       " '파티',\n",
       " '성과',\n",
       " '측은',\n",
       " '지심',\n",
       " '이기때문',\n",
       " '후반',\n",
       " '반지하',\n",
       " '배경',\n",
       " '사회',\n",
       " '구조속',\n",
       " '세가족',\n",
       " '모두',\n",
       " '희생당',\n",
       " '문제',\n",
       " '라면',\n",
       " '관속',\n",
       " '심의',\n",
       " '공존',\n",
       " '과제']"
      ]
     },
     "execution_count": 81,
     "metadata": {},
     "output_type": "execute_result"
    }
   ],
   "source": [
    "okt.phrases(short_example)"
   ]
  },
  {
   "cell_type": "code",
   "execution_count": 18,
   "metadata": {
    "scrolled": true
   },
   "outputs": [
    {
     "name": "stdout",
     "output_type": "stream",
     "text": [
      "['영화', '지하', '기택', '사람', '그것', '기우', '부잣집', '기생', '기생충', '존재', '지하실', '로서', '식구', '사회', '작품', '네 식구', '가족', '생각', '기택네', '모습', '문제', '이기', '대한', '문광', '때문', '이들', '하나', '구조', '사장', '반 지하']\n"
     ]
    }
   ],
   "source": [
    "# 간단한 추출기\n",
    "# https://m.blog.naver.com/vangarang/221068634380\n",
    "\n",
    "from konlpy.tag import Okt\n",
    "text = parasite_review_str\n",
    "\n",
    "def keyword_extractor(tagger, text):\n",
    "    tokens = tagger.phrases(text)\n",
    "    tokens = [ token for token in tokens if len(token) > 1 ] # 한 글자인 단어는 제외\n",
    "    count_dict = [(token, text.count(token)) for token in tokens ]\n",
    "    ranked_words = sorted(count_dict, key=lambda x:x[1], reverse=True)[:30]\n",
    "    return [ keyword for keyword, freq in ranked_words ]\n",
    "\n",
    "if __name__ == '__main__':\n",
    "    tagger = Okt()\n",
    "    print( keyword_extractor(twit, text) )"
   ]
  },
  {
   "cell_type": "code",
   "execution_count": 19,
   "metadata": {},
   "outputs": [
    {
     "name": "stdout",
     "output_type": "stream",
     "text": [
      "['영화', '지하', '기택', '사람', '그것', '기우', '부잣집', '기생', '기생충', '존재', '지하실', '로서', '식구', '사회', '작품', '네 식구', '가족', '생각', '기택네', '모습']\n"
     ]
    }
   ],
   "source": [
    "# TF-IDF 기반 키워드 추출기\n",
    "# https://m.blog.naver.com/vangarang/221075347600\n",
    "\n",
    "from konlpy.tag import Okt\n",
    "from math import log10\n",
    "\n",
    "def tokenizer(d):\n",
    "    tagger = Okt()\n",
    "    \n",
    "    def keyword_extractor(text):\n",
    "        tokens = tagger.phrases(text)\n",
    "        tokens = [token for token in tokens if len(token) > 1]  # 한 글자인 단어는 제외\n",
    "        count_dict = [(token, text.count(token)) for token in tokens]\n",
    "        ranked_words = sorted(count_dict, key=lambda x: x[1], reverse=True)[:20]\n",
    "        return [keyword for keyword, freq in ranked_words]\n",
    "    return keyword_extractor(d)\n",
    "\n",
    "\n",
    "# =======================================\n",
    "# -- TF-IDF function\n",
    "# =======================================\n",
    "\n",
    "def f(t, d):\n",
    "    # d is document == tokens\n",
    "    return d.count(t)\n",
    "\n",
    "def tf(t, d):\n",
    "    # d is document == tokens\n",
    "    return 0.5 + 0.5*f(t,d)/max([f(w,d) for w in d])\n",
    "\n",
    "def idf(t, D):\n",
    "    # D is documents == document list\n",
    "    numerator = len(D)\n",
    "    denominator = 1 + len([ True for d in D if t in d])\n",
    "    return log10(numerator/denominator)\n",
    "\n",
    "def tfidf(t, d, D):\n",
    "    return tf(t,d)*idf(t, D)\n",
    "\n",
    "def tokenizer(d):\n",
    "    tagger = Okt()\n",
    "    def keyword_extractor(text):\n",
    "        tokens = tagger.phrases(text)\n",
    "        tokens = [token for token in tokens if len(token) > 1]  # 한 글자인 단어는 제외\n",
    "        count_dict = [(token, text.count(token)) for token in tokens]\n",
    "        ranked_words = sorted(count_dict, key=lambda x: x[1], reverse=True)[:20]\n",
    "        return [keyword for keyword, freq in ranked_words]\n",
    "    return keyword_extractor(d)\n",
    "\n",
    "def tfidfScorer(D):\n",
    "    tokenized_D = [tokenizer(d) for d in D]\n",
    "    result = []\n",
    "    for d in tokenized_D:\n",
    "        result.append([(t, tfidf(t, d, tokenized_D)) for t in d])\n",
    "    return result\n",
    "\n",
    "corpus = parasite_review_str\n",
    "\n",
    "print(tokenizer(corpus))"
   ]
  }
 ],
 "metadata": {
  "kernelspec": {
   "display_name": "Python 3",
   "language": "python",
   "name": "python3"
  },
  "language_info": {
   "codemirror_mode": {
    "name": "ipython",
    "version": 3
   },
   "file_extension": ".py",
   "mimetype": "text/x-python",
   "name": "python",
   "nbconvert_exporter": "python",
   "pygments_lexer": "ipython3",
   "version": "3.7.6"
  }
 },
 "nbformat": 4,
 "nbformat_minor": 4
}
