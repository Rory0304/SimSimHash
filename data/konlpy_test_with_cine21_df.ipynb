{
 "cells": [
  {
   "cell_type": "markdown",
   "metadata": {},
   "source": [
    "# Cine21 데이터로 konlpy 테스트"
   ]
  },
  {
   "cell_type": "code",
   "execution_count": 41,
   "metadata": {},
   "outputs": [
    {
     "data": {
      "text/html": [
       "<style>.container { width:80% !important; }</style>"
      ],
      "text/plain": [
       "<IPython.core.display.HTML object>"
      ]
     },
     "metadata": {},
     "output_type": "display_data"
    }
   ],
   "source": [
    "# Jupyter Notebook 화면 크기 조정 (width 값)\n",
    "\n",
    "from IPython.core.display import display, HTML\n",
    "display(HTML(\"<style>.container { width:80% !important; }</style>\"))"
   ]
  },
  {
   "cell_type": "markdown",
   "metadata": {},
   "source": [
    "## 1. Import libraries"
   ]
  },
  {
   "cell_type": "code",
   "execution_count": 1,
   "metadata": {},
   "outputs": [],
   "source": [
    "import pandas as pd\n",
    "import numpy as np\n",
    "import time"
   ]
  },
  {
   "cell_type": "markdown",
   "metadata": {},
   "source": [
    "## 2. Import Cine21 data"
   ]
  },
  {
   "cell_type": "markdown",
   "metadata": {},
   "source": [
    "### 2.1. Import raw data"
   ]
  },
  {
   "cell_type": "code",
   "execution_count": 2,
   "metadata": {
    "scrolled": true
   },
   "outputs": [
    {
     "data": {
      "text/html": [
       "<div>\n",
       "<style scoped>\n",
       "    .dataframe tbody tr th:only-of-type {\n",
       "        vertical-align: middle;\n",
       "    }\n",
       "\n",
       "    .dataframe tbody tr th {\n",
       "        vertical-align: top;\n",
       "    }\n",
       "\n",
       "    .dataframe thead th {\n",
       "        text-align: right;\n",
       "    }\n",
       "</style>\n",
       "<table border=\"1\" class=\"dataframe\">\n",
       "  <thead>\n",
       "    <tr style=\"text-align: right;\">\n",
       "      <th></th>\n",
       "      <th>title</th>\n",
       "      <th>release_date</th>\n",
       "      <th>genre</th>\n",
       "      <th>rating</th>\n",
       "      <th>story</th>\n",
       "      <th>url</th>\n",
       "      <th>write_date</th>\n",
       "      <th>score</th>\n",
       "      <th>review</th>\n",
       "    </tr>\n",
       "  </thead>\n",
       "  <tbody>\n",
       "    <tr>\n",
       "      <th>0</th>\n",
       "      <td>0.0MHz</td>\n",
       "      <td>개봉일 : 2019-05-29</td>\n",
       "      <td>공포</td>\n",
       "      <td>Unable to get rating</td>\n",
       "      <td>에디슨의 마지막 발명품, 유령 탐지기?“증명할 수 없는 미스터리란 없다”가지 말라는...</td>\n",
       "      <td>http://www.cine21.com/movie/info/?movie_id=52988</td>\n",
       "      <td>2019-06-02</td>\n",
       "      <td>5</td>\n",
       "      <td>90년대 중반 심은하 주연 납량 특집드라마 'M' 을 다시 보는 느낌이 들었다.</td>\n",
       "    </tr>\n",
       "    <tr>\n",
       "      <th>1</th>\n",
       "      <td>10 미니츠 곤</td>\n",
       "      <td>개봉일 : 2019-11</td>\n",
       "      <td>범죄, 액션</td>\n",
       "      <td>Unable to get rating</td>\n",
       "      <td>룰이 깨진 순간, 모든 멤버가 타겟이 된다!동물적인 직감과 1초의 오차도 용납하지 ...</td>\n",
       "      <td>http://www.cine21.com/movie/info/?movie_id=55539</td>\n",
       "      <td>2019-12-28</td>\n",
       "      <td>2</td>\n",
       "      <td>전개도 너무 시시한데다 결말도 엄청 이상하게 지어서 내용이 뭐가 어떻게 돌아가는지 ...</td>\n",
       "    </tr>\n",
       "    <tr>\n",
       "      <th>2</th>\n",
       "      <td>100일 동안 100가지로 100퍼센트 행복찾기</td>\n",
       "      <td>개봉일 : 2019-09-12</td>\n",
       "      <td>코미디</td>\n",
       "      <td>Unable to get rating</td>\n",
       "      <td>어렸을 적부터 함께 자라고, IT 회사도 공동 운영,사는 집도 아랫집, 윗집으로 이...</td>\n",
       "      <td>http://www.cine21.com/movie/info/?movie_id=55031</td>\n",
       "      <td>2019-09-22</td>\n",
       "      <td>6</td>\n",
       "      <td>뻔한 재미와 감동이지만 시츄에이션 설정이 독창적이었다.</td>\n",
       "    </tr>\n",
       "    <tr>\n",
       "      <th>3</th>\n",
       "      <td>12번째 솔저</td>\n",
       "      <td>개봉일 : 2019-04-11</td>\n",
       "      <td>전쟁</td>\n",
       "      <td>12세이상관람가</td>\n",
       "      <td>제2차 세계대전 나치에 점령된 노르웨이.나치를 함락시킬 유일한 ‘마틴 레드 작전’에...</td>\n",
       "      <td>http://www.cine21.com/movie/info/?movie_id=54607</td>\n",
       "      <td>2019-04-27</td>\n",
       "      <td>7</td>\n",
       "      <td>제2차 세계대전 때, 나치로부터 노르웨이를 되찾기 위한 작전을 펼친 노르웨이 비밀 ...</td>\n",
       "    </tr>\n",
       "    <tr>\n",
       "      <th>4</th>\n",
       "      <td>13년의 공백</td>\n",
       "      <td>개봉일 : 2019-07-04</td>\n",
       "      <td>드라마, 가족</td>\n",
       "      <td>12세이상관람가</td>\n",
       "      <td>“아버지가 너무 싫습니다.그런데, 조금은 좋아하는 것 같기도 합니다.”담배를 사러 ...</td>\n",
       "      <td>http://www.cine21.com/movie/info/?movie_id=54778</td>\n",
       "      <td>NaN</td>\n",
       "      <td>NaN</td>\n",
       "      <td>NaN</td>\n",
       "    </tr>\n",
       "    <tr>\n",
       "      <th>...</th>\n",
       "      <td>...</td>\n",
       "      <td>...</td>\n",
       "      <td>...</td>\n",
       "      <td>...</td>\n",
       "      <td>...</td>\n",
       "      <td>...</td>\n",
       "      <td>...</td>\n",
       "      <td>...</td>\n",
       "      <td>...</td>\n",
       "    </tr>\n",
       "    <tr>\n",
       "      <th>1806</th>\n",
       "      <td>호라이즌 라인</td>\n",
       "      <td>개봉일 : 2021-02-10</td>\n",
       "      <td>스릴러</td>\n",
       "      <td>12세이상관람가</td>\n",
       "      <td>계기판도 GPS도 조종사도 없다!내 안의 생존 본능을 깨워라!에메랄드 빛 해안을 낀...</td>\n",
       "      <td>http://www.cine21.com/movie/info/?movie_id=57226</td>\n",
       "      <td>2021-02-22</td>\n",
       "      <td>4</td>\n",
       "      <td>재난 스릴러물은데 전혀 긴장감이 안 느껴지는게 문제</td>\n",
       "    </tr>\n",
       "    <tr>\n",
       "      <th>1807</th>\n",
       "      <td>호스트: 접속금지</td>\n",
       "      <td>개봉일 : 2021-07-21</td>\n",
       "      <td>공포</td>\n",
       "      <td>12세이상관람가</td>\n",
       "      <td>전 세계가 극찬한 100% 리얼 팬데믹 호러!지금, 당신의 랜선미팅에 무언가가 접속...</td>\n",
       "      <td>http://www.cine21.com/movie/info/?movie_id=57001</td>\n",
       "      <td>2021-08-01</td>\n",
       "      <td>6</td>\n",
       "      <td>맨 마지막 장면을 위한 빌드업이 조금 루즈했지만 마지막은 진짜 놀랐다.</td>\n",
       "    </tr>\n",
       "    <tr>\n",
       "      <th>1808</th>\n",
       "      <td>호스트: 접속금지</td>\n",
       "      <td>개봉일 : 2021-07-21</td>\n",
       "      <td>공포</td>\n",
       "      <td>12세이상관람가</td>\n",
       "      <td>전 세계가 극찬한 100% 리얼 팬데믹 호러!지금, 당신의 랜선미팅에 무언가가 접속...</td>\n",
       "      <td>http://www.cine21.com/movie/info/?movie_id=57001</td>\n",
       "      <td>2021-08-01</td>\n",
       "      <td>5</td>\n",
       "      <td>&lt;호스트:접속금지&gt;는 코로나 시대에 자가 격리 된 여섯 명의 친구가 화상채팅 프로그...</td>\n",
       "    </tr>\n",
       "    <tr>\n",
       "      <th>1809</th>\n",
       "      <td>혼자 사는 사람들</td>\n",
       "      <td>개봉일 : 2021-05-19</td>\n",
       "      <td>드라마</td>\n",
       "      <td>12세이상관람가</td>\n",
       "      <td>집에서도 밖에서도 늘 혼자가 편한 진아.사람들은 자꾸 말을 걸어오지만, 진아는 그저...</td>\n",
       "      <td>http://www.cine21.com/movie/info/?movie_id=57892</td>\n",
       "      <td>2021-05-23</td>\n",
       "      <td>10</td>\n",
       "      <td>시대가 좋아졌다고는 하지만 좋아진 시대를 누리는 이들은 많지 않으며  좋든 싫든 인...</td>\n",
       "    </tr>\n",
       "    <tr>\n",
       "      <th>1810</th>\n",
       "      <td>혼자 사는 사람들</td>\n",
       "      <td>개봉일 : 2021-05-19</td>\n",
       "      <td>드라마</td>\n",
       "      <td>12세이상관람가</td>\n",
       "      <td>집에서도 밖에서도 늘 혼자가 편한 진아.사람들은 자꾸 말을 걸어오지만, 진아는 그저...</td>\n",
       "      <td>http://www.cine21.com/movie/info/?movie_id=57892</td>\n",
       "      <td>2021-05-19</td>\n",
       "      <td>7</td>\n",
       "      <td>혼자 살고 비슷한 성향이라 많이 공감이 가는 영화</td>\n",
       "    </tr>\n",
       "  </tbody>\n",
       "</table>\n",
       "<p>1811 rows × 9 columns</p>\n",
       "</div>"
      ],
      "text/plain": [
       "                           title      release_date    genre  \\\n",
       "0                         0.0MHz  개봉일 : 2019-05-29       공포   \n",
       "1                       10 미니츠 곤     개봉일 : 2019-11   범죄, 액션   \n",
       "2     100일 동안 100가지로 100퍼센트 행복찾기  개봉일 : 2019-09-12      코미디   \n",
       "3                        12번째 솔저  개봉일 : 2019-04-11       전쟁   \n",
       "4                        13년의 공백  개봉일 : 2019-07-04  드라마, 가족   \n",
       "...                          ...               ...      ...   \n",
       "1806                     호라이즌 라인  개봉일 : 2021-02-10      스릴러   \n",
       "1807                   호스트: 접속금지  개봉일 : 2021-07-21       공포   \n",
       "1808                   호스트: 접속금지  개봉일 : 2021-07-21       공포   \n",
       "1809                   혼자 사는 사람들  개봉일 : 2021-05-19      드라마   \n",
       "1810                   혼자 사는 사람들  개봉일 : 2021-05-19      드라마   \n",
       "\n",
       "                    rating                                              story  \\\n",
       "0     Unable to get rating  에디슨의 마지막 발명품, 유령 탐지기?“증명할 수 없는 미스터리란 없다”가지 말라는...   \n",
       "1     Unable to get rating  룰이 깨진 순간, 모든 멤버가 타겟이 된다!동물적인 직감과 1초의 오차도 용납하지 ...   \n",
       "2     Unable to get rating  어렸을 적부터 함께 자라고, IT 회사도 공동 운영,사는 집도 아랫집, 윗집으로 이...   \n",
       "3                 12세이상관람가  제2차 세계대전 나치에 점령된 노르웨이.나치를 함락시킬 유일한 ‘마틴 레드 작전’에...   \n",
       "4                 12세이상관람가  “아버지가 너무 싫습니다.그런데, 조금은 좋아하는 것 같기도 합니다.”담배를 사러 ...   \n",
       "...                    ...                                                ...   \n",
       "1806              12세이상관람가  계기판도 GPS도 조종사도 없다!내 안의 생존 본능을 깨워라!에메랄드 빛 해안을 낀...   \n",
       "1807              12세이상관람가  전 세계가 극찬한 100% 리얼 팬데믹 호러!지금, 당신의 랜선미팅에 무언가가 접속...   \n",
       "1808              12세이상관람가  전 세계가 극찬한 100% 리얼 팬데믹 호러!지금, 당신의 랜선미팅에 무언가가 접속...   \n",
       "1809              12세이상관람가  집에서도 밖에서도 늘 혼자가 편한 진아.사람들은 자꾸 말을 걸어오지만, 진아는 그저...   \n",
       "1810              12세이상관람가  집에서도 밖에서도 늘 혼자가 편한 진아.사람들은 자꾸 말을 걸어오지만, 진아는 그저...   \n",
       "\n",
       "                                                   url  write_date score  \\\n",
       "0     http://www.cine21.com/movie/info/?movie_id=52988  2019-06-02     5   \n",
       "1     http://www.cine21.com/movie/info/?movie_id=55539  2019-12-28     2   \n",
       "2     http://www.cine21.com/movie/info/?movie_id=55031  2019-09-22     6   \n",
       "3     http://www.cine21.com/movie/info/?movie_id=54607  2019-04-27     7   \n",
       "4     http://www.cine21.com/movie/info/?movie_id=54778         NaN   NaN   \n",
       "...                                                ...         ...   ...   \n",
       "1806  http://www.cine21.com/movie/info/?movie_id=57226  2021-02-22     4   \n",
       "1807  http://www.cine21.com/movie/info/?movie_id=57001  2021-08-01     6   \n",
       "1808  http://www.cine21.com/movie/info/?movie_id=57001  2021-08-01     5   \n",
       "1809  http://www.cine21.com/movie/info/?movie_id=57892  2021-05-23    10   \n",
       "1810  http://www.cine21.com/movie/info/?movie_id=57892  2021-05-19     7   \n",
       "\n",
       "                                                 review  \n",
       "0          90년대 중반 심은하 주연 납량 특집드라마 'M' 을 다시 보는 느낌이 들었다.  \n",
       "1     전개도 너무 시시한데다 결말도 엄청 이상하게 지어서 내용이 뭐가 어떻게 돌아가는지 ...  \n",
       "2                        뻔한 재미와 감동이지만 시츄에이션 설정이 독창적이었다.  \n",
       "3     제2차 세계대전 때, 나치로부터 노르웨이를 되찾기 위한 작전을 펼친 노르웨이 비밀 ...  \n",
       "4                                                   NaN  \n",
       "...                                                 ...  \n",
       "1806                       재난 스릴러물은데 전혀 긴장감이 안 느껴지는게 문제  \n",
       "1807            맨 마지막 장면을 위한 빌드업이 조금 루즈했지만 마지막은 진짜 놀랐다.  \n",
       "1808  <호스트:접속금지>는 코로나 시대에 자가 격리 된 여섯 명의 친구가 화상채팅 프로그...  \n",
       "1809  시대가 좋아졌다고는 하지만 좋아진 시대를 누리는 이들은 많지 않으며  좋든 싫든 인...  \n",
       "1810                        혼자 살고 비슷한 성향이라 많이 공감이 가는 영화  \n",
       "\n",
       "[1811 rows x 9 columns]"
      ]
     },
     "execution_count": 2,
     "metadata": {},
     "output_type": "execute_result"
    }
   ],
   "source": [
    "raw_df = pd.read_csv(\"./cine21_final_df.csv\")\n",
    "raw_df"
   ]
  },
  {
   "cell_type": "code",
   "execution_count": 42,
   "metadata": {},
   "outputs": [
    {
     "name": "stdout",
     "output_type": "stream",
     "text": [
      "<class 'pandas.core.frame.DataFrame'>\n",
      "RangeIndex: 1811 entries, 0 to 1810\n",
      "Data columns (total 9 columns):\n",
      " #   Column        Non-Null Count  Dtype \n",
      "---  ------        --------------  ----- \n",
      " 0   title         1811 non-null   object\n",
      " 1   release_date  1785 non-null   object\n",
      " 2   genre         1785 non-null   object\n",
      " 3   rating        1726 non-null   object\n",
      " 4   story         1785 non-null   object\n",
      " 5   url           1785 non-null   object\n",
      " 6   write_date    1152 non-null   object\n",
      " 7   score         1152 non-null   object\n",
      " 8   review        1152 non-null   object\n",
      "dtypes: object(9)\n",
      "memory usage: 127.5+ KB\n"
     ]
    }
   ],
   "source": [
    "raw_df.info()"
   ]
  },
  {
   "cell_type": "code",
   "execution_count": 69,
   "metadata": {},
   "outputs": [],
   "source": [
    "##### rating column data compromised"
   ]
  },
  {
   "cell_type": "markdown",
   "metadata": {},
   "source": [
    "### 2.2. Prepare test data\n",
    "1. Pick a movie with lots of reviews\n",
    "2. make a string out of all reviews"
   ]
  },
  {
   "cell_type": "code",
   "execution_count": 44,
   "metadata": {
    "scrolled": true
   },
   "outputs": [
    {
     "data": {
      "text/plain": [
       "url을 찾을 수 없습니다.    26\n",
       "기생충                18\n",
       "달콤한 인생             17\n",
       "극한직업               14\n",
       "함께 있을 수 있다면        12\n",
       "                   ..\n",
       "스피닝 맨               1\n",
       "밤의 문이 열린다           1\n",
       "미드나이트               1\n",
       "팡파레                 1\n",
       "프리키 데스데이            1\n",
       "Name: title, Length: 1127, dtype: int64"
      ]
     },
     "execution_count": 44,
     "metadata": {},
     "output_type": "execute_result"
    }
   ],
   "source": [
    "# 제목을 기준으로 리뷰 수가 가장 많은 영화 찾기: 기생충\n",
    "raw_df.title.value_counts()"
   ]
  },
  {
   "cell_type": "code",
   "execution_count": 62,
   "metadata": {},
   "outputs": [
    {
     "data": {
      "text/plain": [
       "109     이 글은 영화 기생충을 보고나서 제 개인적으로 어떤 평론가의 말도 읽지 않고 생각...\n",
       "110                                          기생하는 배우가 없다\n",
       "111    블랙 코미디 로써는 훌륭 하지만 사회구성의 필연적인 요소인 계급간의  격차를 애써 ...\n",
       "112    저는 정말 잼있게 보았습니다.  우리 사회의 안좋은 점을 영화를 토대로 잘 풀어 나...\n",
       "113    저도 재미있게 보고 왔습니다. 오랜만에 영화인데 다행이었습니다. (산수갑산 생각나던...\n",
       "114                                   설국열차보다 더 강렬한 계급이야기\n",
       "115    단순한 계급의식을 말하고자 하는 것이 아니다. 영화에 전반적으로 존재하는 인간이 가...\n",
       "116    나는 꿈꾸는 인생인가? 나의 위치, 자리 무얼 위해 사는가? 물음을 던지는 영화. ...\n",
       "117    첫 만점짜리 한국영화. 한국어로 만점짜리 영화를 보다니 너무 감사하다. 봉준호는 거...\n",
       "118    vs. 어스 : 선 긋기와 선 허물기  장기판의 말처럼 정해진 길을 따라 안전하게 ...\n",
       "119                     우리가 생각하지 못 하는 더 낮은 곳에 그들이 살고 있다.\n",
       "120    사람은 포유류로 직접 광합성을 하는 동물은 아니지만 햇빛을 쪼여야  비타민 D를 합...\n",
       "121    황금종려상을 탈만한 최고의 영화였습니다! 현대 사회에서 빈번하게 일어나고 있는 빈부...\n",
       "122               거창하지 않은 미래에는 판타지로 기억 될 2019년 세계 시대의 기억\n",
       "123                무엇보다 놀란 것은 문제를 바라보는 감독님의 놀라운 통찰력 이었다.\n",
       "124                          빈부격차에 대해 많은생각을 들게 한 명작 입니다.\n",
       "125    심오하고 많은걸 느낄 수 있었다 뚜렷한 장르도 목표도 없지만 장면 하나하나마다 많은...\n",
       "126    초중반엔 웃으면서 줄곧 아슬아슬 긴장감 모드로... 계획에 없던 일...공포의 8분...\n",
       "Name: review, dtype: object"
      ]
     },
     "execution_count": 62,
     "metadata": {},
     "output_type": "execute_result"
    }
   ],
   "source": [
    "parasite_review = raw_df[raw_df.title == '기생충'].review\n",
    "parasite_review"
   ]
  },
  {
   "cell_type": "markdown",
   "metadata": {},
   "source": [
    "### 2.2.1 영화 기생충에 대해 씨네21에 등록되어 있는 리뷰 18건의 내용을 하나의 문자열로 취합"
   ]
  },
  {
   "cell_type": "code",
   "execution_count": 67,
   "metadata": {},
   "outputs": [
    {
     "data": {
      "text/plain": [
       "\" 이 글은 영화 기생충을 보고나서 제 개인적으로 어떤 평론가의 말도 읽지 않고 생각해낸 리뷰로서 기생충이 던지는 사회적 메세지에 대한 소소한 생각입니다. --------------------------------------------------------------------------------------- 기생충이 깐느영화제 최고상을 수상했다는 소식에 들떠서 나는 국내개봉 첫날 열일을 제치고 일찍 영화를 보러나섰다. 첫날은 진짜 기대감 만땅에 숨조차 죽이고 지켜보았다. 다 보고 난후의 느낌은 깐느상을 거머쥐기에 전혀 손색이 없구나! 였다. 그렇게 그 이후 여러 매체에서 기생충은 회자되기를 연속이었고 어제 다시 신랑과 티비를 통해서 두번째 보았다. 첫날에는 긴장된 상태로 봐서 덜 몰입이되었었나? 두번째 볼때는 감정이입이 더 되어서 지하에 사는 문광 부부의 처참한 몰골씬이 나올때는 나도 모르게 울컥 하고 올라오는 슬픔이 있었다. 두번째는 그렇게 보았다. 눈물과 키득거리는 웃음이 뒤엉킨채... 기생충은 그런 영화다. 웃음 80에 눈물 20 이 더해진 아니 그보다 더 큰 감동이 더해진 보기드문 수작이다. 아주 잘 만들어진 블랙코미디이며, 공포와 웃음이 한데 어울려져있는 바로 인 현실에 대한 너무나 적나라한 묘사이기에 영화자체는 픽션이지만 그럴듯한 픽션이자 너무나 리얼리스틱한 픽션이라서 놀라울 따름이다. 처음 영화를 봤을때의 느낌은 바로 글자그대로 '경이로움' 자체였다. 특히 문광이 비를맞은 채 대저택에 도착해서 비디오폰으로 대화를 하는 장면부터는 정말 입이 다물어지지 않는 놀라움의 연속이었다. 봉준호의 상상력이 번뜩이는것은 바로 이 지점부터라고 생각한다. 여기서부터 지하실 시퀀스로 이어지는 이 부분이 없었다면? 정말로 밋밋한 한편의 코미디가 되었지 않을까..  나는 기생충이 우리에게 던져주는 단 하나의 분명한 메세지는 바로 '윤리적인 사람이 되어라' 라는 것이라고 본다. 나는 윤리라는것을 도덕이란것을 초등학교 교과서적인 그런 개념으로 받아들이지 않는다. 난 그것을 좀 더 확장된 개념으로 받아들인다. 그것을 어떤 현상이든,사람이든 사물이든 그것에 걸맞는 자리에 있어야함을 알고 그걸 깨달아야한다는 개념으로 받아들이고싶다. 그것은 계층같은것을 초월하는 개념이기도 하며 인간에 대한 어떤 최소한의 예의를 갖추는 것에서 출발하기도 한다. 이 영화는 바로 그런 윤리성에 대해 (양심이라고 불러도 무방한) 말하는게 있다. 게다가 영화에는 '바퀴벌레'와같은 소소한 '상징물'들의 존재가 빛나는데 특히 기우의 곁을 늘 맴도는 '수석'의 존재가 그러다하다. 그것은 등장인물들의 대사를통해서도 암시가된다. 기택이 틈틈이 던지는 '시의적절한' '상징적인'이란 대사는 영화를 보는 사람들에게는 영화의 메세지에 대한 힌트로서 작용하지만 자꾸 듣다보면 그자체가 어느정도 스포일러화되는 느낌도 든다. 나는 이 수석을 '아름다운것' '양심' 의 상징물로 보았다.그것은 예술작품으로서의 '대저택'으로서 대체되는 오브제이기도하다. 기택의 집에 이것이 들어간다는것은 아름다운것이 아름다운사람의 손에 넘어가지 않고 마치 돼지목에 진주목걸이를 걸어주는것과 같은 상황을 만든것이라고 본다. 아무리 값진것이라도 그것을 사용하는 사람에 의해서 그 가치가 빛을 발할수도 , 가치가 오히려 훼손되고 욕된것이 될수도 있음의 상징으로서 보여진다. 그것은 '수석'의 여정에서도 알수 있다. 그것의 기택의 집에들어온 귀중한 선물에서 호우로인해 똥물이 되어버린 기택 집안에서 떠도는 존재로, 다시 그것이 기우의 손에서 지하실의 남자의 손으로 갈때는 '아름다운것'이 '무기'가 된다. 그러다가 마지막에는 모든 광풍이 끝난후 결국은 기우의 손에서 그것이 원래 있었던 장소인 '냇가'로 거처를 옮겨가는것을 보면 이 사물이 단순한 물건이 아니라 굉장한 상징성을 띤 '오브제'로서 기능하는것임을 알수 있다. 이건 주제를 관통하기도 하는데 속된 말로하면 '돼지목에 진주목걸이'를 걸지말라는 말이다. 그것은 싸구려 인스턴트식품에다가 한우를 비벼먹는 우스꽝스런 행위와도 같다. 누가 이 끔찍한 현실에서 돼지인가? 누가 이 끔찍한 현실에서 진주목걸이의 주인공이 되어야할까? 그것은 최소한 윤리적인 사람이어야될것이다. 그런면에서 가정부라는 힘든일을 맡아온 문광과 지하실에 오랫동안 칩거했던 그의 남편 근세는 가장 우리가 불쌍해해야할 인물일것이다. 왜냐면 문광은 자기가 정당하게 번 돈으로 먹을것을 사서 근세에게 주었고 근세는 절대 자신의 존재가 저택의 주인들에게 누가 되지 않길 바랬기에 숨어서 지낸 '죄?'밖엔 없기때문이다. 영화적 과장이 있을지도 모르지만 문광과 근세의 존재가 지금 imf 이후를 살아가고 있는 많은 서민들을 대변하고 있는 듯한 느낌이지 않은가? 기택의 가족도 물론 그렇지만 이들은 범죄자의 모습이 더 강하다. 대부분의 시간을 지하에서 숨어지내다가 가끔 위로올라와서 차를 마시며 대저택을 하나의 예술작품으로서 감상하는 문광부부와 치밀한 사기적인 계획하에 가택을침입해서 술파티를 벌이는 기택네의 차이는 분명하다. 누가 대저택을 '누릴' 자격이 있는가? 기택가족은 분명 진주목걸이가 어울리지 않는다. 왜냐면 그들은 '윤리성과 양심'을 망각해버렸기때문이다. '같은 불쌍한 사람'끼리의 측은지심도 , 그들에게 월급을 주는 부자주인에 대한 예의도 망각한 존재이기때문이다. 그런데 후반부에 와서 두드러지긴 하지만 ,영화는 크게 봐서 지하실과 반지하 그리고 상층으로 구조화된 영화의 배경을 통해 그런 사회구조속에서 이 세가족 모두가 결국은 어느정도 희생당하고 마는 구조로 만들고 있다. 그것이 현실이기 때문이다. 거기서 가장 불쌍한 사람은 누구인가? 구조가 문제라면 구조는 누가,무엇이 만들고 거기서 사는 개개인은 어떤 가치관속에서 살아야하는가? 서로가 서로를 죽일려는 증오심의 사회에서 어떻게 서로를 증오하지 않고 평화로운 공존을 이루어낼수 있을까? 영화는 현시대를 살고 있는 우리에게 이렇게 하나의 과제로서 주어진다.  #기생충 #기생충리뷰   기생하는 배우가 없다 블랙 코미디 로써는 훌륭 하지만 사회구성의 필연적인 요소인 계급간의  격차를 애써 부각 시킨점은 거슬리는군 7.0  저는 정말 잼있게 보았습니다.  우리 사회의 안좋은 점을 영화를 토대로 잘 풀어 나간거 같아요.  저도 재미있게 보고 왔습니다. 오랜만에 영화인데 다행이었습니다. (산수갑산 생각나던) 수석(壽石) 씬 아니었으면 별점 좀 깎았을지도 몰라요. 잘만든 영화 한편이 수백번의 제례(예배)보다 낫네요.  설국열차보다 더 강렬한 계급이야기 단순한 계급의식을 말하고자 하는 것이 아니다. 영화에 전반적으로 존재하는 인간이 가진 기생충과 같은 속성이 송강호를 다시 지하실로 밀어넣는  나는 꿈꾸는 인생인가? 나의 위치, 자리 무얼 위해 사는가? 물음을 던지는 영화.  첫 만점짜리 한국영화. 한국어로 만점짜리 영화를 보다니 너무 감사하다. 봉준호는 거장이 되었다 vs. 어스 : 선 긋기와 선 허물기  장기판의 말처럼 정해진 길을 따라 안전하게 움직이던 인물들이 야단법석을 떨기 시작하자 복원력이 작동하는 사회적 삶의 궤도나 이데올로기적 기류는 단순하게 공성전에 불과할지 모른다는 의심이 생긴다.  경계를 만들고 경계를 허물고  언뜻 보면 내상을 입은 자들은 부르지와지의 풍요로운 물적 기반의 장 안에서 기생하는 소시민들 같지만, 송강호가 찌른 칼에 그대로 넘어진 사장의 처자가 즉시 맞닥뜨리는 삶의 불안정성 인듯하다.  성을 더 높이 쌓겠지만 너무 쉽게 허물어질 것이기 때문에  부르지와지 개인들은 투기 자본주의 시대에 소비물신의 작난감처럼 불확실한 처지로 전락하지만, 자본주의의 여러 이데올로기들은 더욱 강력해져 상징계 전반에 걸쳐 오버로크를 친다.  이젠 그들도 성을 쌓지 않는다.  송강호의 아들은 이미 사장을 a(대상적 타자)로 삼았기 때문에 기껏 돈을 벌어 집을 사들이고 나서야 그와 재회한다는 꿈을 꾼다.  빈약한 환상은 가로지를 필요도 없다.  50대는 여전히 87년 6월 항쟁처럼 언제든지 투사가 되겠지만 그의 아들은 포기하고 또 포기하여 체제에 깊게 순응한다. 그리하여 새벽까지 황야를 내달렸던 차대신 내 집을 장만하겠지만  환상에 포획당한 자는 이윽고 망상의 집에 스스로 문을 건다.     우리가 생각하지 못 하는 더 낮은 곳에 그들이 살고 있다. 사람은 포유류로 직접 광합성을 하는 동물은 아니지만 햇빛을 쪼여야  비타민 D를 합성할 수 있고 사람답게 살 수 있다. 영국과 같이 대부분 흐린  날씨가 많은 곳에서 드물게 햇빛이 쨍쨍한 날 사람들이 해수욕장에서나  입을 법한 수영복을 입고 공권 잔디밭에서 일광욕을 하는 모습은 그만큼  햇빛이 인간다운 삶을 보장하는 하나의 조건이라고 할 수 있다.  부동산 지옥 대한민국에서 완전한 지하도 아닌 반 지하는 극빈자들이 겨우  삶을 의탁할 수 있는 최후의 보루라고 할 수 있다. ‘복지’의 개념이 전무한  한국에서 주거문제는 여전히 사회구조적 문제가 아니라 개인 능력의  문제이며 기득권과 졸부들만의 독점 기형 경제를 유지하기 위한 황금 알을  낳는 거위다. 완벽한 지하도 아닌 어정쩡한 반 지하에서 사는 이들은 햇빛이  잘 들지 않는 환경 탓에 집에는 곰팡이가 피고 그 냄새는 몸에 배 혐오감을  일으킨다.  반 지하는 한마디로 한국의 기형적이고 독점적인 주거경제가 야기한  최악의 실상이다. 작품의 네 식구 기택(송강호), 충숙(장혜진),  기우(최우식), 기정(박소담)은 전원 백수에다 반 지하에 살고 있다.  소득이 없으니 전기, 수도, 이동통신 요금 등 인간으로서 최소한의 조건을  갖추지 못한 채 네 식구가 겨우 피자박스 접는 부업으로 연명하는 중이다.  대학 사수를 한 기우에게 친구 민혁(박서준)의 솔깃한 제안은 이들의  구질구질한 운명을 탈출할 기회가 된다. 연대에 다니는 민혁은 수능 사수를  한 기우에게 부잣집 여고생(다혜)의 과외를 부탁하고 기우는 이 기회를  놓치지 않고 사기꾼 기질을 발휘해 부잣집에 입성하는데 성공한다. 기우의  입성에서 여동생 기정은 뛰어난 포토샵 실력을 연대 재학증명서를  위조하는데 성공하고 기우는 부잣집 사모 연교(조여정)와 다혜를 속이는데  성공한다. 기우가 부잣집에 입성하면서 기우는 다음 단계를 진행시킨다.  아들 다송(정현준)의 불안정한 정서를 미술치료를 한다는 명목으로 기정을  끌어들이고 기정은 부잣집 운전기사를 쫓아내고 기택을 불러들이고  최종단계로 현재 부잣집 집주인 박사장(이선균)이 기거하기 전부터  가사도우미(이정은)를 했던 아줌마를 복숭아 알레르기를 이용해 이를  결핵으로 둔갑시켜 쫓아낸다.  여기까지 보면 기우의 기지로 네 식구 전원 부잣집에 취업 성공해 이들의  인생이 하루아침에 바뀔 듯 보이고 이어지는 사기 행각에 케이퍼 무비의  유쾌함도 엿보인다. 박사장네 가족이 다송의 성화에 못 이겨 캠핑을 간 사이  이 네 식구는 부잣집에 취업으로 입성한 걸 자축하며 자신들의 신분 상승이  시간문제라는 김칫국을 마시는 순간 예상치 못한 초인종 소리는 이들의  운명을 급작스럽게 바꾼다.  쫓겨난 아줌마가 남겨둔 물건이 있다고 해서 온 것인데 아줌마는  지하실에서 아주 괴상한 포즈로 반찬 수납장을 미는데 안간힘을 쓰고 있다.  수납장을 어렵사리 열고 다시 개방한 문으로 이어지는 지하통로는 기택 네  가족이 바라던 신분 상승은 물론이고 피자 박스를 접는 처지보다 더 비참한  운명을 맞이하리라는 은유법으로 작용한다.  부잣집에 감춰져 있던 지하실의 존재는 결국 기택네 가족이 지하라는  공간을 벗어날 수 없는 운명을 암시하며 유쾌했던 작품은 기택네 가족의  다가올 처지를 대변하듯 무거워진다. 특히 지하실의 발견이후 캠핑장에서  예정보다 빨리 돌아오는 박사장 식구가 소위 말하는 기택네의 뒷담화가  이어지고 어렵사리 부잣집을 탈출해 폭우 속에 자신들의 거처로 돌아오는  모습은 참담한 모습이다. 반지하인 집은 벌써 침수된 지 오래고 그 침수된  곳에서 기우는 친구 민혁이 준 산수경석을 들고 체육관으로 피신해 기택과  기정과 함께 오지도 않는 잠을 청한다.  네 식구의 사기 취업이 단계적으로 잘 진행되던 작품에서 폭우와 함께  등장한 부잣집의 지하실 이후 기택은 기우가 ‘계획이 뭐냐?’는 물음에  ‘무계획’이라 말하며 인생의 한치 앞도 예상할 수 없는 모습과 계획대로 될  수 없는 인생의 쓴맛을 묵묵히 감내해 낸다.  기택네 가족이 부잣집에 취업한 이후 다송이 기택과 충숙에게 냄새를  맡으며 똑같은 냄새가 난다고 하고 작품에서 반 지하의 퀴퀴한 냄새가 밴  기택네 식구는 박사장네 식구들에게 냄새로 혐오감을 주는 존재들이 된다.  작품은 부잣집들의 허영이 가득 찬 다송의 생일잔치에서 잔치를  아비규환으로 만드는 유혈극을 연출하며 절정에 이르고 기택네가 바랐던  신분 상승의 꿈을 모래성처럼 허물어 버린다.  작품은 반 지하를 탈출해 햇빛을 쬐고 사람답게 살고자 했던 네 식구가  부자들에게 기생해 살려고 했던 어쩌면 다급하고 절박했던 소망과 바람을  부잣집에 숨겨져 있던 지하라는 공간을 통해 다시 나락으로 떨어뜨린다. 그  나락에서 나락을 만든 기득권들과의 투쟁보다는 나락에 떨어진 동일한  처지에 있는 이들이 서로 아귀다툼을 벌인다는 현실이 끔찍한 모습으로 .  다가오고 여전히 사람을 사람답게 하는데 관심 없는 한국 지옥도의 모습을  여과 없이 반영한다.  황금종려상을 탈만한 최고의 영화였습니다! 현대 사회에서 빈번하게 일어나고 있는 빈부격차 문제와 돈을 벌기 위한 재벌집 위장취업에 이르기까지 현재 돌아가는 사회를 잘 풍자하면서 스토리 구성과 배우 연기까지 굉장했습니다! 하지만 결말이 상당히 비참하게 맺어져서 그 점에 대해서는 아쉬운 감도 있었습니다! 전체적으로 굉장히 좋은 영화였으니, 별 4개 반 드립니다!!  거창하지 않은 미래에는 판타지로 기억 될 2019년 세계 시대의 기억 무엇보다 놀란 것은 문제를 바라보는 감독님의 놀라운 통찰력 이었다. 빈부격차에 대해 많은생각을 들게 한 명작 입니다. 심오하고 많은걸 느낄 수 있었다 뚜렷한 장르도 목표도 없지만 장면 하나하나마다 많은 메시지를 담고있는 그런 영화이기에 더욱 특별한 영화로 다가왔다 그런 현실이 두렵기도 하고 무섭기도 하다 그래서 심오하고 많은 생각과 감정을 느꼈다  초중반엔 웃으면서 줄곧 아슬아슬 긴장감 모드로... 계획에 없던 일...공포의 8분후 도착예정이후부터 폭풍처럼 휘몰아치던 중후반엔 그야말로 충격과 섬뜩함 그 자체...  \""
      ]
     },
     "execution_count": 67,
     "metadata": {},
     "output_type": "execute_result"
    }
   ],
   "source": [
    "parasite_review_str = ''\n",
    "\n",
    "for row in parasite_review:\n",
    "    parasite_review_str += (row + ' ')\n",
    "    \n",
    "parasite_review_str = parasite_review_str.replace(\"more\", \"\")\n",
    "parasite_review_str"
   ]
  },
  {
   "cell_type": "markdown",
   "metadata": {},
   "source": [
    "## 3. Konlpy test code"
   ]
  },
  {
   "cell_type": "markdown",
   "metadata": {},
   "source": [
    "### 형태소 분석기"
   ]
  },
  {
   "cell_type": "code",
   "execution_count": 1,
   "metadata": {},
   "outputs": [
    {
     "ename": "NameError",
     "evalue": "name 'time' is not defined",
     "output_type": "error",
     "traceback": [
      "\u001b[1;31m---------------------------------------------------------------------------\u001b[0m",
      "\u001b[1;31mNameError\u001b[0m                                 Traceback (most recent call last)",
      "\u001b[1;32m<ipython-input-1-b638d3e3f909>\u001b[0m in \u001b[0;36m<module>\u001b[1;34m\u001b[0m\n\u001b[0;32m      7\u001b[0m \u001b[1;32mfrom\u001b[0m \u001b[0mkonlpy\u001b[0m\u001b[1;33m.\u001b[0m\u001b[0mtag\u001b[0m \u001b[1;32mimport\u001b[0m \u001b[0mMecab\u001b[0m \u001b[1;31m# 윈도우에서 테스트 불가\u001b[0m\u001b[1;33m\u001b[0m\u001b[1;33m\u001b[0m\u001b[0m\n\u001b[0;32m      8\u001b[0m \u001b[1;33m\u001b[0m\u001b[0m\n\u001b[1;32m----> 9\u001b[1;33m \u001b[0mstart_time\u001b[0m \u001b[1;33m=\u001b[0m \u001b[0mtime\u001b[0m\u001b[1;33m.\u001b[0m\u001b[0mtime\u001b[0m\u001b[1;33m(\u001b[0m\u001b[1;33m)\u001b[0m\u001b[1;33m\u001b[0m\u001b[1;33m\u001b[0m\u001b[0m\n\u001b[0m\u001b[0;32m     10\u001b[0m \u001b[1;33m\u001b[0m\u001b[0m\n\u001b[0;32m     11\u001b[0m \u001b[1;31m# 기생충에 대해 돌리는데 100초 걸림\u001b[0m\u001b[1;33m\u001b[0m\u001b[1;33m\u001b[0m\u001b[1;33m\u001b[0m\u001b[0m\n",
      "\u001b[1;31mNameError\u001b[0m: name 'time' is not defined"
     ]
    }
   ],
   "source": [
    "# 코드 출처: https://m.blog.naver.com/vangarang/221066229238\n",
    "\n",
    "from konlpy.tag import Kkma\n",
    "from konlpy.tag import Komoran\n",
    "from konlpy.tag import Hannanum\n",
    "from konlpy.tag import Okt\n",
    "from konlpy.tag import Mecab # 윈도우에서 테스트 불가\n",
    "\n",
    "start_time = time.time()\n",
    "\n",
    "# 기생충에 대해 돌리는데 100초 걸림\n",
    "example = parasite_review_str\n",
    "\n",
    "taggers = [ ('꼬꼬마', Kkma()),\n",
    "            ('코모란', Komoran()),\n",
    "            ('트위터', Okt()),\n",
    "            ('한나눔', Hannanum())]\n",
    "\n",
    "####################################################\n",
    "# 공통 함수 테스트\n",
    "###################################################\n",
    "for name,tagger in taggers:\n",
    "    print('%s %s %s'%('-'*10,name,'-'*10))\n",
    "    try:\n",
    "        print(tagger.pos(example))    # 품사 태깅\n",
    "        print(tagger.morphs(example)) # 형태소만 추출\n",
    "        print(tagger.nouns(example))  # 명사 추출\n",
    "    except Exception as e:\n",
    "        print(e)\n",
    "\n",
    "#####################################################\n",
    "# 단독 함수 및 옵션 테스트\n",
    "#####################################################\n",
    "print('='*50)\n",
    "\n",
    "# [ 꼬꼬마 ]\n",
    "print( taggers[0][1].sentences( example ) ) # 문장 추출\n",
    "print('-'*50)\n",
    "# [ 코모란 ]\n",
    "print( taggers[1][1].pos( phrase=example, flatten=False ) ) # flatten=False이면, 어절 단위 PoS Tagging\n",
    "print( taggers[1][1].pos( phrase=example, flatten=True ) )  # 차이 비교용\n",
    "print('-'*50)\n",
    "# [ 트위터 ]\n",
    "print( taggers[2][1].pos( phrase=example, norm=True, stem=True) ) # norm=True 이면, 토큰 노멀라이즈, stem=True 이면, 토큰 스테밍\n",
    "print( taggers[2][1].pos( phrase=example, norm=False, stem=False) ) # 차이 비교용\n",
    "\n",
    "print(\"---------- %s seconds ----------\" % (time.time() - start_time))"
   ]
  },
  {
   "cell_type": "code",
   "execution_count": 74,
   "metadata": {
    "scrolled": true
   },
   "outputs": [
    {
     "name": "stdout",
     "output_type": "stream",
     "text": [
      "['영화', '지하', '기택', '사람', '그것', '기우', '부잣집', '기생', '기생충', '존재', '지하실', '로서', '식구', '사회', '작품', '네 식구', '가족', '생각', '기택네', '모습', '문제', '이기', '대한', '문광', '때문', '이들', '하나', '구조', '사장', '반 지하']\n"
     ]
    }
   ],
   "source": [
    "# 간단한 추출기\n",
    "# https://m.blog.naver.com/vangarang/221068634380\n",
    "\n",
    "from konlpy.tag import Twitter\n",
    "text = parasite_review_str\n",
    "\n",
    "def keyword_extractor(tagger, text):\n",
    "    tokens = tagger.phrases(text)\n",
    "    tokens = [ token for token in tokens if len(token) > 1 ] # 한 글자인 단어는 제외\n",
    "    count_dict = [(token, text.count(token)) for token in tokens ]\n",
    "    ranked_words = sorted(count_dict, key=lambda x:x[1], reverse=True)[:30]\n",
    "    return [ keyword for keyword, freq in ranked_words ]\n",
    "\n",
    "if __name__ == '__main__':\n",
    "    twit = Twitter()\n",
    "    print( keyword_extractor(twit, text) )"
   ]
  },
  {
   "cell_type": "code",
   "execution_count": 76,
   "metadata": {},
   "outputs": [
    {
     "name": "stdout",
     "output_type": "stream",
     "text": [
      "['영화', '지하', '기택', '사람', '그것', '기우', '부잣집', '기생', '기생충', '존재', '지하실', '로서', '식구', '사회', '작품', '네 식구', '가족', '생각', '기택네', '모습']\n"
     ]
    }
   ],
   "source": [
    "# TF-IDF 기반 키워드 추출기\n",
    "# https://m.blog.naver.com/vangarang/221075347600\n",
    "\n",
    "from konlpy.tag import Twitter\n",
    "def tokenizer(d):\n",
    "    twit = Twitter()\n",
    "    def keyword_extractor(text):\n",
    "        tokens = twit.phrases(text)\n",
    "        tokens = [token for token in tokens if len(token) > 1]  # 한 글자인 단어는 제외\n",
    "        count_dict = [(token, text.count(token)) for token in tokens]\n",
    "        ranked_words = sorted(count_dict, key=lambda x: x[1], reverse=True)[:20]\n",
    "        return [keyword for keyword, freq in ranked_words]\n",
    "    return keyword_extractor(d)\n",
    "\n",
    "from math import log10\n",
    "from konlpy.tag import Twitter\n",
    "# =======================================\n",
    "# -- TF-IDF function\n",
    "# =======================================\n",
    "def f(t, d):\n",
    "    # d is document == tokens\n",
    "    return d.count(t)\n",
    "\n",
    "def tf(t, d):\n",
    "    # d is document == tokens\n",
    "    return 0.5 + 0.5*f(t,d)/max([f(w,d) for w in d])\n",
    "\n",
    "def idf(t, D):\n",
    "    # D is documents == document list\n",
    "    numerator = len(D)\n",
    "    denominator = 1 + len([ True for d in D if t in d])\n",
    "    return log10(numerator/denominator)\n",
    "\n",
    "def tfidf(t, d, D):\n",
    "    return tf(t,d)*idf(t, D)\n",
    "\n",
    "def tokenizer(d):\n",
    "    twit = Twitter()\n",
    "    def keyword_extractor(text):\n",
    "        tokens = twit.phrases(text)\n",
    "        tokens = [token for token in tokens if len(token) > 1]  # 한 글자인 단어는 제외\n",
    "        count_dict = [(token, text.count(token)) for token in tokens]\n",
    "        ranked_words = sorted(count_dict, key=lambda x: x[1], reverse=True)[:20]\n",
    "        return [keyword for keyword, freq in ranked_words]\n",
    "    return keyword_extractor(d)\n",
    "\n",
    "def tfidfScorer(D):\n",
    "    tokenized_D = [tokenizer(d) for d in D]\n",
    "    result = []\n",
    "    for d in tokenized_D:\n",
    "        result.append([(t, tfidf(t, d, tokenized_D)) for t in d])\n",
    "    return result\n",
    "\n",
    "corpus = parasite_review_str\n",
    "\n",
    "print(tokenizer(corpus))"
   ]
  }
 ],
 "metadata": {
  "kernelspec": {
   "display_name": "Python 3",
   "language": "python",
   "name": "python3"
  },
  "language_info": {
   "codemirror_mode": {
    "name": "ipython",
    "version": 3
   },
   "file_extension": ".py",
   "mimetype": "text/x-python",
   "name": "python",
   "nbconvert_exporter": "python",
   "pygments_lexer": "ipython3",
   "version": "3.7.6"
  }
 },
 "nbformat": 4,
 "nbformat_minor": 4
}
