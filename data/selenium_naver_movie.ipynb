{
 "cells": [
  {
   "cell_type": "markdown",
   "id": "de26b5bb",
   "metadata": {},
   "source": [
    "> * 네이버 영화 디렉토리 : https://movie.naver.com/movie/sdb/browsing/bmovie.naver\n",
    "> * 개봉년도 (2019) : https://movie.naver.com/movie/sdb/browsing/bmovie.naver?open=2019\n",
    "> * 개봉년도 (2019) & 1페이지 : https://movie.naver.com/movie/sdb/browsing/bmovie.naver?open=2019&page=1"
   ]
  },
  {
   "cell_type": "code",
   "execution_count": 4,
   "id": "d6375281",
   "metadata": {
    "ExecuteTime": {
     "end_time": "2021-10-05T12:39:20.826398Z",
     "start_time": "2021-10-05T12:39:20.458511Z"
    }
   },
   "outputs": [],
   "source": [
    "import time, re, csv\n",
    "from bs4 import BeautifulSoup\n",
    "from selenium import webdriver\n",
    "from selenium.webdriver.common.keys import Keys\n",
    "from selenium.webdriver.common.by import By"
   ]
  },
  {
   "cell_type": "code",
   "execution_count": 81,
   "id": "b4264810",
   "metadata": {
    "ExecuteTime": {
     "end_time": "2021-10-05T08:17:36.859797Z",
     "start_time": "2021-10-05T08:17:36.841834Z"
    }
   },
   "outputs": [],
   "source": [
    "from selenium.common.exceptions import NoSuchElementException\n",
    "from selenium.common.exceptions import StaleElementReferenceException"
   ]
  },
  {
   "cell_type": "markdown",
   "id": "dec88670",
   "metadata": {},
   "source": [
    "## 2019년 1페이지 영화 리스트"
   ]
  },
  {
   "cell_type": "code",
   "execution_count": 2,
   "id": "a95807cb",
   "metadata": {
    "ExecuteTime": {
     "end_time": "2021-10-05T02:27:08.415179Z",
     "start_time": "2021-10-05T02:27:02.031135Z"
    }
   },
   "outputs": [
    {
     "name": "stdout",
     "output_type": "stream",
     "text": [
      "0.0MHz\n",
      "1 더하기 3 (Three Husbands)\n",
      "10 미니츠 곤 (10 Minutes Gone)\n",
      "100일 동안 100가지로 100퍼센트 행복찾기 (100 Things)\n",
      "10년 (Ten Years Japan)\n",
      "12번째 솔저 (The 12th Man)\n",
      "13년의 공백 (blank 13)\n",
      "1919 유관순\n",
      "2047 버추얼 레볼루션 (2047: Virtual Revolution)\n",
      "47미터 2 (47 meters down: uncaged)\n",
      "48시간: 지구 최후의 날 (Anyone but them)\n",
      "6솔져스 (To Die For)\n",
      "7 솔져스 (Cigarette Soup)\n",
      "82년생 김지영 (KIM JI-YOUNG, BORN 1982)\n",
      "8년 전쟁: 이란 vs 이라크 (Standing in the Dust)\n",
      "EBS 댄스파티!\n",
      "가버나움 (Capernaum)\n",
      "가슴 큰 형수\n",
      "가싶녀\n",
      "가장 보통의 연애 (Crazy Romance)\n"
     ]
    }
   ],
   "source": [
    "# 크롬창(웹드라이버) 열기\n",
    "driver = webdriver.Chrome('C:/Users/sooyeon/Downloads/chromedriver.exe')\n",
    "\n",
    "# 2019 페이지 접속\n",
    "driver.get(\"https://movie.naver.com/movie/sdb/browsing/bmovie.naver?open=2019\")\n",
    "\n",
    "time.sleep(2)\n",
    "\n",
    "# 영화 리스트 불러오기\n",
    "boxes = driver.find_elements_by_css_selector(\"#old_content > ul > li\")\n",
    "for box in boxes:\n",
    "    title = box.find_element_by_css_selector('a').text\n",
    "    print(title)"
   ]
  },
  {
   "cell_type": "markdown",
   "id": "5004cfb3",
   "metadata": {},
   "source": [
    "### 리스트 담기"
   ]
  },
  {
   "cell_type": "code",
   "execution_count": 94,
   "id": "c6865cc3",
   "metadata": {
    "ExecuteTime": {
     "end_time": "2021-10-05T10:08:55.712494Z",
     "start_time": "2021-10-05T10:08:50.495454Z"
    }
   },
   "outputs": [],
   "source": [
    "## 1페이지만\n",
    "# 크롬창(웹드라이버) 열기\n",
    "driver = webdriver.Chrome('C:/Users/sooyeon/Downloads/chromedriver.exe')\n",
    "\n",
    "# 2019 페이지 접속\n",
    "driver.get(\"https://movie.naver.com/movie/sdb/browsing/bmovie.naver?open=2019\")\n",
    "\n",
    "time.sleep(2)\n",
    "\n",
    "title = []\n",
    "# 영화 리스트 불러오기\n",
    "\n",
    "boxes = driver.find_elements_by_css_selector(\"#old_content > ul > li\")\n",
    "for box in boxes:\n",
    "    title.append(box.find_element_by_css_selector('a').text)"
   ]
  },
  {
   "cell_type": "code",
   "execution_count": 95,
   "id": "764fb868",
   "metadata": {
    "ExecuteTime": {
     "end_time": "2021-10-05T10:09:08.549058Z",
     "start_time": "2021-10-05T10:09:08.529057Z"
    }
   },
   "outputs": [
    {
     "data": {
      "text/plain": [
       "['0.0MHz',\n",
       " '1 더하기 3 (Three Husbands)',\n",
       " '10 미니츠 곤 (10 Minutes Gone)',\n",
       " '100일 동안 100가지로 100퍼센트 행복찾기 (100 Things)',\n",
       " '10년 (Ten Years Japan)',\n",
       " '12번째 솔저 (The 12th Man)',\n",
       " '13년의 공백 (blank 13)',\n",
       " '1919 유관순',\n",
       " '2047 버추얼 레볼루션 (2047: Virtual Revolution)',\n",
       " '47미터 2 (47 meters down: uncaged)',\n",
       " '48시간: 지구 최후의 날 (Anyone but them)',\n",
       " '6솔져스 (To Die For)',\n",
       " '7 솔져스 (Cigarette Soup)',\n",
       " '82년생 김지영 (KIM JI-YOUNG, BORN 1982)',\n",
       " '8년 전쟁: 이란 vs 이라크 (Standing in the Dust)',\n",
       " 'EBS 댄스파티!',\n",
       " '가버나움 (Capernaum)',\n",
       " '가슴 큰 형수',\n",
       " '가싶녀',\n",
       " '가장 보통의 연애 (Crazy Romance)']"
      ]
     },
     "execution_count": 95,
     "metadata": {},
     "output_type": "execute_result"
    }
   ],
   "source": [
    "title"
   ]
  },
  {
   "cell_type": "markdown",
   "id": "eeda909d",
   "metadata": {},
   "source": [
    "## 영화별 주소 불러오기"
   ]
  },
  {
   "cell_type": "code",
   "execution_count": 50,
   "id": "977e8c37",
   "metadata": {
    "ExecuteTime": {
     "end_time": "2021-10-05T05:51:11.244157Z",
     "start_time": "2021-10-05T05:51:06.501097Z"
    },
    "scrolled": true
   },
   "outputs": [
    {
     "name": "stdout",
     "output_type": "stream",
     "text": [
      "https://movie.naver.com/movie/bi/mi/basic.naver?code=177371\n",
      "https://movie.naver.com/movie/bi/mi/basic.naver?code=181063\n",
      "https://movie.naver.com/movie/bi/mi/basic.naver?code=189051\n",
      "https://movie.naver.com/movie/bi/mi/basic.naver?code=183377\n",
      "https://movie.naver.com/movie/bi/mi/basic.naver?code=179338\n",
      "https://movie.naver.com/movie/bi/mi/basic.naver?code=172980\n",
      "https://movie.naver.com/movie/bi/mi/basic.naver?code=159685\n",
      "https://movie.naver.com/movie/bi/mi/basic.naver?code=182407\n",
      "https://movie.naver.com/movie/bi/mi/basic.naver?code=148348\n",
      "https://movie.naver.com/movie/bi/mi/basic.naver?code=187161\n",
      "https://movie.naver.com/movie/bi/mi/basic.naver?code=183508\n",
      "https://movie.naver.com/movie/bi/mi/basic.naver?code=185294\n",
      "https://movie.naver.com/movie/bi/mi/basic.naver?code=186679\n",
      "https://movie.naver.com/movie/bi/mi/basic.naver?code=179482\n",
      "https://movie.naver.com/movie/bi/mi/basic.naver?code=182616\n",
      "https://movie.naver.com/movie/bi/mi/basic.naver?code=188349\n",
      "https://movie.naver.com/movie/bi/mi/basic.naver?code=174830\n",
      "https://movie.naver.com/movie/bi/mi/basic.naver?code=190311\n",
      "https://movie.naver.com/movie/bi/mi/basic.naver?code=190354\n",
      "https://movie.naver.com/movie/bi/mi/basic.naver?code=182205\n"
     ]
    }
   ],
   "source": [
    "import pandas as pd\n",
    "# 크롬창(웹드라이버) 열기\n",
    "driver = webdriver.Chrome('C:/Users/sooyeon/Downloads/chromedriver.exe')\n",
    "\n",
    "# 2019 페이지 접속\n",
    "url = \"https://movie.naver.com/movie/sdb/browsing/bmovie.naver?open=2019\"\n",
    "driver.get(url)\n",
    "\n",
    "time.sleep(2)\n",
    "\n",
    "result = []\n",
    "\n",
    "    \n",
    "boxes = driver.find_elements_by_css_selector(\"#old_content > ul > li\")\n",
    "for box in boxes:    \n",
    "    link = box.find_element_by_css_selector('a').get_attribute('href')\n",
    "    print(link)"
   ]
  },
  {
   "cell_type": "markdown",
   "id": "f97ae4f9",
   "metadata": {},
   "source": [
    "### 리스트에 저장"
   ]
  },
  {
   "cell_type": "code",
   "execution_count": 42,
   "id": "8ed821c2",
   "metadata": {
    "ExecuteTime": {
     "end_time": "2021-10-05T05:47:10.856391Z",
     "start_time": "2021-10-05T05:47:04.860988Z"
    }
   },
   "outputs": [
    {
     "name": "stdout",
     "output_type": "stream",
     "text": [
      "['https://movie.naver.com/movie/bi/mi/basic.naver?code=177371', 'https://movie.naver.com/movie/bi/mi/basic.naver?code=181063', 'https://movie.naver.com/movie/bi/mi/basic.naver?code=189051', 'https://movie.naver.com/movie/bi/mi/basic.naver?code=183377', 'https://movie.naver.com/movie/bi/mi/basic.naver?code=179338', 'https://movie.naver.com/movie/bi/mi/basic.naver?code=172980', 'https://movie.naver.com/movie/bi/mi/basic.naver?code=159685', 'https://movie.naver.com/movie/bi/mi/basic.naver?code=182407', 'https://movie.naver.com/movie/bi/mi/basic.naver?code=148348', 'https://movie.naver.com/movie/bi/mi/basic.naver?code=187161', 'https://movie.naver.com/movie/bi/mi/basic.naver?code=183508', 'https://movie.naver.com/movie/bi/mi/basic.naver?code=185294', 'https://movie.naver.com/movie/bi/mi/basic.naver?code=186679', 'https://movie.naver.com/movie/bi/mi/basic.naver?code=179482', 'https://movie.naver.com/movie/bi/mi/basic.naver?code=182616', 'https://movie.naver.com/movie/bi/mi/basic.naver?code=188349', 'https://movie.naver.com/movie/bi/mi/basic.naver?code=174830', 'https://movie.naver.com/movie/bi/mi/basic.naver?code=190311', 'https://movie.naver.com/movie/bi/mi/basic.naver?code=190354', 'https://movie.naver.com/movie/bi/mi/basic.naver?code=182205']\n"
     ]
    }
   ],
   "source": [
    "# 크롬창(웹드라이버) 열기\n",
    "driver = webdriver.Chrome('C:/Users/sooyeon/Downloads/chromedriver.exe')\n",
    "\n",
    "# 2019 페이지 접속\n",
    "driver.get(\"https://movie.naver.com/movie/sdb/browsing/bmovie.naver?open=2019\")\n",
    "\n",
    "time.sleep(2)\n",
    "\n",
    "# 영화 리스트 불러오기\n",
    "boxes = driver.find_elements_by_css_selector(\"#old_content > ul > li\")\n",
    "link = []\n",
    "for box in boxes:\n",
    "    link.append(box.find_element_by_css_selector('a').get_attribute('href'))\n",
    "\n",
    "\n",
    "print(link)"
   ]
  },
  {
   "cell_type": "markdown",
   "id": "c8d5d025",
   "metadata": {},
   "source": [
    "### 일단 출력만 "
   ]
  },
  {
   "cell_type": "code",
   "execution_count": 45,
   "id": "5944a7ce",
   "metadata": {
    "ExecuteTime": {
     "end_time": "2021-10-05T05:47:41.661745Z",
     "start_time": "2021-10-05T05:47:41.651748Z"
    }
   },
   "outputs": [
    {
     "data": {
      "text/plain": [
       "list"
      ]
     },
     "execution_count": 45,
     "metadata": {},
     "output_type": "execute_result"
    }
   ],
   "source": [
    "type(link)"
   ]
  },
  {
   "cell_type": "code",
   "execution_count": 46,
   "id": "4e27732b",
   "metadata": {
    "ExecuteTime": {
     "end_time": "2021-10-05T05:47:45.577991Z",
     "start_time": "2021-10-05T05:47:45.568378Z"
    }
   },
   "outputs": [
    {
     "data": {
      "text/plain": [
       "20"
      ]
     },
     "execution_count": 46,
     "metadata": {},
     "output_type": "execute_result"
    }
   ],
   "source": [
    "len(link)"
   ]
  },
  {
   "cell_type": "code",
   "execution_count": 47,
   "id": "b5b35072",
   "metadata": {
    "ExecuteTime": {
     "end_time": "2021-10-05T05:47:55.499138Z",
     "start_time": "2021-10-05T05:47:55.487133Z"
    }
   },
   "outputs": [
    {
     "data": {
      "text/plain": [
       "'https://movie.naver.com/movie/bi/mi/basic.naver?code=177371'"
      ]
     },
     "execution_count": 47,
     "metadata": {},
     "output_type": "execute_result"
    }
   ],
   "source": [
    "link[0]"
   ]
  },
  {
   "cell_type": "code",
   "execution_count": 49,
   "id": "78e4e817",
   "metadata": {
    "ExecuteTime": {
     "end_time": "2021-10-05T05:48:10.260188Z",
     "start_time": "2021-10-05T05:48:10.244177Z"
    }
   },
   "outputs": [
    {
     "data": {
      "text/plain": [
       "'https://movie.naver.com/movie/bi/mi/basic.naver?code=182205'"
      ]
     },
     "execution_count": 49,
     "metadata": {},
     "output_type": "execute_result"
    }
   ],
   "source": [
    "link[19]"
   ]
  },
  {
   "cell_type": "markdown",
   "id": "556afcbd",
   "metadata": {},
   "source": [
    "## 페이지별 영화 목록 가져오기 (1 ~ 9 page)"
   ]
  },
  {
   "cell_type": "code",
   "execution_count": 71,
   "id": "58439e37",
   "metadata": {
    "ExecuteTime": {
     "end_time": "2021-10-05T07:40:04.604522Z",
     "start_time": "2021-10-05T07:39:51.249496Z"
    },
    "scrolled": false
   },
   "outputs": [],
   "source": [
    "# 크롬창(웹드라이버) 열기\n",
    "driver = webdriver.Chrome('C:/Users/sooyeon/Downloads/chromedriver.exe')\n",
    "\n",
    "# 2019 페이지 접속\n",
    "driver.get(\"https://movie.naver.com/movie/sdb/browsing/bmovie.naver?open=2019\")\n",
    "\n",
    "time.sleep(2)\n",
    "\n",
    "title = []\n",
    "# 영화 리스트 불러오기\n",
    "for i in range(0,9):\n",
    "    boxes = driver.find_elements_by_css_selector(\"#old_content > ul > li\")\n",
    "    for box in boxes:\n",
    "        title.append(box.find_element_by_css_selector('a').text)\n",
    "        \n",
    "    \n",
    "    # pagebar : 각각 불러올 페이지 #old_content > div.pagenavigation > table > tbody > tr > td:nth-child(1) > a\n",
    "    page_bar = driver.find_elements_by_css_selector(\"div.pagenavigation > table > tbody > tr > td > *\")\n",
    "    page_bar[i+1].click()"
   ]
  },
  {
   "cell_type": "code",
   "execution_count": 72,
   "id": "e1296227",
   "metadata": {
    "ExecuteTime": {
     "end_time": "2021-10-05T07:40:07.536617Z",
     "start_time": "2021-10-05T07:40:07.520612Z"
    },
    "scrolled": true
   },
   "outputs": [
    {
     "data": {
      "text/plain": [
       "['0.0MHz',\n",
       " '1 더하기 3 (Three Husbands)',\n",
       " '10 미니츠 곤 (10 Minutes Gone)',\n",
       " '100일 동안 100가지로 100퍼센트 행복찾기 (100 Things)',\n",
       " '10년 (Ten Years Japan)',\n",
       " '12번째 솔저 (The 12th Man)',\n",
       " '13년의 공백 (blank 13)',\n",
       " '1919 유관순',\n",
       " '2047 버추얼 레볼루션 (2047: Virtual Revolution)',\n",
       " '47미터 2 (47 meters down: uncaged)',\n",
       " '48시간: 지구 최후의 날 (Anyone but them)',\n",
       " '6솔져스 (To Die For)',\n",
       " '7 솔져스 (Cigarette Soup)',\n",
       " '82년생 김지영 (KIM JI-YOUNG, BORN 1982)',\n",
       " '8년 전쟁: 이란 vs 이라크 (Standing in the Dust)',\n",
       " 'EBS 댄스파티!',\n",
       " '가버나움 (Capernaum)',\n",
       " '가슴 큰 형수',\n",
       " '가싶녀',\n",
       " '가장 보통의 연애 (Crazy Romance)',\n",
       " '갈까부다 (Wish you were here)',\n",
       " '감쪽같은 그녀 (A Little Princess)',\n",
       " '강남 며느리',\n",
       " '강변호텔 (Hotel by the River)',\n",
       " '같이사는 아내의 엄마 (Yomeno Hahaoya Tanihara Nozomi)',\n",
       " '갤버스턴 (Galveston)',\n",
       " '거유 장모와 실제로 느끼는 사위 (An obscene mother-in-law)',\n",
       " '건달티처',\n",
       " '걸작 (MASTERPIECE)',\n",
       " '걸캅스 (Miss & Mrs. Cops)',\n",
       " '검은 여름 (Black Summer)',\n",
       " '겨울왕국 2 (Frozen 2)',\n",
       " '결혼 이야기 (Marriage Story)',\n",
       " '경계선 (BORDER)',\n",
       " '계절과 계절 사이 (Between the Seasons)',\n",
       " '고검기담: 소명신검의 부활 (Legend of the Ancient Sword)',\n",
       " '고골: 악령과의 전쟁 (Gogol.Viy)',\n",
       " '고릴라와 슈퍼레이스 (Louis & Nolan: The big Cheese Race)',\n",
       " '고봉수 감독 단편선',\n",
       " '고양이 여행 리포트 (The Travelling Cat Chronicles)',\n",
       " '갈까부다 (Wish you were here)',\n",
       " '감쪽같은 그녀 (A Little Princess)',\n",
       " '강남 며느리',\n",
       " '강변호텔 (Hotel by the River)',\n",
       " '같이사는 아내의 엄마 (Yomeno Hahaoya Tanihara Nozomi)',\n",
       " '갤버스턴 (Galveston)',\n",
       " '거유 장모와 실제로 느끼는 사위 (An obscene mother-in-law)',\n",
       " '건달티처',\n",
       " '걸작 (MASTERPIECE)',\n",
       " '걸캅스 (Miss & Mrs. Cops)',\n",
       " '검은 여름 (Black Summer)',\n",
       " '겨울왕국 2 (Frozen 2)',\n",
       " '결혼 이야기 (Marriage Story)',\n",
       " '경계선 (BORDER)',\n",
       " '계절과 계절 사이 (Between the Seasons)',\n",
       " '고검기담: 소명신검의 부활 (Legend of the Ancient Sword)',\n",
       " '고골: 악령과의 전쟁 (Gogol.Viy)',\n",
       " '고릴라와 슈퍼레이스 (Louis & Nolan: The big Cheese Race)',\n",
       " '고봉수 감독 단편선',\n",
       " '고양이 여행 리포트 (The Travelling Cat Chronicles)',\n",
       " '고질라: 킹 오브 몬스터 (Godzilla: King of the Monsters)',\n",
       " \"고흐, 영원의 문에서 (At Eternity's Gate)\",\n",
       " '공포의 묘지 (Pet Sematary)',\n",
       " '공포의 묘지: 망자의 저주 (Pet Graveyard)',\n",
       " '공포의 신생아실 (The Nursery)',\n",
       " '관계 : 형수와 딸',\n",
       " '관전TV',\n",
       " '관전남',\n",
       " '관전녀',\n",
       " '광대들: 풍문조작단 (Jesters: The Game Changers)',\n",
       " '교회오빠 (A Job Who Is near Us)',\n",
       " '구스 베이비 (Duck Duck Goose)',\n",
       " '국경의 왕 (The King of the Border)',\n",
       " '굿 라이어 (The Good Liar)',\n",
       " '굿바이 마이 러브NK: 붉은 청춘 (Goodbye My Love, North Korea)',\n",
       " '굿바이 썸머 (Goodbye Summer)',\n",
       " '귀신의 향기 (scent of ghost)',\n",
       " '그것: 두 번째 이야기 (It Chapter Two)',\n",
       " '그것: 저주의 시작 (The Houses October Built 2)',\n",
       " '그날은 오리라 (Our Time Will Come)',\n",
       " '그녀들을 도와줘 (Support the Girls)',\n",
       " '그녀의 섹스테크닉 (MY TECHNICOLOR GIRL)',\n",
       " '그대 이름은 장미 (Rosebud)',\n",
       " '그때 그들 (Loro)',\n",
       " '그레이브 하우스 (Graves and Bones)',\n",
       " '그린 북 (Green Book)',\n",
       " '그림자 킬러 (Southern Chillers)',\n",
       " '극장판 공룡메카드: 타이니소어의 섬',\n",
       " '극장판 반지의 비밀일기',\n",
       " '극장판 샤이닝스타:새로운 루나퀸의 탄생! (Shining Star: Lunar Queen)',\n",
       " '극장판 엉덩이 탐정: 화려한 사건 수첩 (Butt Detective The Movie)',\n",
       " '극장판 오소마츠 6쌍둥이 (OSOMATSUSAN THE MOVIE)',\n",
       " '극장판 타오르지마 버스터 - 블랙어썰트의 귀환 (The Return of Dark Assault)',\n",
       " '극장판 헬로카봇 : 달나라를 구해줘! (Hello Carbot the Movie: Save the Moon)',\n",
       " '극장판 헬로카봇:옴파로스 섬의 비밀 (Hello Carbot the Movie: The Secret of Omphalos Island)',\n",
       " '극한직업 (Extreme Job)',\n",
       " '글래스 (Glass)',\n",
       " '글로리아 벨 (Gloria Bell)',\n",
       " '기묘한 가족 (THE ODD FAMILY : ZOMBIE ON SALE)',\n",
       " '기방도령 (HOMME FATALE)',\n",
       " '기생충 (PARASITE)',\n",
       " '기억할 만한 지나침 (Ephemerals to Remember)',\n",
       " '긴머리의 친구엄마 (Yujin no Izumi Jun)',\n",
       " '김군 (KIM-GUN)',\n",
       " '김복동 (My name is KIM Bok-dong)',\n",
       " \"꼬마 물고기 이자벨: 바다 대모험 (Izzie's Way Home)\",\n",
       " '꼬마 자전거 스피디 (Bikes)',\n",
       " '나노 테러리즘: CIA 비밀요원 (Headlock)',\n",
       " '나는 다른 언어로 꿈을 꾼다 (I Dream in Another Language)',\n",
       " '나는 예수님이 싫다 (Jesus)',\n",
       " '나는 원래 대전에서 로맨틱 코미디를 찍으려고 했었다 (Daejeon Romantic comedy)',\n",
       " \"나랏말싸미 (The King's Letters)\",\n",
       " '나를 찾아줘 (Bring Me Home)',\n",
       " '나만 없어 고양이 (Hello, My Cat)',\n",
       " '나쁜 녀석들: 더 무비 (THE BAD GUYS: REIGN OF CHAOS)',\n",
       " '나의 노래는 멀리멀리 (Free My Soul, Free My Song)',\n",
       " '나의 작은 시인에게 (The Kindergarten Teacher)',\n",
       " '나의 특별한 형제 (INSEPARABLE BROS)',\n",
       " '나의 히어로 아카데미아 더 무비: 두 명의 히어로 (MY HERO ACADEMIA: Two Heroes)',\n",
       " '나이브스 아웃 (Knives Out)',\n",
       " '나이트메어 시네마 (Nightmare Cinema)',\n",
       " '난폭한 기록 (Fist & Furious)',\n",
       " '날씨의 아이 (Weathering With You)',\n",
       " '남편 친구와 즐기는 육덕아내 (S and M)',\n",
       " '남편상사들 (Anata, yurushite - Akiyama Shoko)',\n",
       " \"남편이 알면 맞아죽을 관계-새엄마는 초거유 (Mother-in-law's incest. Nachi Kurosawa)\",\n",
       " '낮에는 여상사, 밤에는 나의 비서 (Bewitching woman boss)',\n",
       " \"낮잠자는 새엄마의 속옷이 보이고 (Mother-in-law's incest. Momo Wakui)\",\n",
       " '내 여자의 남자들',\n",
       " '내 완벽한 남사친의 비밀 (Unleashed)',\n",
       " '내 이웃과의 섹스라이프',\n",
       " '내가 사는 세상 (Back from the Beat)',\n",
       " '내아내의제자들',\n",
       " '내안의 그놈 (Inside me)',\n",
       " '내친구의두엄마',\n",
       " '너를 만난 여름 (My Best Summer)',\n",
       " '너의 목소리 (Your Voice-Kimikoe)',\n",
       " '너의 여자친구 (My Bossy Girl)',\n",
       " '노래방 : 화끈한 여자들2',\n",
       " '노무현과 바보들',\n",
       " '노벰버 크리미널즈 (November Criminals)',\n",
       " '노크: 낯선 그림자 (Trespassers)',\n",
       " '녹차의 중력 (Gravity of the Tea)',\n",
       " '논-픽션 (Non-Fiction)',\n",
       " '누구나 아는 비밀 (Everybody Knows)',\n",
       " '누나의 속사정',\n",
       " '눈의 여왕4 (The Snow Queen: Mirrorlands)',\n",
       " '늑대의 아이들 (Werewolf)',\n",
       " '니나 내나 (Family Affair)',\n",
       " '다시, 봄 (Spring, Again)',\n",
       " '다시만난 동창 (Hitodzuma Jokan Natsume Ayaka)',\n",
       " '다운 어 다크 홀 (Down a Dark Hall)',\n",
       " '다이노 어드벤처: 뉴 자이언트 (Planet Dinosaur: New Giants)',\n",
       " '다이노 어드벤처: 육해공 킬러 엘리트 (Planet Dinosaur: Killer Elite)',\n",
       " '다이노소어 월드 (Jurassic Galaxy)',\n",
       " '다커 나이트 (Darker than Night)',\n",
       " '닥치고 피아노! (Shut Up and Play the Piano)',\n",
       " '닥터 슬립 (Doctor Sleep)',\n",
       " '닥터 킬러 패밀리 (No Visitors)',\n",
       " '달나라에 사는 여인 (From the Land of the Moon)',\n",
       " '더하우스',\n",
       " '던전에서 만남을 추구하면 안 되는 걸까? –오리온의 화살– (Is It Wrong to Try to Pick Up Girls in a Dungeon? –Arrow of the Orion–)',\n",
       " '덤보 (Dumbo )',\n",
       " \"데드 돈 다이 (The Dead Don't Die)\",\n",
       " '데드 스쿼드: 죽은 자들의 사원 (Dead Squad: Temple of the Undead)',\n",
       " '데드풀2: 순한 맛 (ONCE UPON A DEADPOOL)',\n",
       " '데들리 스토커 (Capture)',\n",
       " '데스 에브리데이 (The Campus)',\n",
       " '데스 키스 (Death Kiss)',\n",
       " '데스티네이션 콘트롤 (Frequencies)',\n",
       " '도니브룩 (Donnybrook)',\n",
       " '도신 외전 (Operation Undercover 1: Gambling Gods)',\n",
       " '도심 속의 방 (A Room in Town)',\n",
       " '도우터 오브 마인 (Daughter of Mine)',\n",
       " '도쿄의 밤하늘은 항상 가장 짙은 블루 (The Tokyo Night Sky Is Always the Densest Shade of Blue)',\n",
       " '독고다이',\n",
       " '돈 (Money)',\n",
       " \"돈 워리 (Don't Worry, He Won't Get Far on Foot)\",\n",
       " '돈키호테를 죽인 사나이 (The Man Who Killed Don Quixote)',\n",
       " '동경']"
      ]
     },
     "execution_count": 72,
     "metadata": {},
     "output_type": "execute_result"
    }
   ],
   "source": [
    "title"
   ]
  },
  {
   "cell_type": "markdown",
   "id": "47a48e0a",
   "metadata": {},
   "source": [
    "## 2019년 개봉영화에 해당하는 모든 페이지의 영화 정보를 가져오는 코드 (1 ~ 43페이지)"
   ]
  },
  {
   "cell_type": "markdown",
   "id": "604e8847",
   "metadata": {},
   "source": [
    "## error : 1페이지부터 43페이지까지 출력하는 for문에서 항상 17페이지까지만 데이터가 수집되고 18페이지부터 에러가 발생합니다.\n",
    "> NoSuchElementException: Message: no such element: Unable to locate element: {\"method\":\"xpath\",\"selector\":\"//*[@id=\"old_content\"]/div[3]/table/tbody/tr/td[13]\"}\n",
    "  (Session info: chrome=94.0.4606.61)"
   ]
  },
  {
   "cell_type": "code",
   "execution_count": 80,
   "id": "34cc73d1",
   "metadata": {
    "ExecuteTime": {
     "end_time": "2021-10-05T08:12:10.350035Z",
     "start_time": "2021-10-05T08:11:18.424557Z"
    }
   },
   "outputs": [
    {
     "ename": "NoSuchElementException",
     "evalue": "Message: no such element: Unable to locate element: {\"method\":\"xpath\",\"selector\":\"//*[@id=\"old_content\"]/div[3]/table/tbody/tr/td[13]\"}\n  (Session info: chrome=94.0.4606.61)\n",
     "output_type": "error",
     "traceback": [
      "\u001b[1;31m---------------------------------------------------------------------------\u001b[0m",
      "\u001b[1;31mNoSuchElementException\u001b[0m                    Traceback (most recent call last)",
      "\u001b[1;32m<ipython-input-80-7508fda3d166>\u001b[0m in \u001b[0;36m<module>\u001b[1;34m\u001b[0m\n\u001b[0;32m     14\u001b[0m         \u001b[0mtitle\u001b[0m\u001b[1;33m.\u001b[0m\u001b[0mappend\u001b[0m\u001b[1;33m(\u001b[0m\u001b[0mbox\u001b[0m\u001b[1;33m.\u001b[0m\u001b[0mfind_element_by_css_selector\u001b[0m\u001b[1;33m(\u001b[0m\u001b[1;34m'a'\u001b[0m\u001b[1;33m)\u001b[0m\u001b[1;33m.\u001b[0m\u001b[0mtext\u001b[0m\u001b[1;33m)\u001b[0m\u001b[1;33m\u001b[0m\u001b[1;33m\u001b[0m\u001b[0m\n\u001b[0;32m     15\u001b[0m \u001b[1;33m\u001b[0m\u001b[0m\n\u001b[1;32m---> 16\u001b[1;33m     \u001b[0mdriver\u001b[0m\u001b[1;33m.\u001b[0m\u001b[0mfind_element_by_xpath\u001b[0m\u001b[1;33m(\u001b[0m\u001b[1;34m'''//*[@id=\"old_content\"]/div[3]/table/tbody/tr/td[{}]'''\u001b[0m\u001b[1;33m.\u001b[0m\u001b[0mformat\u001b[0m\u001b[1;33m(\u001b[0m\u001b[0mstr\u001b[0m\u001b[1;33m(\u001b[0m\u001b[0mi\u001b[0m\u001b[1;33m)\u001b[0m\u001b[1;33m)\u001b[0m\u001b[1;33m)\u001b[0m\u001b[1;33m.\u001b[0m\u001b[0mclick\u001b[0m\u001b[1;33m(\u001b[0m\u001b[1;33m)\u001b[0m\u001b[1;33m\u001b[0m\u001b[1;33m\u001b[0m\u001b[0m\n\u001b[0m\u001b[0;32m     17\u001b[0m     \u001b[0mtime\u001b[0m\u001b[1;33m.\u001b[0m\u001b[0msleep\u001b[0m\u001b[1;33m(\u001b[0m\u001b[1;36m2\u001b[0m\u001b[1;33m)\u001b[0m\u001b[1;33m\u001b[0m\u001b[1;33m\u001b[0m\u001b[0m\n",
      "\u001b[1;32mC:\\ProgramData\\Anaconda3\\lib\\site-packages\\selenium\\webdriver\\remote\\webdriver.py\u001b[0m in \u001b[0;36mfind_element_by_xpath\u001b[1;34m(self, xpath)\u001b[0m\n\u001b[0;32m    392\u001b[0m             \u001b[0melement\u001b[0m \u001b[1;33m=\u001b[0m \u001b[0mdriver\u001b[0m\u001b[1;33m.\u001b[0m\u001b[0mfind_element_by_xpath\u001b[0m\u001b[1;33m(\u001b[0m\u001b[1;34m'//div/td[1]'\u001b[0m\u001b[1;33m)\u001b[0m\u001b[1;33m\u001b[0m\u001b[1;33m\u001b[0m\u001b[0m\n\u001b[0;32m    393\u001b[0m         \"\"\"\n\u001b[1;32m--> 394\u001b[1;33m         \u001b[1;32mreturn\u001b[0m \u001b[0mself\u001b[0m\u001b[1;33m.\u001b[0m\u001b[0mfind_element\u001b[0m\u001b[1;33m(\u001b[0m\u001b[0mby\u001b[0m\u001b[1;33m=\u001b[0m\u001b[0mBy\u001b[0m\u001b[1;33m.\u001b[0m\u001b[0mXPATH\u001b[0m\u001b[1;33m,\u001b[0m \u001b[0mvalue\u001b[0m\u001b[1;33m=\u001b[0m\u001b[0mxpath\u001b[0m\u001b[1;33m)\u001b[0m\u001b[1;33m\u001b[0m\u001b[1;33m\u001b[0m\u001b[0m\n\u001b[0m\u001b[0;32m    395\u001b[0m \u001b[1;33m\u001b[0m\u001b[0m\n\u001b[0;32m    396\u001b[0m     \u001b[1;32mdef\u001b[0m \u001b[0mfind_elements_by_xpath\u001b[0m\u001b[1;33m(\u001b[0m\u001b[0mself\u001b[0m\u001b[1;33m,\u001b[0m \u001b[0mxpath\u001b[0m\u001b[1;33m)\u001b[0m\u001b[1;33m:\u001b[0m\u001b[1;33m\u001b[0m\u001b[1;33m\u001b[0m\u001b[0m\n",
      "\u001b[1;32mC:\\ProgramData\\Anaconda3\\lib\\site-packages\\selenium\\webdriver\\remote\\webdriver.py\u001b[0m in \u001b[0;36mfind_element\u001b[1;34m(self, by, value)\u001b[0m\n\u001b[0;32m    974\u001b[0m                 \u001b[0mby\u001b[0m \u001b[1;33m=\u001b[0m \u001b[0mBy\u001b[0m\u001b[1;33m.\u001b[0m\u001b[0mCSS_SELECTOR\u001b[0m\u001b[1;33m\u001b[0m\u001b[1;33m\u001b[0m\u001b[0m\n\u001b[0;32m    975\u001b[0m                 \u001b[0mvalue\u001b[0m \u001b[1;33m=\u001b[0m \u001b[1;34m'[name=\"%s\"]'\u001b[0m \u001b[1;33m%\u001b[0m \u001b[0mvalue\u001b[0m\u001b[1;33m\u001b[0m\u001b[1;33m\u001b[0m\u001b[0m\n\u001b[1;32m--> 976\u001b[1;33m         return self.execute(Command.FIND_ELEMENT, {\n\u001b[0m\u001b[0;32m    977\u001b[0m             \u001b[1;34m'using'\u001b[0m\u001b[1;33m:\u001b[0m \u001b[0mby\u001b[0m\u001b[1;33m,\u001b[0m\u001b[1;33m\u001b[0m\u001b[1;33m\u001b[0m\u001b[0m\n\u001b[0;32m    978\u001b[0m             'value': value})['value']\n",
      "\u001b[1;32mC:\\ProgramData\\Anaconda3\\lib\\site-packages\\selenium\\webdriver\\remote\\webdriver.py\u001b[0m in \u001b[0;36mexecute\u001b[1;34m(self, driver_command, params)\u001b[0m\n\u001b[0;32m    319\u001b[0m         \u001b[0mresponse\u001b[0m \u001b[1;33m=\u001b[0m \u001b[0mself\u001b[0m\u001b[1;33m.\u001b[0m\u001b[0mcommand_executor\u001b[0m\u001b[1;33m.\u001b[0m\u001b[0mexecute\u001b[0m\u001b[1;33m(\u001b[0m\u001b[0mdriver_command\u001b[0m\u001b[1;33m,\u001b[0m \u001b[0mparams\u001b[0m\u001b[1;33m)\u001b[0m\u001b[1;33m\u001b[0m\u001b[1;33m\u001b[0m\u001b[0m\n\u001b[0;32m    320\u001b[0m         \u001b[1;32mif\u001b[0m \u001b[0mresponse\u001b[0m\u001b[1;33m:\u001b[0m\u001b[1;33m\u001b[0m\u001b[1;33m\u001b[0m\u001b[0m\n\u001b[1;32m--> 321\u001b[1;33m             \u001b[0mself\u001b[0m\u001b[1;33m.\u001b[0m\u001b[0merror_handler\u001b[0m\u001b[1;33m.\u001b[0m\u001b[0mcheck_response\u001b[0m\u001b[1;33m(\u001b[0m\u001b[0mresponse\u001b[0m\u001b[1;33m)\u001b[0m\u001b[1;33m\u001b[0m\u001b[1;33m\u001b[0m\u001b[0m\n\u001b[0m\u001b[0;32m    322\u001b[0m             response['value'] = self._unwrap_value(\n\u001b[0;32m    323\u001b[0m                 response.get('value', None))\n",
      "\u001b[1;32mC:\\ProgramData\\Anaconda3\\lib\\site-packages\\selenium\\webdriver\\remote\\errorhandler.py\u001b[0m in \u001b[0;36mcheck_response\u001b[1;34m(self, response)\u001b[0m\n\u001b[0;32m    240\u001b[0m                 \u001b[0malert_text\u001b[0m \u001b[1;33m=\u001b[0m \u001b[0mvalue\u001b[0m\u001b[1;33m[\u001b[0m\u001b[1;34m'alert'\u001b[0m\u001b[1;33m]\u001b[0m\u001b[1;33m.\u001b[0m\u001b[0mget\u001b[0m\u001b[1;33m(\u001b[0m\u001b[1;34m'text'\u001b[0m\u001b[1;33m)\u001b[0m\u001b[1;33m\u001b[0m\u001b[1;33m\u001b[0m\u001b[0m\n\u001b[0;32m    241\u001b[0m             \u001b[1;32mraise\u001b[0m \u001b[0mexception_class\u001b[0m\u001b[1;33m(\u001b[0m\u001b[0mmessage\u001b[0m\u001b[1;33m,\u001b[0m \u001b[0mscreen\u001b[0m\u001b[1;33m,\u001b[0m \u001b[0mstacktrace\u001b[0m\u001b[1;33m,\u001b[0m \u001b[0malert_text\u001b[0m\u001b[1;33m)\u001b[0m\u001b[1;33m\u001b[0m\u001b[1;33m\u001b[0m\u001b[0m\n\u001b[1;32m--> 242\u001b[1;33m         \u001b[1;32mraise\u001b[0m \u001b[0mexception_class\u001b[0m\u001b[1;33m(\u001b[0m\u001b[0mmessage\u001b[0m\u001b[1;33m,\u001b[0m \u001b[0mscreen\u001b[0m\u001b[1;33m,\u001b[0m \u001b[0mstacktrace\u001b[0m\u001b[1;33m)\u001b[0m\u001b[1;33m\u001b[0m\u001b[1;33m\u001b[0m\u001b[0m\n\u001b[0m\u001b[0;32m    243\u001b[0m \u001b[1;33m\u001b[0m\u001b[0m\n\u001b[0;32m    244\u001b[0m     \u001b[1;32mdef\u001b[0m \u001b[0m_value_or_default\u001b[0m\u001b[1;33m(\u001b[0m\u001b[0mself\u001b[0m\u001b[1;33m,\u001b[0m \u001b[0mobj\u001b[0m\u001b[1;33m,\u001b[0m \u001b[0mkey\u001b[0m\u001b[1;33m,\u001b[0m \u001b[0mdefault\u001b[0m\u001b[1;33m)\u001b[0m\u001b[1;33m:\u001b[0m\u001b[1;33m\u001b[0m\u001b[1;33m\u001b[0m\u001b[0m\n",
      "\u001b[1;31mNoSuchElementException\u001b[0m: Message: no such element: Unable to locate element: {\"method\":\"xpath\",\"selector\":\"//*[@id=\"old_content\"]/div[3]/table/tbody/tr/td[13]\"}\n  (Session info: chrome=94.0.4606.61)\n"
     ]
    }
   ],
   "source": [
    "# 크롬창(웹드라이버) 열기\n",
    "driver = webdriver.Chrome('C:/Users/sooyeon/Downloads/chromedriver.exe')\n",
    "\n",
    "# 2019 페이지 접속\n",
    "driver.get(\"https://movie.naver.com/movie/sdb/browsing/bmovie.naver?open=2019\")\n",
    "\n",
    "time.sleep(2)\n",
    "\n",
    "title = []\n",
    "\n",
    "# 영화 리스트 불러오기\n",
    "for i in range(1,43):\n",
    "    boxes = driver.find_elements_by_css_selector(\"#old_content > ul > li\")\n",
    "    for box in boxes:\n",
    "        title.append(box.find_element_by_css_selector('a').text)\n",
    "\n",
    "    driver.find_element_by_xpath('''//*[@id=\"old_content\"]/div[3]/table/tbody/tr/td[{}]'''.format(str(i))).click()\n",
    "    time.sleep(2)"
   ]
  },
  {
   "cell_type": "markdown",
   "id": "b3830939",
   "metadata": {},
   "source": [
    "### xpath가 아닌 다른 방법을 적용해도 같은 오류"
   ]
  },
  {
   "cell_type": "code",
   "execution_count": null,
   "id": "7bb5cc1e",
   "metadata": {},
   "outputs": [],
   "source": [
    "'''\n",
    "    # pagebar : 각각 불러올 페이지 #old_content > div.pagenavigation > table > tbody > tr > td:nth-child(1) > a\n",
    "    page_bar = driver.find_elements_by_css_selector(\"div.pagenavigation > table > tbody > tr > td > *\")\n",
    "    page_bar[i+1].click()\n",
    "'''  "
   ]
  },
  {
   "cell_type": "markdown",
   "id": "e8ea4d2b",
   "metadata": {},
   "source": [
    "### 에러발생하기 직전까지 수집된 영화 리스트 "
   ]
  },
  {
   "cell_type": "code",
   "execution_count": 79,
   "id": "3a84dcc4",
   "metadata": {
    "ExecuteTime": {
     "end_time": "2021-10-05T08:03:05.604222Z",
     "start_time": "2021-10-05T08:03:05.585219Z"
    }
   },
   "outputs": [
    {
     "data": {
      "text/plain": [
       "['0.0MHz',\n",
       " '1 더하기 3 (Three Husbands)',\n",
       " '10 미니츠 곤 (10 Minutes Gone)',\n",
       " '100일 동안 100가지로 100퍼센트 행복찾기 (100 Things)',\n",
       " '10년 (Ten Years Japan)',\n",
       " '12번째 솔저 (The 12th Man)',\n",
       " '13년의 공백 (blank 13)',\n",
       " '1919 유관순',\n",
       " '2047 버추얼 레볼루션 (2047: Virtual Revolution)',\n",
       " '47미터 2 (47 meters down: uncaged)',\n",
       " '48시간: 지구 최후의 날 (Anyone but them)',\n",
       " '6솔져스 (To Die For)',\n",
       " '7 솔져스 (Cigarette Soup)',\n",
       " '82년생 김지영 (KIM JI-YOUNG, BORN 1982)',\n",
       " '8년 전쟁: 이란 vs 이라크 (Standing in the Dust)',\n",
       " 'EBS 댄스파티!',\n",
       " '가버나움 (Capernaum)',\n",
       " '가슴 큰 형수',\n",
       " '가싶녀',\n",
       " '가장 보통의 연애 (Crazy Romance)',\n",
       " '0.0MHz',\n",
       " '1 더하기 3 (Three Husbands)',\n",
       " '10 미니츠 곤 (10 Minutes Gone)',\n",
       " '100일 동안 100가지로 100퍼센트 행복찾기 (100 Things)',\n",
       " '10년 (Ten Years Japan)',\n",
       " '12번째 솔저 (The 12th Man)',\n",
       " '13년의 공백 (blank 13)',\n",
       " '1919 유관순',\n",
       " '2047 버추얼 레볼루션 (2047: Virtual Revolution)',\n",
       " '47미터 2 (47 meters down: uncaged)',\n",
       " '48시간: 지구 최후의 날 (Anyone but them)',\n",
       " '6솔져스 (To Die For)',\n",
       " '7 솔져스 (Cigarette Soup)',\n",
       " '82년생 김지영 (KIM JI-YOUNG, BORN 1982)',\n",
       " '8년 전쟁: 이란 vs 이라크 (Standing in the Dust)',\n",
       " 'EBS 댄스파티!',\n",
       " '가버나움 (Capernaum)',\n",
       " '가슴 큰 형수',\n",
       " '가싶녀',\n",
       " '가장 보통의 연애 (Crazy Romance)',\n",
       " '갈까부다 (Wish you were here)',\n",
       " '감쪽같은 그녀 (A Little Princess)',\n",
       " '강남 며느리',\n",
       " '강변호텔 (Hotel by the River)',\n",
       " '같이사는 아내의 엄마 (Yomeno Hahaoya Tanihara Nozomi)',\n",
       " '갤버스턴 (Galveston)',\n",
       " '거유 장모와 실제로 느끼는 사위 (An obscene mother-in-law)',\n",
       " '건달티처',\n",
       " '걸작 (MASTERPIECE)',\n",
       " '걸캅스 (Miss & Mrs. Cops)',\n",
       " '검은 여름 (Black Summer)',\n",
       " '겨울왕국 2 (Frozen 2)',\n",
       " '결혼 이야기 (Marriage Story)',\n",
       " '경계선 (BORDER)',\n",
       " '계절과 계절 사이 (Between the Seasons)',\n",
       " '고검기담: 소명신검의 부활 (Legend of the Ancient Sword)',\n",
       " '고골: 악령과의 전쟁 (Gogol.Viy)',\n",
       " '고릴라와 슈퍼레이스 (Louis & Nolan: The big Cheese Race)',\n",
       " '고봉수 감독 단편선',\n",
       " '고양이 여행 리포트 (The Travelling Cat Chronicles)',\n",
       " '갈까부다 (Wish you were here)',\n",
       " '감쪽같은 그녀 (A Little Princess)',\n",
       " '강남 며느리',\n",
       " '강변호텔 (Hotel by the River)',\n",
       " '같이사는 아내의 엄마 (Yomeno Hahaoya Tanihara Nozomi)',\n",
       " '갤버스턴 (Galveston)',\n",
       " '거유 장모와 실제로 느끼는 사위 (An obscene mother-in-law)',\n",
       " '건달티처',\n",
       " '걸작 (MASTERPIECE)',\n",
       " '걸캅스 (Miss & Mrs. Cops)',\n",
       " '검은 여름 (Black Summer)',\n",
       " '겨울왕국 2 (Frozen 2)',\n",
       " '결혼 이야기 (Marriage Story)',\n",
       " '경계선 (BORDER)',\n",
       " '계절과 계절 사이 (Between the Seasons)',\n",
       " '고검기담: 소명신검의 부활 (Legend of the Ancient Sword)',\n",
       " '고골: 악령과의 전쟁 (Gogol.Viy)',\n",
       " '고릴라와 슈퍼레이스 (Louis & Nolan: The big Cheese Race)',\n",
       " '고봉수 감독 단편선',\n",
       " '고양이 여행 리포트 (The Travelling Cat Chronicles)',\n",
       " '고질라: 킹 오브 몬스터 (Godzilla: King of the Monsters)',\n",
       " \"고흐, 영원의 문에서 (At Eternity's Gate)\",\n",
       " '공포의 묘지 (Pet Sematary)',\n",
       " '공포의 묘지: 망자의 저주 (Pet Graveyard)',\n",
       " '공포의 신생아실 (The Nursery)',\n",
       " '관계 : 형수와 딸',\n",
       " '관전TV',\n",
       " '관전남',\n",
       " '관전녀',\n",
       " '광대들: 풍문조작단 (Jesters: The Game Changers)',\n",
       " '교회오빠 (A Job Who Is near Us)',\n",
       " '구스 베이비 (Duck Duck Goose)',\n",
       " '국경의 왕 (The King of the Border)',\n",
       " '굿 라이어 (The Good Liar)',\n",
       " '굿바이 마이 러브NK: 붉은 청춘 (Goodbye My Love, North Korea)',\n",
       " '굿바이 썸머 (Goodbye Summer)',\n",
       " '귀신의 향기 (scent of ghost)',\n",
       " '그것: 두 번째 이야기 (It Chapter Two)',\n",
       " '그것: 저주의 시작 (The Houses October Built 2)',\n",
       " '그날은 오리라 (Our Time Will Come)',\n",
       " '그녀들을 도와줘 (Support the Girls)',\n",
       " '그녀의 섹스테크닉 (MY TECHNICOLOR GIRL)',\n",
       " '그대 이름은 장미 (Rosebud)',\n",
       " '그때 그들 (Loro)',\n",
       " '그레이브 하우스 (Graves and Bones)',\n",
       " '그린 북 (Green Book)',\n",
       " '그림자 킬러 (Southern Chillers)',\n",
       " '극장판 공룡메카드: 타이니소어의 섬',\n",
       " '극장판 반지의 비밀일기',\n",
       " '극장판 샤이닝스타:새로운 루나퀸의 탄생! (Shining Star: Lunar Queen)',\n",
       " '극장판 엉덩이 탐정: 화려한 사건 수첩 (Butt Detective The Movie)',\n",
       " '극장판 오소마츠 6쌍둥이 (OSOMATSUSAN THE MOVIE)',\n",
       " '극장판 타오르지마 버스터 - 블랙어썰트의 귀환 (The Return of Dark Assault)',\n",
       " '극장판 헬로카봇 : 달나라를 구해줘! (Hello Carbot the Movie: Save the Moon)',\n",
       " '극장판 헬로카봇:옴파로스 섬의 비밀 (Hello Carbot the Movie: The Secret of Omphalos Island)',\n",
       " '극한직업 (Extreme Job)',\n",
       " '글래스 (Glass)',\n",
       " '글로리아 벨 (Gloria Bell)',\n",
       " '기묘한 가족 (THE ODD FAMILY : ZOMBIE ON SALE)',\n",
       " '기방도령 (HOMME FATALE)',\n",
       " '기생충 (PARASITE)',\n",
       " '기억할 만한 지나침 (Ephemerals to Remember)',\n",
       " '긴머리의 친구엄마 (Yujin no Izumi Jun)',\n",
       " '김군 (KIM-GUN)',\n",
       " '김복동 (My name is KIM Bok-dong)',\n",
       " \"꼬마 물고기 이자벨: 바다 대모험 (Izzie's Way Home)\",\n",
       " '꼬마 자전거 스피디 (Bikes)',\n",
       " '나노 테러리즘: CIA 비밀요원 (Headlock)',\n",
       " '나는 다른 언어로 꿈을 꾼다 (I Dream in Another Language)',\n",
       " '나는 예수님이 싫다 (Jesus)',\n",
       " '나는 원래 대전에서 로맨틱 코미디를 찍으려고 했었다 (Daejeon Romantic comedy)',\n",
       " \"나랏말싸미 (The King's Letters)\",\n",
       " '나를 찾아줘 (Bring Me Home)',\n",
       " '나만 없어 고양이 (Hello, My Cat)',\n",
       " '나쁜 녀석들: 더 무비 (THE BAD GUYS: REIGN OF CHAOS)',\n",
       " '나의 노래는 멀리멀리 (Free My Soul, Free My Song)',\n",
       " '나의 작은 시인에게 (The Kindergarten Teacher)',\n",
       " '나의 특별한 형제 (INSEPARABLE BROS)',\n",
       " '나의 히어로 아카데미아 더 무비: 두 명의 히어로 (MY HERO ACADEMIA: Two Heroes)',\n",
       " '나이브스 아웃 (Knives Out)',\n",
       " '나이트메어 시네마 (Nightmare Cinema)',\n",
       " '난폭한 기록 (Fist & Furious)',\n",
       " '날씨의 아이 (Weathering With You)',\n",
       " '남편 친구와 즐기는 육덕아내 (S and M)',\n",
       " '남편상사들 (Anata, yurushite - Akiyama Shoko)',\n",
       " \"남편이 알면 맞아죽을 관계-새엄마는 초거유 (Mother-in-law's incest. Nachi Kurosawa)\",\n",
       " '낮에는 여상사, 밤에는 나의 비서 (Bewitching woman boss)',\n",
       " \"낮잠자는 새엄마의 속옷이 보이고 (Mother-in-law's incest. Momo Wakui)\",\n",
       " '내 여자의 남자들',\n",
       " '내 완벽한 남사친의 비밀 (Unleashed)',\n",
       " '내 이웃과의 섹스라이프',\n",
       " '내가 사는 세상 (Back from the Beat)',\n",
       " '내아내의제자들',\n",
       " '내안의 그놈 (Inside me)',\n",
       " '내친구의두엄마',\n",
       " '너를 만난 여름 (My Best Summer)',\n",
       " '너의 목소리 (Your Voice-Kimikoe)',\n",
       " '너의 여자친구 (My Bossy Girl)',\n",
       " '노래방 : 화끈한 여자들2',\n",
       " '노무현과 바보들',\n",
       " '노벰버 크리미널즈 (November Criminals)',\n",
       " '노크: 낯선 그림자 (Trespassers)',\n",
       " '녹차의 중력 (Gravity of the Tea)',\n",
       " '논-픽션 (Non-Fiction)',\n",
       " '누구나 아는 비밀 (Everybody Knows)',\n",
       " '누나의 속사정',\n",
       " '눈의 여왕4 (The Snow Queen: Mirrorlands)',\n",
       " '늑대의 아이들 (Werewolf)',\n",
       " '니나 내나 (Family Affair)',\n",
       " '다시, 봄 (Spring, Again)',\n",
       " '다시만난 동창 (Hitodzuma Jokan Natsume Ayaka)',\n",
       " '다운 어 다크 홀 (Down a Dark Hall)',\n",
       " '다이노 어드벤처: 뉴 자이언트 (Planet Dinosaur: New Giants)',\n",
       " '다이노 어드벤처: 육해공 킬러 엘리트 (Planet Dinosaur: Killer Elite)',\n",
       " '다이노소어 월드 (Jurassic Galaxy)',\n",
       " '다커 나이트 (Darker than Night)',\n",
       " '닥치고 피아노! (Shut Up and Play the Piano)',\n",
       " '닥터 슬립 (Doctor Sleep)',\n",
       " '닥터 킬러 패밀리 (No Visitors)',\n",
       " '달나라에 사는 여인 (From the Land of the Moon)',\n",
       " '더하우스',\n",
       " '던전에서 만남을 추구하면 안 되는 걸까? –오리온의 화살– (Is It Wrong to Try to Pick Up Girls in a Dungeon? –Arrow of the Orion–)',\n",
       " '덤보 (Dumbo )',\n",
       " \"데드 돈 다이 (The Dead Don't Die)\",\n",
       " '데드 스쿼드: 죽은 자들의 사원 (Dead Squad: Temple of the Undead)',\n",
       " '데드풀2: 순한 맛 (ONCE UPON A DEADPOOL)',\n",
       " '데들리 스토커 (Capture)',\n",
       " '데스 에브리데이 (The Campus)',\n",
       " '데스 키스 (Death Kiss)',\n",
       " '데스티네이션 콘트롤 (Frequencies)',\n",
       " '도니브룩 (Donnybrook)',\n",
       " '도신 외전 (Operation Undercover 1: Gambling Gods)',\n",
       " '도심 속의 방 (A Room in Town)',\n",
       " '도우터 오브 마인 (Daughter of Mine)',\n",
       " '도쿄의 밤하늘은 항상 가장 짙은 블루 (The Tokyo Night Sky Is Always the Densest Shade of Blue)',\n",
       " '독고다이',\n",
       " '돈 (Money)',\n",
       " \"돈 워리 (Don't Worry, He Won't Get Far on Foot)\",\n",
       " '돈키호테를 죽인 사나이 (The Man Who Killed Don Quixote)',\n",
       " '동경',\n",
       " '러브리스 (Loveless)',\n",
       " '런던 워리어 (London Rampage)',\n",
       " '레고 무비2 (The Lego Movie 2: The Second Part)',\n",
       " '레드 (Red)',\n",
       " '레드 스프링 아포칼립스 (Red Spring)',\n",
       " '레드슈즈 (Red Shoes)',\n",
       " '레인보우: 나의 사랑 (Rainbow - A Private Affair)',\n",
       " '레토 (Summer)',\n",
       " '레플리카 (Replicas)',\n",
       " '려행 (Ryeohaeng)',\n",
       " '로드킬 (ROAD KILL)',\n",
       " '로망 (Romang)',\n",
       " '로미오와 줄리엣 (ROMEO AND JULIET)',\n",
       " '로슈포르의 숙녀들 (The Young Girls Of Rochefort)',\n",
       " '로스트 인 베를린 (Lost in Klessin)',\n",
       " '로제타 (Rosetta)',\n",
       " '로지 (Rosie)',\n",
       " '로켓맨 (Rocketman)',\n",
       " '롤라',\n",
       " '롱 리브 더 킹: 목포 영웅 (Long Live the King)',\n",
       " '미이라 리턴즈 (The Mummy Rebirth)',\n",
       " '밀라노 두오모 콘서트',\n",
       " '바디 브로큰 (Broken)',\n",
       " '바우하우스 (Bauhaus Spirit)',\n",
       " '바이스 (Vice)',\n",
       " '바이킹 워 (The Viking War)',\n",
       " '발광하는 현대사',\n",
       " '발기찬 처가살이',\n",
       " '발리: 천상의 울림 (Bali: Beats of Paradise)',\n",
       " '발명왕 볼트 (Brave Rabbit3 the Crazy Time Machine)',\n",
       " '발퀴레',\n",
       " '밝히는그녀들',\n",
       " '밤의 문이 열린다 (Ghost Walk)',\n",
       " '방문객 (Visitors)',\n",
       " '배신자 (The Traitor)',\n",
       " '배심원들 (Juror 8)',\n",
       " '백두 번째 구름 (Cloud, Encore)',\n",
       " '백두산 (ASHFALL)',\n",
       " '뱅드림! 필름 라이브 (BanG Dream! Film Live)',\n",
       " '버스데이 원더랜드 (The Wonderland)',\n",
       " '버티고 (Vertigo)',\n",
       " '벌새 (House of Hummingbird)',\n",
       " '베를린, 아이 러브 유 (Berlin, I Love You)',\n",
       " '베스와 베라 (Incident in a Ghost Land)',\n",
       " '베스테르플라테 전투 (1939 Battle of Westerplatte)',\n",
       " '베카신! (Becassine!)',\n",
       " '벤 이즈 백 (Ben is Back)',\n",
       " '벤트: 마약의 도시 (Bent)',\n",
       " '벨 칸토 (Bel Canto)',\n",
       " '변신 (Metamorphosis)',\n",
       " '별의 정원 (Astro Gardener)',\n",
       " '보어 살인 멧돼지 (Boar)',\n",
       " '보희와 녹양 (A Boy and Sungreen)',\n",
       " '본 투 드라이브 (Born2Drive)',\n",
       " '봄은 온다 (Life goes on)',\n",
       " '봉오동 전투 (The Battle: Roar to Victory)',\n",
       " '부장의 여자가 된 여직원 (I will marry)',\n",
       " \"부장의 젊은아내 (Director's young wife)\",\n",
       " '북간도의 십자가',\n",
       " '북클럽 (Book Club)']"
      ]
     },
     "execution_count": 79,
     "metadata": {},
     "output_type": "execute_result"
    }
   ],
   "source": [
    "title"
   ]
  },
  {
   "cell_type": "markdown",
   "id": "c4124f65",
   "metadata": {},
   "source": [
    "---"
   ]
  },
  {
   "cell_type": "markdown",
   "id": "d26d24c5",
   "metadata": {},
   "source": [
    "## 한 영화의 정보만 가져오기 "
   ]
  },
  {
   "cell_type": "markdown",
   "id": "57c80a65",
   "metadata": {},
   "source": [
    "### 데이터 구성\n",
    "- 개요\n",
    "- 감독\n",
    "- 출연\n",
    "- 등급(관람가)"
   ]
  },
  {
   "cell_type": "markdown",
   "id": "aea2cf8f",
   "metadata": {},
   "source": [
    "개요 구성\n",
    "- 장르\n",
    "- 국적\n",
    "- 러닝타임\n",
    "- 개봉일 "
   ]
  },
  {
   "cell_type": "markdown",
   "id": "4e4bdc40",
   "metadata": {
    "ExecuteTime": {
     "end_time": "2021-10-05T12:34:56.937684Z",
     "start_time": "2021-10-05T12:34:56.904676Z"
    }
   },
   "source": [
    "한 페이지당 영화 목록 : `20개`"
   ]
  },
  {
   "cell_type": "markdown",
   "id": "d1541d3a",
   "metadata": {},
   "source": [
    "### 하나의 영화 정보만을 가져오는 코드 작성"
   ]
  },
  {
   "cell_type": "code",
   "execution_count": 31,
   "id": "d1eb70e0",
   "metadata": {
    "ExecuteTime": {
     "end_time": "2021-10-05T05:25:36.570529Z",
     "start_time": "2021-10-05T05:25:29.811906Z"
    }
   },
   "outputs": [],
   "source": [
    "# 크롬창(웹드라이버) 열기\n",
    "driver = webdriver.Chrome('C:/Users/sooyeon/Downloads/chromedriver.exe')\n",
    "\n",
    "# 겨울왕국2 페이지 접속\n",
    "driver.get(\"https://movie.naver.com/movie/bi/mi/basic.naver?code=136873\")\n",
    "\n",
    "time.sleep(2)\n",
    "\n",
    "title = []\n",
    "genre = []\n",
    "nation = []\n",
    "running = []\n",
    "release = []\n",
    "director = []\n",
    "actor = []\n",
    "grade = []\n",
    "story = []    \n",
    "    \n",
    "    \n",
    "# 시간 지연 \n",
    "time.sleep(1)\n",
    "        \n",
    "# 제목\n",
    "title.append(driver.find_element_by_css_selector(\"#content > div.article > div.mv_info_area > div.mv_info > h3 > a\").text)\n",
    "\n",
    "# 장르\n",
    "genre.append(driver.find_element_by_css_selector(\"#content > div.article > div.mv_info_area > div.mv_info > dl > dd:nth-child(2) > p > span:nth-child(1)\").text)\n",
    "\n",
    "# 국가\n",
    "nation.append(driver.find_element_by_css_selector(\"#content > div.article > div.mv_info_area > div.mv_info > dl > dd:nth-child(2) > p > span:nth-child(2) > a\").text)\n",
    "\n",
    "# 러닝타임\n",
    "running.append(driver.find_element_by_css_selector(\"#content > div.article > div.mv_info_area > div.mv_info > dl > dd:nth-child(2) > p > span:nth-child(3)\").text)\n",
    "\n",
    "# 개봉일\n",
    "release.append(driver.find_element_by_css_selector(\"#content > div.article > div.mv_info_area > div.mv_info > dl > dd:nth-child(2) > p > span:nth-child(4)\").text)\n",
    "\n",
    "# 감독\n",
    "director.append(driver.find_element_by_css_selector(\"#content > div.article > div.mv_info_area > div.mv_info > dl > dd:nth-child(4)\").text)\n",
    "\n",
    "# 출연\n",
    "actor.append(driver.find_element_by_css_selector(\"#content > div.article > div.mv_info_area > div.mv_info > dl > dd:nth-child(6) > p\").text)\n",
    "\n",
    "# 등급\n",
    "grade.append(driver.find_element_by_css_selector(\"#content > div.article > div.mv_info_area > div.mv_info > dl > dd:nth-child(8) > p > a\").text)\n",
    "\n",
    "# 줄거리\n",
    "storypre = driver.find_element_by_css_selector(\"#content > div.article > div.section_group.section_group_frst > div:nth-child(1) > div > div > p\").text\n",
    "storypre.replace(\"\\n\",\"\")\n",
    "story.append(storypre)\n",
    "        \n",
    "df = pd.DataFrame({'title':title,'genre':genre,'nation':nation,'running':running, 'release':release, 'director':director, 'actor':actor, 'grade':grade, 'story':story})\n",
    "        "
   ]
  },
  {
   "cell_type": "code",
   "execution_count": 32,
   "id": "fb3b36b7",
   "metadata": {
    "ExecuteTime": {
     "end_time": "2021-10-05T05:25:40.240699Z",
     "start_time": "2021-10-05T05:25:40.222701Z"
    }
   },
   "outputs": [
    {
     "data": {
      "text/html": [
       "<div>\n",
       "<style scoped>\n",
       "    .dataframe tbody tr th:only-of-type {\n",
       "        vertical-align: middle;\n",
       "    }\n",
       "\n",
       "    .dataframe tbody tr th {\n",
       "        vertical-align: top;\n",
       "    }\n",
       "\n",
       "    .dataframe thead th {\n",
       "        text-align: right;\n",
       "    }\n",
       "</style>\n",
       "<table border=\"1\" class=\"dataframe\">\n",
       "  <thead>\n",
       "    <tr style=\"text-align: right;\">\n",
       "      <th></th>\n",
       "      <th>title</th>\n",
       "      <th>genre</th>\n",
       "      <th>nation</th>\n",
       "      <th>running</th>\n",
       "      <th>release</th>\n",
       "      <th>director</th>\n",
       "      <th>actor</th>\n",
       "      <th>grade</th>\n",
       "      <th>story</th>\n",
       "    </tr>\n",
       "  </thead>\n",
       "  <tbody>\n",
       "    <tr>\n",
       "      <th>0</th>\n",
       "      <td>겨울왕국 2</td>\n",
       "      <td>애니메이션, 모험, 코미디, 가족, 판타지, 뮤지컬</td>\n",
       "      <td>미국</td>\n",
       "      <td>103분</td>\n",
       "      <td>2019 .11.21 개봉</td>\n",
       "      <td>크리스 벅, 제니퍼 리</td>\n",
       "      <td>크리스틴 벨(안나 목소리), 이디나 멘젤(엘사 목소리)</td>\n",
       "      <td>전체 관람가</td>\n",
       "      <td>어느 날 부턴가 의문의 목소리가 엘사를 부르고, 평화로운 아렌델 왕국을 위협한다.\\...</td>\n",
       "    </tr>\n",
       "  </tbody>\n",
       "</table>\n",
       "</div>"
      ],
      "text/plain": [
       "    title                         genre nation running         release  \\\n",
       "0  겨울왕국 2  애니메이션, 모험, 코미디, 가족, 판타지, 뮤지컬     미국    103분  2019 .11.21 개봉   \n",
       "\n",
       "       director                           actor   grade  \\\n",
       "0  크리스 벅, 제니퍼 리  크리스틴 벨(안나 목소리), 이디나 멘젤(엘사 목소리)  전체 관람가   \n",
       "\n",
       "                                               story  \n",
       "0  어느 날 부턴가 의문의 목소리가 엘사를 부르고, 평화로운 아렌델 왕국을 위협한다.\\...  "
      ]
     },
     "execution_count": 32,
     "metadata": {},
     "output_type": "execute_result"
    }
   ],
   "source": [
    "df"
   ]
  },
  {
   "cell_type": "markdown",
   "id": "dfde3e0d",
   "metadata": {},
   "source": [
    "## 한 페이지에 속한 영화 리스트의 링크를 타고 총 20개의 영화정보를 가져오는 코드 작성"
   ]
  },
  {
   "cell_type": "markdown",
   "id": "36f5e994",
   "metadata": {},
   "source": [
    "## error 2\n",
    "### 문제점 : 출연 데이터가 존재하지 않으면 데이터 수집 X "
   ]
  },
  {
   "cell_type": "code",
   "execution_count": 84,
   "id": "71e07118",
   "metadata": {
    "ExecuteTime": {
     "end_time": "2021-10-05T08:23:26.017506Z",
     "start_time": "2021-10-05T08:20:45.443805Z"
    }
   },
   "outputs": [],
   "source": [
    "import pandas as pd\n",
    "# 크롬창(웹드라이버) 열기\n",
    "driver = webdriver.Chrome('C:/Users/sooyeon/Downloads/chromedriver.exe')\n",
    "\n",
    "# 2019 페이지 접속\n",
    "url = \"https://movie.naver.com/movie/sdb/browsing/bmovie.naver?open=2019\"\n",
    "driver.get(url)\n",
    "\n",
    "# 시간 지연\n",
    "time.sleep(2)\n",
    "\n",
    "# 리스트 정의\n",
    "result = []\n",
    "\n",
    "title = []\n",
    "genre = []\n",
    "nation = []\n",
    "running = []\n",
    "release = []\n",
    "director = []\n",
    "actor = []\n",
    "grade = []\n",
    "story = []    \n",
    "\n",
    "# 영화 리스트 불러오기\n",
    "boxes = driver.find_elements_by_css_selector(\"#old_content > ul > li\")\n",
    "link = []\n",
    "for box in boxes:\n",
    "    link.append(box.find_element_by_css_selector('a').get_attribute('href'))\n",
    "    \n",
    "# 링크 한줄 씩 반복문\n",
    "# 한 페이지당 해당하는 영화는 20개\n",
    "try:\n",
    "    for i in range(0,20):\n",
    "\n",
    "        # i번째 링크 접속하기\n",
    "        driver.get(link[i])\n",
    "\n",
    "        # 시간 지연 \n",
    "        time.sleep(1)\n",
    "\n",
    "        # 제목\n",
    "        title.append(driver.find_element_by_css_selector(\"#content > div.article > div.mv_info_area > div.mv_info > h3 > a\").text)\n",
    "\n",
    "        # 장르\n",
    "        genre.append(driver.find_element_by_css_selector(\"#content > div.article > div.mv_info_area > div.mv_info > dl > dd:nth-child(2) > p > span:nth-child(1)\").text)\n",
    "\n",
    "        # 국가\n",
    "        nation.append(driver.find_element_by_css_selector(\"#content > div.article > div.mv_info_area > div.mv_info > dl > dd:nth-child(2) > p > span:nth-child(2) > a\").text)\n",
    "\n",
    "        # 러닝타임\n",
    "        running.append(driver.find_element_by_css_selector(\"#content > div.article > div.mv_info_area > div.mv_info > dl > dd:nth-child(2) > p > span:nth-child(3)\").text)\n",
    "\n",
    "        # 개봉일\n",
    "        release.append(driver.find_element_by_css_selector(\"#content > div.article > div.mv_info_area > div.mv_info > dl > dd:nth-child(2) > p > span:nth-child(4)\").text)\n",
    "\n",
    "        # 감독\n",
    "        director.append(driver.find_element_by_css_selector(\"#content > div.article > div.mv_info_area > div.mv_info > dl > dd:nth-child(4)\").text)\n",
    "\n",
    "        # 출연\n",
    "        actor.append(driver.find_element_by_css_selector(\"#content > div.article > div.mv_info_area > div.mv_info > dl > dd:nth-child(6) > p\").text)\n",
    "        \n",
    "        # 등급\n",
    "        grade.append(driver.find_element_by_css_selector(\"#content > div.article > div.mv_info_area > div.mv_info > dl > dd:nth-child(8) > p > a\").text)\n",
    "\n",
    "        # 줄거리\n",
    "        storypre = driver.find_element_by_css_selector(\"#content > div.article > div.section_group.section_group_frst > div:nth-child(1) > div > div > p\").text\n",
    "        storypre.replace(\"\\n\",\"\")\n",
    "        story.append(storypre)\n",
    "\n",
    "\n",
    "        # 데이터 프레임 생성\n",
    "        df = pd.DataFrame({'title':title,'genre':genre,'nation':nation,'running':running, 'release':release, 'director':director, 'actor':actor, 'grade':grade, 'story':story})\n",
    "        # 결과 값에 추가\n",
    "        result.append(df)\n",
    "\n",
    "        # 뒤로가기\n",
    "        driver.back()\n",
    "\n",
    "        \n",
    "except NoSuchElementException:\n",
    "    actor.append(\"null\")\n",
    "    \n",
    "#except Exception as error:\n",
    "#    actor.append(\"null\")\n",
    "#    continue\n",
    "    \n",
    "    \n",
    "# df.to_csv(\"tmp_.csv\",sep = '|',index = None)"
   ]
  },
  {
   "cell_type": "markdown",
   "id": "c9c8ca3a",
   "metadata": {
    "ExecuteTime": {
     "end_time": "2021-10-05T12:37:51.576696Z",
     "start_time": "2021-10-05T12:37:51.556699Z"
    }
   },
   "source": [
    "## 중간에 에러가 발생하면 수집을 멈추게됨\n",
    "## 저장된 영화정보를 살펴보면 16번째 데이터까지 저장되어있음\n",
    "## ---->  17번째 영화를 확인해보니 출연 정보가 없었음 "
   ]
  },
  {
   "cell_type": "code",
   "execution_count": 85,
   "id": "ba02d7cc",
   "metadata": {
    "ExecuteTime": {
     "end_time": "2021-10-05T08:23:56.237076Z",
     "start_time": "2021-10-05T08:23:56.194077Z"
    }
   },
   "outputs": [
    {
     "data": {
      "text/html": [
       "<div>\n",
       "<style scoped>\n",
       "    .dataframe tbody tr th:only-of-type {\n",
       "        vertical-align: middle;\n",
       "    }\n",
       "\n",
       "    .dataframe tbody tr th {\n",
       "        vertical-align: top;\n",
       "    }\n",
       "\n",
       "    .dataframe thead th {\n",
       "        text-align: right;\n",
       "    }\n",
       "</style>\n",
       "<table border=\"1\" class=\"dataframe\">\n",
       "  <thead>\n",
       "    <tr style=\"text-align: right;\">\n",
       "      <th></th>\n",
       "      <th>title</th>\n",
       "      <th>genre</th>\n",
       "      <th>nation</th>\n",
       "      <th>running</th>\n",
       "      <th>release</th>\n",
       "      <th>director</th>\n",
       "      <th>actor</th>\n",
       "      <th>grade</th>\n",
       "      <th>story</th>\n",
       "    </tr>\n",
       "  </thead>\n",
       "  <tbody>\n",
       "    <tr>\n",
       "      <th>0</th>\n",
       "      <td>0.0MHz</td>\n",
       "      <td>공포</td>\n",
       "      <td>한국</td>\n",
       "      <td>102분</td>\n",
       "      <td>2019 .05.29 개봉</td>\n",
       "      <td>유선동</td>\n",
       "      <td>정은지(소희), 이성열(상엽), 최윤영(윤정)</td>\n",
       "      <td>15세 관람가</td>\n",
       "      <td>에디슨의 마지막 발명품, 유령 탐지기?\\n “증명할 수 없는 미스터리란 없다”\\n ...</td>\n",
       "    </tr>\n",
       "    <tr>\n",
       "      <th>1</th>\n",
       "      <td>1 더하기 3</td>\n",
       "      <td>멜로/로맨스</td>\n",
       "      <td>홍콩</td>\n",
       "      <td>101분</td>\n",
       "      <td>2019 .12.12 개봉</td>\n",
       "      <td>프룻 첸</td>\n",
       "      <td>증미혜자</td>\n",
       "      <td>청소년 관람불가</td>\n",
       "      <td>멈추지 않는 성욕과 사랑하는 세 명의 남편을 위해,\\n 선상에서 밤낮 없이 몸을 파...</td>\n",
       "    </tr>\n",
       "    <tr>\n",
       "      <th>2</th>\n",
       "      <td>10 미니츠 곤</td>\n",
       "      <td>액션, 범죄</td>\n",
       "      <td>캐나다</td>\n",
       "      <td>96분</td>\n",
       "      <td>2019 .11.21 개봉</td>\n",
       "      <td>브라이언 A 밀러</td>\n",
       "      <td>브루스 윌리스, 마이클 치클리스</td>\n",
       "      <td>15세 관람가</td>\n",
       "      <td>동물적인 직감과 1초의 오차도 용납하지 않는 설계자 ‘렉스’\\n 철저한 계획 하에 ...</td>\n",
       "    </tr>\n",
       "    <tr>\n",
       "      <th>3</th>\n",
       "      <td>100일 동안 100가지로 100퍼센트 행복찾기</td>\n",
       "      <td>코미디</td>\n",
       "      <td>독일</td>\n",
       "      <td>111분</td>\n",
       "      <td>2019 .09.12 개봉</td>\n",
       "      <td>플로리안 데이비드 핏츠</td>\n",
       "      <td>플로리안 데이비드 핏츠(폴), 마치아스 슈와바이어퍼(토니)</td>\n",
       "      <td>15세 관람가</td>\n",
       "      <td>어렸을 적부터 함께 자라고, IT 회사도 공동 운영,\\n 사는 집도 아랫집, 윗집으...</td>\n",
       "    </tr>\n",
       "    <tr>\n",
       "      <th>4</th>\n",
       "      <td>10년</td>\n",
       "      <td>드라마</td>\n",
       "      <td>일본</td>\n",
       "      <td>99분</td>\n",
       "      <td>2019 .12.12 개봉</td>\n",
       "      <td>하야카와 치에, 키노시타 유스케, 츠노 메구미</td>\n",
       "      <td>스기사키 하나, 쿠니무라 준, 이케와키 치즈루</td>\n",
       "      <td>전체 관람가</td>\n",
       "      <td>안락사, 인공지능과 완전히 통제된 교육,\\n 디지털 유산과 알 권리, 환경오염, 전...</td>\n",
       "    </tr>\n",
       "    <tr>\n",
       "      <th>5</th>\n",
       "      <td>12번째 솔저</td>\n",
       "      <td>전쟁</td>\n",
       "      <td>노르웨이</td>\n",
       "      <td>135분</td>\n",
       "      <td>2019 .04.11 개봉</td>\n",
       "      <td>해럴드 즈워트</td>\n",
       "      <td>토마스 갈라스타드(얀 볼스루드), 조나단 리스 마이어스(커트 스테이지)</td>\n",
       "      <td>12세 관람가</td>\n",
       "      <td>제2차 세계대전 나치에 점령된 노르웨이.\\n 나치를 함락시킬 유일한 ‘마틴 레드 작...</td>\n",
       "    </tr>\n",
       "    <tr>\n",
       "      <th>6</th>\n",
       "      <td>13년의 공백</td>\n",
       "      <td>드라마, 가족</td>\n",
       "      <td>일본</td>\n",
       "      <td>71분</td>\n",
       "      <td>2019 .07.04 개봉</td>\n",
       "      <td>사이토 타쿠미</td>\n",
       "      <td>타카하시 잇세이(마츠다 코지), 릴리 프랭키(마츠다 마사토), 사이토 타쿠미(마츠다...</td>\n",
       "      <td>12세 관람가</td>\n",
       "      <td>담배를 사러 다녀 오겠다는 아버지는 그렇게 돌아오지 않았다.\\n 엄마는 아버지 대신...</td>\n",
       "    </tr>\n",
       "    <tr>\n",
       "      <th>7</th>\n",
       "      <td>1919 유관순</td>\n",
       "      <td>다큐멘터리</td>\n",
       "      <td>한국</td>\n",
       "      <td>79분</td>\n",
       "      <td>2019 .03.14 개봉</td>\n",
       "      <td>신상민</td>\n",
       "      <td>이새봄(유관순), 양윤희(어윤희), 김나니(권애라)</td>\n",
       "      <td>12세 관람가</td>\n",
       "      <td>100년 전, 소녀들이 대한독립을 위해 세상에 맞서기 시작했다.\\n 우리가 기억해야...</td>\n",
       "    </tr>\n",
       "    <tr>\n",
       "      <th>8</th>\n",
       "      <td>2047 버추얼 레볼루션</td>\n",
       "      <td>SF, 액션</td>\n",
       "      <td>미국</td>\n",
       "      <td>92분</td>\n",
       "      <td>2019 .10.03 개봉</td>\n",
       "      <td>가이-로저 듀버트</td>\n",
       "      <td>마이크 도퍼드(내쉬), 제인 배들러(디나), 요헨 해겔(스틸슨)</td>\n",
       "      <td>15세 관람가</td>\n",
       "      <td>가상현실 기술의 발달로 환상과 현실이 혼합된 근 미래의 유럽.\\n 어느 날, 사이버...</td>\n",
       "    </tr>\n",
       "    <tr>\n",
       "      <th>9</th>\n",
       "      <td>47미터 2</td>\n",
       "      <td>공포, 스릴러</td>\n",
       "      <td>미국</td>\n",
       "      <td>90분</td>\n",
       "      <td>2019 .08.28 개봉</td>\n",
       "      <td>요하네스 로버츠</td>\n",
       "      <td>소피 넬리스(미아), 시스틴 로즈 스탤론(니콜), 브리안느 쥬(알렉사)</td>\n",
       "      <td>15세 관람가</td>\n",
       "      <td>물에 잠긴 고대 마야의 수중도시 '시발바'를 향해\\n 짜릿한 동굴 다이빙에 나선 '...</td>\n",
       "    </tr>\n",
       "    <tr>\n",
       "      <th>10</th>\n",
       "      <td>48시간: 지구 최후의 날</td>\n",
       "      <td>코미디</td>\n",
       "      <td>러시아 연방</td>\n",
       "      <td>97분</td>\n",
       "      <td>2019 .08.01 개봉</td>\n",
       "      <td>알렉산더 보이코브</td>\n",
       "      <td>알렉세이 드미트리에브</td>\n",
       "      <td>15세 관람가</td>\n",
       "      <td>어느 날 갑자기 세상이 사라졌다! 하루아침에 모두 붕괴되어 버린 건물들과 사라져버린...</td>\n",
       "    </tr>\n",
       "    <tr>\n",
       "      <th>11</th>\n",
       "      <td>6솔져스</td>\n",
       "      <td>액션, 전쟁</td>\n",
       "      <td>터키</td>\n",
       "      <td>105분</td>\n",
       "      <td>2019 .05.16 개봉</td>\n",
       "      <td>M. 차가타이 토순</td>\n",
       "      <td>케렘 버신</td>\n",
       "      <td>15세 관람가</td>\n",
       "      <td>터키 국경 지역에서 잔악무도한 테러 단체가 판치는 가운데, 알파슬란 대위가 이끄는 ...</td>\n",
       "    </tr>\n",
       "    <tr>\n",
       "      <th>12</th>\n",
       "      <td>7 솔져스</td>\n",
       "      <td>액션, 드라마, 전쟁</td>\n",
       "      <td>미국</td>\n",
       "      <td>110분</td>\n",
       "      <td>2019 .09.19 개봉</td>\n",
       "      <td>다미안 뵈르그</td>\n",
       "      <td>디나 샤하비</td>\n",
       "      <td>청소년 관람불가</td>\n",
       "      <td>군인들이 어떻게 생활하는지, 그들의 인간적인 모습을 알리고 싶어서 미군부대를 따라 ...</td>\n",
       "    </tr>\n",
       "    <tr>\n",
       "      <th>13</th>\n",
       "      <td>82년생 김지영</td>\n",
       "      <td>드라마</td>\n",
       "      <td>한국</td>\n",
       "      <td>118분</td>\n",
       "      <td>2019 .10.23 개봉</td>\n",
       "      <td>김도영</td>\n",
       "      <td>정유미(지영), 공유(대현)</td>\n",
       "      <td>12세 관람가</td>\n",
       "      <td>1982년 봄에 태어나\\n 누군가의 딸이자 아내, 동료이자 엄마로\\n 2019년 오...</td>\n",
       "    </tr>\n",
       "    <tr>\n",
       "      <th>14</th>\n",
       "      <td>8년 전쟁: 이란 vs 이라크</td>\n",
       "      <td>액션, 전쟁</td>\n",
       "      <td>이란</td>\n",
       "      <td>96분</td>\n",
       "      <td>2019 .04.25 개봉</td>\n",
       "      <td>모하메드 호세인 마흐다비안</td>\n",
       "      <td>하디 헤자지파르</td>\n",
       "      <td>15세 관람가</td>\n",
       "      <td>8년간 이어진 이란-이라크 전쟁의 영웅 아흐마드 모테바젤. 지휘관이자 혁명가인 그는...</td>\n",
       "    </tr>\n",
       "    <tr>\n",
       "      <th>15</th>\n",
       "      <td>EBS 댄스파티!</td>\n",
       "      <td>가족</td>\n",
       "      <td>한국</td>\n",
       "      <td>40분</td>\n",
       "      <td>2019 .10.16 개봉</td>\n",
       "      <td>박상용</td>\n",
       "      <td>서홍석(번개맨), 정승민(번개걸), 최오식(나잘난)</td>\n",
       "      <td>전체 관람가</td>\n",
       "      <td>번개맨, 번개걸, 뿡뿡이, 뿡순이, 뚜앙 등 EBS 캐릭터들이 최초로 한 자리에 총...</td>\n",
       "    </tr>\n",
       "    <tr>\n",
       "      <th>16</th>\n",
       "      <td>가버나움</td>\n",
       "      <td>드라마</td>\n",
       "      <td>레바논</td>\n",
       "      <td>126분</td>\n",
       "      <td>2019 .01.24 개봉</td>\n",
       "      <td>나딘 라바키</td>\n",
       "      <td>자인 알 라피아(자인), 요르다노스 시프로우(라힐)</td>\n",
       "      <td>15세 관람가</td>\n",
       "      <td>나를 세상에 태어나게 한\\n \"부모님을 고소하고 싶어요...\"\\n -출생기록조차 없...</td>\n",
       "    </tr>\n",
       "  </tbody>\n",
       "</table>\n",
       "</div>"
      ],
      "text/plain": [
       "                         title        genre  nation running         release  \\\n",
       "0                       0.0MHz           공포      한국    102분  2019 .05.29 개봉   \n",
       "1                      1 더하기 3       멜로/로맨스      홍콩    101분  2019 .12.12 개봉   \n",
       "2                     10 미니츠 곤       액션, 범죄     캐나다     96분  2019 .11.21 개봉   \n",
       "3   100일 동안 100가지로 100퍼센트 행복찾기          코미디      독일    111분  2019 .09.12 개봉   \n",
       "4                          10년          드라마      일본     99분  2019 .12.12 개봉   \n",
       "5                      12번째 솔저           전쟁    노르웨이    135분  2019 .04.11 개봉   \n",
       "6                      13년의 공백      드라마, 가족      일본     71분  2019 .07.04 개봉   \n",
       "7                     1919 유관순        다큐멘터리      한국     79분  2019 .03.14 개봉   \n",
       "8                2047 버추얼 레볼루션       SF, 액션      미국     92분  2019 .10.03 개봉   \n",
       "9                       47미터 2      공포, 스릴러      미국     90분  2019 .08.28 개봉   \n",
       "10              48시간: 지구 최후의 날          코미디  러시아 연방     97분  2019 .08.01 개봉   \n",
       "11                        6솔져스       액션, 전쟁      터키    105분  2019 .05.16 개봉   \n",
       "12                       7 솔져스  액션, 드라마, 전쟁      미국    110분  2019 .09.19 개봉   \n",
       "13                    82년생 김지영          드라마      한국    118분  2019 .10.23 개봉   \n",
       "14            8년 전쟁: 이란 vs 이라크       액션, 전쟁      이란     96분  2019 .04.25 개봉   \n",
       "15                   EBS 댄스파티!           가족      한국     40분  2019 .10.16 개봉   \n",
       "16                        가버나움          드라마     레바논    126분  2019 .01.24 개봉   \n",
       "\n",
       "                     director  \\\n",
       "0                         유선동   \n",
       "1                        프룻 첸   \n",
       "2                   브라이언 A 밀러   \n",
       "3                플로리안 데이비드 핏츠   \n",
       "4   하야카와 치에, 키노시타 유스케, 츠노 메구미   \n",
       "5                     해럴드 즈워트   \n",
       "6                     사이토 타쿠미   \n",
       "7                         신상민   \n",
       "8                   가이-로저 듀버트   \n",
       "9                    요하네스 로버츠   \n",
       "10                  알렉산더 보이코브   \n",
       "11                 M. 차가타이 토순   \n",
       "12                    다미안 뵈르그   \n",
       "13                        김도영   \n",
       "14             모하메드 호세인 마흐다비안   \n",
       "15                        박상용   \n",
       "16                     나딘 라바키   \n",
       "\n",
       "                                                actor     grade  \\\n",
       "0                           정은지(소희), 이성열(상엽), 최윤영(윤정)   15세 관람가   \n",
       "1                                                증미혜자  청소년 관람불가   \n",
       "2                                   브루스 윌리스, 마이클 치클리스   15세 관람가   \n",
       "3                    플로리안 데이비드 핏츠(폴), 마치아스 슈와바이어퍼(토니)   15세 관람가   \n",
       "4                           스기사키 하나, 쿠니무라 준, 이케와키 치즈루    전체 관람가   \n",
       "5             토마스 갈라스타드(얀 볼스루드), 조나단 리스 마이어스(커트 스테이지)   12세 관람가   \n",
       "6   타카하시 잇세이(마츠다 코지), 릴리 프랭키(마츠다 마사토), 사이토 타쿠미(마츠다...   12세 관람가   \n",
       "7                        이새봄(유관순), 양윤희(어윤희), 김나니(권애라)   12세 관람가   \n",
       "8                 마이크 도퍼드(내쉬), 제인 배들러(디나), 요헨 해겔(스틸슨)   15세 관람가   \n",
       "9             소피 넬리스(미아), 시스틴 로즈 스탤론(니콜), 브리안느 쥬(알렉사)   15세 관람가   \n",
       "10                                        알렉세이 드미트리에브   15세 관람가   \n",
       "11                                              케렘 버신   15세 관람가   \n",
       "12                                             디나 샤하비  청소년 관람불가   \n",
       "13                                    정유미(지영), 공유(대현)   12세 관람가   \n",
       "14                                           하디 헤자지파르   15세 관람가   \n",
       "15                       서홍석(번개맨), 정승민(번개걸), 최오식(나잘난)    전체 관람가   \n",
       "16                       자인 알 라피아(자인), 요르다노스 시프로우(라힐)   15세 관람가   \n",
       "\n",
       "                                                story  \n",
       "0   에디슨의 마지막 발명품, 유령 탐지기?\\n “증명할 수 없는 미스터리란 없다”\\n ...  \n",
       "1   멈추지 않는 성욕과 사랑하는 세 명의 남편을 위해,\\n 선상에서 밤낮 없이 몸을 파...  \n",
       "2   동물적인 직감과 1초의 오차도 용납하지 않는 설계자 ‘렉스’\\n 철저한 계획 하에 ...  \n",
       "3   어렸을 적부터 함께 자라고, IT 회사도 공동 운영,\\n 사는 집도 아랫집, 윗집으...  \n",
       "4   안락사, 인공지능과 완전히 통제된 교육,\\n 디지털 유산과 알 권리, 환경오염, 전...  \n",
       "5   제2차 세계대전 나치에 점령된 노르웨이.\\n 나치를 함락시킬 유일한 ‘마틴 레드 작...  \n",
       "6   담배를 사러 다녀 오겠다는 아버지는 그렇게 돌아오지 않았다.\\n 엄마는 아버지 대신...  \n",
       "7   100년 전, 소녀들이 대한독립을 위해 세상에 맞서기 시작했다.\\n 우리가 기억해야...  \n",
       "8   가상현실 기술의 발달로 환상과 현실이 혼합된 근 미래의 유럽.\\n 어느 날, 사이버...  \n",
       "9   물에 잠긴 고대 마야의 수중도시 '시발바'를 향해\\n 짜릿한 동굴 다이빙에 나선 '...  \n",
       "10  어느 날 갑자기 세상이 사라졌다! 하루아침에 모두 붕괴되어 버린 건물들과 사라져버린...  \n",
       "11  터키 국경 지역에서 잔악무도한 테러 단체가 판치는 가운데, 알파슬란 대위가 이끄는 ...  \n",
       "12  군인들이 어떻게 생활하는지, 그들의 인간적인 모습을 알리고 싶어서 미군부대를 따라 ...  \n",
       "13  1982년 봄에 태어나\\n 누군가의 딸이자 아내, 동료이자 엄마로\\n 2019년 오...  \n",
       "14  8년간 이어진 이란-이라크 전쟁의 영웅 아흐마드 모테바젤. 지휘관이자 혁명가인 그는...  \n",
       "15  번개맨, 번개걸, 뿡뿡이, 뿡순이, 뚜앙 등 EBS 캐릭터들이 최초로 한 자리에 총...  \n",
       "16  나를 세상에 태어나게 한\\n \"부모님을 고소하고 싶어요...\"\\n -출생기록조차 없...  "
      ]
     },
     "execution_count": 85,
     "metadata": {},
     "output_type": "execute_result"
    }
   ],
   "source": [
    "df"
   ]
  },
  {
   "cell_type": "markdown",
   "id": "34c90da7",
   "metadata": {
    "ExecuteTime": {
     "end_time": "2021-10-05T10:05:58.731864Z",
     "start_time": "2021-10-05T10:05:58.725865Z"
    }
   },
   "source": [
    "## 코드수정 --> 출연 데이터만 제외하고 수집\n",
    "### 데이터 구성: \n",
    "* 제목\n",
    "* 개요\n",
    "* 감독\n",
    "* 등급\n",
    "* 줄거리"
   ]
  },
  {
   "cell_type": "code",
   "execution_count": 7,
   "id": "748f5273",
   "metadata": {
    "ExecuteTime": {
     "end_time": "2021-10-05T12:41:53.070774Z",
     "start_time": "2021-10-05T12:41:06.924546Z"
    }
   },
   "outputs": [],
   "source": [
    "import pandas as pd\n",
    "# 크롬창(웹드라이버) 열기\n",
    "driver = webdriver.Chrome('C:/Users/sooyeon/Downloads/chromedriver.exe')\n",
    "\n",
    "# 2018 페이지 접속\n",
    "url = \"https://movie.naver.com/movie/sdb/browsing/bmovie.naver?open=2018\"\n",
    "driver.get(url)\n",
    "\n",
    "# 시간 지연\n",
    "time.sleep(2)\n",
    "\n",
    "# 리스트 정의\n",
    "result = []\n",
    "\n",
    "title = []\n",
    "about = []\n",
    "director = []\n",
    "grade = []\n",
    "story = []    \n",
    "\n",
    "# 영화 리스트 불러오기\n",
    "boxes = driver.find_elements_by_css_selector(\"#old_content > ul > li\")\n",
    "link = []\n",
    "for box in boxes:\n",
    "    link.append(box.find_element_by_css_selector('a').get_attribute('href'))\n",
    "    \n",
    "# 링크 한줄 씩 반복문\n",
    "try:\n",
    "    for i in range(0,20):\n",
    "\n",
    "        # i번째 링크 접속하기\n",
    "        driver.get(link[i])\n",
    "\n",
    "        # 시간 지연 \n",
    "        time.sleep(1)\n",
    "\n",
    "        # 제목\n",
    "        title.append(driver.find_element_by_css_selector(\"#content > div.article > div.mv_info_area > div.mv_info > h3 > a\").text)\n",
    "        \n",
    "        # 개요\n",
    "        about.append(driver.find_element_by_css_selector('#content > div.article > div.mv_info_area > div.mv_info > dl > dd:nth-child(2)').text)\n",
    "\n",
    "        # 감독\n",
    "        director.append(driver.find_element_by_css_selector(\"#content > div.article > div.mv_info_area > div.mv_info > dl > dd:nth-child(4)\").text)\n",
    "\n",
    "        # 등급\n",
    "        grade.append(driver.find_element_by_css_selector(\"#content > div.article > div.mv_info_area > div.mv_info > dl > dd:nth-child(8) > p > a\").text)\n",
    "\n",
    "        # 줄거리\n",
    "        storypre = driver.find_element_by_css_selector(\"#content > div.article > div.section_group.section_group_frst > div:nth-child(1) > div > div > p\").text\n",
    "        storypre.replace(\"\\n\",\"\")\n",
    "        story.append(storypre)\n",
    "\n",
    "\n",
    "        # 데이터 프레임 생성\n",
    "        df = pd.DataFrame({'title':title,'about':about, 'director':director, 'grade':grade, 'story':story})\n",
    "        # 결과 값에 추가\n",
    "        result.append(df)\n",
    "\n",
    "        # 뒤로가기\n",
    "        driver.back()\n",
    "\n",
    "        \n",
    "except NoSuchElementException:\n",
    "    pass"
   ]
  },
  {
   "cell_type": "markdown",
   "id": "0eaba402",
   "metadata": {},
   "source": [
    "###  수정전과 마찬가지로 출연정보가 없는 데이터를 기준으로 수집을 멈춥니다"
   ]
  },
  {
   "cell_type": "code",
   "execution_count": 8,
   "id": "c63a7d1c",
   "metadata": {
    "ExecuteTime": {
     "end_time": "2021-10-05T12:42:08.055691Z",
     "start_time": "2021-10-05T12:42:07.998697Z"
    }
   },
   "outputs": [
    {
     "data": {
      "text/html": [
       "<div>\n",
       "<style scoped>\n",
       "    .dataframe tbody tr th:only-of-type {\n",
       "        vertical-align: middle;\n",
       "    }\n",
       "\n",
       "    .dataframe tbody tr th {\n",
       "        vertical-align: top;\n",
       "    }\n",
       "\n",
       "    .dataframe thead th {\n",
       "        text-align: right;\n",
       "    }\n",
       "</style>\n",
       "<table border=\"1\" class=\"dataframe\">\n",
       "  <thead>\n",
       "    <tr style=\"text-align: right;\">\n",
       "      <th></th>\n",
       "      <th>title</th>\n",
       "      <th>about</th>\n",
       "      <th>director</th>\n",
       "      <th>grade</th>\n",
       "      <th>story</th>\n",
       "    </tr>\n",
       "  </thead>\n",
       "  <tbody>\n",
       "    <tr>\n",
       "      <th>0</th>\n",
       "      <td>12 솔져스</td>\n",
       "      <td>액션, 드라마, 전쟁 미국 130분 2018 .01.31 개봉</td>\n",
       "      <td>니콜라이 퓰시</td>\n",
       "      <td>15세 관람가</td>\n",
       "      <td>전 세계가 목격한 사상 최악의 테러 발생 15일 후,\\n '미치(크리스 헴스워스)'...</td>\n",
       "    </tr>\n",
       "    <tr>\n",
       "      <th>1</th>\n",
       "      <td>120BPM</td>\n",
       "      <td>드라마 프랑스 143분 2018 .03.15 개봉</td>\n",
       "      <td>로빈 캉필로</td>\n",
       "      <td>청소년 관람불가</td>\n",
       "      <td>1989년 파리, 에이즈의 확산에도 무책임한 정부와 제약 회사에 대항하는\\n '액트...</td>\n",
       "    </tr>\n",
       "    <tr>\n",
       "      <th>2</th>\n",
       "      <td>12피트</td>\n",
       "      <td>스릴러 미국 85분 2018 .11.08 개봉</td>\n",
       "      <td>맷 에스카다리</td>\n",
       "      <td>15세 관람가</td>\n",
       "      <td>긴 연휴를 앞둔 하루 전, 수영장을 찾은 ‘브리’.\\n 언니 ‘조나’와 함께 수영장...</td>\n",
       "    </tr>\n",
       "    <tr>\n",
       "      <th>3</th>\n",
       "      <td>1991, 봄</td>\n",
       "      <td>다큐멘터리 한국 89분 2018 .10.31 개봉</td>\n",
       "      <td>권경원</td>\n",
       "      <td>12세 관람가</td>\n",
       "      <td>1987년 승리의 함성이 사그라진 1991년의 봄.\\n 국가의 불의에 저항하던 11...</td>\n",
       "    </tr>\n",
       "    <tr>\n",
       "      <th>4</th>\n",
       "      <td>19금 특별한 정사</td>\n",
       "      <td>멜로/로맨스 한국 58분 2018 .04.24 개봉</td>\n",
       "      <td>닥터 필</td>\n",
       "      <td>청소년 관람불가</td>\n",
       "      <td>화가인 준식은 누드화를 그리기 위해 모델인 수정을 섭외한다. 수정의 아름다운 몸에 ...</td>\n",
       "    </tr>\n",
       "    <tr>\n",
       "      <th>5</th>\n",
       "      <td>1급기밀</td>\n",
       "      <td>드라마 한국 101분 2018 .01.24 개봉</td>\n",
       "      <td>홍기선</td>\n",
       "      <td>12세 관람가</td>\n",
       "      <td>국방부 군수본부 항공부품구매과 과장으로 부임한 박대익 중령(김상경)에게 어느 날,\\...</td>\n",
       "    </tr>\n",
       "    <tr>\n",
       "      <th>6</th>\n",
       "      <td>2017 동명이인 프로젝트</td>\n",
       "      <td>한국 61분 2018 .05.25 개봉</td>\n",
       "      <td>이경원</td>\n",
       "      <td>12세 관람가</td>\n",
       "      <td>'어느 동네, 두사람의 이야기' 라는 컨셉으로 제작된 옴니버스 시리즈.\\n \\n 동...</td>\n",
       "    </tr>\n",
       "    <tr>\n",
       "      <th>7</th>\n",
       "      <td>2025 지구전쟁: 얼리전스 오브 파워</td>\n",
       "      <td>SF, 액션 미국 83분 2018 .06.14 개봉</td>\n",
       "      <td>마이클 크럼</td>\n",
       "      <td>15세 관람가</td>\n",
       "      <td>가까운 미래, 기상 이변으로 초능력자들이 생겨난 세상.\\n 초능력자들은 세상을 지배...</td>\n",
       "    </tr>\n",
       "    <tr>\n",
       "      <th>8</th>\n",
       "      <td>22</td>\n",
       "      <td>다큐멘터리 한국 , 중국 98분 2018 .08.14 개봉</td>\n",
       "      <td>궈커</td>\n",
       "      <td>전체 관람가</td>\n",
       "      <td>중국 지역 일본군 ‘위안부’ 피해자 20만 명\\n 2014년 촬영 당시 생존자 단 ...</td>\n",
       "    </tr>\n",
       "    <tr>\n",
       "      <th>9</th>\n",
       "      <td>22년 후의 고백</td>\n",
       "      <td>스릴러 일본 117분 2018 .01.17 개봉</td>\n",
       "      <td>이리에 유</td>\n",
       "      <td>15세 관람가</td>\n",
       "      <td>다섯 번의 연쇄살인 사건. 나는 좌절하고 말았다.\\n 무능한 경찰은 내가 누군지 짐...</td>\n",
       "    </tr>\n",
       "    <tr>\n",
       "      <th>10</th>\n",
       "      <td>28세 미성년</td>\n",
       "      <td>멜로/로맨스, 드라마 중국 105분 2018 .11.21 개봉</td>\n",
       "      <td>장 모</td>\n",
       "      <td>15세 관람가</td>\n",
       "      <td>애인 '마오'의 달콤한 청혼만을 십 년째 기다린 스물여덟 살 '량시아'는 프러포즈는...</td>\n",
       "    </tr>\n",
       "    <tr>\n",
       "      <th>11</th>\n",
       "      <td>5.18 힌츠페터 스토리</td>\n",
       "      <td>다큐멘터리 한국 95분 2018 .05.17 개봉</td>\n",
       "      <td>장영주</td>\n",
       "      <td>12세 관람가</td>\n",
       "      <td>80년 5월, 민주화를 촉구하는 시위와 항쟁으로 도시는 봉쇄되고 모든 전화선은 차단...</td>\n",
       "    </tr>\n",
       "    <tr>\n",
       "      <th>12</th>\n",
       "      <td>50가지 그림자: 해방</td>\n",
       "      <td>드라마, 멜로/로맨스, 스릴러 미국 105분 2018 .02.21 개봉</td>\n",
       "      <td>제임스 폴리</td>\n",
       "      <td>청소년 관람불가</td>\n",
       "      <td>모든 과거를 잊고 서로에게 더 깊게 빠져든 ‘크리스찬 그레이’와 ‘아나스타샤’.\\n...</td>\n",
       "    </tr>\n",
       "    <tr>\n",
       "      <th>13</th>\n",
       "      <td>60일의 썸머</td>\n",
       "      <td>드라마 한국 94분 2018 .10.25 개봉</td>\n",
       "      <td>김희영</td>\n",
       "      <td>15세 관람가</td>\n",
       "      <td>아름다운 노년의 동일과 망나니 재훈의 가족스토리!\\n \\n 동네에서 제일 멋진 70...</td>\n",
       "    </tr>\n",
       "    <tr>\n",
       "      <th>14</th>\n",
       "      <td>7년의 밤</td>\n",
       "      <td>스릴러, 드라마 한국 123분 2018 .03.28 개봉</td>\n",
       "      <td>추창민</td>\n",
       "      <td>15세 관람가</td>\n",
       "      <td>우발적 사고\\n 잘못된 선택\\n \"그날 밤, 나는 살인자가 되었다\"\\n \\n 인적이...</td>\n",
       "    </tr>\n",
       "    <tr>\n",
       "      <th>15</th>\n",
       "      <td>9/11</td>\n",
       "      <td>드라마, 액션 미국 88분 2018 .01.31 개봉</td>\n",
       "      <td>마틴 귀귀</td>\n",
       "      <td>15세 관람가</td>\n",
       "      <td>2001년 9월 11일 아침.\\n 세계무역센터에서 1층으로 향하는 엘리베이터에 탑승...</td>\n",
       "    </tr>\n",
       "    <tr>\n",
       "      <th>16</th>\n",
       "      <td>B급 며느리</td>\n",
       "      <td>다큐멘터리 한국 80분 2018 .01.17 개봉</td>\n",
       "      <td>선호빈</td>\n",
       "      <td>12세 관람가</td>\n",
       "      <td>대한민국 며느리들이 짊어져 온\\n 모든 억압과 착취에 맞서겠다는 B급 며느리 ‘진영...</td>\n",
       "    </tr>\n",
       "    <tr>\n",
       "      <th>17</th>\n",
       "      <td>PMC: 더 벙커</td>\n",
       "      <td>액션 한국 124분 2018 .12.26 개봉</td>\n",
       "      <td>김병우</td>\n",
       "      <td>15세 관람가</td>\n",
       "      <td>글로벌 군사기업(PMC) 블랙리저드의 캡틴 에이헵(하정우)은\\n 미국 CIA의 의뢰...</td>\n",
       "    </tr>\n",
       "  </tbody>\n",
       "</table>\n",
       "</div>"
      ],
      "text/plain": [
       "                    title                                    about director  \\\n",
       "0                  12 솔져스       액션, 드라마, 전쟁 미국 130분 2018 .01.31 개봉  니콜라이 퓰시   \n",
       "1                  120BPM              드라마 프랑스 143분 2018 .03.15 개봉   로빈 캉필로   \n",
       "2                    12피트                스릴러 미국 85분 2018 .11.08 개봉  맷 에스카다리   \n",
       "3                 1991, 봄              다큐멘터리 한국 89분 2018 .10.31 개봉      권경원   \n",
       "4              19금 특별한 정사             멜로/로맨스 한국 58분 2018 .04.24 개봉     닥터 필   \n",
       "5                    1급기밀               드라마 한국 101분 2018 .01.24 개봉      홍기선   \n",
       "6          2017 동명이인 프로젝트                    한국 61분 2018 .05.25 개봉      이경원   \n",
       "7   2025 지구전쟁: 얼리전스 오브 파워             SF, 액션 미국 83분 2018 .06.14 개봉   마이클 크럼   \n",
       "8                      22         다큐멘터리 한국 , 중국 98분 2018 .08.14 개봉       궈커   \n",
       "9               22년 후의 고백               스릴러 일본 117분 2018 .01.17 개봉    이리에 유   \n",
       "10                28세 미성년       멜로/로맨스, 드라마 중국 105분 2018 .11.21 개봉      장 모   \n",
       "11          5.18 힌츠페터 스토리              다큐멘터리 한국 95분 2018 .05.17 개봉      장영주   \n",
       "12           50가지 그림자: 해방  드라마, 멜로/로맨스, 스릴러 미국 105분 2018 .02.21 개봉   제임스 폴리   \n",
       "13                60일의 썸머                드라마 한국 94분 2018 .10.25 개봉      김희영   \n",
       "14                  7년의 밤          스릴러, 드라마 한국 123분 2018 .03.28 개봉      추창민   \n",
       "15                   9/11            드라마, 액션 미국 88분 2018 .01.31 개봉    마틴 귀귀   \n",
       "16                 B급 며느리              다큐멘터리 한국 80분 2018 .01.17 개봉      선호빈   \n",
       "17              PMC: 더 벙커                액션 한국 124분 2018 .12.26 개봉      김병우   \n",
       "\n",
       "       grade                                              story  \n",
       "0    15세 관람가  전 세계가 목격한 사상 최악의 테러 발생 15일 후,\\n '미치(크리스 헴스워스)'...  \n",
       "1   청소년 관람불가  1989년 파리, 에이즈의 확산에도 무책임한 정부와 제약 회사에 대항하는\\n '액트...  \n",
       "2    15세 관람가  긴 연휴를 앞둔 하루 전, 수영장을 찾은 ‘브리’.\\n 언니 ‘조나’와 함께 수영장...  \n",
       "3    12세 관람가  1987년 승리의 함성이 사그라진 1991년의 봄.\\n 국가의 불의에 저항하던 11...  \n",
       "4   청소년 관람불가  화가인 준식은 누드화를 그리기 위해 모델인 수정을 섭외한다. 수정의 아름다운 몸에 ...  \n",
       "5    12세 관람가  국방부 군수본부 항공부품구매과 과장으로 부임한 박대익 중령(김상경)에게 어느 날,\\...  \n",
       "6    12세 관람가  '어느 동네, 두사람의 이야기' 라는 컨셉으로 제작된 옴니버스 시리즈.\\n \\n 동...  \n",
       "7    15세 관람가  가까운 미래, 기상 이변으로 초능력자들이 생겨난 세상.\\n 초능력자들은 세상을 지배...  \n",
       "8     전체 관람가  중국 지역 일본군 ‘위안부’ 피해자 20만 명\\n 2014년 촬영 당시 생존자 단 ...  \n",
       "9    15세 관람가  다섯 번의 연쇄살인 사건. 나는 좌절하고 말았다.\\n 무능한 경찰은 내가 누군지 짐...  \n",
       "10   15세 관람가  애인 '마오'의 달콤한 청혼만을 십 년째 기다린 스물여덟 살 '량시아'는 프러포즈는...  \n",
       "11   12세 관람가  80년 5월, 민주화를 촉구하는 시위와 항쟁으로 도시는 봉쇄되고 모든 전화선은 차단...  \n",
       "12  청소년 관람불가  모든 과거를 잊고 서로에게 더 깊게 빠져든 ‘크리스찬 그레이’와 ‘아나스타샤’.\\n...  \n",
       "13   15세 관람가  아름다운 노년의 동일과 망나니 재훈의 가족스토리!\\n \\n 동네에서 제일 멋진 70...  \n",
       "14   15세 관람가  우발적 사고\\n 잘못된 선택\\n \"그날 밤, 나는 살인자가 되었다\"\\n \\n 인적이...  \n",
       "15   15세 관람가  2001년 9월 11일 아침.\\n 세계무역센터에서 1층으로 향하는 엘리베이터에 탑승...  \n",
       "16   12세 관람가  대한민국 며느리들이 짊어져 온\\n 모든 억압과 착취에 맞서겠다는 B급 며느리 ‘진영...  \n",
       "17   15세 관람가  글로벌 군사기업(PMC) 블랙리저드의 캡틴 에이헵(하정우)은\\n 미국 CIA의 의뢰...  "
      ]
     },
     "execution_count": 8,
     "metadata": {},
     "output_type": "execute_result"
    }
   ],
   "source": [
    "df "
   ]
  },
  {
   "cell_type": "markdown",
   "id": "981ea42c",
   "metadata": {},
   "source": [
    "개요부분"
   ]
  },
  {
   "cell_type": "code",
   "execution_count": 88,
   "id": "61180fa2",
   "metadata": {
    "ExecuteTime": {
     "end_time": "2021-10-05T09:28:58.765735Z",
     "start_time": "2021-10-05T09:28:54.074230Z"
    },
    "scrolled": true
   },
   "outputs": [
    {
     "data": {
      "text/plain": [
       "'한국 61분 2018 .05.25 개봉'"
      ]
     },
     "execution_count": 88,
     "metadata": {},
     "output_type": "execute_result"
    }
   ],
   "source": [
    "import pandas as pd\n",
    "# 크롬창(웹드라이버) 열기\n",
    "driver = webdriver.Chrome('C:/Users/sooyeon/Downloads/chromedriver.exe')\n",
    "\n",
    "# 2018 페이지 접속\n",
    "url = \"https://movie.naver.com/movie/bi/mi/basic.naver?code=166416\"\n",
    "driver.get(url)\n",
    "\n",
    "driver.find_element_by_css_selector('#content > div.article > div.mv_info_area > div.mv_info > dl > dd:nth-child(2)').text"
   ]
  },
  {
   "cell_type": "markdown",
   "id": "f4880034",
   "metadata": {},
   "source": [
    "## 오류 (try except 문 적용 전)\n",
    "NoSuchElementException: Message: no such element: Unable to locate element: {\"method\":\"css selector\",\"selector\":\"#content > div.article > div.mv_info_area > div.mv_info > dl > dd:nth-child(8) > p > a\"}\n",
    "  (Session info: chrome=94.0.4606.61)\n"
   ]
  },
  {
   "cell_type": "code",
   "execution_count": 62,
   "id": "9cdf546f",
   "metadata": {
    "ExecuteTime": {
     "end_time": "2021-10-05T06:57:50.882096Z",
     "start_time": "2021-10-05T06:57:04.129229Z"
    }
   },
   "outputs": [
    {
     "ename": "NoSuchElementException",
     "evalue": "Message: no such element: Unable to locate element: {\"method\":\"css selector\",\"selector\":\"#content > div.article > div.mv_info_area > div.mv_info > dl > dd:nth-child(8) > p > a\"}\n  (Session info: chrome=94.0.4606.61)\n",
     "output_type": "error",
     "traceback": [
      "\u001b[1;31m---------------------------------------------------------------------------\u001b[0m",
      "\u001b[1;31mNoSuchElementException\u001b[0m                    Traceback (most recent call last)",
      "\u001b[1;32m<ipython-input-62-32ec3a1e4b58>\u001b[0m in \u001b[0;36m<module>\u001b[1;34m\u001b[0m\n\u001b[0;32m     60\u001b[0m \u001b[1;33m\u001b[0m\u001b[0m\n\u001b[0;32m     61\u001b[0m     \u001b[1;31m# 등급\u001b[0m\u001b[1;33m\u001b[0m\u001b[1;33m\u001b[0m\u001b[1;33m\u001b[0m\u001b[0m\n\u001b[1;32m---> 62\u001b[1;33m     \u001b[0mgrade\u001b[0m\u001b[1;33m.\u001b[0m\u001b[0mappend\u001b[0m\u001b[1;33m(\u001b[0m\u001b[0mdriver\u001b[0m\u001b[1;33m.\u001b[0m\u001b[0mfind_element_by_css_selector\u001b[0m\u001b[1;33m(\u001b[0m\u001b[1;34m\"#content > div.article > div.mv_info_area > div.mv_info > dl > dd:nth-child(8) > p > a\"\u001b[0m\u001b[1;33m)\u001b[0m\u001b[1;33m.\u001b[0m\u001b[0mtext\u001b[0m\u001b[1;33m)\u001b[0m\u001b[1;33m\u001b[0m\u001b[1;33m\u001b[0m\u001b[0m\n\u001b[0m\u001b[0;32m     63\u001b[0m     \u001b[1;31m# 줄거리\u001b[0m\u001b[1;33m\u001b[0m\u001b[1;33m\u001b[0m\u001b[1;33m\u001b[0m\u001b[0m\n\u001b[0;32m     64\u001b[0m     \u001b[0mstorypre\u001b[0m \u001b[1;33m=\u001b[0m \u001b[0mdriver\u001b[0m\u001b[1;33m.\u001b[0m\u001b[0mfind_element_by_css_selector\u001b[0m\u001b[1;33m(\u001b[0m\u001b[1;34m\"#content > div.article > div.section_group.section_group_frst > div:nth-child(1) > div > div > p\"\u001b[0m\u001b[1;33m)\u001b[0m\u001b[1;33m.\u001b[0m\u001b[0mtext\u001b[0m\u001b[1;33m\u001b[0m\u001b[1;33m\u001b[0m\u001b[0m\n",
      "\u001b[1;32mC:\\ProgramData\\Anaconda3\\lib\\site-packages\\selenium\\webdriver\\remote\\webdriver.py\u001b[0m in \u001b[0;36mfind_element_by_css_selector\u001b[1;34m(self, css_selector)\u001b[0m\n\u001b[0;32m    596\u001b[0m             \u001b[0melement\u001b[0m \u001b[1;33m=\u001b[0m \u001b[0mdriver\u001b[0m\u001b[1;33m.\u001b[0m\u001b[0mfind_element_by_css_selector\u001b[0m\u001b[1;33m(\u001b[0m\u001b[1;34m'#foo'\u001b[0m\u001b[1;33m)\u001b[0m\u001b[1;33m\u001b[0m\u001b[1;33m\u001b[0m\u001b[0m\n\u001b[0;32m    597\u001b[0m         \"\"\"\n\u001b[1;32m--> 598\u001b[1;33m         \u001b[1;32mreturn\u001b[0m \u001b[0mself\u001b[0m\u001b[1;33m.\u001b[0m\u001b[0mfind_element\u001b[0m\u001b[1;33m(\u001b[0m\u001b[0mby\u001b[0m\u001b[1;33m=\u001b[0m\u001b[0mBy\u001b[0m\u001b[1;33m.\u001b[0m\u001b[0mCSS_SELECTOR\u001b[0m\u001b[1;33m,\u001b[0m \u001b[0mvalue\u001b[0m\u001b[1;33m=\u001b[0m\u001b[0mcss_selector\u001b[0m\u001b[1;33m)\u001b[0m\u001b[1;33m\u001b[0m\u001b[1;33m\u001b[0m\u001b[0m\n\u001b[0m\u001b[0;32m    599\u001b[0m \u001b[1;33m\u001b[0m\u001b[0m\n\u001b[0;32m    600\u001b[0m     \u001b[1;32mdef\u001b[0m \u001b[0mfind_elements_by_css_selector\u001b[0m\u001b[1;33m(\u001b[0m\u001b[0mself\u001b[0m\u001b[1;33m,\u001b[0m \u001b[0mcss_selector\u001b[0m\u001b[1;33m)\u001b[0m\u001b[1;33m:\u001b[0m\u001b[1;33m\u001b[0m\u001b[1;33m\u001b[0m\u001b[0m\n",
      "\u001b[1;32mC:\\ProgramData\\Anaconda3\\lib\\site-packages\\selenium\\webdriver\\remote\\webdriver.py\u001b[0m in \u001b[0;36mfind_element\u001b[1;34m(self, by, value)\u001b[0m\n\u001b[0;32m    974\u001b[0m                 \u001b[0mby\u001b[0m \u001b[1;33m=\u001b[0m \u001b[0mBy\u001b[0m\u001b[1;33m.\u001b[0m\u001b[0mCSS_SELECTOR\u001b[0m\u001b[1;33m\u001b[0m\u001b[1;33m\u001b[0m\u001b[0m\n\u001b[0;32m    975\u001b[0m                 \u001b[0mvalue\u001b[0m \u001b[1;33m=\u001b[0m \u001b[1;34m'[name=\"%s\"]'\u001b[0m \u001b[1;33m%\u001b[0m \u001b[0mvalue\u001b[0m\u001b[1;33m\u001b[0m\u001b[1;33m\u001b[0m\u001b[0m\n\u001b[1;32m--> 976\u001b[1;33m         return self.execute(Command.FIND_ELEMENT, {\n\u001b[0m\u001b[0;32m    977\u001b[0m             \u001b[1;34m'using'\u001b[0m\u001b[1;33m:\u001b[0m \u001b[0mby\u001b[0m\u001b[1;33m,\u001b[0m\u001b[1;33m\u001b[0m\u001b[1;33m\u001b[0m\u001b[0m\n\u001b[0;32m    978\u001b[0m             'value': value})['value']\n",
      "\u001b[1;32mC:\\ProgramData\\Anaconda3\\lib\\site-packages\\selenium\\webdriver\\remote\\webdriver.py\u001b[0m in \u001b[0;36mexecute\u001b[1;34m(self, driver_command, params)\u001b[0m\n\u001b[0;32m    319\u001b[0m         \u001b[0mresponse\u001b[0m \u001b[1;33m=\u001b[0m \u001b[0mself\u001b[0m\u001b[1;33m.\u001b[0m\u001b[0mcommand_executor\u001b[0m\u001b[1;33m.\u001b[0m\u001b[0mexecute\u001b[0m\u001b[1;33m(\u001b[0m\u001b[0mdriver_command\u001b[0m\u001b[1;33m,\u001b[0m \u001b[0mparams\u001b[0m\u001b[1;33m)\u001b[0m\u001b[1;33m\u001b[0m\u001b[1;33m\u001b[0m\u001b[0m\n\u001b[0;32m    320\u001b[0m         \u001b[1;32mif\u001b[0m \u001b[0mresponse\u001b[0m\u001b[1;33m:\u001b[0m\u001b[1;33m\u001b[0m\u001b[1;33m\u001b[0m\u001b[0m\n\u001b[1;32m--> 321\u001b[1;33m             \u001b[0mself\u001b[0m\u001b[1;33m.\u001b[0m\u001b[0merror_handler\u001b[0m\u001b[1;33m.\u001b[0m\u001b[0mcheck_response\u001b[0m\u001b[1;33m(\u001b[0m\u001b[0mresponse\u001b[0m\u001b[1;33m)\u001b[0m\u001b[1;33m\u001b[0m\u001b[1;33m\u001b[0m\u001b[0m\n\u001b[0m\u001b[0;32m    322\u001b[0m             response['value'] = self._unwrap_value(\n\u001b[0;32m    323\u001b[0m                 response.get('value', None))\n",
      "\u001b[1;32mC:\\ProgramData\\Anaconda3\\lib\\site-packages\\selenium\\webdriver\\remote\\errorhandler.py\u001b[0m in \u001b[0;36mcheck_response\u001b[1;34m(self, response)\u001b[0m\n\u001b[0;32m    240\u001b[0m                 \u001b[0malert_text\u001b[0m \u001b[1;33m=\u001b[0m \u001b[0mvalue\u001b[0m\u001b[1;33m[\u001b[0m\u001b[1;34m'alert'\u001b[0m\u001b[1;33m]\u001b[0m\u001b[1;33m.\u001b[0m\u001b[0mget\u001b[0m\u001b[1;33m(\u001b[0m\u001b[1;34m'text'\u001b[0m\u001b[1;33m)\u001b[0m\u001b[1;33m\u001b[0m\u001b[1;33m\u001b[0m\u001b[0m\n\u001b[0;32m    241\u001b[0m             \u001b[1;32mraise\u001b[0m \u001b[0mexception_class\u001b[0m\u001b[1;33m(\u001b[0m\u001b[0mmessage\u001b[0m\u001b[1;33m,\u001b[0m \u001b[0mscreen\u001b[0m\u001b[1;33m,\u001b[0m \u001b[0mstacktrace\u001b[0m\u001b[1;33m,\u001b[0m \u001b[0malert_text\u001b[0m\u001b[1;33m)\u001b[0m\u001b[1;33m\u001b[0m\u001b[1;33m\u001b[0m\u001b[0m\n\u001b[1;32m--> 242\u001b[1;33m         \u001b[1;32mraise\u001b[0m \u001b[0mexception_class\u001b[0m\u001b[1;33m(\u001b[0m\u001b[0mmessage\u001b[0m\u001b[1;33m,\u001b[0m \u001b[0mscreen\u001b[0m\u001b[1;33m,\u001b[0m \u001b[0mstacktrace\u001b[0m\u001b[1;33m)\u001b[0m\u001b[1;33m\u001b[0m\u001b[1;33m\u001b[0m\u001b[0m\n\u001b[0m\u001b[0;32m    243\u001b[0m \u001b[1;33m\u001b[0m\u001b[0m\n\u001b[0;32m    244\u001b[0m     \u001b[1;32mdef\u001b[0m \u001b[0m_value_or_default\u001b[0m\u001b[1;33m(\u001b[0m\u001b[0mself\u001b[0m\u001b[1;33m,\u001b[0m \u001b[0mobj\u001b[0m\u001b[1;33m,\u001b[0m \u001b[0mkey\u001b[0m\u001b[1;33m,\u001b[0m \u001b[0mdefault\u001b[0m\u001b[1;33m)\u001b[0m\u001b[1;33m:\u001b[0m\u001b[1;33m\u001b[0m\u001b[1;33m\u001b[0m\u001b[0m\n",
      "\u001b[1;31mNoSuchElementException\u001b[0m: Message: no such element: Unable to locate element: {\"method\":\"css selector\",\"selector\":\"#content > div.article > div.mv_info_area > div.mv_info > dl > dd:nth-child(8) > p > a\"}\n  (Session info: chrome=94.0.4606.61)\n"
     ]
    }
   ],
   "source": [
    "import pandas as pd\n",
    "# 크롬창(웹드라이버) 열기\n",
    "driver = webdriver.Chrome('C:/Users/sooyeon/Downloads/chromedriver.exe')\n",
    "\n",
    "# 2019 페이지 접속\n",
    "url = \"https://movie.naver.com/movie/sdb/browsing/bmovie.naver?open=2019\"\n",
    "driver.get(url)\n",
    "\n",
    "# 시간 지연\n",
    "time.sleep(2)\n",
    "\n",
    "# 리스트 정의\n",
    "result = []\n",
    "\n",
    "title = []\n",
    "genre = []\n",
    "nation = []\n",
    "running = []\n",
    "release = []\n",
    "director = []\n",
    "actor = []\n",
    "grade = []\n",
    "story = []    \n",
    "\n",
    "# 영화 리스트 불러오기\n",
    "boxes = driver.find_elements_by_css_selector(\"#old_content > ul > li\")\n",
    "link = []\n",
    "for box in boxes:\n",
    "    link.append(box.find_element_by_css_selector('a').get_attribute('href'))\n",
    "    \n",
    "# 링크 한줄 씩 반복문\n",
    "\n",
    "for i in range(0,20):\n",
    "    # i번째 링크 접속하기\n",
    "    driver.get(link[i])\n",
    "    # 시간 지연 \n",
    "    time.sleep(1)\n",
    "    # 제목\n",
    "    title.append(driver.find_element_by_css_selector(\"#content > div.article > div.mv_info_area > div.mv_info > h3 > a\").text)\n",
    "    # 장르\n",
    "    genre.append(driver.find_element_by_css_selector(\"#content > div.article > div.mv_info_area > div.mv_info > dl > dd:nth-child(2) > p > span:nth-child(1)\").text)\n",
    "    # 국가\n",
    "    nation.append(driver.find_element_by_css_selector(\"#content > div.article > div.mv_info_area > div.mv_info > dl > dd:nth-child(2) > p > span:nth-child(2) > a\").text)\n",
    "    # 러닝타임\n",
    "    running.append(driver.find_element_by_css_selector(\"#content > div.article > div.mv_info_area > div.mv_info > dl > dd:nth-child(2) > p > span:nth-child(3)\").text)\n",
    "    # 개봉일\n",
    "    release.append(driver.find_element_by_css_selector(\"#content > div.article > div.mv_info_area > div.mv_info > dl > dd:nth-child(2) > p > span:nth-child(4)\").text)\n",
    "    # 감독\n",
    "    director.append(driver.find_element_by_css_selector(\"#content > div.article > div.mv_info_area > div.mv_info > dl > dd:nth-child(4)\").text)\n",
    "    \n",
    "    # 출연\n",
    "    when = driver.find_element_by_css_selector(\"#content > div.article > div.mv_info_area > div.mv_info > dl > dd:nth-child(6) > p\")\n",
    "    \n",
    "    if when is None:\n",
    "        actor.append(\"Null\")       \n",
    "    else:\n",
    "        actor.append(when.text)\n",
    "\n",
    "    \n",
    "    \n",
    "    # 등급\n",
    "    grade.append(driver.find_element_by_css_selector(\"#content > div.article > div.mv_info_area > div.mv_info > dl > dd:nth-child(8) > p > a\").text)\n",
    "    # 줄거리\n",
    "    storypre = driver.find_element_by_css_selector(\"#content > div.article > div.section_group.section_group_frst > div:nth-child(1) > div > div > p\").text\n",
    "    storypre.replace(\"\\n\",\"\")\n",
    "    story.append(storypre)\n",
    "    # 데이터 프레임 생성\n",
    "    df = pd.DataFrame({'title':title,'genre':genre,'nation':nation,'running':running, 'release':release, 'director':director, 'actor':actor, 'grade':grade, 'story':story})\n",
    "    # 결과 값에 추가\n",
    "    result.append(df)\n",
    "    # 뒤로가기\n",
    "    driver.back()"
   ]
  },
  {
   "cell_type": "markdown",
   "id": "43364ce2",
   "metadata": {},
   "source": [
    "---"
   ]
  },
  {
   "cell_type": "markdown",
   "id": "a58f66cf",
   "metadata": {},
   "source": [
    "### 영화 정보 수집 사용하는 코드 (한줄씩)"
   ]
  },
  {
   "cell_type": "markdown",
   "id": "8cfd22d4",
   "metadata": {},
   "source": [
    "## 영화 정보 수집하기"
   ]
  },
  {
   "cell_type": "code",
   "execution_count": null,
   "id": "a4e00352",
   "metadata": {},
   "outputs": [],
   "source": [
    "#content > div.article > div.mv_info_area > div.mv_info"
   ]
  },
  {
   "cell_type": "code",
   "execution_count": null,
   "id": "73f7dea1",
   "metadata": {},
   "outputs": [],
   "source": [
    "# 크롬창(웹드라이버) 열기\n",
    "driver = webdriver.Chrome('C:/Users/sooyeon/Downloads/chromedriver.exe')\n",
    "\n",
    "# 2019 페이지 접속\n",
    "driver.get(\"https://movie.naver.com/movie/sdb/browsing/bmovie.naver?open=2019\")\n",
    "\n",
    "time.sleep(2)"
   ]
  },
  {
   "cell_type": "markdown",
   "id": "90976b34",
   "metadata": {},
   "source": [
    "## 영화 리뷰 수집하기"
   ]
  },
  {
   "cell_type": "code",
   "execution_count": null,
   "id": "a65d3b71",
   "metadata": {},
   "outputs": [],
   "source": [
    "import requests\n",
    "from bs4 import BeautifulSoup\n",
    "from selenium import webdriver\n",
    "import time"
   ]
  },
  {
   "cell_type": "code",
   "execution_count": null,
   "id": "4ad4b0b9",
   "metadata": {},
   "outputs": [],
   "source": [
    "import requests\n",
    "from bs4 import BeautifulSoup"
   ]
  },
  {
   "cell_type": "markdown",
   "id": "d692637a",
   "metadata": {},
   "source": [
    "### 페이지 접속"
   ]
  },
  {
   "cell_type": "code",
   "execution_count": 5,
   "id": "09d6ce14",
   "metadata": {
    "ExecuteTime": {
     "end_time": "2021-10-05T04:21:52.078872Z",
     "start_time": "2021-10-05T04:21:47.524407Z"
    }
   },
   "outputs": [],
   "source": [
    "# 크롬창(웹드라이버) 열기\n",
    "driver = webdriver.Chrome('C:/Users/sooyeon/Downloads/chromedriver.exe')\n",
    "\n",
    "# 겨울왕국2 페이지 접속\n",
    "driver.get(\"https://movie.naver.com/movie/bi/mi/basic.naver?code=136873\")\n",
    "\n",
    "time.sleep(2)"
   ]
  },
  {
   "cell_type": "markdown",
   "id": "c8eb5586",
   "metadata": {},
   "source": [
    "## 영화정보"
   ]
  },
  {
   "cell_type": "markdown",
   "id": "bbab7c0b",
   "metadata": {
    "ExecuteTime": {
     "end_time": "2021-10-05T04:24:46.112293Z",
     "start_time": "2021-10-05T04:24:46.103326Z"
    }
   },
   "source": [
    "### 제목 \n",
    "* #content > div.article > div.mv_info_area > div.mv_info > h3 > a"
   ]
  },
  {
   "cell_type": "code",
   "execution_count": 6,
   "id": "126e46db",
   "metadata": {
    "ExecuteTime": {
     "end_time": "2021-10-05T04:21:52.619934Z",
     "start_time": "2021-10-05T04:21:52.559402Z"
    }
   },
   "outputs": [
    {
     "data": {
      "text/plain": [
       "'겨울왕국 2'"
      ]
     },
     "execution_count": 6,
     "metadata": {},
     "output_type": "execute_result"
    }
   ],
   "source": [
    "driver.find_element_by_css_selector(\"#content > div.article > div.mv_info_area > div.mv_info > h3 > a\").text"
   ]
  },
  {
   "cell_type": "markdown",
   "id": "47d51a08",
   "metadata": {},
   "source": [
    "### 장르"
   ]
  },
  {
   "cell_type": "code",
   "execution_count": 15,
   "id": "9ecb8bd5",
   "metadata": {
    "ExecuteTime": {
     "end_time": "2021-10-05T04:27:21.773365Z",
     "start_time": "2021-10-05T04:27:21.727332Z"
    }
   },
   "outputs": [
    {
     "data": {
      "text/plain": [
       "'애니메이션, 모험, 코미디, 가족, 판타지, 뮤지컬'"
      ]
     },
     "execution_count": 15,
     "metadata": {},
     "output_type": "execute_result"
    }
   ],
   "source": [
    "driver.find_element_by_css_selector(\"#content > div.article > div.mv_info_area > div.mv_info > dl > dd:nth-child(2) > p > span:nth-child(1)\").text"
   ]
  },
  {
   "cell_type": "markdown",
   "id": "cf5dca22",
   "metadata": {},
   "source": [
    "### 국가"
   ]
  },
  {
   "cell_type": "code",
   "execution_count": 16,
   "id": "1689eeca",
   "metadata": {
    "ExecuteTime": {
     "end_time": "2021-10-05T04:28:23.951061Z",
     "start_time": "2021-10-05T04:28:23.906028Z"
    }
   },
   "outputs": [
    {
     "data": {
      "text/plain": [
       "'미국'"
      ]
     },
     "execution_count": 16,
     "metadata": {},
     "output_type": "execute_result"
    }
   ],
   "source": [
    "driver.find_element_by_css_selector(\"#content > div.article > div.mv_info_area > div.mv_info > dl > dd:nth-child(2) > p > span:nth-child(2) > a\").text"
   ]
  },
  {
   "cell_type": "markdown",
   "id": "03a129b6",
   "metadata": {},
   "source": [
    "### 러닝타임"
   ]
  },
  {
   "cell_type": "code",
   "execution_count": 17,
   "id": "2e3ca4ef",
   "metadata": {
    "ExecuteTime": {
     "end_time": "2021-10-05T04:29:50.816143Z",
     "start_time": "2021-10-05T04:29:50.790026Z"
    }
   },
   "outputs": [
    {
     "data": {
      "text/plain": [
       "'103분'"
      ]
     },
     "execution_count": 17,
     "metadata": {},
     "output_type": "execute_result"
    }
   ],
   "source": [
    "driver.find_element_by_css_selector(\"#content > div.article > div.mv_info_area > div.mv_info > dl > dd:nth-child(2) > p > span:nth-child(3)\").text"
   ]
  },
  {
   "cell_type": "markdown",
   "id": "84f96eb2",
   "metadata": {},
   "source": [
    "### 개봉일"
   ]
  },
  {
   "cell_type": "code",
   "execution_count": 14,
   "id": "037acbdf",
   "metadata": {
    "ExecuteTime": {
     "end_time": "2021-10-05T04:26:24.966208Z",
     "start_time": "2021-10-05T04:26:24.930353Z"
    }
   },
   "outputs": [
    {
     "data": {
      "text/plain": [
       "'2019 .11.21 개봉'"
      ]
     },
     "execution_count": 14,
     "metadata": {},
     "output_type": "execute_result"
    }
   ],
   "source": [
    "driver.find_element_by_css_selector(\"#content > div.article > div.mv_info_area > div.mv_info > dl > dd:nth-child(2) > p > span:nth-child(4)\").text"
   ]
  },
  {
   "cell_type": "markdown",
   "id": "d5f7597c",
   "metadata": {},
   "source": [
    "### 감독"
   ]
  },
  {
   "cell_type": "code",
   "execution_count": 9,
   "id": "4955f818",
   "metadata": {
    "ExecuteTime": {
     "end_time": "2021-10-05T04:24:21.612128Z",
     "start_time": "2021-10-05T04:24:21.565347Z"
    }
   },
   "outputs": [
    {
     "data": {
      "text/plain": [
       "'크리스 벅, 제니퍼 리'"
      ]
     },
     "execution_count": 9,
     "metadata": {},
     "output_type": "execute_result"
    }
   ],
   "source": [
    "driver.find_element_by_css_selector(\"#content > div.article > div.mv_info_area > div.mv_info > dl > dd:nth-child(4)\").text"
   ]
  },
  {
   "cell_type": "markdown",
   "id": "18188329",
   "metadata": {
    "ExecuteTime": {
     "end_time": "2021-10-05T04:24:29.165416Z",
     "start_time": "2021-10-05T04:24:29.158391Z"
    }
   },
   "source": [
    "### 출연진 "
   ]
  },
  {
   "cell_type": "code",
   "execution_count": 8,
   "id": "d531b62f",
   "metadata": {
    "ExecuteTime": {
     "end_time": "2021-10-05T04:22:11.767849Z",
     "start_time": "2021-10-05T04:22:11.723814Z"
    }
   },
   "outputs": [
    {
     "data": {
      "text/plain": [
       "'크리스틴 벨(안나 목소리), 이디나 멘젤(엘사 목소리)'"
      ]
     },
     "execution_count": 8,
     "metadata": {},
     "output_type": "execute_result"
    }
   ],
   "source": [
    "driver.find_element_by_css_selector(\"#content > div.article > div.mv_info_area > div.mv_info > dl > dd:nth-child(6) > p\").text"
   ]
  },
  {
   "cell_type": "markdown",
   "id": "099aac23",
   "metadata": {
    "ExecuteTime": {
     "end_time": "2021-10-05T04:29:55.575555Z",
     "start_time": "2021-10-05T04:29:55.559954Z"
    }
   },
   "source": [
    "### 등급"
   ]
  },
  {
   "cell_type": "code",
   "execution_count": 13,
   "id": "a9a4e2b9",
   "metadata": {
    "ExecuteTime": {
     "end_time": "2021-10-05T04:25:36.238562Z",
     "start_time": "2021-10-05T04:25:36.184311Z"
    }
   },
   "outputs": [
    {
     "data": {
      "text/plain": [
       "'전체 관람가'"
      ]
     },
     "execution_count": 13,
     "metadata": {},
     "output_type": "execute_result"
    }
   ],
   "source": [
    "driver.find_element_by_css_selector(\"#content > div.article > div.mv_info_area > div.mv_info > dl > dd:nth-child(8) > p > a\").text"
   ]
  },
  {
   "cell_type": "markdown",
   "id": "51fafa10",
   "metadata": {},
   "source": [
    "### 줄거리"
   ]
  },
  {
   "cell_type": "code",
   "execution_count": 21,
   "id": "ebf20298",
   "metadata": {
    "ExecuteTime": {
     "end_time": "2021-10-05T04:31:19.693160Z",
     "start_time": "2021-10-05T04:31:19.659538Z"
    }
   },
   "outputs": [],
   "source": [
    "story = driver.find_element_by_css_selector(\"#content > div.article > div.section_group.section_group_frst > div:nth-child(1) > div > div > p\").text"
   ]
  },
  {
   "cell_type": "code",
   "execution_count": 22,
   "id": "c544d00d",
   "metadata": {
    "ExecuteTime": {
     "end_time": "2021-10-05T04:31:20.639407Z",
     "start_time": "2021-10-05T04:31:20.626939Z"
    }
   },
   "outputs": [
    {
     "data": {
      "text/plain": [
       "'어느 날 부턴가 의문의 목소리가 엘사를 부르고, 평화로운 아렌델 왕국을 위협한다. 트롤은 모든 것은 과거에서 시작되었음을 알려주며 엘사의 힘의 비밀과 진실을 찾아 떠나야한다고 조언한다.  위험에 빠진 아렌델 왕국을 구해야만 하는 엘사와 안나는 숨겨진 과거의 진실을 찾아 크리스토프, 올라프 그리고 스벤과 함께 위험천만한 놀라운 모험을 떠나게 된다. 자신의 힘을 두려워했던 엘사는 이제 이 모험을 헤쳐나가기에 자신의 힘이 충분하다고 믿어야만 하는데…  두려움을 깨고 새로운 운명을 만나다!'"
      ]
     },
     "execution_count": 22,
     "metadata": {},
     "output_type": "execute_result"
    }
   ],
   "source": [
    "story.replace(\"\\n\",\"\")"
   ]
  },
  {
   "cell_type": "markdown",
   "id": "c7ada8c8",
   "metadata": {},
   "source": [
    "## 전체 코드"
   ]
  },
  {
   "cell_type": "code",
   "execution_count": 23,
   "id": "60356860",
   "metadata": {
    "ExecuteTime": {
     "end_time": "2021-10-05T04:37:06.168439Z",
     "start_time": "2021-10-05T04:37:05.908407Z"
    }
   },
   "outputs": [
    {
     "data": {
      "text/plain": [
       "'어느 날 부턴가 의문의 목소리가 엘사를 부르고, 평화로운 아렌델 왕국을 위협한다. 트롤은 모든 것은 과거에서 시작되었음을 알려주며 엘사의 힘의 비밀과 진실을 찾아 떠나야한다고 조언한다.  위험에 빠진 아렌델 왕국을 구해야만 하는 엘사와 안나는 숨겨진 과거의 진실을 찾아 크리스토프, 올라프 그리고 스벤과 함께 위험천만한 놀라운 모험을 떠나게 된다. 자신의 힘을 두려워했던 엘사는 이제 이 모험을 헤쳐나가기에 자신의 힘이 충분하다고 믿어야만 하는데…  두려움을 깨고 새로운 운명을 만나다!'"
      ]
     },
     "execution_count": 23,
     "metadata": {},
     "output_type": "execute_result"
    }
   ],
   "source": [
    "# 제목\n",
    "driver.find_element_by_css_selector(\"#content > div.article > div.mv_info_area > div.mv_info > h3 > a\").text\n",
    "\n",
    "# 장르\n",
    "driver.find_element_by_css_selector(\"#content > div.article > div.mv_info_area > div.mv_info > dl > dd:nth-child(2) > p > span:nth-child(1)\").text\n",
    "\n",
    "# 국가\n",
    "driver.find_element_by_css_selector(\"#content > div.article > div.mv_info_area > div.mv_info > dl > dd:nth-child(2) > p > span:nth-child(2) > a\").text\n",
    "\n",
    "# 러닝타임\n",
    "driver.find_element_by_css_selector(\"#content > div.article > div.mv_info_area > div.mv_info > dl > dd:nth-child(2) > p > span:nth-child(3)\").text\n",
    "\n",
    "# 개봉일\n",
    "driver.find_element_by_css_selector(\"#content > div.article > div.mv_info_area > div.mv_info > dl > dd:nth-child(2) > p > span:nth-child(4)\").text\n",
    "\n",
    "# 감독\n",
    "driver.find_element_by_css_selector(\"#content > div.article > div.mv_info_area > div.mv_info > dl > dd:nth-child(4)\").text\n",
    "\n",
    "# 출연\n",
    "driver.find_element_by_css_selector(\"#content > div.article > div.mv_info_area > div.mv_info > dl > dd:nth-child(6) > p\").text\n",
    "\n",
    "# 등급\n",
    "driver.find_element_by_css_selector(\"#content > div.article > div.mv_info_area > div.mv_info > dl > dd:nth-child(8) > p > a\").text\n",
    "\n",
    "# 줄거리\n",
    "story = driver.find_element_by_css_selector(\"#content > div.article > div.section_group.section_group_frst > div:nth-child(1) > div > div > p\").text\n",
    "story.replace(\"\\n\",\"\")"
   ]
  }
 ],
 "metadata": {
  "hide_input": false,
  "kernelspec": {
   "display_name": "Python 3",
   "language": "python",
   "name": "python3"
  },
  "language_info": {
   "codemirror_mode": {
    "name": "ipython",
    "version": 3
   },
   "file_extension": ".py",
   "mimetype": "text/x-python",
   "name": "python",
   "nbconvert_exporter": "python",
   "pygments_lexer": "ipython3",
   "version": "3.8.8"
  },
  "toc": {
   "base_numbering": 1,
   "nav_menu": {},
   "number_sections": true,
   "sideBar": true,
   "skip_h1_title": false,
   "title_cell": "Table of Contents",
   "title_sidebar": "Contents",
   "toc_cell": false,
   "toc_position": {},
   "toc_section_display": true,
   "toc_window_display": false
  },
  "varInspector": {
   "cols": {
    "lenName": 16,
    "lenType": 16,
    "lenVar": 40
   },
   "kernels_config": {
    "python": {
     "delete_cmd_postfix": "",
     "delete_cmd_prefix": "del ",
     "library": "var_list.py",
     "varRefreshCmd": "print(var_dic_list())"
    },
    "r": {
     "delete_cmd_postfix": ") ",
     "delete_cmd_prefix": "rm(",
     "library": "var_list.r",
     "varRefreshCmd": "cat(var_dic_list()) "
    }
   },
   "types_to_exclude": [
    "module",
    "function",
    "builtin_function_or_method",
    "instance",
    "_Feature"
   ],
   "window_display": false
  }
 },
 "nbformat": 4,
 "nbformat_minor": 5
}
