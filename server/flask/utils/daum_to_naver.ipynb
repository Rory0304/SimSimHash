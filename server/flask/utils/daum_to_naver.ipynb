{
 "cells": [
  {
   "cell_type": "code",
   "execution_count": 1,
   "metadata": {},
   "outputs": [],
   "source": [
    "import pandas as pd\n",
    "meta = pd.read_csv(\"./data/review/meta192021.csv\")\n",
    "naver_titles = meta['title'].values"
   ]
  },
  {
   "cell_type": "code",
   "execution_count": 2,
   "metadata": {},
   "outputs": [],
   "source": [
    "daum = pd.read_csv(\"./data/review/Okt_keyword_50daum.csv\")\n",
    "daum_titles = set(daum['title'].values)"
   ]
  },
  {
   "cell_type": "code",
   "execution_count": 3,
   "metadata": {},
   "outputs": [],
   "source": [
    "wrong_titles = []\n",
    "for daum in daum_titles:\n",
    "    if daum not in naver_titles:\n",
    "        wrong_titles.append(daum)"
   ]
  },
  {
   "cell_type": "code",
   "execution_count": 4,
   "metadata": {},
   "outputs": [
    {
     "name": "stdout",
     "output_type": "stream",
     "text": [
      "네이버랑 일치하지 않는 제목: ['마이펫의 이중생활 2', '천문: 하늘에 묻는다', '명탐정 코난: 비색의 탄환', '히트맨']\n"
     ]
    }
   ],
   "source": [
    "#네이버랑 다음이랑 다른 이름을 갖는 게 4개 밖에 없네요\n",
    "print(\"네이버랑 일치하지 않는 제목:\",wrong_titles)"
   ]
  },
  {
   "cell_type": "code",
   "execution_count": 5,
   "metadata": {},
   "outputs": [],
   "source": [
    "def find(keyword):\n",
    "    lst = []\n",
    "    for naver in naver_titles:\n",
    "        if keyword in naver:\n",
    "            lst.append(naver)\n",
    "    return lst"
   ]
  },
  {
   "cell_type": "code",
   "execution_count": 6,
   "metadata": {},
   "outputs": [
    {
     "data": {
      "text/plain": [
       "['명탐정 코난: 감청의 권', '명탐정 코난:전율의 악보', '명탐정 코난: 진홍의 수학여행']"
      ]
     },
     "execution_count": 6,
     "metadata": {},
     "output_type": "execute_result"
    }
   ],
   "source": [
    "# 코난은 없음\n",
    "find('코난')"
   ]
  },
  {
   "cell_type": "code",
   "execution_count": 7,
   "metadata": {},
   "outputs": [
    {
     "data": {
      "text/plain": [
       "['마이펫의 이중생활2']"
      ]
     },
     "execution_count": 7,
     "metadata": {},
     "output_type": "execute_result"
    }
   ],
   "source": [
    "# 마이펫\n",
    "find(\"마이펫\")\n",
    "# 네이버: 마이펫의 이중생활2\n",
    "# 다음  : 마이펫의 이중생활 2"
   ]
  },
  {
   "cell_type": "code",
   "execution_count": 8,
   "metadata": {},
   "outputs": [
    {
     "data": {
      "text/plain": [
       "[]"
      ]
     },
     "execution_count": 8,
     "metadata": {},
     "output_type": "execute_result"
    }
   ],
   "source": [
    "# 천문은 아예 없네요\n",
    "find('천문')"
   ]
  },
  {
   "cell_type": "code",
   "execution_count": 9,
   "metadata": {},
   "outputs": [
    {
     "data": {
      "text/plain": [
       "['아메리칸 히트맨']"
      ]
     },
     "execution_count": 9,
     "metadata": {},
     "output_type": "execute_result"
    }
   ],
   "source": [
    "# 히트맨도 없네요\n",
    "find('히트')"
   ]
  },
  {
   "cell_type": "code",
   "execution_count": 10,
   "metadata": {},
   "outputs": [],
   "source": [
    "# 결과물\n",
    "daum_to_naver = {\n",
    "    \"마이펫의 이중생활 2\" : \"마이펫의 이중생활2\"\n",
    "    }"
   ]
  },
  {
   "cell_type": "code",
   "execution_count": 11,
   "metadata": {},
   "outputs": [],
   "source": [
    "daum = pd.read_csv(\"./data/review/Okt_keyword_50daum.csv\")\n",
    "daum.loc[daum['title']=='마이펫의 이중생활 2', 'title'] = \"마이펫의 이중생활2\""
   ]
  },
  {
   "cell_type": "code",
   "execution_count": 12,
   "metadata": {},
   "outputs": [
    {
     "data": {
      "text/plain": [
       "2634    마이펫의 이중생활2\n",
       "2635    마이펫의 이중생활2\n",
       "2636    마이펫의 이중생활2\n",
       "2637    마이펫의 이중생활2\n",
       "2638    마이펫의 이중생활2\n",
       "2639    마이펫의 이중생활2\n",
       "2640    마이펫의 이중생활2\n",
       "2641    마이펫의 이중생활2\n",
       "2642    마이펫의 이중생활2\n",
       "2643    마이펫의 이중생활2\n",
       "2644    마이펫의 이중생활2\n",
       "2645    마이펫의 이중생활2\n",
       "2646    마이펫의 이중생활2\n",
       "2647    마이펫의 이중생활2\n",
       "2648    마이펫의 이중생활2\n",
       "2649    마이펫의 이중생활2\n",
       "2650    마이펫의 이중생활2\n",
       "2651    마이펫의 이중생활2\n",
       "2652    마이펫의 이중생활2\n",
       "2653    마이펫의 이중생활2\n",
       "2654    마이펫의 이중생활2\n",
       "2655    마이펫의 이중생활2\n",
       "2656    마이펫의 이중생활2\n",
       "2657    마이펫의 이중생활2\n",
       "2658    마이펫의 이중생활2\n",
       "2659    마이펫의 이중생활2\n",
       "2660    마이펫의 이중생활2\n",
       "2661    마이펫의 이중생활2\n",
       "2662    마이펫의 이중생활2\n",
       "2663    마이펫의 이중생활2\n",
       "2664    마이펫의 이중생활2\n",
       "2665    마이펫의 이중생활2\n",
       "2666    마이펫의 이중생활2\n",
       "2667    마이펫의 이중생활2\n",
       "2668    마이펫의 이중생활2\n",
       "2669    마이펫의 이중생활2\n",
       "2670    마이펫의 이중생활2\n",
       "2671    마이펫의 이중생활2\n",
       "2672    마이펫의 이중생활2\n",
       "2673    마이펫의 이중생활2\n",
       "2674    마이펫의 이중생활2\n",
       "2675    마이펫의 이중생활2\n",
       "2676    마이펫의 이중생활2\n",
       "2677    마이펫의 이중생활2\n",
       "2678    마이펫의 이중생활2\n",
       "2679    마이펫의 이중생활2\n",
       "2680    마이펫의 이중생활2\n",
       "2681    마이펫의 이중생활2\n",
       "2682    마이펫의 이중생활2\n",
       "2683    마이펫의 이중생활2\n",
       "Name: title, dtype: object"
      ]
     },
     "execution_count": 12,
     "metadata": {},
     "output_type": "execute_result"
    }
   ],
   "source": [
    "# 잘 바뀌었습니다\n",
    "daum.loc[daum['title']=='마이펫의 이중생활2', 'title']"
   ]
  },
  {
   "cell_type": "code",
   "execution_count": 13,
   "metadata": {},
   "outputs": [],
   "source": [
    "daum.to_csv(\"./data/review/Okt_keyword_50daum.csv\", index=False)"
   ]
  }
 ],
 "metadata": {
  "interpreter": {
   "hash": "31f2aee4e71d21fbe5cf8b01ff0e069b9275f58929596ceb00d14d90e3e16cd6"
  },
  "kernelspec": {
   "display_name": "Python 3.8.10 64-bit",
   "name": "python3"
  },
  "language_info": {
   "codemirror_mode": {
    "name": "ipython",
    "version": 3
   },
   "file_extension": ".py",
   "mimetype": "text/x-python",
   "name": "python",
   "nbconvert_exporter": "python",
   "pygments_lexer": "ipython3",
   "version": "3.8.10"
  },
  "orig_nbformat": 4
 },
 "nbformat": 4,
 "nbformat_minor": 2
}
