{
 "cells": [
  {
   "cell_type": "markdown",
   "id": "7d4cf9f7",
   "metadata": {},
   "source": [
    "## 다음 리뷰 수집"
   ]
  },
  {
   "cell_type": "code",
   "execution_count": 3,
   "id": "d634fbb5",
   "metadata": {
    "ExecuteTime": {
     "end_time": "2021-10-10T10:39:12.259406Z",
     "start_time": "2021-10-10T10:39:11.282402Z"
    }
   },
   "outputs": [],
   "source": [
    "import time, re, csv\n",
    "from bs4 import BeautifulSoup\n",
    "from selenium import webdriver\n",
    "from selenium.webdriver.common.keys import Keys\n",
    "from selenium.webdriver.common.by import By\n",
    "from selenium.common.exceptions import NoSuchElementException\n",
    "from selenium.common.exceptions import StaleElementReferenceException\n",
    "from selenium.common.exceptions import InvalidSelectorException\n",
    "import pandas as pd"
   ]
  },
  {
   "cell_type": "markdown",
   "id": "5aeb61d2",
   "metadata": {},
   "source": [
    "### 지정된 영화 (한 개) 리뷰 정보 가져오기"
   ]
  },
  {
   "cell_type": "code",
   "execution_count": null,
   "id": "64d9c9c6",
   "metadata": {},
   "outputs": [],
   "source": [
    "# 크롬창(웹드라이버) 열기\n",
    "driver = webdriver.Chrome('C:/Users/sooyeon/Downloads/chromedriver.exe')\n",
    "driver.get(\"https://movie.daum.net/moviedb/main?movieId=121982\") \n",
    "\n",
    "time.sleep(2)\n",
    "\n",
    "result = [] # \n",
    "\n",
    "# 영화 제목 \n",
    "title = driver.find_element_by_css_selector(\"#mainContent > div > div.box_basic > div.info_detail > div.detail_tit > h3 > span.txt_tit\").text\n",
    "# print(title)\n",
    "\n",
    "# 리뷰 클릭 \n",
    "driver.find_element_by_xpath('//*[@id=\"mainContent\"]/div/div[2]/div[1]/ul/li[4]/a/span').click()\n",
    "\n",
    "# 로딩\n",
    "time.sleep(3)\n",
    "\n",
    "\n",
    "for i in range(2) : \n",
    "    driver.find_element_by_xpath('''//*[@id=\"alex-area\"]/div/div/div/div[3]/div[1]/button''').click()\n",
    "    time.sleep(1.5) \n",
    "    \n",
    "    try:\n",
    "        # 리뷰 박스\n",
    "        boxes = driver.find_elements_by_css_selector(\"#alex-area > div > div > div > div.cmt_box > ul.list_comment > li\") # 리뷰 더보기가 끝났다면 box들을 수집해봅시다. \n",
    "        # print(boxes)   \n",
    "\n",
    "        score = [] # 평점\n",
    "        review = [] # 리뷰 \n",
    "        date = [] # 작성일   \n",
    "        \n",
    "        \n",
    "        # 박스를 돌면서 평점, 리뷰, 작성일 수집\n",
    "        for box in boxes:\n",
    "            score.append(box.find_element_by_css_selector(\"li > div > div.ratings\").text)\n",
    "            date.append(box.find_element_by_css_selector(\"li > div > strong > span > span.txt_date\").text)\n",
    "            reviewpre = box.find_element_by_css_selector(\"li > div > p\").text\n",
    "            reviewpre = reviewpre.replace('\\n','')\n",
    "            review.append(reviewpre)\n",
    "        \n",
    "\n",
    "            \n",
    "    # 예외 처리\n",
    "    except NoSuchElementException:\n",
    "        continue\n",
    "    except IndexError:\n",
    "        continue\n",
    "    except AttributeError:\n",
    "        continue\n",
    "    except ValueError:\n",
    "        continue\n",
    "    except InvalidSelectorException:\n",
    "        continue\n",
    "        \n",
    "df = pd.DataFrame.from_dict({'score': score, 'date':date,'review':review},orient='index').T\n",
    "# df = pd.DataFrame({'score': score, 'date':date,'review':review})\n",
    "df['title'] = title\n",
    "df.head()\n",
    "result.append(df)"
   ]
  },
  {
   "cell_type": "code",
   "execution_count": 72,
   "id": "ed66340e",
   "metadata": {
    "ExecuteTime": {
     "end_time": "2021-10-10T03:58:43.949177Z",
     "start_time": "2021-10-10T03:58:43.936213Z"
    }
   },
   "outputs": [
    {
     "name": "stdout",
     "output_type": "stream",
     "text": [
      "['8', '7', '10', '10', '6', '5', '0', '5', '2', '10', '6', '6', '7', '4', '2', '5', '6', '7', '8', '5', '5']\n"
     ]
    }
   ],
   "source": [
    "print(score)"
   ]
  },
  {
   "cell_type": "code",
   "execution_count": 74,
   "id": "2747d041",
   "metadata": {
    "ExecuteTime": {
     "end_time": "2021-10-10T03:59:29.025498Z",
     "start_time": "2021-10-10T03:59:29.018495Z"
    }
   },
   "outputs": [],
   "source": [
    "df = pd.DataFrame.from_dict({'score': score, 'date':date,'review':review},orient='index').T"
   ]
  },
  {
   "cell_type": "code",
   "execution_count": 76,
   "id": "8887b0a4",
   "metadata": {
    "ExecuteTime": {
     "end_time": "2021-10-10T03:59:44.296741Z",
     "start_time": "2021-10-10T03:59:44.290739Z"
    }
   },
   "outputs": [],
   "source": [
    "df['title']=title"
   ]
  },
  {
   "cell_type": "code",
   "execution_count": 77,
   "id": "ae51ecbf",
   "metadata": {
    "ExecuteTime": {
     "end_time": "2021-10-10T03:59:48.182895Z",
     "start_time": "2021-10-10T03:59:48.166910Z"
    }
   },
   "outputs": [
    {
     "data": {
      "text/html": [
       "<div>\n",
       "<style scoped>\n",
       "    .dataframe tbody tr th:only-of-type {\n",
       "        vertical-align: middle;\n",
       "    }\n",
       "\n",
       "    .dataframe tbody tr th {\n",
       "        vertical-align: top;\n",
       "    }\n",
       "\n",
       "    .dataframe thead th {\n",
       "        text-align: right;\n",
       "    }\n",
       "</style>\n",
       "<table border=\"1\" class=\"dataframe\">\n",
       "  <thead>\n",
       "    <tr style=\"text-align: right;\">\n",
       "      <th></th>\n",
       "      <th>score</th>\n",
       "      <th>date</th>\n",
       "      <th>review</th>\n",
       "      <th>title</th>\n",
       "    </tr>\n",
       "  </thead>\n",
       "  <tbody>\n",
       "    <tr>\n",
       "      <th>0</th>\n",
       "      <td>8</td>\n",
       "      <td>2020. 12. 17. 14:14</td>\n",
       "      <td>전편 보다 항상 나을거라는 생각없이 본다면재미있는 작품입니다</td>\n",
       "      <td>쥬만지: 넥스트 레벨</td>\n",
       "    </tr>\n",
       "    <tr>\n",
       "      <th>1</th>\n",
       "      <td>7</td>\n",
       "      <td>2020. 07. 01. 04:23</td>\n",
       "      <td>서로 몸 바뀔때마다 말투며 행동들 다들 완젼 찰떡소화하고 연기들 다들 잘하네요끝이나...</td>\n",
       "      <td>쥬만지: 넥스트 레벨</td>\n",
       "    </tr>\n",
       "    <tr>\n",
       "      <th>2</th>\n",
       "      <td>10</td>\n",
       "      <td>2020. 07. 15. 04:49</td>\n",
       "      <td>너무 재밌었은대...</td>\n",
       "      <td>쥬만지: 넥스트 레벨</td>\n",
       "    </tr>\n",
       "    <tr>\n",
       "      <th>3</th>\n",
       "      <td>10</td>\n",
       "      <td>2020. 07. 02. 02:13</td>\n",
       "      <td>재밌다</td>\n",
       "      <td>쥬만지: 넥스트 레벨</td>\n",
       "    </tr>\n",
       "    <tr>\n",
       "      <th>4</th>\n",
       "      <td>6</td>\n",
       "      <td>2020. 06. 29. 18:40</td>\n",
       "      <td>전작에 비하면 아주 실망스럽다. 발암도 발암이지만 보스를 잡는 과정이 너무 허무하다...</td>\n",
       "      <td>쥬만지: 넥스트 레벨</td>\n",
       "    </tr>\n",
       "    <tr>\n",
       "      <th>5</th>\n",
       "      <td>5</td>\n",
       "      <td>2020. 06. 29. 01:40</td>\n",
       "      <td>전작에 비해 많이 아쉬움. 할배들 발암짓을 너무 오래 끌고가서 짜증이 남... 목숨...</td>\n",
       "      <td>쥬만지: 넥스트 레벨</td>\n",
       "    </tr>\n",
       "    <tr>\n",
       "      <th>6</th>\n",
       "      <td>0</td>\n",
       "      <td>2020. 06. 16. 19:44</td>\n",
       "      <td>드럽게 답답한 할방구들영화 개판ㅋ</td>\n",
       "      <td>쥬만지: 넥스트 레벨</td>\n",
       "    </tr>\n",
       "    <tr>\n",
       "      <th>7</th>\n",
       "      <td>5</td>\n",
       "      <td>2020. 06. 06. 19:18</td>\n",
       "      <td>후속작을 억지로 만들어 끼어 넣기 위한초반 설정이 그냥 전체를 불편하게 했다</td>\n",
       "      <td>쥬만지: 넥스트 레벨</td>\n",
       "    </tr>\n",
       "    <tr>\n",
       "      <th>8</th>\n",
       "      <td>2</td>\n",
       "      <td>2020. 05. 03. 23:18</td>\n",
       "      <td>최악</td>\n",
       "      <td>쥬만지: 넥스트 레벨</td>\n",
       "    </tr>\n",
       "    <tr>\n",
       "      <th>9</th>\n",
       "      <td>10</td>\n",
       "      <td>2020. 04. 27. 22:18</td>\n",
       "      <td>괜춘</td>\n",
       "      <td>쥬만지: 넥스트 레벨</td>\n",
       "    </tr>\n",
       "    <tr>\n",
       "      <th>10</th>\n",
       "      <td>6</td>\n",
       "      <td>2020. 04. 05. 00:08</td>\n",
       "      <td>아~ 답답해~ 할아버지들 땜에 고구마 100개 먹는 느낌이다~ 쉽게 적응하는 꼬마들...</td>\n",
       "      <td>쥬만지: 넥스트 레벨</td>\n",
       "    </tr>\n",
       "    <tr>\n",
       "      <th>11</th>\n",
       "      <td>6</td>\n",
       "      <td>2020. 08. 06. 19:38</td>\n",
       "      <td>리부트된 1,2편 모두 은근 흥미롭다. 근데 20년전 개봉한 오리지널 쥬만지는 진짜...</td>\n",
       "      <td>쥬만지: 넥스트 레벨</td>\n",
       "    </tr>\n",
       "    <tr>\n",
       "      <th>12</th>\n",
       "      <td>7</td>\n",
       "      <td>2021. 09. 05. 18:59</td>\n",
       "      <td>캐릭터가 자꾸 바뀌는 것 빼고는 잼있게 봤습니다. 드웨인존스와 카렌길런 둘이 잘 어...</td>\n",
       "      <td>쥬만지: 넥스트 레벨</td>\n",
       "    </tr>\n",
       "    <tr>\n",
       "      <th>13</th>\n",
       "      <td>4</td>\n",
       "      <td>2021. 08. 23. 14:54</td>\n",
       "      <td>⟨쥬만지: 넥스트 레벨⟩은 다소 황당한 설정의 영화다물론 중반부의 흐름은 나쁘지 않...</td>\n",
       "      <td>쥬만지: 넥스트 레벨</td>\n",
       "    </tr>\n",
       "    <tr>\n",
       "      <th>14</th>\n",
       "      <td>2</td>\n",
       "      <td>2021. 08. 01. 22:12</td>\n",
       "      <td>굳이  할배들을 넣은 이유가 뭘까??너무 아닌듯!</td>\n",
       "      <td>쥬만지: 넥스트 레벨</td>\n",
       "    </tr>\n",
       "    <tr>\n",
       "      <th>15</th>\n",
       "      <td>5</td>\n",
       "      <td>2020. 12. 01. 17:22</td>\n",
       "      <td>.</td>\n",
       "      <td>쥬만지: 넥스트 레벨</td>\n",
       "    </tr>\n",
       "    <tr>\n",
       "      <th>16</th>\n",
       "      <td>6</td>\n",
       "      <td>2020. 11. 26. 23:48</td>\n",
       "      <td>전편에 비해 나아진 점이 없다. 캐릭터를 보는 재미는 반으로 줄었다.</td>\n",
       "      <td>쥬만지: 넥스트 레벨</td>\n",
       "    </tr>\n",
       "    <tr>\n",
       "      <th>17</th>\n",
       "      <td>7</td>\n",
       "      <td>2020. 11. 12. 22:16</td>\n",
       "      <td>..</td>\n",
       "      <td>쥬만지: 넥스트 레벨</td>\n",
       "    </tr>\n",
       "    <tr>\n",
       "      <th>18</th>\n",
       "      <td>8</td>\n",
       "      <td>2020. 09. 12. 23:38</td>\n",
       "      <td>나름 창의적으로 잘 만든 속편이었습니다. ^^</td>\n",
       "      <td>쥬만지: 넥스트 레벨</td>\n",
       "    </tr>\n",
       "    <tr>\n",
       "      <th>19</th>\n",
       "      <td>5</td>\n",
       "      <td>2020. 08. 21. 12:05</td>\n",
       "      <td>1편에는 비교불가2편보다 너무 못한 3편.로빈 윌리엄스가 그리울뿐이다.</td>\n",
       "      <td>쥬만지: 넥스트 레벨</td>\n",
       "    </tr>\n",
       "    <tr>\n",
       "      <th>20</th>\n",
       "      <td>5</td>\n",
       "      <td>2020. 08. 09. 19:30</td>\n",
       "      <td>None</td>\n",
       "      <td>쥬만지: 넥스트 레벨</td>\n",
       "    </tr>\n",
       "  </tbody>\n",
       "</table>\n",
       "</div>"
      ],
      "text/plain": [
       "   score                 date  \\\n",
       "0      8  2020. 12. 17. 14:14   \n",
       "1      7  2020. 07. 01. 04:23   \n",
       "2     10  2020. 07. 15. 04:49   \n",
       "3     10  2020. 07. 02. 02:13   \n",
       "4      6  2020. 06. 29. 18:40   \n",
       "5      5  2020. 06. 29. 01:40   \n",
       "6      0  2020. 06. 16. 19:44   \n",
       "7      5  2020. 06. 06. 19:18   \n",
       "8      2  2020. 05. 03. 23:18   \n",
       "9     10  2020. 04. 27. 22:18   \n",
       "10     6  2020. 04. 05. 00:08   \n",
       "11     6  2020. 08. 06. 19:38   \n",
       "12     7  2021. 09. 05. 18:59   \n",
       "13     4  2021. 08. 23. 14:54   \n",
       "14     2  2021. 08. 01. 22:12   \n",
       "15     5  2020. 12. 01. 17:22   \n",
       "16     6  2020. 11. 26. 23:48   \n",
       "17     7  2020. 11. 12. 22:16   \n",
       "18     8  2020. 09. 12. 23:38   \n",
       "19     5  2020. 08. 21. 12:05   \n",
       "20     5  2020. 08. 09. 19:30   \n",
       "\n",
       "                                               review        title  \n",
       "0                   전편 보다 항상 나을거라는 생각없이 본다면재미있는 작품입니다  쥬만지: 넥스트 레벨  \n",
       "1   서로 몸 바뀔때마다 말투며 행동들 다들 완젼 찰떡소화하고 연기들 다들 잘하네요끝이나...  쥬만지: 넥스트 레벨  \n",
       "2                                         너무 재밌었은대...  쥬만지: 넥스트 레벨  \n",
       "3                                                 재밌다  쥬만지: 넥스트 레벨  \n",
       "4   전작에 비하면 아주 실망스럽다. 발암도 발암이지만 보스를 잡는 과정이 너무 허무하다...  쥬만지: 넥스트 레벨  \n",
       "5   전작에 비해 많이 아쉬움. 할배들 발암짓을 너무 오래 끌고가서 짜증이 남... 목숨...  쥬만지: 넥스트 레벨  \n",
       "6                                  드럽게 답답한 할방구들영화 개판ㅋ  쥬만지: 넥스트 레벨  \n",
       "7          후속작을 억지로 만들어 끼어 넣기 위한초반 설정이 그냥 전체를 불편하게 했다  쥬만지: 넥스트 레벨  \n",
       "8                                                  최악  쥬만지: 넥스트 레벨  \n",
       "9                                                  괜춘  쥬만지: 넥스트 레벨  \n",
       "10  아~ 답답해~ 할아버지들 땜에 고구마 100개 먹는 느낌이다~ 쉽게 적응하는 꼬마들...  쥬만지: 넥스트 레벨  \n",
       "11  리부트된 1,2편 모두 은근 흥미롭다. 근데 20년전 개봉한 오리지널 쥬만지는 진짜...  쥬만지: 넥스트 레벨  \n",
       "12  캐릭터가 자꾸 바뀌는 것 빼고는 잼있게 봤습니다. 드웨인존스와 카렌길런 둘이 잘 어...  쥬만지: 넥스트 레벨  \n",
       "13  ⟨쥬만지: 넥스트 레벨⟩은 다소 황당한 설정의 영화다물론 중반부의 흐름은 나쁘지 않...  쥬만지: 넥스트 레벨  \n",
       "14                        굳이  할배들을 넣은 이유가 뭘까??너무 아닌듯!  쥬만지: 넥스트 레벨  \n",
       "15                                                  .  쥬만지: 넥스트 레벨  \n",
       "16             전편에 비해 나아진 점이 없다. 캐릭터를 보는 재미는 반으로 줄었다.  쥬만지: 넥스트 레벨  \n",
       "17                                                 ..  쥬만지: 넥스트 레벨  \n",
       "18                          나름 창의적으로 잘 만든 속편이었습니다. ^^  쥬만지: 넥스트 레벨  \n",
       "19            1편에는 비교불가2편보다 너무 못한 3편.로빈 윌리엄스가 그리울뿐이다.  쥬만지: 넥스트 레벨  \n",
       "20                                               None  쥬만지: 넥스트 레벨  "
      ]
     },
     "execution_count": 77,
     "metadata": {},
     "output_type": "execute_result"
    }
   ],
   "source": [
    "df"
   ]
  },
  {
   "cell_type": "code",
   "execution_count": 29,
   "id": "7255d8cf",
   "metadata": {
    "ExecuteTime": {
     "end_time": "2021-10-09T20:13:31.212711Z",
     "start_time": "2021-10-09T20:13:31.191713Z"
    }
   },
   "outputs": [
    {
     "data": {
      "text/plain": [
       "list"
      ]
     },
     "execution_count": 29,
     "metadata": {},
     "output_type": "execute_result"
    }
   ],
   "source": [
    "type(score)"
   ]
  },
  {
   "cell_type": "code",
   "execution_count": 30,
   "id": "25d64b9e",
   "metadata": {
    "ExecuteTime": {
     "end_time": "2021-10-09T20:13:38.443429Z",
     "start_time": "2021-10-09T20:13:38.432428Z"
    },
    "scrolled": true
   },
   "outputs": [
    {
     "data": {
      "text/plain": [
       "list"
      ]
     },
     "execution_count": 30,
     "metadata": {},
     "output_type": "execute_result"
    }
   ],
   "source": [
    "type(date)"
   ]
  },
  {
   "cell_type": "code",
   "execution_count": 31,
   "id": "3b001b71",
   "metadata": {
    "ExecuteTime": {
     "end_time": "2021-10-09T20:13:44.232591Z",
     "start_time": "2021-10-09T20:13:44.213603Z"
    }
   },
   "outputs": [
    {
     "data": {
      "text/plain": [
       "list"
      ]
     },
     "execution_count": 31,
     "metadata": {},
     "output_type": "execute_result"
    }
   ],
   "source": [
    "type(review)"
   ]
  },
  {
   "cell_type": "code",
   "execution_count": 2,
   "id": "f494940e",
   "metadata": {
    "ExecuteTime": {
     "end_time": "2021-10-17T10:39:07.275710Z",
     "start_time": "2021-10-17T10:39:05.327818Z"
    }
   },
   "outputs": [],
   "source": [
    "import time, re, csv\n",
    "from bs4 import BeautifulSoup\n",
    "from selenium import webdriver\n",
    "from selenium.webdriver.common.keys import Keys\n",
    "from selenium.webdriver.common.by import By\n",
    "from selenium.common.exceptions import NoSuchElementException\n",
    "from selenium.common.exceptions import StaleElementReferenceException\n",
    "from selenium.common.exceptions import InvalidSelectorException\n",
    "import pandas as pd"
   ]
  },
  {
   "cell_type": "markdown",
   "id": "5bab8881",
   "metadata": {},
   "source": [
    "### 피드백 반영 + 오류 수정\n",
    "* 리뷰 보기 버튼 클릭 후 sleep 추가 : 리뷰 로딩 시간을 준 뒤 수집 시작 (이슈 해결)\n",
    "* 더보기 버튼의 xpath가  영화마다 달라서 지정된 xpath가 아닐경우 수집을 멈춤 : try-except "
   ]
  },
  {
   "cell_type": "code",
   "execution_count": 33,
   "id": "d7ada8f5",
   "metadata": {
    "ExecuteTime": {
     "end_time": "2021-10-10T16:19:21.625318Z",
     "start_time": "2021-10-10T16:19:14.505996Z"
    }
   },
   "outputs": [],
   "source": [
    "# 크롬창(웹드라이버) 열기\n",
    "driver = webdriver.Chrome('C:/Users/sooyeon/Downloads/chromedriver.exe')\n",
    "\n",
    "# 2019 페이지 접속\n",
    "driver.get(\"https://movie.daum.net/ranking/boxoffice/yearly?date=2019\")\n",
    "\n",
    "time.sleep(2)\n",
    "\n",
    "# 영화 리스트 불러오기\n",
    "boxes = driver.find_elements_by_css_selector('#mainContent > div > div.box_boxoffice > ol > li')\n",
    "link = []\n",
    "for box in boxes:\n",
    "    link.append(box.find_element_by_css_selector('a').get_attribute('href')) "
   ]
  },
  {
   "cell_type": "markdown",
   "id": "a60b039a",
   "metadata": {},
   "source": [
    "### 더보기 버튼이 사라질 때까지 모든 리뷰를 수집 (리뷰 수 조정 필요)"
   ]
  },
  {
   "cell_type": "code",
   "execution_count": null,
   "id": "520fc971",
   "metadata": {
    "ExecuteTime": {
     "start_time": "2021-10-17T10:39:34.527Z"
    }
   },
   "outputs": [],
   "source": [
    "## 매우느림.. ## \n",
    "# 크롬창(웹드라이버) 열기\n",
    "driver = webdriver.Chrome('C:/Users/sooyeon/Downloads/chromedriver.exe')\n",
    "result = [] # \n",
    "# default for i in range(0,50):\n",
    "for i in range(0,2):\n",
    "    driver.get(link[i]) \n",
    "\n",
    "    time.sleep(2)\n",
    "\n",
    "    # 영화 제목  \n",
    "    title = driver.find_element_by_css_selector(\"#mainContent > div > div.box_basic > div.info_detail > div.detail_tit > h3 > span.txt_tit\").text\n",
    "    # 개봉일\n",
    "    release_date = driver.find_element_by_css_selector('#mainContent > div > div.box_basic > div.info_detail > div.detail_cont > div:nth-child(1) > dl:nth-child(1) > dd').text\n",
    "    \n",
    "    # print(title)\n",
    "\n",
    "    # 리뷰 클릭 \n",
    "    driver.find_element_by_xpath('//*[@id=\"mainContent\"]/div/div[2]/div[1]/ul/li[4]/a/span').click()\n",
    "    time.sleep(3)\n",
    "\n",
    "    # 반복문을 통해 리뷰 더보기 클릭 \n",
    "    # 더보기 버튼이 사라지면 종료\n",
    "    while True : \n",
    "        try:\n",
    "            driver.find_element_by_xpath('''//*[@id=\"alex-area\"]/div/div/div/div[3]/div[1]/button''').click()\n",
    "            \n",
    "            time.sleep(1.5)  \n",
    "        except:\n",
    "            break\n",
    "            #continue\n",
    "        \n",
    "        try:\n",
    "            # xpath 가 달라서 수집을 멈추는 현상 예외 처리 \n",
    "            boxes = driver.find_elements_by_css_selector(\"#alex-area > div > div > div > div.cmt_box > ul.list_comment > li\") \n",
    "\n",
    "            # 리뷰의 박스들\n",
    "            #print(boxes)\n",
    "            score = [] # 평점\n",
    "            review = [] # 리뷰 \n",
    "            date = [] # 작성일   \n",
    "\n",
    "            # 박스를 돌면서 평점, 리뷰, 작성일을 수집\n",
    "            for box in boxes:\n",
    "                try:\n",
    "                    score.append(box.find_element_by_css_selector(\"li > div > div.ratings\").text)\n",
    "                    date.append(box.find_element_by_css_selector(\"li > div > strong > span > span.txt_date\").text)\n",
    "                    reviewpre = box.find_element_by_css_selector(\"li > div > p\").text\n",
    "                    reviewpre = reviewpre.replace('\\n','')\n",
    "                    review.append(reviewpre)\n",
    "            \n",
    "                except NoSuchElementException:\n",
    "                    continue\n",
    "                except IndexError:\n",
    "                    continue\n",
    "                except AttributeError:\n",
    "                    continue\n",
    "                except ValueError:\n",
    "                    continue\n",
    "                except InvalidSelectorException:\n",
    "                    continue\n",
    "                    \n",
    "            # print(score)\n",
    "            # print(date)\n",
    "            # print(review)\n",
    "            \n",
    "            # df = pd.DataFrame.from_dict({'score': score, 'date':date,'review':review},orient='index').T \n",
    "            # df['title'] = title \n",
    "            # df.head()\n",
    "            # result.append(df)\n",
    "\n",
    "            \n",
    "             # 예외 처리\n",
    "        except NoSuchElementException:\n",
    "            continue\n",
    "        except IndexError:\n",
    "            continue\n",
    "        except AttributeError:\n",
    "            continue\n",
    "        except ValueError:\n",
    "            continue\n",
    "        except InvalidSelectorException:\n",
    "            continue\n",
    "            \n",
    "    df = pd.DataFrame.from_dict({'score': score, 'date':date,'review':review},orient='index').T \n",
    "\n",
    "    df['title'] = title \n",
    "    df['release_date'] = release_date\n",
    "    # df.head()\n",
    "    result.append(df)\n",
    "    "
   ]
  },
  {
   "cell_type": "markdown",
   "id": "d3c7965b",
   "metadata": {
    "ExecuteTime": {
     "end_time": "2021-10-10T16:42:38.785988Z",
     "start_time": "2021-10-10T16:42:38.613Z"
    }
   },
   "source": [
    "### 리뷰 수 조정 : 최대 510개\n",
    "#### 반복문을 통해 더보기 버튼 클릭 n번 시행 "
   ]
  },
  {
   "cell_type": "code",
   "execution_count": 59,
   "id": "bc7de139",
   "metadata": {
    "ExecuteTime": {
     "end_time": "2021-10-10T21:40:43.045517Z",
     "start_time": "2021-10-10T21:34:47.335460Z"
    }
   },
   "outputs": [],
   "source": [
    "# 크롬창(웹드라이버) 열기\n",
    "driver = webdriver.Chrome('C:/Users/sooyeon/Downloads/chromedriver.exe')\n",
    "result = [] # \n",
    "for i in range(49,50):\n",
    "    driver.get(link[i]) \n",
    "\n",
    "    time.sleep(2)\n",
    "\n",
    "    # 영화 제목  \n",
    "    title = driver.find_element_by_css_selector(\"#mainContent > div > div.box_basic > div.info_detail > div.detail_tit > h3 > span.txt_tit\").text\n",
    "    # 개봉일\n",
    "    release_date = driver.find_element_by_css_selector('#mainContent > div > div.box_basic > div.info_detail > div.detail_cont > div:nth-child(1) > dl:nth-child(1) > dd').text\n",
    "    \n",
    "    # print(title)\n",
    "\n",
    "    # 리뷰 보기 클릭 \n",
    "    driver.find_element_by_xpath('//*[@id=\"mainContent\"]/div/div[2]/div[1]/ul/li[4]/a/span').click()\n",
    "    time.sleep(3) ### 중요 ### \n",
    "\n",
    "\n",
    "\n",
    "    # 반복문을 통해 리뷰 더보기 클릭 \n",
    "    # 더보기 클릭시 30개의 리뷰 추가적으로 확인 가능\n",
    "    for i in range(18) : \n",
    "        driver.find_element_by_xpath('''//*[@id=\"alex-area\"]/div/div/div/div[3]/div[1]/button''').click()\n",
    "        time.sleep(0.5)\n",
    "        \n",
    "        try:\n",
    "            \n",
    "            boxes = driver.find_elements_by_css_selector(\"#alex-area > div > div > div > div.cmt_box > ul.list_comment > li\") # 리뷰 더보기가 끝났다면 box들을 수집해봅시다. \n",
    "\n",
    "            # 리뷰의 박스들\n",
    "            # print(boxes)\n",
    "            score = [] # 평점\n",
    "            review = [] # 리뷰 \n",
    "            date = [] # 작성일   \n",
    "\n",
    "            # 박스를 돌면서 평점, 리뷰, 작성일을 수집\n",
    "            for box in boxes:\n",
    "                try:\n",
    "                    score.append(box.find_element_by_css_selector(\"li > div > div.ratings\").text)\n",
    "                    date.append(box.find_element_by_css_selector(\"li > div > strong > span > span.txt_date\").text)\n",
    "                    reviewpre = box.find_element_by_css_selector(\"li > div > p\").text\n",
    "                    reviewpre = reviewpre.replace('\\n','')\n",
    "                    review.append(reviewpre)\n",
    "            \n",
    "                except NoSuchElementException:\n",
    "                    continue\n",
    "                except IndexError:\n",
    "                    continue\n",
    "                except AttributeError:\n",
    "                    continue\n",
    "                except ValueError:\n",
    "                    continue\n",
    "                except InvalidSelectorException:\n",
    "                    continue\n",
    "                    \n",
    "            # print(score)\n",
    "            # print(date)\n",
    "            # print(review)\n",
    "            \n",
    "            # df = pd.DataFrame.from_dict({'score': score, 'date':date,'review':review},orient='index').T \n",
    "            # df['title'] = title \n",
    "            # df.head()\n",
    "            # result.append(df)\n",
    "\n",
    "            \n",
    "             # 예외 처리\n",
    "        except NoSuchElementException:\n",
    "            continue\n",
    "        except IndexError:\n",
    "            continue\n",
    "        except AttributeError:\n",
    "            continue\n",
    "        except ValueError:\n",
    "            continue\n",
    "        except InvalidSelectorException:\n",
    "            continue\n",
    "            \n",
    "    df = pd.DataFrame.from_dict({'score': score, 'date':date,'review':review},orient='index').T \n",
    "\n",
    "    df['title'] = title  \n",
    "    df['release_date'] = release_date\n",
    "    # df.head()\n",
    "    result.append(df)\n",
    "    "
   ]
  },
  {
   "cell_type": "code",
   "execution_count": 47,
   "id": "d0fa81dd",
   "metadata": {
    "ExecuteTime": {
     "end_time": "2021-10-10T20:11:36.399180Z",
     "start_time": "2021-10-10T20:11:36.381215Z"
    }
   },
   "outputs": [],
   "source": [
    "daum_19 = pd.concat(result).reset_index(drop=True)"
   ]
  },
  {
   "cell_type": "code",
   "execution_count": 61,
   "id": "0dde2506",
   "metadata": {
    "ExecuteTime": {
     "end_time": "2021-10-10T21:41:43.624850Z",
     "start_time": "2021-10-10T21:41:43.604253Z"
    }
   },
   "outputs": [],
   "source": [
    "daum_19.to_csv('daum_review2019_tmp.csv',index=False)"
   ]
  },
  {
   "cell_type": "markdown",
   "id": "0a02d2c9",
   "metadata": {},
   "source": [
    "---"
   ]
  },
  {
   "cell_type": "markdown",
   "id": "9d8a2ef0",
   "metadata": {},
   "source": [
    "### 수집된 리뷰 결과"
   ]
  },
  {
   "cell_type": "code",
   "execution_count": null,
   "id": "0b94af5b",
   "metadata": {},
   "outputs": [],
   "source": [
    "pd,read_csv('daumreview192021.csv')"
   ]
  },
  {
   "cell_type": "markdown",
   "id": "e010b45a",
   "metadata": {},
   "source": [
    "---"
   ]
  },
  {
   "cell_type": "markdown",
   "id": "0238166e",
   "metadata": {
    "ExecuteTime": {
     "start_time": "2021-10-17T11:11:47.500Z"
    }
   },
   "source": [
    "## Test"
   ]
  },
  {
   "cell_type": "markdown",
   "id": "4d138f59",
   "metadata": {},
   "source": [
    "#### 2020년 박스오피스:  50개 링크 출력하는 코드"
   ]
  },
  {
   "cell_type": "code",
   "execution_count": 50,
   "id": "4f3ae5d5",
   "metadata": {
    "ExecuteTime": {
     "end_time": "2021-10-09T21:05:21.221520Z",
     "start_time": "2021-10-09T21:05:07.237610Z"
    }
   },
   "outputs": [
    {
     "name": "stdout",
     "output_type": "stream",
     "text": [
      "['https://movie.daum.net/moviedb/main?movieId=119859', 'https://movie.daum.net/moviedb/main?movieId=93252', 'https://movie.daum.net/moviedb/main?movieId=93004', 'https://movie.daum.net/moviedb/main?movieId=115601', 'https://movie.daum.net/moviedb/main?movieId=111292', 'https://movie.daum.net/moviedb/main?movieId=121137', 'https://movie.daum.net/moviedb/main?movieId=122542', 'https://movie.daum.net/moviedb/main?movieId=133855', 'https://movie.daum.net/moviedb/main?movieId=101393', 'https://movie.daum.net/moviedb/main?movieId=125080', 'https://movie.daum.net/moviedb/main?movieId=121160', 'https://movie.daum.net/moviedb/main?movieId=116523', 'https://movie.daum.net/moviedb/main?movieId=123374', 'https://movie.daum.net/moviedb/main?movieId=124806', 'https://movie.daum.net/moviedb/main?movieId=127242', 'https://movie.daum.net/moviedb/main?movieId=123556', 'https://movie.daum.net/moviedb/main?movieId=110875', 'https://movie.daum.net/moviedb/main?movieId=121919', 'https://movie.daum.net/moviedb/main?movieId=127878', 'https://movie.daum.net/moviedb/main?movieId=118907', 'https://movie.daum.net/moviedb/main?movieId=121408', 'https://movie.daum.net/moviedb/main?movieId=128397', 'https://movie.daum.net/moviedb/main?movieId=134130', 'https://movie.daum.net/moviedb/main?movieId=123582', 'https://movie.daum.net/moviedb/main?movieId=115191', 'https://movie.daum.net/moviedb/main?movieId=122593', 'https://movie.daum.net/moviedb/main?movieId=124804', 'https://movie.daum.net/moviedb/main?movieId=106442', 'https://movie.daum.net/moviedb/main?movieId=116230', 'https://movie.daum.net/moviedb/main?movieId=113877', 'https://movie.daum.net/moviedb/main?movieId=126721', 'https://movie.daum.net/moviedb/main?movieId=118493', 'https://movie.daum.net/moviedb/main?movieId=120834', 'https://movie.daum.net/moviedb/main?movieId=119238', 'https://movie.daum.net/moviedb/main?movieId=94484', 'https://movie.daum.net/moviedb/main?movieId=121982', 'https://movie.daum.net/moviedb/main?movieId=121368', 'https://movie.daum.net/moviedb/main?movieId=121721', 'https://movie.daum.net/moviedb/main?movieId=111120', 'https://movie.daum.net/moviedb/main?movieId=124812', 'https://movie.daum.net/moviedb/main?movieId=125049', 'https://movie.daum.net/moviedb/main?movieId=128372', 'https://movie.daum.net/moviedb/main?movieId=120146', 'https://movie.daum.net/moviedb/main?movieId=122541', 'https://movie.daum.net/moviedb/main?movieId=128434', 'https://movie.daum.net/moviedb/main?movieId=124178', 'https://movie.daum.net/moviedb/main?movieId=126143', 'https://movie.daum.net/moviedb/main?movieId=124803', 'https://movie.daum.net/moviedb/main?movieId=131271', 'https://movie.daum.net/moviedb/main?movieId=126253']\n"
     ]
    }
   ],
   "source": [
    "# 크롬창(웹드라이버) 열기\n",
    "driver = webdriver.Chrome('C:/Users/sooyeon/Downloads/chromedriver.exe')\n",
    "\n",
    "# 2019 페이지 접속\n",
    "driver.get(\"https://movie.daum.net/ranking/boxoffice/yearly?date=2020\")\n",
    "\n",
    "time.sleep(2)\n",
    "\n",
    "# 영화 리스트 불러오기\n",
    "boxes = driver.find_elements_by_css_selector('#mainContent > div > div.box_boxoffice > ol > li')\n",
    "link = []\n",
    "for box in boxes:\n",
    "    link.append(box.find_element_by_css_selector('a').get_attribute('href'))\n",
    "    \n",
    "print(link)\n"
   ]
  },
  {
   "cell_type": "markdown",
   "id": "57b78509",
   "metadata": {},
   "source": [
    "링크에 담긴 영화를 반복문을 통해 리뷰 수집"
   ]
  },
  {
   "cell_type": "code",
   "execution_count": null,
   "id": "67639275",
   "metadata": {},
   "outputs": [],
   "source": [
    "# 크롬창(웹드라이버) 열기\n",
    "driver = webdriver.Chrome('C:/Users/sooyeon/Downloads/chromedriver.exe')\n",
    "result = [] # \n",
    "for i in range(0,50):\n",
    "    driver.get(link[i]) \n",
    "\n",
    "\n",
    "    time.sleep(2)\n",
    "\n",
    "    # 영화 제목 \n",
    "    title = driver.find_element_by_css_selector(\"#mainContent > div > div.box_basic > div.info_detail > div.detail_tit > h3 > span.txt_tit\").text\n",
    "    # print(title)\n",
    "\n",
    "    # 리뷰 클릭 \n",
    "    driver.find_element_by_xpath('//*[@id=\"mainContent\"]/div/div[2]/div[1]/ul/li[4]/a/span').click()\n",
    "\n",
    "    # 로딩\n",
    "    time.sleep(3)\n",
    "\n",
    "\n",
    "    for i in range(2) : \n",
    "        driver.find_element_by_xpath('''//*[@id=\"alex-area\"]/div/div/div/div[3]/div[1]/button''').click()\n",
    "        time.sleep(1.5) \n",
    "\n",
    "        try:\n",
    "            # 리뷰 박스\n",
    "            boxes = driver.find_elements_by_css_selector(\"#alex-area > div > div > div > div.cmt_box > ul.list_comment > li\") \n",
    "            # print(boxes)   \n",
    "\n",
    "            score = [] # 평점\n",
    "            review = [] # 리뷰 \n",
    "            date = [] # 작성일   \n",
    "\n",
    "            # 박스를 돌면서 평점, 리뷰, 작성일 수집\n",
    "            for box in boxes:\n",
    "                score.append(box.find_element_by_css_selector(\"li > div > div.ratings\").text)\n",
    "                date.append(box.find_element_by_css_selector(\"li > div > strong > span > span.txt_date\").text)\n",
    "                reviewpre = box.find_element_by_css_selector(\"li > div > p\").text\n",
    "                reviewpre = reviewpre.replace('\\n','')\n",
    "                review.append(reviewpre)\n",
    "\n",
    "\n",
    "            df = pd.DataFrame.from_dict({'score': score, 'date':date,'review':review},orient='index').T\n",
    "            df['title'] = title\n",
    "            df.head()\n",
    "            result.append(df)\n",
    "\n",
    "\n",
    "        # 예외 처리\n",
    "        except NoSuchElementException:\n",
    "            continue\n",
    "        except IndexError:\n",
    "            continue\n",
    "        except AttributeError:\n",
    "            continue\n",
    "        except ValueError:\n",
    "            continue\n",
    "        except InvalidSelectorException:\n",
    "            continue"
   ]
  }
 ],
 "metadata": {
  "hide_input": false,
  "kernelspec": {
   "display_name": "Python 3",
   "language": "python",
   "name": "python3"
  },
  "language_info": {
   "codemirror_mode": {
    "name": "ipython",
    "version": 3
   },
   "file_extension": ".py",
   "mimetype": "text/x-python",
   "name": "python",
   "nbconvert_exporter": "python",
   "pygments_lexer": "ipython3",
   "version": "3.8.8"
  },
  "toc": {
   "base_numbering": 1,
   "nav_menu": {},
   "number_sections": true,
   "sideBar": true,
   "skip_h1_title": false,
   "title_cell": "Table of Contents",
   "title_sidebar": "Contents",
   "toc_cell": false,
   "toc_position": {},
   "toc_section_display": true,
   "toc_window_display": false
  },
  "varInspector": {
   "cols": {
    "lenName": 16,
    "lenType": 16,
    "lenVar": 40
   },
   "kernels_config": {
    "python": {
     "delete_cmd_postfix": "",
     "delete_cmd_prefix": "del ",
     "library": "var_list.py",
     "varRefreshCmd": "print(var_dic_list())"
    },
    "r": {
     "delete_cmd_postfix": ") ",
     "delete_cmd_prefix": "rm(",
     "library": "var_list.r",
     "varRefreshCmd": "cat(var_dic_list()) "
    }
   },
   "types_to_exclude": [
    "module",
    "function",
    "builtin_function_or_method",
    "instance",
    "_Feature"
   ],
   "window_display": false
  }
 },
 "nbformat": 4,
 "nbformat_minor": 5
}
