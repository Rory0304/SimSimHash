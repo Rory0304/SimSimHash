{
 "cells": [
  {
   "cell_type": "markdown",
   "id": "612e7f96",
   "metadata": {},
   "source": [
    "> * 네이버 영화 디렉토리 : https://movie.naver.com/movie/sdb/browsing/bmovie.naver\n",
    "> * 개봉년도 (2019) : https://movie.naver.com/movie/sdb/browsing/bmovie.naver?open=2019\n",
    "> * 개봉년도 (2019) & 1페이지 : https://movie.naver.com/movie/sdb/browsing/bmovie.naver?open=2019&page=1"
   ]
  },
  {
   "cell_type": "code",
   "execution_count": 3,
   "id": "d6375281",
   "metadata": {
    "ExecuteTime": {
     "end_time": "2021-10-13T05:18:45.422223Z",
     "start_time": "2021-10-13T05:18:45.190202Z"
    }
   },
   "outputs": [],
   "source": [
    "import time, re, csv\n",
    "from bs4 import BeautifulSoup\n",
    "from selenium import webdriver\n",
    "from selenium.webdriver.common.keys import Keys\n",
    "from selenium.webdriver.common.by import By"
   ]
  },
  {
   "cell_type": "code",
   "execution_count": 1,
   "id": "1ea2a8b1",
   "metadata": {
    "ExecuteTime": {
     "end_time": "2021-10-13T05:18:41.166021Z",
     "start_time": "2021-10-13T05:18:40.517197Z"
    }
   },
   "outputs": [],
   "source": [
    "import pandas as pd"
   ]
  },
  {
   "cell_type": "code",
   "execution_count": 2,
   "id": "b4264810",
   "metadata": {
    "ExecuteTime": {
     "end_time": "2021-10-13T05:18:43.593740Z",
     "start_time": "2021-10-13T05:18:43.569742Z"
    }
   },
   "outputs": [],
   "source": [
    "from selenium.common.exceptions import NoSuchElementException\n",
    "from selenium.common.exceptions import StaleElementReferenceException"
   ]
  },
  {
   "cell_type": "markdown",
   "id": "dec88670",
   "metadata": {},
   "source": [
    "## 2019년 1페이지 영화 리스트"
   ]
  },
  {
   "cell_type": "code",
   "execution_count": 2,
   "id": "a95807cb",
   "metadata": {
    "ExecuteTime": {
     "end_time": "2021-10-05T02:27:08.415179Z",
     "start_time": "2021-10-05T02:27:02.031135Z"
    }
   },
   "outputs": [
    {
     "name": "stdout",
     "output_type": "stream",
     "text": [
      "0.0MHz\n",
      "1 더하기 3 (Three Husbands)\n",
      "10 미니츠 곤 (10 Minutes Gone)\n",
      "100일 동안 100가지로 100퍼센트 행복찾기 (100 Things)\n",
      "10년 (Ten Years Japan)\n",
      "12번째 솔저 (The 12th Man)\n",
      "13년의 공백 (blank 13)\n",
      "1919 유관순\n",
      "2047 버추얼 레볼루션 (2047: Virtual Revolution)\n",
      "47미터 2 (47 meters down: uncaged)\n",
      "48시간: 지구 최후의 날 (Anyone but them)\n",
      "6솔져스 (To Die For)\n",
      "7 솔져스 (Cigarette Soup)\n",
      "82년생 김지영 (KIM JI-YOUNG, BORN 1982)\n",
      "8년 전쟁: 이란 vs 이라크 (Standing in the Dust)\n",
      "EBS 댄스파티!\n",
      "가버나움 (Capernaum)\n",
      "가슴 큰 형수\n",
      "가싶녀\n",
      "가장 보통의 연애 (Crazy Romance)\n"
     ]
    }
   ],
   "source": [
    "# 크롬창(웹드라이버) 열기\n",
    "driver = webdriver.Chrome('C:/Users/sooyeon/Downloads/chromedriver.exe')\n",
    "\n",
    "# 2019 페이지 접속\n",
    "driver.get(\"https://movie.naver.com/movie/sdb/browsing/bmovie.naver?open=2019\")\n",
    "\n",
    "time.sleep(2)\n",
    "\n",
    "# 영화 리스트 불러오기\n",
    "boxes = driver.find_elements_by_css_selector(\"#old_content > ul > li\")\n",
    "for box in boxes:\n",
    "    title = box.find_element_by_css_selector('a').text\n",
    "    print(title)"
   ]
  },
  {
   "cell_type": "markdown",
   "id": "5004cfb3",
   "metadata": {},
   "source": [
    "### 리스트 담기"
   ]
  },
  {
   "cell_type": "code",
   "execution_count": 94,
   "id": "c6865cc3",
   "metadata": {
    "ExecuteTime": {
     "end_time": "2021-10-05T10:08:55.712494Z",
     "start_time": "2021-10-05T10:08:50.495454Z"
    }
   },
   "outputs": [],
   "source": [
    "## 1페이지만\n",
    "# 크롬창(웹드라이버) 열기\n",
    "driver = webdriver.Chrome('C:/Users/sooyeon/Downloads/chromedriver.exe')\n",
    "\n",
    "# 2019 페이지 접속\n",
    "driver.get(\"https://movie.naver.com/movie/sdb/browsing/bmovie.naver?open=2019\")\n",
    "\n",
    "time.sleep(2)\n",
    "\n",
    "title = []\n",
    "# 영화 리스트 불러오기\n",
    "\n",
    "boxes = driver.find_elements_by_css_selector(\"#old_content > ul > li\")\n",
    "for box in boxes:\n",
    "    title.append(box.find_element_by_css_selector('a').text)"
   ]
  },
  {
   "cell_type": "code",
   "execution_count": 95,
   "id": "764fb868",
   "metadata": {
    "ExecuteTime": {
     "end_time": "2021-10-05T10:09:08.549058Z",
     "start_time": "2021-10-05T10:09:08.529057Z"
    }
   },
   "outputs": [
    {
     "data": {
      "text/plain": [
       "['0.0MHz',\n",
       " '1 더하기 3 (Three Husbands)',\n",
       " '10 미니츠 곤 (10 Minutes Gone)',\n",
       " '100일 동안 100가지로 100퍼센트 행복찾기 (100 Things)',\n",
       " '10년 (Ten Years Japan)',\n",
       " '12번째 솔저 (The 12th Man)',\n",
       " '13년의 공백 (blank 13)',\n",
       " '1919 유관순',\n",
       " '2047 버추얼 레볼루션 (2047: Virtual Revolution)',\n",
       " '47미터 2 (47 meters down: uncaged)',\n",
       " '48시간: 지구 최후의 날 (Anyone but them)',\n",
       " '6솔져스 (To Die For)',\n",
       " '7 솔져스 (Cigarette Soup)',\n",
       " '82년생 김지영 (KIM JI-YOUNG, BORN 1982)',\n",
       " '8년 전쟁: 이란 vs 이라크 (Standing in the Dust)',\n",
       " 'EBS 댄스파티!',\n",
       " '가버나움 (Capernaum)',\n",
       " '가슴 큰 형수',\n",
       " '가싶녀',\n",
       " '가장 보통의 연애 (Crazy Romance)']"
      ]
     },
     "execution_count": 95,
     "metadata": {},
     "output_type": "execute_result"
    }
   ],
   "source": [
    "title"
   ]
  },
  {
   "cell_type": "markdown",
   "id": "eeda909d",
   "metadata": {},
   "source": [
    "## 영화별 주소 불러오기"
   ]
  },
  {
   "cell_type": "code",
   "execution_count": 50,
   "id": "977e8c37",
   "metadata": {
    "ExecuteTime": {
     "end_time": "2021-10-05T05:51:11.244157Z",
     "start_time": "2021-10-05T05:51:06.501097Z"
    },
    "scrolled": true
   },
   "outputs": [
    {
     "name": "stdout",
     "output_type": "stream",
     "text": [
      "https://movie.naver.com/movie/bi/mi/basic.naver?code=177371\n",
      "https://movie.naver.com/movie/bi/mi/basic.naver?code=181063\n",
      "https://movie.naver.com/movie/bi/mi/basic.naver?code=189051\n",
      "https://movie.naver.com/movie/bi/mi/basic.naver?code=183377\n",
      "https://movie.naver.com/movie/bi/mi/basic.naver?code=179338\n",
      "https://movie.naver.com/movie/bi/mi/basic.naver?code=172980\n",
      "https://movie.naver.com/movie/bi/mi/basic.naver?code=159685\n",
      "https://movie.naver.com/movie/bi/mi/basic.naver?code=182407\n",
      "https://movie.naver.com/movie/bi/mi/basic.naver?code=148348\n",
      "https://movie.naver.com/movie/bi/mi/basic.naver?code=187161\n",
      "https://movie.naver.com/movie/bi/mi/basic.naver?code=183508\n",
      "https://movie.naver.com/movie/bi/mi/basic.naver?code=185294\n",
      "https://movie.naver.com/movie/bi/mi/basic.naver?code=186679\n",
      "https://movie.naver.com/movie/bi/mi/basic.naver?code=179482\n",
      "https://movie.naver.com/movie/bi/mi/basic.naver?code=182616\n",
      "https://movie.naver.com/movie/bi/mi/basic.naver?code=188349\n",
      "https://movie.naver.com/movie/bi/mi/basic.naver?code=174830\n",
      "https://movie.naver.com/movie/bi/mi/basic.naver?code=190311\n",
      "https://movie.naver.com/movie/bi/mi/basic.naver?code=190354\n",
      "https://movie.naver.com/movie/bi/mi/basic.naver?code=182205\n"
     ]
    }
   ],
   "source": [
    "import pandas as pd\n",
    "# 크롬창(웹드라이버) 열기\n",
    "driver = webdriver.Chrome('C:/Users/sooyeon/Downloads/chromedriver.exe')\n",
    "\n",
    "# 2019 페이지 접속\n",
    "url = \"https://movie.naver.com/movie/sdb/browsing/bmovie.naver?open=2019\"\n",
    "driver.get(url)\n",
    "\n",
    "time.sleep(2)\n",
    "\n",
    "result = []\n",
    "\n",
    "    \n",
    "boxes = driver.find_elements_by_css_selector(\"#old_content > ul > li\")\n",
    "for box in boxes:    \n",
    "    link = box.find_element_by_css_selector('a').get_attribute('href')\n",
    "    print(link)"
   ]
  },
  {
   "cell_type": "markdown",
   "id": "f97ae4f9",
   "metadata": {},
   "source": [
    "### 리스트에 저장"
   ]
  },
  {
   "cell_type": "code",
   "execution_count": 42,
   "id": "8ed821c2",
   "metadata": {
    "ExecuteTime": {
     "end_time": "2021-10-05T05:47:10.856391Z",
     "start_time": "2021-10-05T05:47:04.860988Z"
    }
   },
   "outputs": [
    {
     "name": "stdout",
     "output_type": "stream",
     "text": [
      "['https://movie.naver.com/movie/bi/mi/basic.naver?code=177371', 'https://movie.naver.com/movie/bi/mi/basic.naver?code=181063', 'https://movie.naver.com/movie/bi/mi/basic.naver?code=189051', 'https://movie.naver.com/movie/bi/mi/basic.naver?code=183377', 'https://movie.naver.com/movie/bi/mi/basic.naver?code=179338', 'https://movie.naver.com/movie/bi/mi/basic.naver?code=172980', 'https://movie.naver.com/movie/bi/mi/basic.naver?code=159685', 'https://movie.naver.com/movie/bi/mi/basic.naver?code=182407', 'https://movie.naver.com/movie/bi/mi/basic.naver?code=148348', 'https://movie.naver.com/movie/bi/mi/basic.naver?code=187161', 'https://movie.naver.com/movie/bi/mi/basic.naver?code=183508', 'https://movie.naver.com/movie/bi/mi/basic.naver?code=185294', 'https://movie.naver.com/movie/bi/mi/basic.naver?code=186679', 'https://movie.naver.com/movie/bi/mi/basic.naver?code=179482', 'https://movie.naver.com/movie/bi/mi/basic.naver?code=182616', 'https://movie.naver.com/movie/bi/mi/basic.naver?code=188349', 'https://movie.naver.com/movie/bi/mi/basic.naver?code=174830', 'https://movie.naver.com/movie/bi/mi/basic.naver?code=190311', 'https://movie.naver.com/movie/bi/mi/basic.naver?code=190354', 'https://movie.naver.com/movie/bi/mi/basic.naver?code=182205']\n"
     ]
    }
   ],
   "source": [
    "# 크롬창(웹드라이버) 열기\n",
    "driver = webdriver.Chrome('C:/Users/sooyeon/Downloads/chromedriver.exe')\n",
    "\n",
    "# 2019 페이지 접속\n",
    "driver.get(\"https://movie.naver.com/movie/sdb/browsing/bmovie.naver?open=2019\")\n",
    "\n",
    "time.sleep(2)\n",
    "\n",
    "# 영화 리스트 불러오기\n",
    "boxes = driver.find_elements_by_css_selector(\"#old_content > ul > li\")\n",
    "link = []\n",
    "for box in boxes:\n",
    "    link.append(box.find_element_by_css_selector('a').get_attribute('href'))\n",
    "\n",
    "\n",
    "print(link)"
   ]
  },
  {
   "cell_type": "markdown",
   "id": "c8d5d025",
   "metadata": {},
   "source": [
    "### 일단 출력만 "
   ]
  },
  {
   "cell_type": "code",
   "execution_count": 45,
   "id": "5944a7ce",
   "metadata": {
    "ExecuteTime": {
     "end_time": "2021-10-05T05:47:41.661745Z",
     "start_time": "2021-10-05T05:47:41.651748Z"
    }
   },
   "outputs": [
    {
     "data": {
      "text/plain": [
       "list"
      ]
     },
     "execution_count": 45,
     "metadata": {},
     "output_type": "execute_result"
    }
   ],
   "source": [
    "type(link)"
   ]
  },
  {
   "cell_type": "code",
   "execution_count": 46,
   "id": "4e27732b",
   "metadata": {
    "ExecuteTime": {
     "end_time": "2021-10-05T05:47:45.577991Z",
     "start_time": "2021-10-05T05:47:45.568378Z"
    }
   },
   "outputs": [
    {
     "data": {
      "text/plain": [
       "20"
      ]
     },
     "execution_count": 46,
     "metadata": {},
     "output_type": "execute_result"
    }
   ],
   "source": [
    "len(link)"
   ]
  },
  {
   "cell_type": "code",
   "execution_count": 47,
   "id": "b5b35072",
   "metadata": {
    "ExecuteTime": {
     "end_time": "2021-10-05T05:47:55.499138Z",
     "start_time": "2021-10-05T05:47:55.487133Z"
    }
   },
   "outputs": [
    {
     "data": {
      "text/plain": [
       "'https://movie.naver.com/movie/bi/mi/basic.naver?code=177371'"
      ]
     },
     "execution_count": 47,
     "metadata": {},
     "output_type": "execute_result"
    }
   ],
   "source": [
    "link[0]"
   ]
  },
  {
   "cell_type": "code",
   "execution_count": 49,
   "id": "78e4e817",
   "metadata": {
    "ExecuteTime": {
     "end_time": "2021-10-05T05:48:10.260188Z",
     "start_time": "2021-10-05T05:48:10.244177Z"
    }
   },
   "outputs": [
    {
     "data": {
      "text/plain": [
       "'https://movie.naver.com/movie/bi/mi/basic.naver?code=182205'"
      ]
     },
     "execution_count": 49,
     "metadata": {},
     "output_type": "execute_result"
    }
   ],
   "source": [
    "link[19]"
   ]
  },
  {
   "cell_type": "markdown",
   "id": "556afcbd",
   "metadata": {},
   "source": [
    "## 페이지별 영화 목록 가져오기 (1 ~ 9 page)"
   ]
  },
  {
   "cell_type": "code",
   "execution_count": 71,
   "id": "58439e37",
   "metadata": {
    "ExecuteTime": {
     "end_time": "2021-10-05T07:40:04.604522Z",
     "start_time": "2021-10-05T07:39:51.249496Z"
    },
    "scrolled": false
   },
   "outputs": [],
   "source": [
    "# 크롬창(웹드라이버) 열기\n",
    "driver = webdriver.Chrome('C:/Users/sooyeon/Downloads/chromedriver.exe')\n",
    "\n",
    "# 2019 페이지 접속\n",
    "driver.get(\"https://movie.naver.com/movie/sdb/browsing/bmovie.naver?open=2019\")\n",
    "\n",
    "time.sleep(2)\n",
    "\n",
    "title = []\n",
    "# 영화 리스트 불러오기\n",
    "for i in range(0,9):\n",
    "    boxes = driver.find_elements_by_css_selector(\"#old_content > ul > li\")\n",
    "    for box in boxes:\n",
    "        title.append(box.find_element_by_css_selector('a').text)\n",
    "        \n",
    "    \n",
    "    # pagebar : 각각 불러올 페이지 #old_content > div.pagenavigation > table > tbody > tr > td:nth-child(1) > a\n",
    "    page_bar = driver.find_elements_by_css_selector(\"div.pagenavigation > table > tbody > tr > td > *\")\n",
    "    page_bar[i+1].click()"
   ]
  },
  {
   "cell_type": "code",
   "execution_count": 72,
   "id": "e1296227",
   "metadata": {
    "ExecuteTime": {
     "end_time": "2021-10-05T07:40:07.536617Z",
     "start_time": "2021-10-05T07:40:07.520612Z"
    },
    "scrolled": true
   },
   "outputs": [
    {
     "data": {
      "text/plain": [
       "['0.0MHz',\n",
       " '1 더하기 3 (Three Husbands)',\n",
       " '10 미니츠 곤 (10 Minutes Gone)',\n",
       " '100일 동안 100가지로 100퍼센트 행복찾기 (100 Things)',\n",
       " '10년 (Ten Years Japan)',\n",
       " '12번째 솔저 (The 12th Man)',\n",
       " '13년의 공백 (blank 13)',\n",
       " '1919 유관순',\n",
       " '2047 버추얼 레볼루션 (2047: Virtual Revolution)',\n",
       " '47미터 2 (47 meters down: uncaged)',\n",
       " '48시간: 지구 최후의 날 (Anyone but them)',\n",
       " '6솔져스 (To Die For)',\n",
       " '7 솔져스 (Cigarette Soup)',\n",
       " '82년생 김지영 (KIM JI-YOUNG, BORN 1982)',\n",
       " '8년 전쟁: 이란 vs 이라크 (Standing in the Dust)',\n",
       " 'EBS 댄스파티!',\n",
       " '가버나움 (Capernaum)',\n",
       " '가슴 큰 형수',\n",
       " '가싶녀',\n",
       " '가장 보통의 연애 (Crazy Romance)',\n",
       " '갈까부다 (Wish you were here)',\n",
       " '감쪽같은 그녀 (A Little Princess)',\n",
       " '강남 며느리',\n",
       " '강변호텔 (Hotel by the River)',\n",
       " '같이사는 아내의 엄마 (Yomeno Hahaoya Tanihara Nozomi)',\n",
       " '갤버스턴 (Galveston)',\n",
       " '거유 장모와 실제로 느끼는 사위 (An obscene mother-in-law)',\n",
       " '건달티처',\n",
       " '걸작 (MASTERPIECE)',\n",
       " '걸캅스 (Miss & Mrs. Cops)',\n",
       " '검은 여름 (Black Summer)',\n",
       " '겨울왕국 2 (Frozen 2)',\n",
       " '결혼 이야기 (Marriage Story)',\n",
       " '경계선 (BORDER)',\n",
       " '계절과 계절 사이 (Between the Seasons)',\n",
       " '고검기담: 소명신검의 부활 (Legend of the Ancient Sword)',\n",
       " '고골: 악령과의 전쟁 (Gogol.Viy)',\n",
       " '고릴라와 슈퍼레이스 (Louis & Nolan: The big Cheese Race)',\n",
       " '고봉수 감독 단편선',\n",
       " '고양이 여행 리포트 (The Travelling Cat Chronicles)',\n",
       " '갈까부다 (Wish you were here)',\n",
       " '감쪽같은 그녀 (A Little Princess)',\n",
       " '강남 며느리',\n",
       " '강변호텔 (Hotel by the River)',\n",
       " '같이사는 아내의 엄마 (Yomeno Hahaoya Tanihara Nozomi)',\n",
       " '갤버스턴 (Galveston)',\n",
       " '거유 장모와 실제로 느끼는 사위 (An obscene mother-in-law)',\n",
       " '건달티처',\n",
       " '걸작 (MASTERPIECE)',\n",
       " '걸캅스 (Miss & Mrs. Cops)',\n",
       " '검은 여름 (Black Summer)',\n",
       " '겨울왕국 2 (Frozen 2)',\n",
       " '결혼 이야기 (Marriage Story)',\n",
       " '경계선 (BORDER)',\n",
       " '계절과 계절 사이 (Between the Seasons)',\n",
       " '고검기담: 소명신검의 부활 (Legend of the Ancient Sword)',\n",
       " '고골: 악령과의 전쟁 (Gogol.Viy)',\n",
       " '고릴라와 슈퍼레이스 (Louis & Nolan: The big Cheese Race)',\n",
       " '고봉수 감독 단편선',\n",
       " '고양이 여행 리포트 (The Travelling Cat Chronicles)',\n",
       " '고질라: 킹 오브 몬스터 (Godzilla: King of the Monsters)',\n",
       " \"고흐, 영원의 문에서 (At Eternity's Gate)\",\n",
       " '공포의 묘지 (Pet Sematary)',\n",
       " '공포의 묘지: 망자의 저주 (Pet Graveyard)',\n",
       " '공포의 신생아실 (The Nursery)',\n",
       " '관계 : 형수와 딸',\n",
       " '관전TV',\n",
       " '관전남',\n",
       " '관전녀',\n",
       " '광대들: 풍문조작단 (Jesters: The Game Changers)',\n",
       " '교회오빠 (A Job Who Is near Us)',\n",
       " '구스 베이비 (Duck Duck Goose)',\n",
       " '국경의 왕 (The King of the Border)',\n",
       " '굿 라이어 (The Good Liar)',\n",
       " '굿바이 마이 러브NK: 붉은 청춘 (Goodbye My Love, North Korea)',\n",
       " '굿바이 썸머 (Goodbye Summer)',\n",
       " '귀신의 향기 (scent of ghost)',\n",
       " '그것: 두 번째 이야기 (It Chapter Two)',\n",
       " '그것: 저주의 시작 (The Houses October Built 2)',\n",
       " '그날은 오리라 (Our Time Will Come)',\n",
       " '그녀들을 도와줘 (Support the Girls)',\n",
       " '그녀의 섹스테크닉 (MY TECHNICOLOR GIRL)',\n",
       " '그대 이름은 장미 (Rosebud)',\n",
       " '그때 그들 (Loro)',\n",
       " '그레이브 하우스 (Graves and Bones)',\n",
       " '그린 북 (Green Book)',\n",
       " '그림자 킬러 (Southern Chillers)',\n",
       " '극장판 공룡메카드: 타이니소어의 섬',\n",
       " '극장판 반지의 비밀일기',\n",
       " '극장판 샤이닝스타:새로운 루나퀸의 탄생! (Shining Star: Lunar Queen)',\n",
       " '극장판 엉덩이 탐정: 화려한 사건 수첩 (Butt Detective The Movie)',\n",
       " '극장판 오소마츠 6쌍둥이 (OSOMATSUSAN THE MOVIE)',\n",
       " '극장판 타오르지마 버스터 - 블랙어썰트의 귀환 (The Return of Dark Assault)',\n",
       " '극장판 헬로카봇 : 달나라를 구해줘! (Hello Carbot the Movie: Save the Moon)',\n",
       " '극장판 헬로카봇:옴파로스 섬의 비밀 (Hello Carbot the Movie: The Secret of Omphalos Island)',\n",
       " '극한직업 (Extreme Job)',\n",
       " '글래스 (Glass)',\n",
       " '글로리아 벨 (Gloria Bell)',\n",
       " '기묘한 가족 (THE ODD FAMILY : ZOMBIE ON SALE)',\n",
       " '기방도령 (HOMME FATALE)',\n",
       " '기생충 (PARASITE)',\n",
       " '기억할 만한 지나침 (Ephemerals to Remember)',\n",
       " '긴머리의 친구엄마 (Yujin no Izumi Jun)',\n",
       " '김군 (KIM-GUN)',\n",
       " '김복동 (My name is KIM Bok-dong)',\n",
       " \"꼬마 물고기 이자벨: 바다 대모험 (Izzie's Way Home)\",\n",
       " '꼬마 자전거 스피디 (Bikes)',\n",
       " '나노 테러리즘: CIA 비밀요원 (Headlock)',\n",
       " '나는 다른 언어로 꿈을 꾼다 (I Dream in Another Language)',\n",
       " '나는 예수님이 싫다 (Jesus)',\n",
       " '나는 원래 대전에서 로맨틱 코미디를 찍으려고 했었다 (Daejeon Romantic comedy)',\n",
       " \"나랏말싸미 (The King's Letters)\",\n",
       " '나를 찾아줘 (Bring Me Home)',\n",
       " '나만 없어 고양이 (Hello, My Cat)',\n",
       " '나쁜 녀석들: 더 무비 (THE BAD GUYS: REIGN OF CHAOS)',\n",
       " '나의 노래는 멀리멀리 (Free My Soul, Free My Song)',\n",
       " '나의 작은 시인에게 (The Kindergarten Teacher)',\n",
       " '나의 특별한 형제 (INSEPARABLE BROS)',\n",
       " '나의 히어로 아카데미아 더 무비: 두 명의 히어로 (MY HERO ACADEMIA: Two Heroes)',\n",
       " '나이브스 아웃 (Knives Out)',\n",
       " '나이트메어 시네마 (Nightmare Cinema)',\n",
       " '난폭한 기록 (Fist & Furious)',\n",
       " '날씨의 아이 (Weathering With You)',\n",
       " '남편 친구와 즐기는 육덕아내 (S and M)',\n",
       " '남편상사들 (Anata, yurushite - Akiyama Shoko)',\n",
       " \"남편이 알면 맞아죽을 관계-새엄마는 초거유 (Mother-in-law's incest. Nachi Kurosawa)\",\n",
       " '낮에는 여상사, 밤에는 나의 비서 (Bewitching woman boss)',\n",
       " \"낮잠자는 새엄마의 속옷이 보이고 (Mother-in-law's incest. Momo Wakui)\",\n",
       " '내 여자의 남자들',\n",
       " '내 완벽한 남사친의 비밀 (Unleashed)',\n",
       " '내 이웃과의 섹스라이프',\n",
       " '내가 사는 세상 (Back from the Beat)',\n",
       " '내아내의제자들',\n",
       " '내안의 그놈 (Inside me)',\n",
       " '내친구의두엄마',\n",
       " '너를 만난 여름 (My Best Summer)',\n",
       " '너의 목소리 (Your Voice-Kimikoe)',\n",
       " '너의 여자친구 (My Bossy Girl)',\n",
       " '노래방 : 화끈한 여자들2',\n",
       " '노무현과 바보들',\n",
       " '노벰버 크리미널즈 (November Criminals)',\n",
       " '노크: 낯선 그림자 (Trespassers)',\n",
       " '녹차의 중력 (Gravity of the Tea)',\n",
       " '논-픽션 (Non-Fiction)',\n",
       " '누구나 아는 비밀 (Everybody Knows)',\n",
       " '누나의 속사정',\n",
       " '눈의 여왕4 (The Snow Queen: Mirrorlands)',\n",
       " '늑대의 아이들 (Werewolf)',\n",
       " '니나 내나 (Family Affair)',\n",
       " '다시, 봄 (Spring, Again)',\n",
       " '다시만난 동창 (Hitodzuma Jokan Natsume Ayaka)',\n",
       " '다운 어 다크 홀 (Down a Dark Hall)',\n",
       " '다이노 어드벤처: 뉴 자이언트 (Planet Dinosaur: New Giants)',\n",
       " '다이노 어드벤처: 육해공 킬러 엘리트 (Planet Dinosaur: Killer Elite)',\n",
       " '다이노소어 월드 (Jurassic Galaxy)',\n",
       " '다커 나이트 (Darker than Night)',\n",
       " '닥치고 피아노! (Shut Up and Play the Piano)',\n",
       " '닥터 슬립 (Doctor Sleep)',\n",
       " '닥터 킬러 패밀리 (No Visitors)',\n",
       " '달나라에 사는 여인 (From the Land of the Moon)',\n",
       " '더하우스',\n",
       " '던전에서 만남을 추구하면 안 되는 걸까? –오리온의 화살– (Is It Wrong to Try to Pick Up Girls in a Dungeon? –Arrow of the Orion–)',\n",
       " '덤보 (Dumbo )',\n",
       " \"데드 돈 다이 (The Dead Don't Die)\",\n",
       " '데드 스쿼드: 죽은 자들의 사원 (Dead Squad: Temple of the Undead)',\n",
       " '데드풀2: 순한 맛 (ONCE UPON A DEADPOOL)',\n",
       " '데들리 스토커 (Capture)',\n",
       " '데스 에브리데이 (The Campus)',\n",
       " '데스 키스 (Death Kiss)',\n",
       " '데스티네이션 콘트롤 (Frequencies)',\n",
       " '도니브룩 (Donnybrook)',\n",
       " '도신 외전 (Operation Undercover 1: Gambling Gods)',\n",
       " '도심 속의 방 (A Room in Town)',\n",
       " '도우터 오브 마인 (Daughter of Mine)',\n",
       " '도쿄의 밤하늘은 항상 가장 짙은 블루 (The Tokyo Night Sky Is Always the Densest Shade of Blue)',\n",
       " '독고다이',\n",
       " '돈 (Money)',\n",
       " \"돈 워리 (Don't Worry, He Won't Get Far on Foot)\",\n",
       " '돈키호테를 죽인 사나이 (The Man Who Killed Don Quixote)',\n",
       " '동경']"
      ]
     },
     "execution_count": 72,
     "metadata": {},
     "output_type": "execute_result"
    }
   ],
   "source": [
    "title"
   ]
  },
  {
   "cell_type": "markdown",
   "id": "1a20ae89",
   "metadata": {},
   "source": [
    "---"
   ]
  },
  {
   "cell_type": "markdown",
   "id": "c6a1f763",
   "metadata": {
    "ExecuteTime": {
     "end_time": "2021-10-17T10:02:18.518608Z",
     "start_time": "2021-10-17T10:02:18.506604Z"
    }
   },
   "source": [
    "* 줄거리 전처리 test"
   ]
  },
  {
   "cell_type": "code",
   "execution_count": 79,
   "id": "d75ec46b",
   "metadata": {
    "ExecuteTime": {
     "end_time": "2021-10-07T01:33:29.570095Z",
     "start_time": "2021-10-07T01:33:29.559059Z"
    }
   },
   "outputs": [
    {
     "data": {
      "text/plain": [
       "'에디슨의 마지막 발명품, 유령 탐지기? “증명할 수 없는 미스터리란 없다” 가지 말라는 곳에 가야 하는 이유가 있다  세상에 일어나는 초자연 미스터리를 분석하는 동아리 0.0MHz 멤버들이 귀신을 부르는 주파수를 증명하기 위해 우하리의 한 흉가를 찾은 후 기이한 현상이 멈추지 않는데…'"
      ]
     },
     "execution_count": 79,
     "metadata": {},
     "output_type": "execute_result"
    }
   ],
   "source": [
    "atest[0].replace('\\n','')"
   ]
  },
  {
   "cell_type": "code",
   "execution_count": 90,
   "id": "f89ae221",
   "metadata": {
    "ExecuteTime": {
     "end_time": "2021-10-07T01:59:31.875005Z",
     "start_time": "2021-10-07T01:59:31.844013Z"
    }
   },
   "outputs": [
    {
     "data": {
      "text/plain": [
       "pandas.core.series.Series"
      ]
     },
     "execution_count": 90,
     "metadata": {},
     "output_type": "execute_result"
    }
   ],
   "source": [
    "type(atest)"
   ]
  },
  {
   "cell_type": "code",
   "execution_count": 91,
   "id": "fbf5ec1f",
   "metadata": {
    "ExecuteTime": {
     "end_time": "2021-10-07T02:00:45.561484Z",
     "start_time": "2021-10-07T02:00:45.538501Z"
    }
   },
   "outputs": [],
   "source": [
    "btest = []\n",
    "for i in range(0,len(atest)):\n",
    "    btest.append(atest.iloc[i].replace('\\n',''))"
   ]
  },
  {
   "cell_type": "code",
   "execution_count": 93,
   "id": "23719015",
   "metadata": {
    "ExecuteTime": {
     "end_time": "2021-10-07T02:01:02.396076Z",
     "start_time": "2021-10-07T02:01:02.362068Z"
    }
   },
   "outputs": [],
   "source": [
    "with open(\"btest.txt\", \"w\", encoding='utf-8') as f:\n",
    "    for b in btest:\n",
    "        f.write(b)"
   ]
  },
  {
   "cell_type": "code",
   "execution_count": null,
   "id": "251e607c",
   "metadata": {},
   "outputs": [],
   "source": [
    "file = open('btest.txt','r',encoding='utf-8')\n",
    "total_lines = file.readlines() # txt파일을 줄 단위로 읽음\n",
    "file.close()\n",
    "# print(total_lines)"
   ]
  },
  {
   "cell_type": "markdown",
   "id": "f4a399a6",
   "metadata": {},
   "source": [
    "---"
   ]
  },
  {
   "cell_type": "markdown",
   "id": "6ffef208",
   "metadata": {},
   "source": [
    "## + 포스터 url 추가"
   ]
  },
  {
   "cell_type": "markdown",
   "id": "57c80a65",
   "metadata": {},
   "source": [
    "### 데이터 구성\n",
    "- 영화 제목\n",
    "- 장르\n",
    "- 국가\n",
    "- 러닝타임\n",
    "- 개봉일\n",
    "- 감독\n",
    "- 출연진\n",
    "- 등급(관람가)\n",
    "- 줄거리\n",
    "- 포스터 url\n",
    "<br>\n",
    "<br>\n",
    "\n",
    "한 페이지당 영화 목록 : `20개`"
   ]
  },
  {
   "cell_type": "markdown",
   "id": "39a9e5ca",
   "metadata": {},
   "source": [
    "#### 피드백 및 오류 수정 반영 코드\n",
    "* 페이지네이션별 영화목록의 메타데이터 수집\n",
    "* selenium → bs4 반복문 사용 : xpath 문제 해결\n",
    "* `from_dict`, `orient='index'`, `.T` : ValueError 문제 해결"
   ]
  },
  {
   "cell_type": "code",
   "execution_count": null,
   "id": "91d1932f",
   "metadata": {},
   "outputs": [],
   "source": [
    "import pandas as pd\n",
    "# 크롬창(웹드라이버) 열기\n",
    "driver = webdriver.Chrome('C:/Users/sooyeon/Downloads/chromedriver.exe')\n",
    "\n",
    "from urllib.request import urlopen\n",
    "from bs4 import BeautifulSoup\n",
    "\n",
    "# 한 페이지당 20개 링크 \n",
    "link = []\n",
    "title = []\n",
    "genre = []\n",
    "nation = []\n",
    "running = []\n",
    "release = []\n",
    "director = []\n",
    "actor = []\n",
    "grade = []\n",
    "story = []  \n",
    "poster = []\n",
    "\n",
    "# 2021년 개봉영화 디렉토리는 총 37페이지(10월 기준)\n",
    "# 페이지네이션 : xpath 버튼 눌러서 다음페이지 누르지 않고 주소의 숫자를 변경해서 리스트로 담은 뒤 실행\n",
    "for page in range(1,38):\n",
    "    url = f'https://movie.naver.com/movie/sdb/browsing/bmovie.naver?open=2020&page={page}'\n",
    "    html = urlopen(url)\n",
    "    soup = BeautifulSoup(html,'html.parser')\n",
    "    # 한 페이지마다 영화 목록의 박스 \n",
    "    ul = soup.find('div').find('ul',class_='directory_list')\n",
    "    # a 태그의 href 를 통해 각 영화의 상세정보 페이지에 접속\n",
    "    for a in ul.find_all('a'):\n",
    "        link.append(a['href'])\n",
    "    \n",
    "    # 2021 페이지 접속   \n",
    "    driver.get(url)\n",
    "    \n",
    "    # 시간 지연\n",
    "    #time.sleep(2)\n",
    "\n",
    "    # 리스트 정의\n",
    "    result = []\n",
    "\n",
    "    # 영화 리스트 불러오기\n",
    "    boxes = driver.find_elements_by_css_selector(\"#old_content > ul > li\")\n",
    "    link = []\n",
    "    \n",
    "    \n",
    "    for box in boxes:\n",
    "        link.append(box.find_element_by_css_selector('a').get_attribute('href'))\n",
    "\n",
    "    # 링크 한줄 씩 반복문\n",
    "    # 한 페이지당 해당하는 영화는 20개\n",
    "\n",
    "\n",
    "    for i in range(0,20):\n",
    "        # i번째 링크 접속하기\n",
    "        driver.get(link[i])\n",
    "\n",
    "        # 시간 지연 \n",
    "        time.sleep(1)\n",
    "\n",
    "        try:\n",
    "            # 속성정보를 변수에 할당 \n",
    "\n",
    "            # 제목\n",
    "            tmp1_ = driver.find_element_by_css_selector(\"#content > div.article > div.mv_info_area > div.mv_info > h3 > a\").text\n",
    "            # 장르\n",
    "            tmp2_ = driver.find_element_by_css_selector(\"#content > div.article > div.mv_info_area > div.mv_info > dl > dd:nth-child(2) > p > span:nth-child(1)\").text\n",
    "            # 국가\n",
    "            tmp3_ = driver.find_element_by_css_selector(\"#content > div.article > div.mv_info_area > div.mv_info > dl > dd:nth-child(2) > p > span:nth-child(2) > a\").text\n",
    "            # 러닝타임\n",
    "            tmp4_ = driver.find_element_by_css_selector(\"#content > div.article > div.mv_info_area > div.mv_info > dl > dd:nth-child(2) > p > span:nth-child(3)\").text\n",
    "            # 개봉일\n",
    "            tmp5_ = driver.find_element_by_css_selector(\"#content > div.article > div.mv_info_area > div.mv_info > dl > dd:nth-child(2) > p > span:nth-child(4)\").text\n",
    "            # 감독\n",
    "            tmp6_ = driver.find_element_by_css_selector(\"#content > div.article > div.mv_info_area > div.mv_info > dl > dd:nth-child(4)\").text\n",
    "            # 출연\n",
    "            tmp7_ = driver.find_element_by_css_selector(\"#content > div.article > div.mv_info_area > div.mv_info > dl > dd:nth-child(6) > p\").text\n",
    "            # 등급\n",
    "            tmp8_ = driver.find_element_by_css_selector(\"#content > div.article > div.mv_info_area > div.mv_info > dl > dd:nth-child(8) > p > a\").text\n",
    "            \n",
    "            # 포스터 url\n",
    "            tmp9_=driver.find_element_by_xpath('//*[@id=\"content\"]/div[1]/div[2]/div[2]/a/img').get_attribute('src')\n",
    "            # 줄거리\n",
    "            storypre = driver.find_element_by_css_selector(\"#content > div.article > div.section_group.section_group_frst > div:nth-child(1) > div > div > p\").text\n",
    "            storypre = storypre.replace(\"\\n\",\"\").replace('관람객',\"\")\n",
    "\n",
    "            # 할당된 변수들을 list에 append\n",
    "            title.append(tmp1_)\n",
    "            genre.append(tmp2_)\n",
    "            nation.append(tmp3_)\n",
    "            running.append(tmp4_)\n",
    "            release.append(tmp5_)\n",
    "            director.append(tmp6_)\n",
    "            actor.append(tmp7_)\n",
    "            grade.append(tmp8_)\n",
    "            poster.append(tmp9_)\n",
    "            story.append(storypre)\n",
    "\n",
    "\n",
    "        except NoSuchElementException:\n",
    "            # 출연진 정보가 없을 때 \n",
    "            actor.append('null')\n",
    "            continue\n",
    "    \n",
    "    # 데이터 프레임 생성\n",
    "    poster21 = pd.DataFrame.from_dict({'title':title,'genre':genre,'nation':nation,'running':running, 'release':release, 'director':director, 'actor':actor, 'grade':grade, 'story':story, 'poster':poster},orient='index').transpose()\n"
   ]
  },
  {
   "cell_type": "code",
   "execution_count": 16,
   "id": "b253acf4",
   "metadata": {
    "ExecuteTime": {
     "end_time": "2021-10-06T15:48:02.448660Z",
     "start_time": "2021-10-06T15:48:02.376658Z"
    }
   },
   "outputs": [],
   "source": [
    "# 데이터 프레임 생성\n",
    "# df19 = pd.DataFrame.from_dict({'title':title,'genre':genre,'nation':nation,'running':running, 'release':release, 'director':director, 'actor':actor, 'grade':grade, 'story':story},orient='index').transpose()\n",
    "# 결과 값에 추가\n",
    "#result.append(df43)"
   ]
  },
  {
   "cell_type": "code",
   "execution_count": 59,
   "id": "ae386fe7",
   "metadata": {
    "ExecuteTime": {
     "end_time": "2021-10-07T00:50:14.006369Z",
     "start_time": "2021-10-07T00:50:13.797779Z"
    }
   },
   "outputs": [],
   "source": [
    "poster21.to_csv('naver_2021_poster.csv',index=False)"
   ]
  },
  {
   "cell_type": "code",
   "execution_count": 44,
   "id": "a41d4301",
   "metadata": {
    "ExecuteTime": {
     "end_time": "2021-10-06T18:07:28.461129Z",
     "start_time": "2021-10-06T18:07:28.451134Z"
    }
   },
   "outputs": [
    {
     "data": {
      "text/plain": [
       "'https://movie-phinf.pstatic.net/20190517_285/15580610094800liOI_JPEG/movie_image.jpg?type=m203_290_2'"
      ]
     },
     "execution_count": 44,
     "metadata": {},
     "output_type": "execute_result"
    }
   ],
   "source": [
    "poster21['poster'][0]"
   ]
  },
  {
   "cell_type": "code",
   "execution_count": 63,
   "id": "aec1e300",
   "metadata": {
    "ExecuteTime": {
     "end_time": "2021-10-07T00:55:01.424681Z",
     "start_time": "2021-10-07T00:55:01.381642Z"
    }
   },
   "outputs": [
    {
     "data": {
      "text/html": [
       "<div>\n",
       "<style scoped>\n",
       "    .dataframe tbody tr th:only-of-type {\n",
       "        vertical-align: middle;\n",
       "    }\n",
       "\n",
       "    .dataframe tbody tr th {\n",
       "        vertical-align: top;\n",
       "    }\n",
       "\n",
       "    .dataframe thead th {\n",
       "        text-align: right;\n",
       "    }\n",
       "</style>\n",
       "<table border=\"1\" class=\"dataframe\">\n",
       "  <thead>\n",
       "    <tr style=\"text-align: right;\">\n",
       "      <th></th>\n",
       "      <th>title</th>\n",
       "      <th>genre</th>\n",
       "      <th>nation</th>\n",
       "      <th>running</th>\n",
       "      <th>release</th>\n",
       "      <th>director</th>\n",
       "      <th>actor</th>\n",
       "      <th>grade</th>\n",
       "      <th>story</th>\n",
       "      <th>poster</th>\n",
       "    </tr>\n",
       "  </thead>\n",
       "  <tbody>\n",
       "    <tr>\n",
       "      <th>0</th>\n",
       "      <td>007 노 타임 투 다이</td>\n",
       "      <td>액션</td>\n",
       "      <td>미국</td>\n",
       "      <td>163분</td>\n",
       "      <td>2021 .09.29 개봉</td>\n",
       "      <td>캐리 후쿠나가</td>\n",
       "      <td>다니엘 크레이그(제임스 본드), 라미 말렉(사핀), 라샤나 린치(노미)</td>\n",
       "      <td>12세 관람가</td>\n",
       "      <td>가장 강력한 운명의 적과 마주하게된 제임스 본드의 마지막 미션이 시작된다</td>\n",
       "      <td>https://movie-phinf.pstatic.net/20211001_121/1...</td>\n",
       "    </tr>\n",
       "    <tr>\n",
       "      <th>1</th>\n",
       "      <td>117편의 러브레터</td>\n",
       "      <td>멜로/로맨스, 드라마</td>\n",
       "      <td>헝가리</td>\n",
       "      <td>114분</td>\n",
       "      <td>2021 .03.18 개봉</td>\n",
       "      <td>페트르 가르도스</td>\n",
       "      <td>밀란 쉬러프(미클로시), 에모크 피티(릴리), 안나 아즈카라테(비요르크만 부인)</td>\n",
       "      <td>15세 관람가</td>\n",
       "      <td>1945년 홀로코스트에서 살아남은 헝가리 청년 '미클로시'는\\n 해방 후 폐질환으로...</td>\n",
       "      <td>https://movie-phinf.pstatic.net/20210302_206/1...</td>\n",
       "    </tr>\n",
       "    <tr>\n",
       "      <th>2</th>\n",
       "      <td>2021 스웨그 에이지 : 외쳐, 조선!</td>\n",
       "      <td>공연실황, 뮤지컬</td>\n",
       "      <td>한국</td>\n",
       "      <td>144분</td>\n",
       "      <td>2021 .05.13 개봉</td>\n",
       "      <td>우진하, 곽기영</td>\n",
       "      <td>양희준(단), 김수하(진)</td>\n",
       "      <td>12세 관람가</td>\n",
       "      <td>삶의 고단함과 역경을 시조 속에 담아 훌훌 털어버렸던 백성들은 역모 사건으로 시조 ...</td>\n",
       "      <td>https://movie-phinf.pstatic.net/20210518_136/1...</td>\n",
       "    </tr>\n",
       "    <tr>\n",
       "      <th>3</th>\n",
       "      <td>2067</td>\n",
       "      <td>SF</td>\n",
       "      <td>오스트레일리아</td>\n",
       "      <td>114분</td>\n",
       "      <td>2021 .06.03 개봉</td>\n",
       "      <td>세스 라니</td>\n",
       "      <td>코디 스밋 맥피, 라이언 콴튼</td>\n",
       "      <td>12세 관람가</td>\n",
       "      <td>지구 종말이 도래하고, 산소가 중요한 화폐가 된 서기 2067년.\\n ‘타임머신’이...</td>\n",
       "      <td>https://movie-phinf.pstatic.net/20210513_298/1...</td>\n",
       "    </tr>\n",
       "    <tr>\n",
       "      <th>4</th>\n",
       "      <td>300: 전사의 귀환</td>\n",
       "      <td>액션</td>\n",
       "      <td>미국</td>\n",
       "      <td>90분</td>\n",
       "      <td>2021 .03 개봉</td>\n",
       "      <td>크리스토퍼 포베스</td>\n",
       "      <td>아론 브롬버그</td>\n",
       "      <td>15세 관람가</td>\n",
       "      <td>로마 제국의 지배를 받던 브리튼은 로마 군대 철수 후 자유를 얻는다.\\n 그러나 계...</td>\n",
       "      <td>https://movie-phinf.pstatic.net/20210218_16/16...</td>\n",
       "    </tr>\n",
       "    <tr>\n",
       "      <th>...</th>\n",
       "      <td>...</td>\n",
       "      <td>...</td>\n",
       "      <td>...</td>\n",
       "      <td>...</td>\n",
       "      <td>...</td>\n",
       "      <td>...</td>\n",
       "      <td>...</td>\n",
       "      <td>...</td>\n",
       "      <td>...</td>\n",
       "      <td>...</td>\n",
       "    </tr>\n",
       "    <tr>\n",
       "      <th>544</th>\n",
       "      <td>해변의 에트랑제</td>\n",
       "      <td>애니메이션, 멜로/로맨스</td>\n",
       "      <td>일본</td>\n",
       "      <td>59분</td>\n",
       "      <td>2021 .09.09 재개봉, 2021 .02.18 개봉</td>\n",
       "      <td>오오하시 아키요</td>\n",
       "      <td>심규혁(하시모토 슌), 이경태(치바나 미오), 무라타 타이시</td>\n",
       "      <td>15세 관람가</td>\n",
       "      <td>오키나와 외딴섬, 해변 벤치에 혼자 멈춰있는 소년 ‘미오’. 그런 미오가 몹시 신경...</td>\n",
       "      <td>https://movie-phinf.pstatic.net/20210125_20/16...</td>\n",
       "    </tr>\n",
       "    <tr>\n",
       "      <th>545</th>\n",
       "      <td>헬렌: 내 영혼의 자화상</td>\n",
       "      <td>드라마</td>\n",
       "      <td>핀란드</td>\n",
       "      <td>121분</td>\n",
       "      <td>2021 .02.25 개봉</td>\n",
       "      <td>안티 조키넨</td>\n",
       "      <td>로라 비른</td>\n",
       "      <td>12세 관람가</td>\n",
       "      <td>“조건이 있어요. 당신을 그리고 싶어요”\\n \\n 10년 넘게 예술계를 벗어나\\n ...</td>\n",
       "      <td>https://movie-phinf.pstatic.net/20210205_206/1...</td>\n",
       "    </tr>\n",
       "    <tr>\n",
       "      <th>546</th>\n",
       "      <td>호라이즌 라인</td>\n",
       "      <td>스릴러</td>\n",
       "      <td>미국</td>\n",
       "      <td>92분</td>\n",
       "      <td>2021 .02.10 개봉</td>\n",
       "      <td>마이클 마키마인</td>\n",
       "      <td>알렉산더 드레이먼(잭슨), 앨리슨 윌리암스(사라)</td>\n",
       "      <td>12세 관람가</td>\n",
       "      <td>에메랄드 빛 해안을 낀 열대섬으로 향하던 ‘사라’\\n 이륙 후 두근거림도 잠시 멀쩡...</td>\n",
       "      <td>https://movie-phinf.pstatic.net/20210125_149/1...</td>\n",
       "    </tr>\n",
       "    <tr>\n",
       "      <th>547</th>\n",
       "      <td>호스트: 접속금지</td>\n",
       "      <td>공포</td>\n",
       "      <td>영국</td>\n",
       "      <td>59분</td>\n",
       "      <td>2021 .07.21 개봉</td>\n",
       "      <td>롭 새비지</td>\n",
       "      <td>헤일리 비숍(헤일리), 젬마 무어(젬마), 엠마 루이즈 웨브(엠마)</td>\n",
       "      <td>15세 관람가</td>\n",
       "      <td>팬데믹, 락다운과 함께 자가격리를 시작한 ‘헤일리’와 친구들.\\n ‘줌’을 통해 랜...</td>\n",
       "      <td>https://movie-phinf.pstatic.net/20210708_28/16...</td>\n",
       "    </tr>\n",
       "    <tr>\n",
       "      <th>548</th>\n",
       "      <td>혼자 사는 사람들</td>\n",
       "      <td>드라마</td>\n",
       "      <td>한국</td>\n",
       "      <td>90분</td>\n",
       "      <td>2021 .05.19 개봉</td>\n",
       "      <td>홍성은</td>\n",
       "      <td>공승연(진아), 정다은(수진)</td>\n",
       "      <td>12세 관람가</td>\n",
       "      <td>집에서도 밖에서도 늘 혼자가 편한 진아.\\n 사람들은 자꾸 말을 걸어오지만, 진아는...</td>\n",
       "      <td>https://movie-phinf.pstatic.net/20210506_173/1...</td>\n",
       "    </tr>\n",
       "  </tbody>\n",
       "</table>\n",
       "<p>549 rows × 10 columns</p>\n",
       "</div>"
      ],
      "text/plain": [
       "                      title          genre   nation running  \\\n",
       "0             007 노 타임 투 다이             액션       미국    163분   \n",
       "1                117편의 러브레터    멜로/로맨스, 드라마      헝가리    114분   \n",
       "2    2021 스웨그 에이지 : 외쳐, 조선!      공연실황, 뮤지컬       한국    144분   \n",
       "3                      2067             SF  오스트레일리아    114분   \n",
       "4               300: 전사의 귀환             액션       미국     90분   \n",
       "..                      ...            ...      ...     ...   \n",
       "544                해변의 에트랑제  애니메이션, 멜로/로맨스       일본     59분   \n",
       "545           헬렌: 내 영혼의 자화상            드라마      핀란드    121분   \n",
       "546                 호라이즌 라인            스릴러       미국     92분   \n",
       "547               호스트: 접속금지             공포       영국     59분   \n",
       "548               혼자 사는 사람들            드라마       한국     90분   \n",
       "\n",
       "                             release   director  \\\n",
       "0                     2021 .09.29 개봉    캐리 후쿠나가   \n",
       "1                     2021 .03.18 개봉   페트르 가르도스   \n",
       "2                     2021 .05.13 개봉   우진하, 곽기영   \n",
       "3                     2021 .06.03 개봉      세스 라니   \n",
       "4                        2021 .03 개봉  크리스토퍼 포베스   \n",
       "..                               ...        ...   \n",
       "544  2021 .09.09 재개봉, 2021 .02.18 개봉   오오하시 아키요   \n",
       "545                   2021 .02.25 개봉     안티 조키넨   \n",
       "546                   2021 .02.10 개봉   마이클 마키마인   \n",
       "547                   2021 .07.21 개봉      롭 새비지   \n",
       "548                   2021 .05.19 개봉        홍성은   \n",
       "\n",
       "                                            actor    grade  \\\n",
       "0         다니엘 크레이그(제임스 본드), 라미 말렉(사핀), 라샤나 린치(노미)  12세 관람가   \n",
       "1    밀란 쉬러프(미클로시), 에모크 피티(릴리), 안나 아즈카라테(비요르크만 부인)  15세 관람가   \n",
       "2                                  양희준(단), 김수하(진)  12세 관람가   \n",
       "3                                코디 스밋 맥피, 라이언 콴튼  12세 관람가   \n",
       "4                                         아론 브롬버그  15세 관람가   \n",
       "..                                            ...      ...   \n",
       "544             심규혁(하시모토 슌), 이경태(치바나 미오), 무라타 타이시  15세 관람가   \n",
       "545                                         로라 비른  12세 관람가   \n",
       "546                   알렉산더 드레이먼(잭슨), 앨리슨 윌리암스(사라)  12세 관람가   \n",
       "547         헤일리 비숍(헤일리), 젬마 무어(젬마), 엠마 루이즈 웨브(엠마)  15세 관람가   \n",
       "548                              공승연(진아), 정다은(수진)  12세 관람가   \n",
       "\n",
       "                                                 story  \\\n",
       "0             가장 강력한 운명의 적과 마주하게된 제임스 본드의 마지막 미션이 시작된다   \n",
       "1    1945년 홀로코스트에서 살아남은 헝가리 청년 '미클로시'는\\n 해방 후 폐질환으로...   \n",
       "2    삶의 고단함과 역경을 시조 속에 담아 훌훌 털어버렸던 백성들은 역모 사건으로 시조 ...   \n",
       "3    지구 종말이 도래하고, 산소가 중요한 화폐가 된 서기 2067년.\\n ‘타임머신’이...   \n",
       "4    로마 제국의 지배를 받던 브리튼은 로마 군대 철수 후 자유를 얻는다.\\n 그러나 계...   \n",
       "..                                                 ...   \n",
       "544  오키나와 외딴섬, 해변 벤치에 혼자 멈춰있는 소년 ‘미오’. 그런 미오가 몹시 신경...   \n",
       "545  “조건이 있어요. 당신을 그리고 싶어요”\\n \\n 10년 넘게 예술계를 벗어나\\n ...   \n",
       "546  에메랄드 빛 해안을 낀 열대섬으로 향하던 ‘사라’\\n 이륙 후 두근거림도 잠시 멀쩡...   \n",
       "547  팬데믹, 락다운과 함께 자가격리를 시작한 ‘헤일리’와 친구들.\\n ‘줌’을 통해 랜...   \n",
       "548  집에서도 밖에서도 늘 혼자가 편한 진아.\\n 사람들은 자꾸 말을 걸어오지만, 진아는...   \n",
       "\n",
       "                                                poster  \n",
       "0    https://movie-phinf.pstatic.net/20211001_121/1...  \n",
       "1    https://movie-phinf.pstatic.net/20210302_206/1...  \n",
       "2    https://movie-phinf.pstatic.net/20210518_136/1...  \n",
       "3    https://movie-phinf.pstatic.net/20210513_298/1...  \n",
       "4    https://movie-phinf.pstatic.net/20210218_16/16...  \n",
       "..                                                 ...  \n",
       "544  https://movie-phinf.pstatic.net/20210125_20/16...  \n",
       "545  https://movie-phinf.pstatic.net/20210205_206/1...  \n",
       "546  https://movie-phinf.pstatic.net/20210125_149/1...  \n",
       "547  https://movie-phinf.pstatic.net/20210708_28/16...  \n",
       "548  https://movie-phinf.pstatic.net/20210506_173/1...  \n",
       "\n",
       "[549 rows x 10 columns]"
      ]
     },
     "execution_count": 63,
     "metadata": {},
     "output_type": "execute_result"
    }
   ],
   "source": [
    "poster21"
   ]
  },
  {
   "cell_type": "markdown",
   "id": "88b7e844",
   "metadata": {},
   "source": [
    "---"
   ]
  },
  {
   "cell_type": "markdown",
   "id": "4369dc23",
   "metadata": {},
   "source": [
    "## Test code"
   ]
  },
  {
   "cell_type": "markdown",
   "id": "f593d353",
   "metadata": {},
   "source": [
    "### 하나의 영화 정보만을 가져오는 코드 작성"
   ]
  },
  {
   "cell_type": "code",
   "execution_count": 31,
   "id": "d1eb70e0",
   "metadata": {
    "ExecuteTime": {
     "end_time": "2021-10-05T05:25:36.570529Z",
     "start_time": "2021-10-05T05:25:29.811906Z"
    }
   },
   "outputs": [],
   "source": [
    "# 크롬창(웹드라이버) 열기\n",
    "driver = webdriver.Chrome('C:/Users/sooyeon/Downloads/chromedriver.exe')\n",
    "\n",
    "# 겨울왕국2 페이지 접속\n",
    "driver.get(\"https://movie.naver.com/movie/bi/mi/basic.naver?code=136873\")\n",
    "\n",
    "time.sleep(2)\n",
    "\n",
    "title = []\n",
    "genre = []\n",
    "nation = []\n",
    "running = []\n",
    "release = []\n",
    "director = []\n",
    "actor = []\n",
    "grade = []\n",
    "story = []    \n",
    "    \n",
    "    \n",
    "# 시간 지연 \n",
    "time.sleep(1)\n",
    "        \n",
    "# 제목\n",
    "title.append(driver.find_element_by_css_selector(\"#content > div.article > div.mv_info_area > div.mv_info > h3 > a\").text)\n",
    "\n",
    "# 장르\n",
    "genre.append(driver.find_element_by_css_selector(\"#content > div.article > div.mv_info_area > div.mv_info > dl > dd:nth-child(2) > p > span:nth-child(1)\").text)\n",
    "\n",
    "# 국가\n",
    "nation.append(driver.find_element_by_css_selector(\"#content > div.article > div.mv_info_area > div.mv_info > dl > dd:nth-child(2) > p > span:nth-child(2) > a\").text)\n",
    "\n",
    "# 러닝타임\n",
    "running.append(driver.find_element_by_css_selector(\"#content > div.article > div.mv_info_area > div.mv_info > dl > dd:nth-child(2) > p > span:nth-child(3)\").text)\n",
    "\n",
    "# 개봉일\n",
    "release.append(driver.find_element_by_css_selector(\"#content > div.article > div.mv_info_area > div.mv_info > dl > dd:nth-child(2) > p > span:nth-child(4)\").text)\n",
    "\n",
    "# 감독\n",
    "director.append(driver.find_element_by_css_selector(\"#content > div.article > div.mv_info_area > div.mv_info > dl > dd:nth-child(4)\").text)\n",
    "\n",
    "# 출연\n",
    "actor.append(driver.find_element_by_css_selector(\"#content > div.article > div.mv_info_area > div.mv_info > dl > dd:nth-child(6) > p\").text)\n",
    "\n",
    "# 등급\n",
    "grade.append(driver.find_element_by_css_selector(\"#content > div.article > div.mv_info_area > div.mv_info > dl > dd:nth-child(8) > p > a\").text)\n",
    "\n",
    "# 줄거리\n",
    "storypre = driver.find_element_by_css_selector(\"#content > div.article > div.section_group.section_group_frst > div:nth-child(1) > div > div > p\").text\n",
    "storypre = storypre.replace(\"\\n\",\"\").replace('관람객',\"\")\n",
    "story.append(storypre)\n",
    "        \n",
    "df = pd.DataFrame({'title':title,'genre':genre,'nation':nation,'running':running, 'release':release, 'director':director, 'actor':actor, 'grade':grade, 'story':story})\n",
    "        "
   ]
  },
  {
   "cell_type": "code",
   "execution_count": 32,
   "id": "fb3b36b7",
   "metadata": {
    "ExecuteTime": {
     "end_time": "2021-10-05T05:25:40.240699Z",
     "start_time": "2021-10-05T05:25:40.222701Z"
    }
   },
   "outputs": [
    {
     "data": {
      "text/html": [
       "<div>\n",
       "<style scoped>\n",
       "    .dataframe tbody tr th:only-of-type {\n",
       "        vertical-align: middle;\n",
       "    }\n",
       "\n",
       "    .dataframe tbody tr th {\n",
       "        vertical-align: top;\n",
       "    }\n",
       "\n",
       "    .dataframe thead th {\n",
       "        text-align: right;\n",
       "    }\n",
       "</style>\n",
       "<table border=\"1\" class=\"dataframe\">\n",
       "  <thead>\n",
       "    <tr style=\"text-align: right;\">\n",
       "      <th></th>\n",
       "      <th>title</th>\n",
       "      <th>genre</th>\n",
       "      <th>nation</th>\n",
       "      <th>running</th>\n",
       "      <th>release</th>\n",
       "      <th>director</th>\n",
       "      <th>actor</th>\n",
       "      <th>grade</th>\n",
       "      <th>story</th>\n",
       "    </tr>\n",
       "  </thead>\n",
       "  <tbody>\n",
       "    <tr>\n",
       "      <th>0</th>\n",
       "      <td>겨울왕국 2</td>\n",
       "      <td>애니메이션, 모험, 코미디, 가족, 판타지, 뮤지컬</td>\n",
       "      <td>미국</td>\n",
       "      <td>103분</td>\n",
       "      <td>2019 .11.21 개봉</td>\n",
       "      <td>크리스 벅, 제니퍼 리</td>\n",
       "      <td>크리스틴 벨(안나 목소리), 이디나 멘젤(엘사 목소리)</td>\n",
       "      <td>전체 관람가</td>\n",
       "      <td>어느 날 부턴가 의문의 목소리가 엘사를 부르고, 평화로운 아렌델 왕국을 위협한다.\\...</td>\n",
       "    </tr>\n",
       "  </tbody>\n",
       "</table>\n",
       "</div>"
      ],
      "text/plain": [
       "    title                         genre nation running         release  \\\n",
       "0  겨울왕국 2  애니메이션, 모험, 코미디, 가족, 판타지, 뮤지컬     미국    103분  2019 .11.21 개봉   \n",
       "\n",
       "       director                           actor   grade  \\\n",
       "0  크리스 벅, 제니퍼 리  크리스틴 벨(안나 목소리), 이디나 멘젤(엘사 목소리)  전체 관람가   \n",
       "\n",
       "                                               story  \n",
       "0  어느 날 부턴가 의문의 목소리가 엘사를 부르고, 평화로운 아렌델 왕국을 위협한다.\\...  "
      ]
     },
     "execution_count": 32,
     "metadata": {},
     "output_type": "execute_result"
    }
   ],
   "source": [
    "df"
   ]
  },
  {
   "cell_type": "markdown",
   "id": "0cf4128e",
   "metadata": {},
   "source": [
    "### 지정된 페이지의 영화목록"
   ]
  },
  {
   "cell_type": "code",
   "execution_count": null,
   "id": "1c446379",
   "metadata": {},
   "outputs": [],
   "source": [
    "import pandas as pd\n",
    "# 크롬창(웹드라이버) 열기\n",
    "driver = webdriver.Chrome('C:/Users/sooyeon/Downloads/chromedriver.exe')\n",
    "\n",
    "# 2019 페이지 접속\n",
    "url = \"https://movie.naver.com/movie/sdb/browsing/bmovie.naver?open=2019&page=2\" # 페이지 고정\n",
    "driver.get(url)\n",
    "\n",
    "# 시간 지연\n",
    "time.sleep(2)\n",
    "\n",
    "# 리스트 정의\n",
    "result = []\n",
    "\n",
    "# 영화 리스트 불러오기\n",
    "boxes = driver.find_elements_by_css_selector(\"#old_content > ul > li\")\n",
    "link = []\n",
    "for box in boxes:\n",
    "    link.append(box.find_element_by_css_selector('a').get_attribute('href'))\n",
    "    \n",
    "# 링크 한줄 씩 반복문\n",
    "# 한 페이지당 해당하는 영화는 20개\n",
    "\n",
    "\n",
    "title = []\n",
    "genre = []\n",
    "nation = []\n",
    "running = []\n",
    "release = []\n",
    "director = []\n",
    "actor = []\n",
    "grade = []\n",
    "story = []  \n",
    "\n",
    " \n",
    "\n",
    "for i in range(0,20):\n",
    "    # i번째 링크 접속하기\n",
    "    driver.get(link[i])\n",
    "\n",
    "    # 시간 지연 \n",
    "    time.sleep(1)\n",
    "    \n",
    "    try:\n",
    "        # 제목\n",
    "        title.append(driver.find_element_by_css_selector(\"#content > div.article > div.mv_info_area > div.mv_info > h3 > a\").text)\n",
    "\n",
    "        # 장르\n",
    "        genre.append(driver.find_element_by_css_selector(\"#content > div.article > div.mv_info_area > div.mv_info > dl > dd:nth-child(2) > p > span:nth-child(1)\").text)\n",
    "\n",
    "        # 국가\n",
    "        nation.append(driver.find_element_by_css_selector(\"#content > div.article > div.mv_info_area > div.mv_info > dl > dd:nth-child(2) > p > span:nth-child(2) > a\").text)\n",
    "\n",
    "        # 러닝타임\n",
    "        running.append(driver.find_element_by_css_selector(\"#content > div.article > div.mv_info_area > div.mv_info > dl > dd:nth-child(2) > p > span:nth-child(3)\").text)\n",
    "\n",
    "        # 개봉일\n",
    "        release.append(driver.find_element_by_css_selector(\"#content > div.article > div.mv_info_area > div.mv_info > dl > dd:nth-child(2) > p > span:nth-child(4)\").text)\n",
    "\n",
    "        # 감독\n",
    "        director.append(driver.find_element_by_css_selector(\"#content > div.article > div.mv_info_area > div.mv_info > dl > dd:nth-child(4)\").text)\n",
    "\n",
    "        # 출연\n",
    "        actor.append(driver.find_element_by_css_selector(\"#content > div.article > div.mv_info_area > div.mv_info > dl > dd:nth-child(6) > p\").text)\n",
    "        \n",
    "        # 등급\n",
    "        grade.append(driver.find_element_by_css_selector(\"#content > div.article > div.mv_info_area > div.mv_info > dl > dd:nth-child(8) > p > a\").text)\n",
    "\n",
    "        # 줄거리\n",
    "        storypre = driver.find_element_by_css_selector(\"#content > div.article > div.section_group.section_group_frst > div:nth-child(1) > div > div > p\").text\n",
    "        storypre.replace(\"\\n\",\"\")\n",
    "        story.append(storypre)\n",
    "\n",
    "\n",
    "\n",
    "        \n",
    "    except NoSuchElementException:\n",
    "        continue\n",
    "        \n",
    "\n",
    "# 데이터 프레임 생성\n",
    "dfdf = pd.DataFrame.from_dict({'title':title,'genre':genre,'nation':nation,'running':running, 'release':release, 'director':director, 'actor':actor, 'grade':grade, 'story':story},orient='index').transpose()\n",
    "# 결과 값에 추가\n",
    "#result.append(df43)\n",
    "    \n",
    "    \n",
    "#except Exception as error:\n",
    "#    actor.append(\"null\")\n",
    "#    continue\n",
    "    \n",
    "    \n",
    "# df.to_csv(\"tmp_.csv\",sep = '|',index = None)"
   ]
  },
  {
   "cell_type": "code",
   "execution_count": 166,
   "id": "be56f83e",
   "metadata": {
    "ExecuteTime": {
     "end_time": "2021-10-05T16:13:48.646790Z",
     "start_time": "2021-10-05T16:13:48.636787Z"
    }
   },
   "outputs": [
    {
     "data": {
      "text/plain": [
       "0                           0.0MHz\n",
       "1                          1 더하기 3\n",
       "2                         10 미니츠 곤\n",
       "3       100일 동안 100가지로 100퍼센트 행복찾기\n",
       "4                              10년\n",
       "                   ...            \n",
       "2301                        호텔 뭄바이\n",
       "2302                            호흡\n",
       "2303                         홀리 랜드\n",
       "2304                      화끈한 룸메이트\n",
       "2305                    화이트 라이언 찰리\n",
       "Name: title, Length: 2306, dtype: object"
      ]
     },
     "execution_count": 166,
     "metadata": {},
     "output_type": "execute_result"
    }
   ],
   "source": [
    "dff['title']"
   ]
  },
  {
   "cell_type": "code",
   "execution_count": 271,
   "id": "d7db6a83",
   "metadata": {
    "ExecuteTime": {
     "end_time": "2021-10-06T02:09:05.830321Z",
     "start_time": "2021-10-06T02:09:05.812313Z"
    }
   },
   "outputs": [],
   "source": [
    "sdf.to_csv(\"naver_2019.csv\", index=False)"
   ]
  },
  {
   "cell_type": "code",
   "execution_count": 253,
   "id": "ab1b52a6",
   "metadata": {
    "ExecuteTime": {
     "end_time": "2021-10-06T00:54:31.115301Z",
     "start_time": "2021-10-06T00:54:31.093307Z"
    }
   },
   "outputs": [],
   "source": [
    "dff2019 = pd.concat(result2019).reset_index(drop = True)"
   ]
  },
  {
   "cell_type": "code",
   "execution_count": 256,
   "id": "b173cb19",
   "metadata": {
    "ExecuteTime": {
     "end_time": "2021-10-06T01:58:40.838700Z",
     "start_time": "2021-10-06T01:58:40.778696Z"
    },
    "scrolled": false
   },
   "outputs": [
    {
     "data": {
      "text/html": [
       "<div>\n",
       "<style scoped>\n",
       "    .dataframe tbody tr th:only-of-type {\n",
       "        vertical-align: middle;\n",
       "    }\n",
       "\n",
       "    .dataframe tbody tr th {\n",
       "        vertical-align: top;\n",
       "    }\n",
       "\n",
       "    .dataframe thead th {\n",
       "        text-align: right;\n",
       "    }\n",
       "</style>\n",
       "<table border=\"1\" class=\"dataframe\">\n",
       "  <thead>\n",
       "    <tr style=\"text-align: right;\">\n",
       "      <th></th>\n",
       "      <th>title</th>\n",
       "      <th>genre</th>\n",
       "      <th>nation</th>\n",
       "      <th>running_time</th>\n",
       "      <th>release_date</th>\n",
       "      <th>director</th>\n",
       "      <th>actor</th>\n",
       "      <th>rating</th>\n",
       "      <th>summary</th>\n",
       "    </tr>\n",
       "  </thead>\n",
       "  <tbody>\n",
       "    <tr>\n",
       "      <th>0</th>\n",
       "      <td>0.0MHz</td>\n",
       "      <td>공포</td>\n",
       "      <td>한국</td>\n",
       "      <td>102분</td>\n",
       "      <td>2019 .05.29 개봉</td>\n",
       "      <td>유선동</td>\n",
       "      <td>정은지(소희), 이성열(상엽), 최윤영(윤정)</td>\n",
       "      <td>15세 관람가</td>\n",
       "      <td>에디슨의 마지막 발명품, 유령 탐지기?\\n “증명할 수 없는 미스터리란 없다”\\n ...</td>\n",
       "    </tr>\n",
       "    <tr>\n",
       "      <th>1</th>\n",
       "      <td>1 더하기 3</td>\n",
       "      <td>멜로/로맨스</td>\n",
       "      <td>홍콩</td>\n",
       "      <td>101분</td>\n",
       "      <td>2019 .12.12 개봉</td>\n",
       "      <td>프룻 첸</td>\n",
       "      <td>증미혜자</td>\n",
       "      <td>청소년 관람불가</td>\n",
       "      <td>멈추지 않는 성욕과 사랑하는 세 명의 남편을 위해,\\n 선상에서 밤낮 없이 몸을 파...</td>\n",
       "    </tr>\n",
       "    <tr>\n",
       "      <th>2</th>\n",
       "      <td>10 미니츠 곤</td>\n",
       "      <td>액션, 범죄</td>\n",
       "      <td>캐나다</td>\n",
       "      <td>96분</td>\n",
       "      <td>2019 .11.21 개봉</td>\n",
       "      <td>브라이언 A 밀러</td>\n",
       "      <td>브루스 윌리스, 마이클 치클리스</td>\n",
       "      <td>15세 관람가</td>\n",
       "      <td>동물적인 직감과 1초의 오차도 용납하지 않는 설계자 ‘렉스’\\n 철저한 계획 하에 ...</td>\n",
       "    </tr>\n",
       "    <tr>\n",
       "      <th>3</th>\n",
       "      <td>100일 동안 100가지로 100퍼센트 행복찾기</td>\n",
       "      <td>코미디</td>\n",
       "      <td>독일</td>\n",
       "      <td>111분</td>\n",
       "      <td>2019 .09.12 개봉</td>\n",
       "      <td>플로리안 데이비드 핏츠</td>\n",
       "      <td>플로리안 데이비드 핏츠(폴), 마치아스 슈와바이어퍼(토니)</td>\n",
       "      <td>15세 관람가</td>\n",
       "      <td>어렸을 적부터 함께 자라고, IT 회사도 공동 운영,\\n 사는 집도 아랫집, 윗집으...</td>\n",
       "    </tr>\n",
       "    <tr>\n",
       "      <th>4</th>\n",
       "      <td>10년</td>\n",
       "      <td>드라마</td>\n",
       "      <td>일본</td>\n",
       "      <td>99분</td>\n",
       "      <td>2019 .12.12 개봉</td>\n",
       "      <td>하야카와 치에, 키노시타 유스케, 츠노 메구미</td>\n",
       "      <td>스기사키 하나, 쿠니무라 준, 이케와키 치즈루</td>\n",
       "      <td>전체 관람가</td>\n",
       "      <td>안락사, 인공지능과 완전히 통제된 교육,\\n 디지털 유산과 알 권리, 환경오염, 전...</td>\n",
       "    </tr>\n",
       "    <tr>\n",
       "      <th>...</th>\n",
       "      <td>...</td>\n",
       "      <td>...</td>\n",
       "      <td>...</td>\n",
       "      <td>...</td>\n",
       "      <td>...</td>\n",
       "      <td>...</td>\n",
       "      <td>...</td>\n",
       "      <td>...</td>\n",
       "      <td>...</td>\n",
       "    </tr>\n",
       "    <tr>\n",
       "      <th>366</th>\n",
       "      <td>호텔 뭄바이</td>\n",
       "      <td>범죄, 드라마, 스릴러</td>\n",
       "      <td>오스트레일리아</td>\n",
       "      <td>123분</td>\n",
       "      <td>2019 .05.08 개봉</td>\n",
       "      <td>안소니 마라스</td>\n",
       "      <td>데브 파텔(아르준), 아미 해머(데이빗), 나자닌 보니아디(자흐라)</td>\n",
       "      <td>15세 관람가</td>\n",
       "      <td>100여 년 전통의 아름다운 초호화 호텔 타지는 오늘도 전 세계에서 온 수백 명의 ...</td>\n",
       "    </tr>\n",
       "    <tr>\n",
       "      <th>367</th>\n",
       "      <td>호흡</td>\n",
       "      <td>드라마</td>\n",
       "      <td>한국</td>\n",
       "      <td>104분</td>\n",
       "      <td>2019 .12.19 개봉</td>\n",
       "      <td>권만기</td>\n",
       "      <td>윤지혜(정주), 김대건(민구)</td>\n",
       "      <td>15세 관람가</td>\n",
       "      <td>아이를 납치했던 자신의 범죄에 짓눌려 사는 ‘정주’\\n 납치되었던 그날 이후로 인생...</td>\n",
       "    </tr>\n",
       "    <tr>\n",
       "      <th>368</th>\n",
       "      <td>홀리 랜드</td>\n",
       "      <td>드라마, 코미디</td>\n",
       "      <td>프랑스</td>\n",
       "      <td>100분</td>\n",
       "      <td>2019 .08.29 개봉</td>\n",
       "      <td>아만다 스데르스</td>\n",
       "      <td>제임스 칸(해리), 톰 홀랜더(카탄), 조나단 리스 마이어스</td>\n",
       "      <td>12세 관람가</td>\n",
       "      <td>이스라엘에서 돼지농장을 운영하는 고집불통 ‘해리’ 할아버지!\\n 떨어져 지내는 가족...</td>\n",
       "    </tr>\n",
       "    <tr>\n",
       "      <th>369</th>\n",
       "      <td>화끈한 룸메이트</td>\n",
       "      <td>멜로/로맨스, 코미디</td>\n",
       "      <td>한국</td>\n",
       "      <td>102분</td>\n",
       "      <td>2019 .05.16 개봉</td>\n",
       "      <td>백석동</td>\n",
       "      <td>진시아, 도모세</td>\n",
       "      <td>청소년 관람불가</td>\n",
       "      <td>우리 같이 사는거 맞죠? 도발적인 그녀의 화끈한 제안!\\n 사천만원 사채 빚을 감당...</td>\n",
       "    </tr>\n",
       "    <tr>\n",
       "      <th>370</th>\n",
       "      <td>화이트 라이언 찰리</td>\n",
       "      <td>드라마</td>\n",
       "      <td>프랑스</td>\n",
       "      <td>98분</td>\n",
       "      <td>2019 .08.08 개봉</td>\n",
       "      <td>쥘 드 메스트르</td>\n",
       "      <td>멜라니 로랑, 랭글리 커크우드, 다니아 드 빌리어스</td>\n",
       "      <td>전체 관람가</td>\n",
       "      <td>런던에 살고 있던 미아네 가족은 사자 농장을 운영하기 위해 남아프리카로 이사한다. ...</td>\n",
       "    </tr>\n",
       "  </tbody>\n",
       "</table>\n",
       "<p>371 rows × 9 columns</p>\n",
       "</div>"
      ],
      "text/plain": [
       "                          title         genre   nation running_time  \\\n",
       "0                        0.0MHz            공포       한국         102분   \n",
       "1                       1 더하기 3        멜로/로맨스       홍콩         101분   \n",
       "2                      10 미니츠 곤        액션, 범죄      캐나다          96분   \n",
       "3    100일 동안 100가지로 100퍼센트 행복찾기           코미디       독일         111분   \n",
       "4                           10년           드라마       일본          99분   \n",
       "..                          ...           ...      ...          ...   \n",
       "366                      호텔 뭄바이  범죄, 드라마, 스릴러  오스트레일리아         123분   \n",
       "367                          호흡           드라마       한국         104분   \n",
       "368                       홀리 랜드      드라마, 코미디      프랑스         100분   \n",
       "369                    화끈한 룸메이트   멜로/로맨스, 코미디       한국         102분   \n",
       "370                  화이트 라이언 찰리           드라마      프랑스          98분   \n",
       "\n",
       "       release_date                   director  \\\n",
       "0    2019 .05.29 개봉                        유선동   \n",
       "1    2019 .12.12 개봉                       프룻 첸   \n",
       "2    2019 .11.21 개봉                  브라이언 A 밀러   \n",
       "3    2019 .09.12 개봉               플로리안 데이비드 핏츠   \n",
       "4    2019 .12.12 개봉  하야카와 치에, 키노시타 유스케, 츠노 메구미   \n",
       "..              ...                        ...   \n",
       "366  2019 .05.08 개봉                    안소니 마라스   \n",
       "367  2019 .12.19 개봉                        권만기   \n",
       "368  2019 .08.29 개봉                   아만다 스데르스   \n",
       "369  2019 .05.16 개봉                        백석동   \n",
       "370  2019 .08.08 개봉                   쥘 드 메스트르   \n",
       "\n",
       "                                     actor    rating  \\\n",
       "0                정은지(소희), 이성열(상엽), 최윤영(윤정)   15세 관람가   \n",
       "1                                     증미혜자  청소년 관람불가   \n",
       "2                        브루스 윌리스, 마이클 치클리스   15세 관람가   \n",
       "3         플로리안 데이비드 핏츠(폴), 마치아스 슈와바이어퍼(토니)   15세 관람가   \n",
       "4                스기사키 하나, 쿠니무라 준, 이케와키 치즈루    전체 관람가   \n",
       "..                                     ...       ...   \n",
       "366  데브 파텔(아르준), 아미 해머(데이빗), 나자닌 보니아디(자흐라)   15세 관람가   \n",
       "367                       윤지혜(정주), 김대건(민구)   15세 관람가   \n",
       "368      제임스 칸(해리), 톰 홀랜더(카탄), 조나단 리스 마이어스   12세 관람가   \n",
       "369                               진시아, 도모세  청소년 관람불가   \n",
       "370           멜라니 로랑, 랭글리 커크우드, 다니아 드 빌리어스    전체 관람가   \n",
       "\n",
       "                                               summary  \n",
       "0    에디슨의 마지막 발명품, 유령 탐지기?\\n “증명할 수 없는 미스터리란 없다”\\n ...  \n",
       "1    멈추지 않는 성욕과 사랑하는 세 명의 남편을 위해,\\n 선상에서 밤낮 없이 몸을 파...  \n",
       "2    동물적인 직감과 1초의 오차도 용납하지 않는 설계자 ‘렉스’\\n 철저한 계획 하에 ...  \n",
       "3    어렸을 적부터 함께 자라고, IT 회사도 공동 운영,\\n 사는 집도 아랫집, 윗집으...  \n",
       "4    안락사, 인공지능과 완전히 통제된 교육,\\n 디지털 유산과 알 권리, 환경오염, 전...  \n",
       "..                                                 ...  \n",
       "366  100여 년 전통의 아름다운 초호화 호텔 타지는 오늘도 전 세계에서 온 수백 명의 ...  \n",
       "367  아이를 납치했던 자신의 범죄에 짓눌려 사는 ‘정주’\\n 납치되었던 그날 이후로 인생...  \n",
       "368  이스라엘에서 돼지농장을 운영하는 고집불통 ‘해리’ 할아버지!\\n 떨어져 지내는 가족...  \n",
       "369  우리 같이 사는거 맞죠? 도발적인 그녀의 화끈한 제안!\\n 사천만원 사채 빚을 감당...  \n",
       "370  런던에 살고 있던 미아네 가족은 사자 농장을 운영하기 위해 남아프리카로 이사한다. ...  \n",
       "\n",
       "[371 rows x 9 columns]"
      ]
     },
     "execution_count": 256,
     "metadata": {},
     "output_type": "execute_result"
    }
   ],
   "source": [
    "ddff2019.rename(columns={'release':'release_date', 'story':'summary','running':'running_time','grade':'rating'})"
   ]
  },
  {
   "cell_type": "markdown",
   "id": "6ed4a0c5",
   "metadata": {},
   "source": [
    "---"
   ]
  },
  {
   "cell_type": "markdown",
   "id": "528a8b8c",
   "metadata": {},
   "source": [
    "### 영화 정보 수집 사용하는 코드 (한줄씩)"
   ]
  },
  {
   "cell_type": "markdown",
   "id": "8cfd22d4",
   "metadata": {},
   "source": [
    "## 영화 정보 수집하기"
   ]
  },
  {
   "cell_type": "code",
   "execution_count": null,
   "id": "a4e00352",
   "metadata": {},
   "outputs": [],
   "source": [
    "#content > div.article > div.mv_info_area > div.mv_info"
   ]
  },
  {
   "cell_type": "code",
   "execution_count": null,
   "id": "73f7dea1",
   "metadata": {},
   "outputs": [],
   "source": [
    "# 크롬창(웹드라이버) 열기\n",
    "driver = webdriver.Chrome('C:/Users/sooyeon/Downloads/chromedriver.exe')\n",
    "\n",
    "# 2019 페이지 접속\n",
    "driver.get(\"https://movie.naver.com/movie/sdb/browsing/bmovie.naver?open=2019\")\n",
    "\n",
    "time.sleep(2)"
   ]
  },
  {
   "cell_type": "markdown",
   "id": "875ed5d6",
   "metadata": {},
   "source": [
    "개요부분 Test"
   ]
  },
  {
   "cell_type": "code",
   "execution_count": 88,
   "id": "61180fa2",
   "metadata": {
    "ExecuteTime": {
     "end_time": "2021-10-05T09:28:58.765735Z",
     "start_time": "2021-10-05T09:28:54.074230Z"
    },
    "scrolled": true
   },
   "outputs": [
    {
     "data": {
      "text/plain": [
       "'한국 61분 2018 .05.25 개봉'"
      ]
     },
     "execution_count": 88,
     "metadata": {},
     "output_type": "execute_result"
    }
   ],
   "source": [
    "import pandas as pd\n",
    "# 크롬창(웹드라이버) 열기\n",
    "driver = webdriver.Chrome('C:/Users/sooyeon/Downloads/chromedriver.exe')\n",
    "\n",
    "# 2018 페이지 접속\n",
    "url = \"https://movie.naver.com/movie/bi/mi/basic.naver?code=166416\"\n",
    "driver.get(url)\n",
    "\n",
    "driver.find_element_by_css_selector('#content > div.article > div.mv_info_area > div.mv_info > dl > dd:nth-child(2)').text"
   ]
  },
  {
   "cell_type": "markdown",
   "id": "90976b34",
   "metadata": {},
   "source": [
    "## 영화 리뷰 수집하기"
   ]
  },
  {
   "cell_type": "code",
   "execution_count": null,
   "id": "a65d3b71",
   "metadata": {},
   "outputs": [],
   "source": [
    "import requests\n",
    "from bs4 import BeautifulSoup\n",
    "from selenium import webdriver\n",
    "import time"
   ]
  },
  {
   "cell_type": "code",
   "execution_count": null,
   "id": "4ad4b0b9",
   "metadata": {},
   "outputs": [],
   "source": [
    "import requests\n",
    "from bs4 import BeautifulSoup"
   ]
  },
  {
   "cell_type": "markdown",
   "id": "d692637a",
   "metadata": {},
   "source": [
    "### 페이지 접속"
   ]
  },
  {
   "cell_type": "code",
   "execution_count": 5,
   "id": "09d6ce14",
   "metadata": {
    "ExecuteTime": {
     "end_time": "2021-10-05T04:21:52.078872Z",
     "start_time": "2021-10-05T04:21:47.524407Z"
    }
   },
   "outputs": [],
   "source": [
    "# 크롬창(웹드라이버) 열기\n",
    "driver = webdriver.Chrome('C:/Users/sooyeon/Downloads/chromedriver.exe')\n",
    "\n",
    "# 겨울왕국2 페이지 접속\n",
    "driver.get(\"https://movie.naver.com/movie/bi/mi/basic.naver?code=136873\")\n",
    "\n",
    "time.sleep(2)"
   ]
  },
  {
   "cell_type": "markdown",
   "id": "c8eb5586",
   "metadata": {},
   "source": [
    "## 영화정보"
   ]
  },
  {
   "cell_type": "markdown",
   "id": "bbab7c0b",
   "metadata": {
    "ExecuteTime": {
     "end_time": "2021-10-05T04:24:46.112293Z",
     "start_time": "2021-10-05T04:24:46.103326Z"
    }
   },
   "source": [
    "### 제목 \n",
    "* #content > div.article > div.mv_info_area > div.mv_info > h3 > a"
   ]
  },
  {
   "cell_type": "code",
   "execution_count": 6,
   "id": "126e46db",
   "metadata": {
    "ExecuteTime": {
     "end_time": "2021-10-05T04:21:52.619934Z",
     "start_time": "2021-10-05T04:21:52.559402Z"
    }
   },
   "outputs": [
    {
     "data": {
      "text/plain": [
       "'겨울왕국 2'"
      ]
     },
     "execution_count": 6,
     "metadata": {},
     "output_type": "execute_result"
    }
   ],
   "source": [
    "driver.find_element_by_css_selector(\"#content > div.article > div.mv_info_area > div.mv_info > h3 > a\").text"
   ]
  },
  {
   "cell_type": "markdown",
   "id": "47d51a08",
   "metadata": {},
   "source": [
    "### 장르"
   ]
  },
  {
   "cell_type": "code",
   "execution_count": 15,
   "id": "9ecb8bd5",
   "metadata": {
    "ExecuteTime": {
     "end_time": "2021-10-05T04:27:21.773365Z",
     "start_time": "2021-10-05T04:27:21.727332Z"
    }
   },
   "outputs": [
    {
     "data": {
      "text/plain": [
       "'애니메이션, 모험, 코미디, 가족, 판타지, 뮤지컬'"
      ]
     },
     "execution_count": 15,
     "metadata": {},
     "output_type": "execute_result"
    }
   ],
   "source": [
    "driver.find_element_by_css_selector(\"#content > div.article > div.mv_info_area > div.mv_info > dl > dd:nth-child(2) > p > span:nth-child(1)\").text"
   ]
  },
  {
   "cell_type": "markdown",
   "id": "cf5dca22",
   "metadata": {},
   "source": [
    "### 국가"
   ]
  },
  {
   "cell_type": "code",
   "execution_count": 16,
   "id": "1689eeca",
   "metadata": {
    "ExecuteTime": {
     "end_time": "2021-10-05T04:28:23.951061Z",
     "start_time": "2021-10-05T04:28:23.906028Z"
    }
   },
   "outputs": [
    {
     "data": {
      "text/plain": [
       "'미국'"
      ]
     },
     "execution_count": 16,
     "metadata": {},
     "output_type": "execute_result"
    }
   ],
   "source": [
    "driver.find_element_by_css_selector(\"#content > div.article > div.mv_info_area > div.mv_info > dl > dd:nth-child(2) > p > span:nth-child(2) > a\").text"
   ]
  },
  {
   "cell_type": "markdown",
   "id": "03a129b6",
   "metadata": {},
   "source": [
    "### 러닝타임"
   ]
  },
  {
   "cell_type": "code",
   "execution_count": 17,
   "id": "2e3ca4ef",
   "metadata": {
    "ExecuteTime": {
     "end_time": "2021-10-05T04:29:50.816143Z",
     "start_time": "2021-10-05T04:29:50.790026Z"
    }
   },
   "outputs": [
    {
     "data": {
      "text/plain": [
       "'103분'"
      ]
     },
     "execution_count": 17,
     "metadata": {},
     "output_type": "execute_result"
    }
   ],
   "source": [
    "driver.find_element_by_css_selector(\"#content > div.article > div.mv_info_area > div.mv_info > dl > dd:nth-child(2) > p > span:nth-child(3)\").text"
   ]
  },
  {
   "cell_type": "markdown",
   "id": "84f96eb2",
   "metadata": {},
   "source": [
    "### 개봉일"
   ]
  },
  {
   "cell_type": "code",
   "execution_count": 14,
   "id": "037acbdf",
   "metadata": {
    "ExecuteTime": {
     "end_time": "2021-10-05T04:26:24.966208Z",
     "start_time": "2021-10-05T04:26:24.930353Z"
    }
   },
   "outputs": [
    {
     "data": {
      "text/plain": [
       "'2019 .11.21 개봉'"
      ]
     },
     "execution_count": 14,
     "metadata": {},
     "output_type": "execute_result"
    }
   ],
   "source": [
    "driver.find_element_by_css_selector(\"#content > div.article > div.mv_info_area > div.mv_info > dl > dd:nth-child(2) > p > span:nth-child(4)\").text"
   ]
  },
  {
   "cell_type": "markdown",
   "id": "d5f7597c",
   "metadata": {},
   "source": [
    "### 감독"
   ]
  },
  {
   "cell_type": "code",
   "execution_count": 9,
   "id": "4955f818",
   "metadata": {
    "ExecuteTime": {
     "end_time": "2021-10-05T04:24:21.612128Z",
     "start_time": "2021-10-05T04:24:21.565347Z"
    }
   },
   "outputs": [
    {
     "data": {
      "text/plain": [
       "'크리스 벅, 제니퍼 리'"
      ]
     },
     "execution_count": 9,
     "metadata": {},
     "output_type": "execute_result"
    }
   ],
   "source": [
    "driver.find_element_by_css_selector(\"#content > div.article > div.mv_info_area > div.mv_info > dl > dd:nth-child(4)\").text"
   ]
  },
  {
   "cell_type": "markdown",
   "id": "18188329",
   "metadata": {
    "ExecuteTime": {
     "end_time": "2021-10-05T04:24:29.165416Z",
     "start_time": "2021-10-05T04:24:29.158391Z"
    }
   },
   "source": [
    "### 출연진 "
   ]
  },
  {
   "cell_type": "code",
   "execution_count": 8,
   "id": "d531b62f",
   "metadata": {
    "ExecuteTime": {
     "end_time": "2021-10-05T04:22:11.767849Z",
     "start_time": "2021-10-05T04:22:11.723814Z"
    }
   },
   "outputs": [
    {
     "data": {
      "text/plain": [
       "'크리스틴 벨(안나 목소리), 이디나 멘젤(엘사 목소리)'"
      ]
     },
     "execution_count": 8,
     "metadata": {},
     "output_type": "execute_result"
    }
   ],
   "source": [
    "driver.find_element_by_css_selector(\"#content > div.article > div.mv_info_area > div.mv_info > dl > dd:nth-child(6) > p\").text"
   ]
  },
  {
   "cell_type": "markdown",
   "id": "099aac23",
   "metadata": {
    "ExecuteTime": {
     "end_time": "2021-10-05T04:29:55.575555Z",
     "start_time": "2021-10-05T04:29:55.559954Z"
    }
   },
   "source": [
    "### 등급"
   ]
  },
  {
   "cell_type": "code",
   "execution_count": 13,
   "id": "a9a4e2b9",
   "metadata": {
    "ExecuteTime": {
     "end_time": "2021-10-05T04:25:36.238562Z",
     "start_time": "2021-10-05T04:25:36.184311Z"
    }
   },
   "outputs": [
    {
     "data": {
      "text/plain": [
       "'전체 관람가'"
      ]
     },
     "execution_count": 13,
     "metadata": {},
     "output_type": "execute_result"
    }
   ],
   "source": [
    "driver.find_element_by_css_selector(\"#content > div.article > div.mv_info_area > div.mv_info > dl > dd:nth-child(8) > p > a\").text"
   ]
  },
  {
   "cell_type": "markdown",
   "id": "51fafa10",
   "metadata": {},
   "source": [
    "### 줄거리"
   ]
  },
  {
   "cell_type": "code",
   "execution_count": 21,
   "id": "ebf20298",
   "metadata": {
    "ExecuteTime": {
     "end_time": "2021-10-05T04:31:19.693160Z",
     "start_time": "2021-10-05T04:31:19.659538Z"
    }
   },
   "outputs": [],
   "source": [
    "story = driver.find_element_by_css_selector(\"#content > div.article > div.section_group.section_group_frst > div:nth-child(1) > div > div > p\").text"
   ]
  },
  {
   "cell_type": "code",
   "execution_count": 22,
   "id": "c544d00d",
   "metadata": {
    "ExecuteTime": {
     "end_time": "2021-10-05T04:31:20.639407Z",
     "start_time": "2021-10-05T04:31:20.626939Z"
    }
   },
   "outputs": [
    {
     "data": {
      "text/plain": [
       "'어느 날 부턴가 의문의 목소리가 엘사를 부르고, 평화로운 아렌델 왕국을 위협한다. 트롤은 모든 것은 과거에서 시작되었음을 알려주며 엘사의 힘의 비밀과 진실을 찾아 떠나야한다고 조언한다.  위험에 빠진 아렌델 왕국을 구해야만 하는 엘사와 안나는 숨겨진 과거의 진실을 찾아 크리스토프, 올라프 그리고 스벤과 함께 위험천만한 놀라운 모험을 떠나게 된다. 자신의 힘을 두려워했던 엘사는 이제 이 모험을 헤쳐나가기에 자신의 힘이 충분하다고 믿어야만 하는데…  두려움을 깨고 새로운 운명을 만나다!'"
      ]
     },
     "execution_count": 22,
     "metadata": {},
     "output_type": "execute_result"
    }
   ],
   "source": [
    "story.replace(\"\\n\",\"\")"
   ]
  },
  {
   "cell_type": "markdown",
   "id": "c7ada8c8",
   "metadata": {},
   "source": [
    "## 전체 코드"
   ]
  },
  {
   "cell_type": "code",
   "execution_count": 23,
   "id": "60356860",
   "metadata": {
    "ExecuteTime": {
     "end_time": "2021-10-05T04:37:06.168439Z",
     "start_time": "2021-10-05T04:37:05.908407Z"
    }
   },
   "outputs": [
    {
     "data": {
      "text/plain": [
       "'어느 날 부턴가 의문의 목소리가 엘사를 부르고, 평화로운 아렌델 왕국을 위협한다. 트롤은 모든 것은 과거에서 시작되었음을 알려주며 엘사의 힘의 비밀과 진실을 찾아 떠나야한다고 조언한다.  위험에 빠진 아렌델 왕국을 구해야만 하는 엘사와 안나는 숨겨진 과거의 진실을 찾아 크리스토프, 올라프 그리고 스벤과 함께 위험천만한 놀라운 모험을 떠나게 된다. 자신의 힘을 두려워했던 엘사는 이제 이 모험을 헤쳐나가기에 자신의 힘이 충분하다고 믿어야만 하는데…  두려움을 깨고 새로운 운명을 만나다!'"
      ]
     },
     "execution_count": 23,
     "metadata": {},
     "output_type": "execute_result"
    }
   ],
   "source": [
    "# 제목\n",
    "driver.find_element_by_css_selector(\"#content > div.article > div.mv_info_area > div.mv_info > h3 > a\").text\n",
    "\n",
    "# 장르\n",
    "driver.find_element_by_css_selector(\"#content > div.article > div.mv_info_area > div.mv_info > dl > dd:nth-child(2) > p > span:nth-child(1)\").text\n",
    "\n",
    "# 국가\n",
    "driver.find_element_by_css_selector(\"#content > div.article > div.mv_info_area > div.mv_info > dl > dd:nth-child(2) > p > span:nth-child(2) > a\").text\n",
    "\n",
    "# 러닝타임\n",
    "driver.find_element_by_css_selector(\"#content > div.article > div.mv_info_area > div.mv_info > dl > dd:nth-child(2) > p > span:nth-child(3)\").text\n",
    "\n",
    "# 개봉일\n",
    "driver.find_element_by_css_selector(\"#content > div.article > div.mv_info_area > div.mv_info > dl > dd:nth-child(2) > p > span:nth-child(4)\").text\n",
    "\n",
    "# 감독\n",
    "driver.find_element_by_css_selector(\"#content > div.article > div.mv_info_area > div.mv_info > dl > dd:nth-child(4)\").text\n",
    "\n",
    "# 출연\n",
    "driver.find_element_by_css_selector(\"#content > div.article > div.mv_info_area > div.mv_info > dl > dd:nth-child(6) > p\").text\n",
    "\n",
    "# 등급\n",
    "driver.find_element_by_css_selector(\"#content > div.article > div.mv_info_area > div.mv_info > dl > dd:nth-child(8) > p > a\").text\n",
    "\n",
    "# 줄거리\n",
    "story = driver.find_element_by_css_selector(\"#content > div.article > div.section_group.section_group_frst > div:nth-child(1) > div > div > p\").text\n",
    "story.replace(\"\\n\",\"\")"
   ]
  }
 ],
 "metadata": {
  "hide_input": false,
  "kernelspec": {
   "display_name": "Python 3",
   "language": "python",
   "name": "python3"
  },
  "language_info": {
   "codemirror_mode": {
    "name": "ipython",
    "version": 3
   },
   "file_extension": ".py",
   "mimetype": "text/x-python",
   "name": "python",
   "nbconvert_exporter": "python",
   "pygments_lexer": "ipython3",
   "version": "3.8.8"
  },
  "toc": {
   "base_numbering": 1,
   "nav_menu": {},
   "number_sections": true,
   "sideBar": true,
   "skip_h1_title": false,
   "title_cell": "Table of Contents",
   "title_sidebar": "Contents",
   "toc_cell": false,
   "toc_position": {},
   "toc_section_display": true,
   "toc_window_display": false
  },
  "varInspector": {
   "cols": {
    "lenName": 16,
    "lenType": 16,
    "lenVar": 40
   },
   "kernels_config": {
    "python": {
     "delete_cmd_postfix": "",
     "delete_cmd_prefix": "del ",
     "library": "var_list.py",
     "varRefreshCmd": "print(var_dic_list())"
    },
    "r": {
     "delete_cmd_postfix": ") ",
     "delete_cmd_prefix": "rm(",
     "library": "var_list.r",
     "varRefreshCmd": "cat(var_dic_list()) "
    }
   },
   "types_to_exclude": [
    "module",
    "function",
    "builtin_function_or_method",
    "instance",
    "_Feature"
   ],
   "window_display": false
  }
 },
 "nbformat": 4,
 "nbformat_minor": 5
}
