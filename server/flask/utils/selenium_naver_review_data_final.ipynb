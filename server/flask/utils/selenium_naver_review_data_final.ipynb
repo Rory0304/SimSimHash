{
 "cells": [
  {
   "cell_type": "code",
   "execution_count": null,
   "id": "ca65864e",
   "metadata": {
    "ExecuteTime": {
     "start_time": "2021-10-17T07:53:45.482Z"
    }
   },
   "outputs": [],
   "source": [
    "import time, re, csv\n",
    "from bs4 import BeautifulSoup\n",
    "from selenium import webdriver\n",
    "from selenium.webdriver.common.keys import Keys\n",
    "from selenium.webdriver.common.by import By\n",
    "from selenium.common.exceptions import NoSuchElementException\n",
    "from selenium.common.exceptions import StaleElementReferenceException\n",
    "from selenium.common.exceptions import InvalidSelectorException\n",
    "\n",
    "import pandas as pd\n",
    "\n",
    "driver = webdriver.Chrome('C:/Users/sooyeon/Downloads/chromedriver.exe')\n",
    "driver.get(\n",
    "    \"https://movie.naver.com/movie/bi/mi/point.naver?code=99702\"\n",
    ")\n",
    "time.sleep(2)\n",
    "\n",
    "driver.find_element_by_css_selector(\"#content > div.article > div.mv_info_area > div.mv_info > h3 > a\").text\n"
   ]
  },
  {
   "cell_type": "code",
   "execution_count": 8,
   "id": "bf9a3a7c",
   "metadata": {
    "ExecuteTime": {
     "end_time": "2021-10-05T04:18:49.112798Z",
     "start_time": "2021-10-05T04:18:49.064735Z"
    }
   },
   "outputs": [
    {
     "data": {
      "text/plain": [
       "'다니엘 크레이그(제임스 본드), 라미 말렉(사핀), 라샤나 린치(노미)\\n더보기'"
      ]
     },
     "execution_count": 8,
     "metadata": {},
     "output_type": "execute_result"
    }
   ],
   "source": [
    "driver.find_element_by_css_selector(\"#content > div.article > div.mv_info_area > div.mv_info > dl > dd:nth-child(6)\").text"
   ]
  },
  {
   "cell_type": "code",
   "execution_count": 9,
   "id": "b3b78000",
   "metadata": {
    "ExecuteTime": {
     "end_time": "2021-10-05T04:19:16.872331Z",
     "start_time": "2021-10-05T04:19:04.688856Z"
    }
   },
   "outputs": [],
   "source": [
    "driver.switch_to.frame(driver.find_elements_by_tag_name(\"iframe\")[4])\n",
    "result = []\n",
    "for i in range(1,11):\n",
    "\n",
    "    boxes = driver.find_elements_by_css_selector(\"body > div > div > div.score_result > ul > li\")\n",
    "\n",
    "    scores = []\n",
    "    reviews= []\n",
    "    ids = []\n",
    "    dates = []\n",
    "    for box in boxes:\n",
    "        scores.append(box.find_element_by_css_selector(\"div.star_score > em\").text)\n",
    "        reviews.append(box.find_element_by_css_selector(\"div.score_reple > p\").text)\n",
    "        ids.append(box.find_element_by_css_selector(\"div.score_reple > dl > dt > em:nth-child(1)\").text)\n",
    "        dates.append(box.find_element_by_css_selector(\"div.score_reple > dl > dt > em:nth-child(2)\").text)\n",
    "\n",
    "    import pandas as pd\n",
    "\n",
    "    df = pd.DataFrame({'id':ids,'score':scores,'date':dates,'review':reviews})\n",
    "\n",
    "    df['movie_name'] = '007 노 타임 투 다이'\n",
    "    result.append(df)\n",
    "    driver.find_element_by_xpath('''//*[@id=\"pagerTagAnchor{}\"]'''.format(str(i))).click()\n",
    "\n",
    "\n",
    "# df.to_csv(\"tmp_.csv\",sep = '|',index = None)"
   ]
  },
  {
   "cell_type": "code",
   "execution_count": null,
   "id": "04721dd2",
   "metadata": {},
   "outputs": [],
   "source": [
    "# result : 데이터프레임으로 만들어질 리뷰 정보"
   ]
  },
  {
   "cell_type": "code",
   "execution_count": 10,
   "id": "b1bec381",
   "metadata": {
    "ExecuteTime": {
     "end_time": "2021-10-05T04:19:18.411608Z",
     "start_time": "2021-10-05T04:19:18.366174Z"
    },
    "scrolled": true
   },
   "outputs": [
    {
     "data": {
      "text/html": [
       "<div>\n",
       "<style scoped>\n",
       "    .dataframe tbody tr th:only-of-type {\n",
       "        vertical-align: middle;\n",
       "    }\n",
       "\n",
       "    .dataframe tbody tr th {\n",
       "        vertical-align: top;\n",
       "    }\n",
       "\n",
       "    .dataframe thead th {\n",
       "        text-align: right;\n",
       "    }\n",
       "</style>\n",
       "<table border=\"1\" class=\"dataframe\">\n",
       "  <thead>\n",
       "    <tr style=\"text-align: right;\">\n",
       "      <th></th>\n",
       "      <th>id</th>\n",
       "      <th>score</th>\n",
       "      <th>date</th>\n",
       "      <th>review</th>\n",
       "      <th>movie_name</th>\n",
       "    </tr>\n",
       "  </thead>\n",
       "  <tbody>\n",
       "    <tr>\n",
       "      <th>0</th>\n",
       "      <td>Fantasy(tbxo****)</td>\n",
       "      <td>9</td>\n",
       "      <td>2021.09.29 18:52</td>\n",
       "      <td>관람객 굿바이, 다니엘 크레이그</td>\n",
       "      <td>007 노 타임 투 다이</td>\n",
       "    </tr>\n",
       "    <tr>\n",
       "      <th>1</th>\n",
       "      <td>Debussy(kang****)</td>\n",
       "      <td>1</td>\n",
       "      <td>2021.09.29 23:30</td>\n",
       "      <td>관람객 처음 10분은 정말 007 역대급 작품이 나오는 줄 알았다.. 근데 그게 끝...</td>\n",
       "      <td>007 노 타임 투 다이</td>\n",
       "    </tr>\n",
       "    <tr>\n",
       "      <th>2</th>\n",
       "      <td>묵(vlue****)</td>\n",
       "      <td>2</td>\n",
       "      <td>2021.09.29 23:55</td>\n",
       "      <td>관람객 제임스본드를 그런식으로 퇴장시켜야만 했을까?별볼일없는 등장인물들에게 촬영분량...</td>\n",
       "      <td>007 노 타임 투 다이</td>\n",
       "    </tr>\n",
       "    <tr>\n",
       "      <th>3</th>\n",
       "      <td>milk****</td>\n",
       "      <td>7</td>\n",
       "      <td>2021.09.29 23:10</td>\n",
       "      <td>관람객 아니 감독양반 아무리 그래도 개간지 007 형님에게 도게자가 웬말이여..</td>\n",
       "      <td>007 노 타임 투 다이</td>\n",
       "    </tr>\n",
       "    <tr>\n",
       "      <th>4</th>\n",
       "      <td>로저페더러(alka****)</td>\n",
       "      <td>1</td>\n",
       "      <td>2021.09.29 23:11</td>\n",
       "      <td>관람객 크레이그 007 중 최악의 작품. 후쿠나가가 007을 쓰레기로 만들었군요. ...</td>\n",
       "      <td>007 노 타임 투 다이</td>\n",
       "    </tr>\n",
       "    <tr>\n",
       "      <th>...</th>\n",
       "      <td>...</td>\n",
       "      <td>...</td>\n",
       "      <td>...</td>\n",
       "      <td>...</td>\n",
       "      <td>...</td>\n",
       "    </tr>\n",
       "    <tr>\n",
       "      <th>95</th>\n",
       "      <td>배리굿(sang****)</td>\n",
       "      <td>7</td>\n",
       "      <td>2021.09.30 23:19</td>\n",
       "      <td>관람객 잘가 제임스본드... 잊지않을게</td>\n",
       "      <td>007 노 타임 투 다이</td>\n",
       "    </tr>\n",
       "    <tr>\n",
       "      <th>96</th>\n",
       "      <td>Assa(chld****)</td>\n",
       "      <td>10</td>\n",
       "      <td>2021.09.29 18:55</td>\n",
       "      <td>다니엘 크레이그가 보여 줄 수 있는 최고의 마지막, 덕분에 행복했어요..</td>\n",
       "      <td>007 노 타임 투 다이</td>\n",
       "    </tr>\n",
       "    <tr>\n",
       "      <th>97</th>\n",
       "      <td>김은영(key6****)</td>\n",
       "      <td>10</td>\n",
       "      <td>2021.09.29 18:21</td>\n",
       "      <td>역시 007 실망시키지 않네요~ 시간 가는줄 모르고 봤어요~</td>\n",
       "      <td>007 노 타임 투 다이</td>\n",
       "    </tr>\n",
       "    <tr>\n",
       "      <th>98</th>\n",
       "      <td>스크랩헤븐(rty7****)</td>\n",
       "      <td>6</td>\n",
       "      <td>2021.09.30 13:06</td>\n",
       "      <td>관람객 기대를 많이했는데 실망스러웠다</td>\n",
       "      <td>007 노 타임 투 다이</td>\n",
       "    </tr>\n",
       "    <tr>\n",
       "      <th>99</th>\n",
       "      <td>Bella Hong(love****)</td>\n",
       "      <td>1</td>\n",
       "      <td>2021.10.03 17:43</td>\n",
       "      <td>관람객 일본뽕 잔뜩 깔린 ...와패니즘 애로부부 의처증 남자로 시작해 국제시장 황정...</td>\n",
       "      <td>007 노 타임 투 다이</td>\n",
       "    </tr>\n",
       "  </tbody>\n",
       "</table>\n",
       "<p>100 rows × 5 columns</p>\n",
       "</div>"
      ],
      "text/plain": [
       "                      id score              date  \\\n",
       "0      Fantasy(tbxo****)     9  2021.09.29 18:52   \n",
       "1      Debussy(kang****)     1  2021.09.29 23:30   \n",
       "2            묵(vlue****)     2  2021.09.29 23:55   \n",
       "3               milk****     7  2021.09.29 23:10   \n",
       "4        로저페더러(alka****)     1  2021.09.29 23:11   \n",
       "..                   ...   ...               ...   \n",
       "95         배리굿(sang****)     7  2021.09.30 23:19   \n",
       "96        Assa(chld****)    10  2021.09.29 18:55   \n",
       "97         김은영(key6****)    10  2021.09.29 18:21   \n",
       "98       스크랩헤븐(rty7****)     6  2021.09.30 13:06   \n",
       "99  Bella Hong(love****)     1  2021.10.03 17:43   \n",
       "\n",
       "                                               review     movie_name  \n",
       "0                                   관람객 굿바이, 다니엘 크레이그  007 노 타임 투 다이  \n",
       "1   관람객 처음 10분은 정말 007 역대급 작품이 나오는 줄 알았다.. 근데 그게 끝...  007 노 타임 투 다이  \n",
       "2   관람객 제임스본드를 그런식으로 퇴장시켜야만 했을까?별볼일없는 등장인물들에게 촬영분량...  007 노 타임 투 다이  \n",
       "3        관람객 아니 감독양반 아무리 그래도 개간지 007 형님에게 도게자가 웬말이여..  007 노 타임 투 다이  \n",
       "4   관람객 크레이그 007 중 최악의 작품. 후쿠나가가 007을 쓰레기로 만들었군요. ...  007 노 타임 투 다이  \n",
       "..                                                ...            ...  \n",
       "95                              관람객 잘가 제임스본드... 잊지않을게  007 노 타임 투 다이  \n",
       "96           다니엘 크레이그가 보여 줄 수 있는 최고의 마지막, 덕분에 행복했어요..  007 노 타임 투 다이  \n",
       "97                  역시 007 실망시키지 않네요~ 시간 가는줄 모르고 봤어요~  007 노 타임 투 다이  \n",
       "98                               관람객 기대를 많이했는데 실망스러웠다  007 노 타임 투 다이  \n",
       "99  관람객 일본뽕 잔뜩 깔린 ...와패니즘 애로부부 의처증 남자로 시작해 국제시장 황정...  007 노 타임 투 다이  \n",
       "\n",
       "[100 rows x 5 columns]"
      ]
     },
     "execution_count": 10,
     "metadata": {},
     "output_type": "execute_result"
    }
   ],
   "source": [
    "pd.concat(result).reset_index(drop = True)"
   ]
  },
  {
   "cell_type": "markdown",
   "id": "91eb988c",
   "metadata": {},
   "source": [
    "#"
   ]
  },
  {
   "cell_type": "markdown",
   "id": "5077cfec",
   "metadata": {},
   "source": [
    "### 순서\n",
    "* 연도별 페이지를 url로 설정 2019, 2020, 2021\n",
    "* 영화목록은 한 페이지당 20개씩 보여짐\n",
    "* 20개의 목록을 리스트에 담고 상세페이지로 들어간다.\n",
    "* 영화 제목과 개봉일 수집\n",
    "* 평점 확인 버튼을 누른다\n",
    "* 리뷰목록은 한 페이지당 10개씩 보여짐\n",
    "* 페이지네이션을 돌며 평점, 리뷰내용, 작성일을 담는다\n",
    "* 20개의 목록에 있는 영화정보와 리뷰를 수집한 뒤 \n",
    "* 다음  페이지로 넘어간다 "
   ]
  },
  {
   "cell_type": "code",
   "execution_count": 29,
   "id": "792c48bf",
   "metadata": {
    "ExecuteTime": {
     "end_time": "2021-10-08T16:27:34.722905Z",
     "start_time": "2021-10-08T13:50:17.669368Z"
    }
   },
   "outputs": [
    {
     "ename": "IndexError",
     "evalue": "list index out of range",
     "output_type": "error",
     "traceback": [
      "\u001b[1;31m---------------------------------------------------------------------------\u001b[0m",
      "\u001b[1;31mIndexError\u001b[0m                                Traceback (most recent call last)",
      "\u001b[1;32m<ipython-input-29-e877a09918a3>\u001b[0m in \u001b[0;36m<module>\u001b[1;34m\u001b[0m\n\u001b[0;32m     35\u001b[0m     \u001b[1;32mfor\u001b[0m \u001b[0mi\u001b[0m \u001b[1;32min\u001b[0m \u001b[0mrange\u001b[0m\u001b[1;33m(\u001b[0m\u001b[1;36m0\u001b[0m\u001b[1;33m,\u001b[0m\u001b[1;36m19\u001b[0m\u001b[1;33m)\u001b[0m\u001b[1;33m:\u001b[0m\u001b[1;33m\u001b[0m\u001b[1;33m\u001b[0m\u001b[0m\n\u001b[0;32m     36\u001b[0m         \u001b[1;31m# i번째 링크 접속하기\u001b[0m\u001b[1;33m\u001b[0m\u001b[1;33m\u001b[0m\u001b[1;33m\u001b[0m\u001b[0m\n\u001b[1;32m---> 37\u001b[1;33m         \u001b[0mdriver\u001b[0m\u001b[1;33m.\u001b[0m\u001b[0mget\u001b[0m\u001b[1;33m(\u001b[0m\u001b[0mlink\u001b[0m\u001b[1;33m[\u001b[0m\u001b[0mi\u001b[0m\u001b[1;33m]\u001b[0m\u001b[1;33m)\u001b[0m\u001b[1;33m\u001b[0m\u001b[1;33m\u001b[0m\u001b[0m\n\u001b[0m\u001b[0;32m     38\u001b[0m \u001b[1;33m\u001b[0m\u001b[0m\n\u001b[0;32m     39\u001b[0m         \u001b[1;31m# 시간 지연\u001b[0m\u001b[1;33m\u001b[0m\u001b[1;33m\u001b[0m\u001b[1;33m\u001b[0m\u001b[0m\n",
      "\u001b[1;31mIndexError\u001b[0m: list index out of range"
     ]
    }
   ],
   "source": [
    "import pandas as pd\n",
    "# 크롬창(웹드라이버) 열기\n",
    "driver = webdriver.Chrome('C:/Users/sooyeon/Downloads/chromedriver.exe')\n",
    "\n",
    "from urllib.request import urlopen\n",
    "from bs4 import BeautifulSoup\n",
    "link = []\n",
    "result21=[]\n",
    "\n",
    "# 해당 개봉년도의 페이지 순환\n",
    "for page in range(1,38):\n",
    "    url = f'https://movie.naver.com/movie/sdb/browsing/bmovie.naver?open=2021&page={page}'\n",
    "    html = urlopen(url)\n",
    "    soup = BeautifulSoup(html,'html.parser')\n",
    "    ul = soup.find('div').find('ul',class_='directory_list')\n",
    "    for a in ul.find_all('a'):\n",
    "        link.append(a['href'])\n",
    "    \n",
    "    # 2021 페이지 접속   \n",
    "    driver.get(url)\n",
    "    \n",
    "    # 시간 지연\n",
    "    # time.sleep(2)\n",
    "\n",
    "    # 영화 리스트 불러오기\n",
    "    boxes = driver.find_elements_by_css_selector(\"#old_content > ul > li\")\n",
    "    link = []\n",
    "    for box in boxes:\n",
    "        link.append(box.find_element_by_css_selector('a').get_attribute('href'))\n",
    "\n",
    "    # 링크 한줄 씩 반복문\n",
    "    # 한 페이지당 해당하는 영화는 20개\n",
    "\n",
    "\n",
    "    for i in range(0,19):\n",
    "        # i번째 링크 접속하기\n",
    "        driver.get(link[i])\n",
    "\n",
    "        # 시간 지연 \n",
    "        time.sleep(1)\n",
    "\n",
    "        try:\n",
    "            driver.find_element_by_xpath('//*[@id=\"movieEndTabMenu\"]/li[5]/a').click()\n",
    "            # 제목\n",
    "            title= driver.find_element_by_css_selector(\"#content > div.article > div.mv_info_area > div.mv_info > h3 > a\").text\n",
    "            release_date = driver.find_element_by_css_selector('#content > div.article > div.mv_info_area > div.mv_info > dl > dd:nth-child(2) > p > span:nth-child(4)').text\n",
    "            # iframe 조정 \n",
    "            driver.switch_to.frame(driver.find_elements_by_tag_name(\"iframe\")[4])\n",
    "\n",
    "            # pagination 1~10\n",
    "            for i in range(1,51):\n",
    "            # 기준 : for i in range(1,11):\n",
    "            \n",
    "                # 리뷰 박스들\n",
    "                boxes = driver.find_elements_by_css_selector(\"body > div > div > div.score_result > ul > li\")\n",
    "                \n",
    "                # 평점\n",
    "                score = []\n",
    "                \n",
    "                # 리뷰 내용\n",
    "                content= []\n",
    "                \n",
    "                # 리뷰 작성일\n",
    "                write_date = []\n",
    "                \n",
    "                # 리뷰 박스 한 개 내부에 포함된 요소들 append\n",
    "                for box in boxes:\n",
    "                    score.append(box.find_element_by_css_selector(\"div.star_score > em\").text)\n",
    "                    contents = box.find_element_by_css_selector(\"div.score_reple > p\").text\n",
    "                    # 관람객 평점인 경우 관람객이라는 단어가 포함됨\n",
    "                    contents = contents.replace(\"\\n\",\"\").replace('관람객','')\n",
    "                    content.append(contents)\n",
    "                    write_date.append(box.find_element_by_css_selector(\"div.score_reple > dl > dt > em:nth-child(2)\").text)\n",
    "                \n",
    "                # 데이터 프레임 생성\n",
    "                df = pd.DataFrame({'title':title,'score':score,'content':content,'write_date':write_date,'release_date':release_date})\n",
    "                result21.append(df)\n",
    "                \n",
    "                # 다음 페이지로 이동\n",
    "                driver.find_element_by_xpath('''//*[@id=\"pagerTagAnchor{}\"]'''.format(str(i))).click()\n",
    "        \n",
    "        # 예외 처리\n",
    "        except NoSuchElementException:\n",
    "            continue\n",
    "        except IndexError:\n",
    "            continue\n",
    "        except AttributeError:\n",
    "            continue\n",
    "        except ValueError:\n",
    "            continue\n",
    "        except InvalidSelectorException:\n",
    "            continue\n",
    "            \n",
    "            \n",
    "            # 맨 마지막 페이지의 영화는 20개가 넘지 않으므로 indexerror 발생 -> result에 영화목록은 잘 더해짐"
   ]
  },
  {
   "cell_type": "markdown",
   "id": "f0b76a5a",
   "metadata": {},
   "source": [
    "### 데이터프레임 생성"
   ]
  },
  {
   "cell_type": "code",
   "execution_count": 30,
   "id": "2b4dfae1",
   "metadata": {
    "ExecuteTime": {
     "end_time": "2021-10-08T16:37:45.298636Z",
     "start_time": "2021-10-08T16:37:43.467253Z"
    }
   },
   "outputs": [],
   "source": [
    "naver_review21 = pd.concat(result21).reset_index(drop=True)"
   ]
  },
  {
   "cell_type": "code",
   "execution_count": 31,
   "id": "3b85cb10",
   "metadata": {
    "ExecuteTime": {
     "end_time": "2021-10-08T16:40:31.901507Z",
     "start_time": "2021-10-08T16:40:31.885485Z"
    }
   },
   "outputs": [],
   "source": [
    "naver_review21['source_site'] = 'naver'"
   ]
  },
  {
   "cell_type": "markdown",
   "id": "1c3bcba0",
   "metadata": {
    "ExecuteTime": {
     "end_time": "2021-10-17T07:47:09.566734Z",
     "start_time": "2021-10-17T07:47:09.535573Z"
    }
   },
   "source": [
    "### 데이터 구성\n",
    "* title : 영화 제목\n",
    "* score : 네티즌 평점\n",
    "* content : 리뷰내용\n",
    "* write_date : 리뷰작성일\n",
    "* release_date : 영화 개봉일\n",
    "* source_site : 리뷰출처 플랫폼 <- 맨 마지막에 열추가하는 방식"
   ]
  },
  {
   "cell_type": "code",
   "execution_count": 34,
   "id": "fb13f9d5",
   "metadata": {
    "ExecuteTime": {
     "end_time": "2021-10-08T16:49:20.026525Z",
     "start_time": "2021-10-08T16:49:19.980521Z"
    }
   },
   "outputs": [
    {
     "data": {
      "text/html": [
       "<div>\n",
       "<style scoped>\n",
       "    .dataframe tbody tr th:only-of-type {\n",
       "        vertical-align: middle;\n",
       "    }\n",
       "\n",
       "    .dataframe tbody tr th {\n",
       "        vertical-align: top;\n",
       "    }\n",
       "\n",
       "    .dataframe thead th {\n",
       "        text-align: right;\n",
       "    }\n",
       "</style>\n",
       "<table border=\"1\" class=\"dataframe\">\n",
       "  <thead>\n",
       "    <tr style=\"text-align: right;\">\n",
       "      <th></th>\n",
       "      <th>title</th>\n",
       "      <th>score</th>\n",
       "      <th>content</th>\n",
       "      <th>write_date</th>\n",
       "      <th>release_date</th>\n",
       "      <th>source_site</th>\n",
       "    </tr>\n",
       "  </thead>\n",
       "  <tbody>\n",
       "    <tr>\n",
       "      <th>0</th>\n",
       "      <td>007 노 타임 투 다이</td>\n",
       "      <td>9</td>\n",
       "      <td>굿바이, 다니엘 크레이그</td>\n",
       "      <td>2021.09.29 18:52</td>\n",
       "      <td>2021 .09.29 개봉</td>\n",
       "      <td>naver</td>\n",
       "    </tr>\n",
       "    <tr>\n",
       "      <th>1</th>\n",
       "      <td>007 노 타임 투 다이</td>\n",
       "      <td>1</td>\n",
       "      <td>처음 10분은 정말 007 역대급 작품이 나오는 줄 알았다.. 근데 그게 끝이였다..</td>\n",
       "      <td>2021.09.29 23:30</td>\n",
       "      <td>2021 .09.29 개봉</td>\n",
       "      <td>naver</td>\n",
       "    </tr>\n",
       "    <tr>\n",
       "      <th>2</th>\n",
       "      <td>007 노 타임 투 다이</td>\n",
       "      <td>2</td>\n",
       "      <td>제임스본드를 그런식으로 퇴장시켜야만 했을까?별볼일없는 등장인물들에게 촬영분량을 주...</td>\n",
       "      <td>2021.09.29 23:55</td>\n",
       "      <td>2021 .09.29 개봉</td>\n",
       "      <td>naver</td>\n",
       "    </tr>\n",
       "    <tr>\n",
       "      <th>3</th>\n",
       "      <td>007 노 타임 투 다이</td>\n",
       "      <td>7</td>\n",
       "      <td>아니 감독양반 아무리 그래도 개간지 007 형님에게 도게자가 웬말이여..</td>\n",
       "      <td>2021.09.29 23:10</td>\n",
       "      <td>2021 .09.29 개봉</td>\n",
       "      <td>naver</td>\n",
       "    </tr>\n",
       "    <tr>\n",
       "      <th>4</th>\n",
       "      <td>007 노 타임 투 다이</td>\n",
       "      <td>1</td>\n",
       "      <td>크레이그 007 중 최악의 작품. 후쿠나가가 007을 쓰레기로 만들었군요. 이 작...</td>\n",
       "      <td>2021.09.29 23:11</td>\n",
       "      <td>2021 .09.29 개봉</td>\n",
       "      <td>naver</td>\n",
       "    </tr>\n",
       "    <tr>\n",
       "      <th>...</th>\n",
       "      <td>...</td>\n",
       "      <td>...</td>\n",
       "      <td>...</td>\n",
       "      <td>...</td>\n",
       "      <td>...</td>\n",
       "      <td>...</td>\n",
       "    </tr>\n",
       "    <tr>\n",
       "      <th>61592</th>\n",
       "      <td>흩어진 밤</td>\n",
       "      <td>10</td>\n",
       "      <td>스포일러가 포함된 감상평입니다. 감상평 보기</td>\n",
       "      <td>2021.06.25 20:59</td>\n",
       "      <td>2021 .06.24 개봉</td>\n",
       "      <td>naver</td>\n",
       "    </tr>\n",
       "    <tr>\n",
       "      <th>61593</th>\n",
       "      <td>흩어진 밤</td>\n",
       "      <td>10</td>\n",
       "      <td>I love you 180!</td>\n",
       "      <td>2021.06.25 07:54</td>\n",
       "      <td>2021 .06.24 개봉</td>\n",
       "      <td>naver</td>\n",
       "    </tr>\n",
       "    <tr>\n",
       "      <th>61594</th>\n",
       "      <td>흩어진 밤</td>\n",
       "      <td>10</td>\n",
       "      <td>어느 누구 한명의 잘못도 아닌데 모두가 흩어져야 하는 밤...</td>\n",
       "      <td>2021.06.24 11:43</td>\n",
       "      <td>2021 .06.24 개봉</td>\n",
       "      <td>naver</td>\n",
       "    </tr>\n",
       "    <tr>\n",
       "      <th>61595</th>\n",
       "      <td>흩어진 밤</td>\n",
       "      <td>1</td>\n",
       "      <td>진짜 연기력도 그렇고 제작능력이며 스토리며 다 없어요,,,,감동도 재미도 ,,,</td>\n",
       "      <td>2021.06.27 16:10</td>\n",
       "      <td>2021 .06.24 개봉</td>\n",
       "      <td>naver</td>\n",
       "    </tr>\n",
       "    <tr>\n",
       "      <th>61596</th>\n",
       "      <td>흩어진 밤</td>\n",
       "      <td>2</td>\n",
       "      <td>전주국제영화제를 너무너무 싫어하고 신뢰하지 않는 영화제라고 생각한다. 여기서 대상을...</td>\n",
       "      <td>2021.08.17 13:52</td>\n",
       "      <td>2021 .06.24 개봉</td>\n",
       "      <td>naver</td>\n",
       "    </tr>\n",
       "  </tbody>\n",
       "</table>\n",
       "<p>61597 rows × 6 columns</p>\n",
       "</div>"
      ],
      "text/plain": [
       "               title score                                            content  \\\n",
       "0      007 노 타임 투 다이     9                                      굿바이, 다니엘 크레이그   \n",
       "1      007 노 타임 투 다이     1    처음 10분은 정말 007 역대급 작품이 나오는 줄 알았다.. 근데 그게 끝이였다..   \n",
       "2      007 노 타임 투 다이     2   제임스본드를 그런식으로 퇴장시켜야만 했을까?별볼일없는 등장인물들에게 촬영분량을 주...   \n",
       "3      007 노 타임 투 다이     7           아니 감독양반 아무리 그래도 개간지 007 형님에게 도게자가 웬말이여..   \n",
       "4      007 노 타임 투 다이     1   크레이그 007 중 최악의 작품. 후쿠나가가 007을 쓰레기로 만들었군요. 이 작...   \n",
       "...              ...   ...                                                ...   \n",
       "61592          흩어진 밤    10                           스포일러가 포함된 감상평입니다. 감상평 보기   \n",
       "61593          흩어진 밤    10                                    I love you 180!   \n",
       "61594          흩어진 밤    10                 어느 누구 한명의 잘못도 아닌데 모두가 흩어져야 하는 밤...   \n",
       "61595          흩어진 밤     1       진짜 연기력도 그렇고 제작능력이며 스토리며 다 없어요,,,,감동도 재미도 ,,,   \n",
       "61596          흩어진 밤     2  전주국제영화제를 너무너무 싫어하고 신뢰하지 않는 영화제라고 생각한다. 여기서 대상을...   \n",
       "\n",
       "             write_date    release_date source_site  \n",
       "0      2021.09.29 18:52  2021 .09.29 개봉       naver  \n",
       "1      2021.09.29 23:30  2021 .09.29 개봉       naver  \n",
       "2      2021.09.29 23:55  2021 .09.29 개봉       naver  \n",
       "3      2021.09.29 23:10  2021 .09.29 개봉       naver  \n",
       "4      2021.09.29 23:11  2021 .09.29 개봉       naver  \n",
       "...                 ...             ...         ...  \n",
       "61592  2021.06.25 20:59  2021 .06.24 개봉       naver  \n",
       "61593  2021.06.25 07:54  2021 .06.24 개봉       naver  \n",
       "61594  2021.06.24 11:43  2021 .06.24 개봉       naver  \n",
       "61595  2021.06.27 16:10  2021 .06.24 개봉       naver  \n",
       "61596  2021.08.17 13:52  2021 .06.24 개봉       naver  \n",
       "\n",
       "[61597 rows x 6 columns]"
      ]
     },
     "execution_count": 34,
     "metadata": {},
     "output_type": "execute_result"
    }
   ],
   "source": [
    "naver_review21"
   ]
  },
  {
   "cell_type": "code",
   "execution_count": 33,
   "id": "eadab681",
   "metadata": {
    "ExecuteTime": {
     "end_time": "2021-10-08T16:46:35.666046Z",
     "start_time": "2021-10-08T16:46:35.573525Z"
    }
   },
   "outputs": [
    {
     "name": "stdout",
     "output_type": "stream",
     "text": [
      "<class 'pandas.core.frame.DataFrame'>\n",
      "RangeIndex: 61597 entries, 0 to 61596\n",
      "Data columns (total 6 columns):\n",
      " #   Column        Non-Null Count  Dtype \n",
      "---  ------        --------------  ----- \n",
      " 0   title         61597 non-null  object\n",
      " 1   score         61597 non-null  object\n",
      " 2   content       61597 non-null  object\n",
      " 3   write_date    61597 non-null  object\n",
      " 4   release_date  61597 non-null  object\n",
      " 5   source_site   61597 non-null  object\n",
      "dtypes: object(6)\n",
      "memory usage: 2.8+ MB\n"
     ]
    }
   ],
   "source": [
    "naver_review21.info()"
   ]
  },
  {
   "cell_type": "code",
   "execution_count": 35,
   "id": "ef6d4314",
   "metadata": {
    "ExecuteTime": {
     "end_time": "2021-10-08T16:52:17.625115Z",
     "start_time": "2021-10-08T16:52:17.580086Z"
    }
   },
   "outputs": [
    {
     "data": {
      "text/plain": [
       "title\n",
       "#아이엠히어              249\n",
       "#위왓치유                40\n",
       "007 노 타임 투 다이       500\n",
       "117편의 러브레터           22\n",
       "120시간: 로스트 인 아웃백     25\n",
       "                   ... \n",
       "호스트: 접속금지            96\n",
       "혼자 사는 사람들           500\n",
       "화이트 온 화이트            25\n",
       "화이트데이: 부서진 결계       149\n",
       "흩어진 밤                41\n",
       "Name: title, Length: 485, dtype: int64"
      ]
     },
     "execution_count": 35,
     "metadata": {},
     "output_type": "execute_result"
    }
   ],
   "source": [
    "naver_review21.groupby('title')['title'].count()"
   ]
  },
  {
   "cell_type": "markdown",
   "id": "1fa92905",
   "metadata": {},
   "source": [
    "#### 리뷰데이터 저장"
   ]
  },
  {
   "cell_type": "code",
   "execution_count": 32,
   "id": "7399c83a",
   "metadata": {
    "ExecuteTime": {
     "end_time": "2021-10-08T16:43:18.165731Z",
     "start_time": "2021-10-08T16:43:17.705122Z"
    }
   },
   "outputs": [],
   "source": [
    "naver_review21.to_csv('naver_review21.csv',index=False)"
   ]
  },
  {
   "cell_type": "code",
   "execution_count": 28,
   "id": "2eae7e90",
   "metadata": {
    "ExecuteTime": {
     "end_time": "2021-10-08T08:16:51.455528Z",
     "start_time": "2021-10-08T08:16:51.410528Z"
    }
   },
   "outputs": [
    {
     "data": {
      "text/html": [
       "<div>\n",
       "<style scoped>\n",
       "    .dataframe tbody tr th:only-of-type {\n",
       "        vertical-align: middle;\n",
       "    }\n",
       "\n",
       "    .dataframe tbody tr th {\n",
       "        vertical-align: top;\n",
       "    }\n",
       "\n",
       "    .dataframe thead th {\n",
       "        text-align: right;\n",
       "    }\n",
       "</style>\n",
       "<table border=\"1\" class=\"dataframe\">\n",
       "  <thead>\n",
       "    <tr style=\"text-align: right;\">\n",
       "      <th></th>\n",
       "      <th>title</th>\n",
       "      <th>score</th>\n",
       "      <th>content</th>\n",
       "      <th>write_date</th>\n",
       "      <th>release_date</th>\n",
       "      <th>source_site</th>\n",
       "    </tr>\n",
       "  </thead>\n",
       "  <tbody>\n",
       "    <tr>\n",
       "      <th>0</th>\n",
       "      <td>0.0MHz</td>\n",
       "      <td>1</td>\n",
       "      <td>와 정말 무서운집 수준의 공포영화가 한국에 다시 나왔네요. 꼭 보러 가세요.착석하신...</td>\n",
       "      <td>2019.05.29 13:30</td>\n",
       "      <td>2019 .05.29 개봉</td>\n",
       "      <td>naver</td>\n",
       "    </tr>\n",
       "    <tr>\n",
       "      <th>1</th>\n",
       "      <td>0.0MHz</td>\n",
       "      <td>10</td>\n",
       "      <td>내용 구성이나 연출, cg는 저예산 영화 정도의 수준이었지만 정은지가 연기를 잘한다</td>\n",
       "      <td>2019.05.29 10:58</td>\n",
       "      <td>2019 .05.29 개봉</td>\n",
       "      <td>naver</td>\n",
       "    </tr>\n",
       "    <tr>\n",
       "      <th>2</th>\n",
       "      <td>0.0MHz</td>\n",
       "      <td>2</td>\n",
       "      <td>상엽이 형은 어쩌다가 어릴때 죽었는지 다리 피흘리는 여고생 연관있을줄 알았는데 연관...</td>\n",
       "      <td>2019.05.29 20:15</td>\n",
       "      <td>2019 .05.29 개봉</td>\n",
       "      <td>naver</td>\n",
       "    </tr>\n",
       "    <tr>\n",
       "      <th>3</th>\n",
       "      <td>0.0MHz</td>\n",
       "      <td>10</td>\n",
       "      <td>정은지 연기 소름...</td>\n",
       "      <td>2019.05.29 12:21</td>\n",
       "      <td>2019 .05.29 개봉</td>\n",
       "      <td>naver</td>\n",
       "    </tr>\n",
       "    <tr>\n",
       "      <th>4</th>\n",
       "      <td>0.0MHz</td>\n",
       "      <td>6</td>\n",
       "      <td>일단 정은지는 완전 합격점. 최윤영도 좋았다. 여배우 둘 빼면 에휴...게다가 초반...</td>\n",
       "      <td>2019.05.29 11:34</td>\n",
       "      <td>2019 .05.29 개봉</td>\n",
       "      <td>naver</td>\n",
       "    </tr>\n",
       "    <tr>\n",
       "      <th>...</th>\n",
       "      <td>...</td>\n",
       "      <td>...</td>\n",
       "      <td>...</td>\n",
       "      <td>...</td>\n",
       "      <td>...</td>\n",
       "      <td>...</td>\n",
       "    </tr>\n",
       "    <tr>\n",
       "      <th>124667</th>\n",
       "      <td>힘을 내요, 미스터 리</td>\n",
       "      <td>1</td>\n",
       "      <td>배우 연기력은 좋으나 스토리가 망.</td>\n",
       "      <td>2019.09.15 10:59</td>\n",
       "      <td>2019 .09.11 개봉</td>\n",
       "      <td>naver</td>\n",
       "    </tr>\n",
       "    <tr>\n",
       "      <th>124668</th>\n",
       "      <td>힘을 내요, 미스터 리</td>\n",
       "      <td>5</td>\n",
       "      <td>진부한 신파 틀에박힌 코미디이번 엑시트의 성공을보고 배운게 없는걸까...</td>\n",
       "      <td>2019.09.14 12:05</td>\n",
       "      <td>2019 .09.11 개봉</td>\n",
       "      <td>naver</td>\n",
       "    </tr>\n",
       "    <tr>\n",
       "      <th>124669</th>\n",
       "      <td>힘을 내요, 미스터 리</td>\n",
       "      <td>6</td>\n",
       "      <td>딴 건 모르겠고, 음주운전이 별 거 아닌 것처럼 나온 서브 스토리에 어이가 없었다.</td>\n",
       "      <td>2019.09.13 20:49</td>\n",
       "      <td>2019 .09.11 개봉</td>\n",
       "      <td>naver</td>\n",
       "    </tr>\n",
       "    <tr>\n",
       "      <th>124670</th>\n",
       "      <td>힘을 내요, 미스터 리</td>\n",
       "      <td>9</td>\n",
       "      <td>이유있는 코미디알고 우는 신파</td>\n",
       "      <td>2019.09.13 08:20</td>\n",
       "      <td>2019 .09.11 개봉</td>\n",
       "      <td>naver</td>\n",
       "    </tr>\n",
       "    <tr>\n",
       "      <th>124671</th>\n",
       "      <td>힘을 내요, 미스터 리</td>\n",
       "      <td>10</td>\n",
       "      <td>잼있음 기대이상입니다</td>\n",
       "      <td>2019.09.12 23:31</td>\n",
       "      <td>2019 .09.11 개봉</td>\n",
       "      <td>naver</td>\n",
       "    </tr>\n",
       "  </tbody>\n",
       "</table>\n",
       "<p>124672 rows × 6 columns</p>\n",
       "</div>"
      ],
      "text/plain": [
       "               title score                                            content  \\\n",
       "0             0.0MHz     1  와 정말 무서운집 수준의 공포영화가 한국에 다시 나왔네요. 꼭 보러 가세요.착석하신...   \n",
       "1             0.0MHz    10     내용 구성이나 연출, cg는 저예산 영화 정도의 수준이었지만 정은지가 연기를 잘한다   \n",
       "2             0.0MHz     2  상엽이 형은 어쩌다가 어릴때 죽었는지 다리 피흘리는 여고생 연관있을줄 알았는데 연관...   \n",
       "3             0.0MHz    10                                       정은지 연기 소름...   \n",
       "4             0.0MHz     6  일단 정은지는 완전 합격점. 최윤영도 좋았다. 여배우 둘 빼면 에휴...게다가 초반...   \n",
       "...              ...   ...                                                ...   \n",
       "124667  힘을 내요, 미스터 리     1                                배우 연기력은 좋으나 스토리가 망.   \n",
       "124668  힘을 내요, 미스터 리     5           진부한 신파 틀에박힌 코미디이번 엑시트의 성공을보고 배운게 없는걸까...   \n",
       "124669  힘을 내요, 미스터 리     6     딴 건 모르겠고, 음주운전이 별 거 아닌 것처럼 나온 서브 스토리에 어이가 없었다.   \n",
       "124670  힘을 내요, 미스터 리     9                                   이유있는 코미디알고 우는 신파   \n",
       "124671  힘을 내요, 미스터 리    10                                        잼있음 기대이상입니다   \n",
       "\n",
       "              write_date    release_date source_site  \n",
       "0       2019.05.29 13:30  2019 .05.29 개봉       naver  \n",
       "1       2019.05.29 10:58  2019 .05.29 개봉       naver  \n",
       "2       2019.05.29 20:15  2019 .05.29 개봉       naver  \n",
       "3       2019.05.29 12:21  2019 .05.29 개봉       naver  \n",
       "4       2019.05.29 11:34  2019 .05.29 개봉       naver  \n",
       "...                  ...             ...         ...  \n",
       "124667  2019.09.15 10:59  2019 .09.11 개봉       naver  \n",
       "124668  2019.09.14 12:05  2019 .09.11 개봉       naver  \n",
       "124669  2019.09.13 20:49  2019 .09.11 개봉       naver  \n",
       "124670  2019.09.13 08:20  2019 .09.11 개봉       naver  \n",
       "124671  2019.09.12 23:31  2019 .09.11 개봉       naver  \n",
       "\n",
       "[124672 rows x 6 columns]"
      ]
     },
     "execution_count": 28,
     "metadata": {},
     "output_type": "execute_result"
    }
   ],
   "source": [
    "naver_review19"
   ]
  },
  {
   "cell_type": "code",
   "execution_count": 26,
   "id": "25404ca2",
   "metadata": {
    "ExecuteTime": {
     "end_time": "2021-10-08T08:11:52.154199Z",
     "start_time": "2021-10-08T08:11:52.140202Z"
    }
   },
   "outputs": [],
   "source": [
    "naver_review19['source_site'] = 'naver'"
   ]
  },
  {
   "cell_type": "code",
   "execution_count": 25,
   "id": "f60a8cd4",
   "metadata": {
    "ExecuteTime": {
     "end_time": "2021-10-08T08:09:43.365699Z",
     "start_time": "2021-10-08T08:09:39.376785Z"
    }
   },
   "outputs": [],
   "source": [
    "naver_review19 = pd.concat(result19).reset_index(drop=True)"
   ]
  },
  {
   "cell_type": "code",
   "execution_count": 27,
   "id": "0cd54493",
   "metadata": {
    "ExecuteTime": {
     "end_time": "2021-10-08T08:14:03.877582Z",
     "start_time": "2021-10-08T08:14:02.530172Z"
    }
   },
   "outputs": [],
   "source": [
    "naver_review19.to_csv('naver_review2019.csv',index=False)"
   ]
  },
  {
   "cell_type": "code",
   "execution_count": null,
   "id": "b19bcce0",
   "metadata": {},
   "outputs": [],
   "source": []
  },
  {
   "cell_type": "markdown",
   "id": "05f74cdc",
   "metadata": {},
   "source": [
    "---"
   ]
  },
  {
   "cell_type": "markdown",
   "id": "79238849",
   "metadata": {},
   "source": [
    "#### Test"
   ]
  },
  {
   "cell_type": "code",
   "execution_count": 49,
   "id": "5f5b5c2d",
   "metadata": {
    "ExecuteTime": {
     "end_time": "2021-10-06T06:56:11.855937Z",
     "start_time": "2021-10-06T06:54:06.128024Z"
    }
   },
   "outputs": [],
   "source": [
    "import pandas as pd\n",
    "# 크롬창(웹드라이버) 열기\n",
    "driver = webdriver.Chrome('C:/Users/sooyeon/Downloads/chromedriver.exe')\n",
    "\n",
    "# 2019 페이지 접속\n",
    "url = \"https://movie.naver.com/movie/sdb/browsing/bmovie.naver?open=2019&page=1\"\n",
    "driver.get(url)\n",
    "\n",
    "# 시간 지연\n",
    "time.sleep(2)\n",
    "\n",
    "# 영화 리스트 불러오기\n",
    "boxes = driver.find_elements_by_css_selector(\"#old_content > ul > li\")\n",
    "link = []\n",
    "for box in boxes:\n",
    "    link.append(box.find_element_by_css_selector('a').get_attribute('href'))\n",
    "    \n",
    "# 링크 한줄 씩 반복문\n",
    "# 한 페이지당 해당하는 영화는 20개\n",
    "\n",
    "result = []\n",
    "for i in range(0,20):\n",
    "    # i번째 링크 접속하기\n",
    "    driver.get(link[i])\n",
    "\n",
    "    # 시간 지연 \n",
    "    time.sleep(1)\n",
    "    \n",
    "    try:\n",
    "        driver.find_element_by_xpath('//*[@id=\"movieEndTabMenu\"]/li[5]/a').click()\n",
    "        # 제목\n",
    "        title= driver.find_element_by_css_selector(\"#content > div.article > div.mv_info_area > div.mv_info > h3 > a\").text\n",
    "        release_date = driver.find_element_by_css_selector('#content > div.article > div.mv_info_area > div.mv_info > dl > dd:nth-child(2) > p > span:nth-child(4)').text\n",
    "        driver.switch_to.frame(driver.find_elements_by_tag_name(\"iframe\")[4])\n",
    "        \n",
    "\n",
    "        for i in range(1,3):\n",
    "        # for i in range(1,11):\n",
    "            boxes = driver.find_elements_by_css_selector(\"body > div > div > div.score_result > ul > li\")\n",
    "\n",
    "            score = []\n",
    "            content= []\n",
    "            write_date = []\n",
    "            for box in boxes:\n",
    "                score.append(box.find_element_by_css_selector(\"div.star_score > em\").text)\n",
    "                content.append(box.find_element_by_css_selector(\"div.score_reple > p\").text)\n",
    "                write_date.append(box.find_element_by_css_selector(\"div.score_reple > dl > dt > em:nth-child(2)\").text)\n",
    "\n",
    "            df = pd.DataFrame({'title':title,'score':score,'content':content,'write_date':write_date,'release_date':release_date})\n",
    "            result.append(df)\n",
    "            driver.find_element_by_xpath('''//*[@id=\"pagerTagAnchor{}\"]'''.format(str(i))).click()\n",
    "\n",
    "    except NoSuchElementException:\n",
    "        continue\n",
    "    except IndexError:\n",
    "        continue"
   ]
  },
  {
   "cell_type": "code",
   "execution_count": 34,
   "id": "a5f792ef",
   "metadata": {
    "ExecuteTime": {
     "end_time": "2021-10-07T08:28:14.981595Z",
     "start_time": "2021-10-07T08:28:14.844566Z"
    },
    "scrolled": true
   },
   "outputs": [
    {
     "name": "stdout",
     "output_type": "stream",
     "text": [
      "<class 'pandas.core.frame.DataFrame'>\n",
      "RangeIndex: 26609 entries, 0 to 26608\n",
      "Data columns (total 5 columns):\n",
      " #   Column        Non-Null Count  Dtype \n",
      "---  ------        --------------  ----- \n",
      " 0   title         26609 non-null  object\n",
      " 1   score         26609 non-null  object\n",
      " 2   content       26609 non-null  object\n",
      " 3   write_date    26609 non-null  object\n",
      " 4   release_date  26609 non-null  object\n",
      "dtypes: object(5)\n",
      "memory usage: 1.0+ MB\n"
     ]
    }
   ],
   "source": [
    "tmp_review.info()"
   ]
  },
  {
   "cell_type": "code",
   "execution_count": 45,
   "id": "a9298ffd",
   "metadata": {
    "ExecuteTime": {
     "end_time": "2021-10-06T06:21:28.375306Z",
     "start_time": "2021-10-06T06:21:28.341280Z"
    },
    "scrolled": false
   },
   "outputs": [
    {
     "data": {
      "text/html": [
       "<div>\n",
       "<style scoped>\n",
       "    .dataframe tbody tr th:only-of-type {\n",
       "        vertical-align: middle;\n",
       "    }\n",
       "\n",
       "    .dataframe tbody tr th {\n",
       "        vertical-align: top;\n",
       "    }\n",
       "\n",
       "    .dataframe thead th {\n",
       "        text-align: right;\n",
       "    }\n",
       "</style>\n",
       "<table border=\"1\" class=\"dataframe\">\n",
       "  <thead>\n",
       "    <tr style=\"text-align: right;\">\n",
       "      <th></th>\n",
       "      <th>score</th>\n",
       "      <th>date</th>\n",
       "      <th>review</th>\n",
       "      <th>title</th>\n",
       "    </tr>\n",
       "  </thead>\n",
       "  <tbody>\n",
       "    <tr>\n",
       "      <th>0</th>\n",
       "      <td>9</td>\n",
       "      <td>2019.10.02 09:02</td>\n",
       "      <td>단순한 로맨스 영화가 아니다</td>\n",
       "      <td>가장 보통의 연애</td>\n",
       "    </tr>\n",
       "    <tr>\n",
       "      <th>1</th>\n",
       "      <td>10</td>\n",
       "      <td>2019.10.02 10:04</td>\n",
       "      <td>관람객 연애와 직장, 모든것에 공감하며 미친듯이 웃다가- 현실적인 대사들에 뼈 후려...</td>\n",
       "      <td>가장 보통의 연애</td>\n",
       "    </tr>\n",
       "    <tr>\n",
       "      <th>2</th>\n",
       "      <td>10</td>\n",
       "      <td>2019.10.02 10:58</td>\n",
       "      <td>관람객 소오올찍히 그냥 저냥한 로코물인줄 알았는데 왜 공효진이 로코장인이라고 불리는...</td>\n",
       "      <td>가장 보통의 연애</td>\n",
       "    </tr>\n",
       "    <tr>\n",
       "      <th>3</th>\n",
       "      <td>10</td>\n",
       "      <td>2019.10.02 09:27</td>\n",
       "      <td>재훈: \"남자랑 여자랑 같애?\" 선영: \"같지! 다르다고 배웠니 넌?\" ...</td>\n",
       "      <td>가장 보통의 연애</td>\n",
       "    </tr>\n",
       "    <tr>\n",
       "      <th>4</th>\n",
       "      <td>10</td>\n",
       "      <td>2019.10.02 10:40</td>\n",
       "      <td>2012년 건축학개론을 보며 내 10대시절의 첫사랑의 향기를 느꼈다면, 2019년 ...</td>\n",
       "      <td>가장 보통의 연애</td>\n",
       "    </tr>\n",
       "    <tr>\n",
       "      <th>5</th>\n",
       "      <td>1</td>\n",
       "      <td>2019.10.03 21:39</td>\n",
       "      <td>영화가 술 처먹다 끝나네요 ㅋㅋㅋ</td>\n",
       "      <td>가장 보통의 연애</td>\n",
       "    </tr>\n",
       "    <tr>\n",
       "      <th>6</th>\n",
       "      <td>10</td>\n",
       "      <td>2019.10.02 09:06</td>\n",
       "      <td>진짜 재밌어요.. 꼭보세요김래원 공효진 조합은 정말 최고 조연분들 연기도 최고!! ...</td>\n",
       "      <td>가장 보통의 연애</td>\n",
       "    </tr>\n",
       "    <tr>\n",
       "      <th>7</th>\n",
       "      <td>10</td>\n",
       "      <td>2019.10.02 09:44</td>\n",
       "      <td>관람객 공효진이랑 김래원 케미 미쳤다 ㅋㅋㅋㅋ 입모양게임하는거 보고 웃겨 죽을뻔 ㅠ...</td>\n",
       "      <td>가장 보통의 연애</td>\n",
       "    </tr>\n",
       "    <tr>\n",
       "      <th>8</th>\n",
       "      <td>2</td>\n",
       "      <td>2019.10.04 10:00</td>\n",
       "      <td>술로 시작해서 술로 끝나는 영화공감할수가 없었고 술을 안마시면 극복못하고, 술 마시...</td>\n",
       "      <td>가장 보통의 연애</td>\n",
       "    </tr>\n",
       "    <tr>\n",
       "      <th>9</th>\n",
       "      <td>1</td>\n",
       "      <td>2019.10.03 22:32</td>\n",
       "      <td>공감이 별로안되는 ...생각보다 별로였어요. 이게 무슨 주변에 있는 평범한 연애라는...</td>\n",
       "      <td>가장 보통의 연애</td>\n",
       "    </tr>\n",
       "  </tbody>\n",
       "</table>\n",
       "</div>"
      ],
      "text/plain": [
       "  score              date                                             review  \\\n",
       "0     9  2019.10.02 09:02                                    단순한 로맨스 영화가 아니다   \n",
       "1    10  2019.10.02 10:04  관람객 연애와 직장, 모든것에 공감하며 미친듯이 웃다가- 현실적인 대사들에 뼈 후려...   \n",
       "2    10  2019.10.02 10:58  관람객 소오올찍히 그냥 저냥한 로코물인줄 알았는데 왜 공효진이 로코장인이라고 불리는...   \n",
       "3    10  2019.10.02 09:27        재훈: \"남자랑 여자랑 같애?\" 선영: \"같지! 다르다고 배웠니 넌?\" ...   \n",
       "4    10  2019.10.02 10:40  2012년 건축학개론을 보며 내 10대시절의 첫사랑의 향기를 느꼈다면, 2019년 ...   \n",
       "5     1  2019.10.03 21:39                                 영화가 술 처먹다 끝나네요 ㅋㅋㅋ   \n",
       "6    10  2019.10.02 09:06  진짜 재밌어요.. 꼭보세요김래원 공효진 조합은 정말 최고 조연분들 연기도 최고!! ...   \n",
       "7    10  2019.10.02 09:44  관람객 공효진이랑 김래원 케미 미쳤다 ㅋㅋㅋㅋ 입모양게임하는거 보고 웃겨 죽을뻔 ㅠ...   \n",
       "8     2  2019.10.04 10:00  술로 시작해서 술로 끝나는 영화공감할수가 없었고 술을 안마시면 극복못하고, 술 마시...   \n",
       "9     1  2019.10.03 22:32  공감이 별로안되는 ...생각보다 별로였어요. 이게 무슨 주변에 있는 평범한 연애라는...   \n",
       "\n",
       "       title  \n",
       "0  가장 보통의 연애  \n",
       "1  가장 보통의 연애  \n",
       "2  가장 보통의 연애  \n",
       "3  가장 보통의 연애  \n",
       "4  가장 보통의 연애  \n",
       "5  가장 보통의 연애  \n",
       "6  가장 보통의 연애  \n",
       "7  가장 보통의 연애  \n",
       "8  가장 보통의 연애  \n",
       "9  가장 보통의 연애  "
      ]
     },
     "execution_count": 45,
     "metadata": {},
     "output_type": "execute_result"
    }
   ],
   "source": [
    "df"
   ]
  }
 ],
 "metadata": {
  "hide_input": false,
  "kernelspec": {
   "display_name": "Python 3",
   "language": "python",
   "name": "python3"
  },
  "language_info": {
   "codemirror_mode": {
    "name": "ipython",
    "version": 3
   },
   "file_extension": ".py",
   "mimetype": "text/x-python",
   "name": "python",
   "nbconvert_exporter": "python",
   "pygments_lexer": "ipython3",
   "version": "3.8.8"
  },
  "toc": {
   "base_numbering": 1,
   "nav_menu": {},
   "number_sections": true,
   "sideBar": true,
   "skip_h1_title": false,
   "title_cell": "Table of Contents",
   "title_sidebar": "Contents",
   "toc_cell": false,
   "toc_position": {},
   "toc_section_display": true,
   "toc_window_display": false
  },
  "varInspector": {
   "cols": {
    "lenName": 16,
    "lenType": 16,
    "lenVar": 40
   },
   "kernels_config": {
    "python": {
     "delete_cmd_postfix": "",
     "delete_cmd_prefix": "del ",
     "library": "var_list.py",
     "varRefreshCmd": "print(var_dic_list())"
    },
    "r": {
     "delete_cmd_postfix": ") ",
     "delete_cmd_prefix": "rm(",
     "library": "var_list.r",
     "varRefreshCmd": "cat(var_dic_list()) "
    }
   },
   "types_to_exclude": [
    "module",
    "function",
    "builtin_function_or_method",
    "instance",
    "_Feature"
   ],
   "window_display": false
  }
 },
 "nbformat": 4,
 "nbformat_minor": 5
}
