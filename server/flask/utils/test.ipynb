{
 "cells": [
  {
   "cell_type": "code",
   "execution_count": 8,
   "metadata": {},
   "outputs": [],
   "source": [
    "from pymongo import MongoClient\n",
    "client = MongoClient('mongodb://kdt-vm-0202007.koreacentral.cloudapp.azure.com:21/')\n",
    "mongodb = client.simsimhash"
   ]
  },
  {
   "cell_type": "code",
   "execution_count": 1,
   "metadata": {},
   "outputs": [],
   "source": [
    "import pandas as pd\n",
    "d = pd.read_csv('./data/total/Daum_review_192021.csv')"
   ]
  },
  {
   "cell_type": "code",
   "execution_count": 5,
   "metadata": {},
   "outputs": [],
   "source": [
    "meta = pd.read_csv('./data/review/meta192021.csv')"
   ]
  },
  {
   "cell_type": "code",
   "execution_count": 14,
   "metadata": {},
   "outputs": [
    {
     "data": {
      "text/plain": [
       "1799            정글 크루즈\n",
       "1851    크루즈 패밀리: 뉴 에이지\n",
       "Name: title, dtype: object"
      ]
     },
     "execution_count": 14,
     "metadata": {},
     "output_type": "execute_result"
    }
   ],
   "source": [
    "meta['title'][meta['title'].str.contains('크루즈')]"
   ]
  },
  {
   "cell_type": "code",
   "execution_count": 6,
   "metadata": {},
   "outputs": [
    {
     "data": {
      "text/plain": [
       "모가디슈                                  1203\n",
       "미나리                                    701\n",
       "원더 우먼 1984                             694\n",
       "서복                                     664\n",
       "극장판 귀멸의 칼날: 무한열차편                      641\n",
       "                                      ... \n",
       "이스케이프 룸 2: 노 웨이 아웃                      63\n",
       "톰과 제리                                   52\n",
       "크루즈 패밀리: 뉴 에이지                          36\n",
       "극장판 짱구는 못말려: 격돌! 낙서왕국과 얼추 네 명의 용사들      19\n",
       "극장판 포켓몬스터: 정글의 아이, 코코                   16\n",
       "Name: title, Length: 92, dtype: int64"
      ]
     },
     "execution_count": 6,
     "metadata": {},
     "output_type": "execute_result"
    }
   ],
   "source": [
    "d['title'].value_counts()"
   ]
  },
  {
   "cell_type": "code",
   "execution_count": 7,
   "metadata": {},
   "outputs": [],
   "source": [
    "def convert_release_date(release_date):\n",
    "    \n",
    "    '''\n",
    "    '2021 .09.09 재개봉, 2020 .05.21 재개봉, 2019 .10.30 개봉'으로 써진 개봉일의\n",
    "    개행문자, 한글, 특수문자를 지우고 년, 월, 일로 나눈 뒤에\n",
    "    date format으로 변환시켜줌\n",
    "    '''\n",
    "    release_date = release_date.split(',')[-1]\n",
    "    release_date = release_date.replace(\" \",'').replace('개봉','').split('.')\n",
    "    \n",
    "    if len(release_date) == 1: # 개봉년, 월만 있는 경우\n",
    "        year = int(release_date[0])\n",
    "        month = 1\n",
    "        day = 1\n",
    "\n",
    "    elif len(release_date) == 2: # 개봉년, 월만 있는 경우\n",
    "        year, month = map(int,release_date)\n",
    "        day = 1\n",
    "\n",
    "    else:\n",
    "        year, month, day = map(int,release_date)\n",
    "        \n",
    "    release_date = date(year, month, day).isoformat()\n",
    "    return release_date"
   ]
  },
  {
   "cell_type": "code",
   "execution_count": 8,
   "metadata": {},
   "outputs": [],
   "source": [
    "def convert_datetime(dt):\n",
    "    from datetime import datetime\n",
    "    date, time = dt.split()\n",
    "    year, month, day = map(int,date.split('.'))\n",
    "    hour, minute = map(int, time.split(':'))\n",
    "\n",
    "    return datetime(year=year, month=month, day=day, hour=hour, minute=minute).isoformat()"
   ]
  },
  {
   "cell_type": "code",
   "execution_count": 9,
   "metadata": {},
   "outputs": [],
   "source": [
    "def c(x):\n",
    "    x.split()\n",
    "    "
   ]
  },
  {
   "cell_type": "code",
   "execution_count": 10,
   "metadata": {},
   "outputs": [
    {
     "ename": "NameError",
     "evalue": "name 'w' is not defined",
     "output_type": "error",
     "traceback": [
      "\u001b[0;31m---------------------------------------------------------------------------\u001b[0m",
      "\u001b[0;31mNameError\u001b[0m                                 Traceback (most recent call last)",
      "\u001b[0;32m/tmp/ipykernel_20212/1453175187.py\u001b[0m in \u001b[0;36m<module>\u001b[0;34m\u001b[0m\n\u001b[0;32m----> 1\u001b[0;31m \u001b[0;32mfor\u001b[0m \u001b[0mi\u001b[0m \u001b[0;32min\u001b[0m \u001b[0mrange\u001b[0m\u001b[0;34m(\u001b[0m\u001b[0mlen\u001b[0m\u001b[0;34m(\u001b[0m\u001b[0mw\u001b[0m\u001b[0;34m)\u001b[0m\u001b[0;34m)\u001b[0m\u001b[0;34m:\u001b[0m\u001b[0;34m\u001b[0m\u001b[0;34m\u001b[0m\u001b[0m\n\u001b[0m\u001b[1;32m      2\u001b[0m     \u001b[0mdt\u001b[0m \u001b[0;34m=\u001b[0m \u001b[0mw\u001b[0m\u001b[0;34m.\u001b[0m\u001b[0mloc\u001b[0m\u001b[0;34m[\u001b[0m\u001b[0mi\u001b[0m\u001b[0;34m,\u001b[0m\u001b[0;34m'write_date'\u001b[0m\u001b[0;34m]\u001b[0m\u001b[0;34m\u001b[0m\u001b[0;34m\u001b[0m\u001b[0m\n",
      "\u001b[0;31mNameError\u001b[0m: name 'w' is not defined"
     ]
    }
   ],
   "source": [
    "for i in range(len(w)):\n",
    "    dt = w.loc[i,'write_date']"
   ]
  },
  {
   "cell_type": "code",
   "execution_count": null,
   "id": "146e110a",
   "metadata": {
    "ExecuteTime": {
     "end_time": "2021-10-12T17:04:47.843632Z",
     "start_time": "2021-10-12T17:04:47.758599Z"
    }
   },
   "outputs": [
    {
     "data": {
      "text/plain": [
       "0"
      ]
     },
     "execution_count": 24,
     "metadata": {},
     "output_type": "execute_result"
    }
   ],
   "source": [
    "(w['write_date'].isnull()==False).sum()"
   ]
  },
  {
   "cell_type": "code",
   "execution_count": null,
   "metadata": {},
   "outputs": [],
   "source": [
    "w['write_date'] = w['write_date'].fillna('none')"
   ]
  },
  {
   "cell_type": "code",
   "execution_count": null,
   "metadata": {},
   "outputs": [],
   "source": [
    "def convert_release_date(release_date):\n",
    "    \n",
    "    '''\n",
    "    '2021 .09.09 재개봉, 2020 .05.21 재개봉, 2019 .10.30 개봉'으로 써진 개봉일의\n",
    "    개행문자, 한글, 특수문자를 지우고 년, 월, 일로 나눈 뒤에\n",
    "    date format으로 변환시켜줌\n",
    "    '''\n",
    "    release_date = release_date.split(',')[-1]\n",
    "    release_date = release_date.replace(\" \",'').replace('개봉','').split('.')\n",
    "    \n",
    "    if len(release_date) == 1: # 개봉년, 월만 있는 경우\n",
    "        year = int(release_date[0])\n",
    "        month = 1\n",
    "        day = 1\n",
    "\n",
    "    elif len(release_date) == 2: # 개봉년, 월만 있는 경우\n",
    "        year, month = map(int,release_date)\n",
    "        day = 1\n",
    "\n",
    "    else:\n",
    "        year, month, day = map(int,release_date)\n",
    "        \n",
    "    release_date = date(year, month, day).isoformat()\n",
    "    return release_date\n",
    "\n",
    "\n",
    "def convert_datetime(dt):\n",
    "    \n",
    "    if dt=='none' or \"시간\" in dt:\n",
    "        return None\n",
    "    \n",
    "    date, time = dt.split()\n",
    "    year, month, day = map(int,date.split('.'))\n",
    "    hour, minute = map(int, time.split(':'))\n",
    "\n",
    "    return datetime(year=year, month=month, day=day, hour=hour, minute=minute).isoformat()\n",
    "\n",
    "def get_movie_id(title, date):\n",
    "    '''\n",
    "    title과 개봉일을 기준으로 Movie_id를 가져옴\n",
    "    '''\n",
    "    movie = session.query(Movie).filter(Movie.title == title and Movie.release_date == date).one_or_none()\n",
    "\n",
    "    if movie == None:\n",
    "        movie_id = -1\n",
    "        print(title)\n",
    "        \n",
    "    else:\n",
    "        movie_id = movie.id\n",
    "\n",
    "    return movie_id"
   ]
  },
  {
   "cell_type": "code",
   "execution_count": null,
   "metadata": {},
   "outputs": [],
   "source": [
    "errors = []\n",
    "for i in range(len(n)):\n",
    "    w = n.loc[i,'write_date']\n",
    "    try:\n",
    "        year, month, day, time = w.replace('.','').split()\n",
    "    except:\n",
    "        if '시간' in w:\n",
    "            pass\n",
    "        else:\n",
    "            errors.append(i)"
   ]
  },
  {
   "cell_type": "code",
   "execution_count": null,
   "metadata": {},
   "outputs": [
    {
     "data": {
      "text/plain": [
       "['2020', '09', '27', '23:39']"
      ]
     },
     "execution_count": 87,
     "metadata": {},
     "output_type": "execute_result"
    }
   ],
   "source": [
    "w = d.loc[errors[0],'write_date']\n",
    "w.replace(' ','').split('.')"
   ]
  },
  {
   "cell_type": "code",
   "execution_count": null,
   "metadata": {},
   "outputs": [
    {
     "data": {
      "text/plain": [
       "['2019', '05', '29 13:30']"
      ]
     },
     "execution_count": 89,
     "metadata": {},
     "output_type": "execute_result"
    }
   ],
   "source": [
    "w = n.loc[errors[0],'write_date']\n",
    "w.split('.')"
   ]
  },
  {
   "cell_type": "code",
   "execution_count": null,
   "metadata": {},
   "outputs": [
    {
     "data": {
      "text/plain": [
       "['2020', '09', '27', '23:39']"
      ]
     },
     "execution_count": 94,
     "metadata": {},
     "output_type": "execute_result"
    }
   ],
   "source": [
    "d.loc[0,'write_date'].replace('.','').split()"
   ]
  },
  {
   "cell_type": "code",
   "execution_count": null,
   "metadata": {},
   "outputs": [],
   "source": [
    "date_, time = n.loc[0,'write_date'].split()"
   ]
  },
  {
   "cell_type": "code",
   "execution_count": null,
   "metadata": {},
   "outputs": [],
   "source": [
    "year, month, day = map(int, date_.split('.'))"
   ]
  },
  {
   "cell_type": "code",
   "execution_count": null,
   "metadata": {},
   "outputs": [
    {
     "data": {
      "text/plain": [
       "29"
      ]
     },
     "execution_count": 102,
     "metadata": {},
     "output_type": "execute_result"
    }
   ],
   "source": [
    "day"
   ]
  },
  {
   "cell_type": "code",
   "execution_count": null,
   "metadata": {},
   "outputs": [],
   "source": [
    "year, month, day = map(int, [year, month, day])"
   ]
  },
  {
   "cell_type": "code",
   "execution_count": null,
   "metadata": {},
   "outputs": [],
   "source": [
    "hour, minute = map(int, time.split(':'))"
   ]
  },
  {
   "cell_type": "code",
   "execution_count": null,
   "metadata": {},
   "outputs": [
    {
     "data": {
      "text/plain": [
       "39"
      ]
     },
     "execution_count": 64,
     "metadata": {},
     "output_type": "execute_result"
    }
   ],
   "source": [
    "minute"
   ]
  }
 ],
 "metadata": {
  "interpreter": {
   "hash": "31f2aee4e71d21fbe5cf8b01ff0e069b9275f58929596ceb00d14d90e3e16cd6"
  },
  "kernelspec": {
   "display_name": "Python 3.8.10 64-bit",
   "name": "python3"
  },
  "language_info": {
   "codemirror_mode": {
    "name": "ipython",
    "version": 3
   },
   "file_extension": ".py",
   "mimetype": "text/x-python",
   "name": "python",
   "nbconvert_exporter": "python",
   "pygments_lexer": "ipython3",
   "version": "3.8.10"
  },
  "orig_nbformat": 4
 },
 "nbformat": 4,
 "nbformat_minor": 2
}
