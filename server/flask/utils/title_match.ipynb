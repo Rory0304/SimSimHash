{
 "cells": [
  {
   "cell_type": "code",
   "execution_count": 94,
   "id": "992d3b02",
   "metadata": {
    "ExecuteTime": {
     "end_time": "2021-10-15T13:28:58.908078Z",
     "start_time": "2021-10-15T13:28:58.891079Z"
    }
   },
   "outputs": [],
   "source": [
    "import pandas as pd"
   ]
  },
  {
   "cell_type": "code",
   "execution_count": 33,
   "id": "e45f530f",
   "metadata": {
    "ExecuteTime": {
     "end_time": "2021-10-15T11:24:01.408315Z",
     "start_time": "2021-10-15T11:24:01.370751Z"
    }
   },
   "outputs": [],
   "source": [
    "naver2021 = pd.read_csv('naver_movie2021.csv')"
   ]
  },
  {
   "cell_type": "code",
   "execution_count": 36,
   "id": "85d8252b",
   "metadata": {
    "ExecuteTime": {
     "end_time": "2021-10-15T11:25:24.328288Z",
     "start_time": "2021-10-15T11:25:24.260444Z"
    }
   },
   "outputs": [],
   "source": [
    "naver2020 = pd.read_csv('naver_movie2020.csv')"
   ]
  },
  {
   "cell_type": "code",
   "execution_count": 37,
   "id": "5e6fd871",
   "metadata": {
    "ExecuteTime": {
     "end_time": "2021-10-15T11:25:25.051003Z",
     "start_time": "2021-10-15T11:25:24.994985Z"
    }
   },
   "outputs": [],
   "source": [
    "naver2019 = pd.read_csv('naver_movie2019.csv')"
   ]
  },
  {
   "cell_type": "code",
   "execution_count": 95,
   "id": "8083cf01",
   "metadata": {
    "ExecuteTime": {
     "end_time": "2021-10-15T13:29:03.680992Z",
     "start_time": "2021-10-15T13:29:00.880700Z"
    }
   },
   "outputs": [],
   "source": [
    "movie_n = pd.read_csv('naver_movie_192021.csv')"
   ]
  },
  {
   "cell_type": "code",
   "execution_count": 96,
   "id": "9be3f0c4",
   "metadata": {
    "ExecuteTime": {
     "end_time": "2021-10-15T13:29:04.012890Z",
     "start_time": "2021-10-15T13:29:03.730895Z"
    }
   },
   "outputs": [],
   "source": [
    "daum = pd.read_csv('daumreview192021.csv')"
   ]
  },
  {
   "cell_type": "code",
   "execution_count": 90,
   "id": "e5318261",
   "metadata": {
    "ExecuteTime": {
     "end_time": "2021-10-15T13:09:39.082606Z",
     "start_time": "2021-10-15T13:09:39.005595Z"
    }
   },
   "outputs": [
    {
     "name": "stdout",
     "output_type": "stream",
     "text": [
      "<class 'pandas.core.frame.DataFrame'>\n",
      "RangeIndex: 49126 entries, 0 to 49125\n",
      "Data columns (total 6 columns):\n",
      " #   Column        Non-Null Count  Dtype \n",
      "---  ------        --------------  ----- \n",
      " 0   title         49126 non-null  object\n",
      " 1   score         49126 non-null  int64 \n",
      " 2   content       49126 non-null  object\n",
      " 3   write_date    49126 non-null  object\n",
      " 4   release_date  6982 non-null   object\n",
      " 5   source_site   49126 non-null  object\n",
      "dtypes: int64(1), object(5)\n",
      "memory usage: 2.2+ MB\n"
     ]
    }
   ],
   "source": [
    "daum.info()"
   ]
  },
  {
   "cell_type": "code",
   "execution_count": 77,
   "id": "515da381",
   "metadata": {
    "ExecuteTime": {
     "end_time": "2021-10-15T11:42:01.950915Z",
     "start_time": "2021-10-15T11:42:01.866737Z"
    }
   },
   "outputs": [
    {
     "data": {
      "text/html": [
       "<div>\n",
       "<style scoped>\n",
       "    .dataframe tbody tr th:only-of-type {\n",
       "        vertical-align: middle;\n",
       "    }\n",
       "\n",
       "    .dataframe tbody tr th {\n",
       "        vertical-align: top;\n",
       "    }\n",
       "\n",
       "    .dataframe thead th {\n",
       "        text-align: right;\n",
       "    }\n",
       "</style>\n",
       "<table border=\"1\" class=\"dataframe\">\n",
       "  <thead>\n",
       "    <tr style=\"text-align: right;\">\n",
       "      <th></th>\n",
       "      <th>title</th>\n",
       "      <th>score</th>\n",
       "      <th>content</th>\n",
       "      <th>write_date</th>\n",
       "      <th>release_date</th>\n",
       "      <th>source_site</th>\n",
       "    </tr>\n",
       "  </thead>\n",
       "  <tbody>\n",
       "    <tr>\n",
       "      <th>0</th>\n",
       "      <td>모가디슈</td>\n",
       "      <td>9</td>\n",
       "      <td>개인적으로 오랜만에 잘 만들어진  한국영화를 본 기분이 들어서 좋았습니다. 가장 돋...</td>\n",
       "      <td>2021. 07. 28. 15:20</td>\n",
       "      <td>NaN</td>\n",
       "      <td>daum</td>\n",
       "    </tr>\n",
       "    <tr>\n",
       "      <th>2</th>\n",
       "      <td>모가디슈</td>\n",
       "      <td>10</td>\n",
       "      <td>어제 밤에 극장에서 보면서 다른 걸 떠나서 다시 한번 '이게 가능해?'라는 생각이 ...</td>\n",
       "      <td>2021. 07. 29. 10:43</td>\n",
       "      <td>NaN</td>\n",
       "      <td>daum</td>\n",
       "    </tr>\n",
       "    <tr>\n",
       "      <th>4</th>\n",
       "      <td>모가디슈</td>\n",
       "      <td>10</td>\n",
       "      <td>딱히 좋아하는 배우는 안나오지만 류감독님 영화라 믿고 봤어요보고나서 김윤석 배우님 ...</td>\n",
       "      <td>2021. 07. 29. 11:30</td>\n",
       "      <td>NaN</td>\n",
       "      <td>daum</td>\n",
       "    </tr>\n",
       "    <tr>\n",
       "      <th>6</th>\n",
       "      <td>모가디슈</td>\n",
       "      <td>10</td>\n",
       "      <td>오늘 조조로 보고 왔는데 영화 잘 만들었어오. 시종일관 긴장감을 잘 이끌어가고  마...</td>\n",
       "      <td>2021. 07. 28. 21:15</td>\n",
       "      <td>NaN</td>\n",
       "      <td>daum</td>\n",
       "    </tr>\n",
       "    <tr>\n",
       "      <th>8</th>\n",
       "      <td>모가디슈</td>\n",
       "      <td>10</td>\n",
       "      <td>오늘 아이맥스에서 봤습니다. 정말 마지막 장면에 와이프하고 같이 울컥했습니다.  1...</td>\n",
       "      <td>2021. 07. 28. 22:33</td>\n",
       "      <td>NaN</td>\n",
       "      <td>daum</td>\n",
       "    </tr>\n",
       "  </tbody>\n",
       "</table>\n",
       "</div>"
      ],
      "text/plain": [
       "  title  score                                            content  \\\n",
       "0  모가디슈      9  개인적으로 오랜만에 잘 만들어진  한국영화를 본 기분이 들어서 좋았습니다. 가장 돋...   \n",
       "2  모가디슈     10  어제 밤에 극장에서 보면서 다른 걸 떠나서 다시 한번 '이게 가능해?'라는 생각이 ...   \n",
       "4  모가디슈     10  딱히 좋아하는 배우는 안나오지만 류감독님 영화라 믿고 봤어요보고나서 김윤석 배우님 ...   \n",
       "6  모가디슈     10  오늘 조조로 보고 왔는데 영화 잘 만들었어오. 시종일관 긴장감을 잘 이끌어가고  마...   \n",
       "8  모가디슈     10  오늘 아이맥스에서 봤습니다. 정말 마지막 장면에 와이프하고 같이 울컥했습니다.  1...   \n",
       "\n",
       "            write_date release_date source_site  \n",
       "0  2021. 07. 28. 15:20          NaN        daum  \n",
       "2  2021. 07. 29. 10:43          NaN        daum  \n",
       "4  2021. 07. 29. 11:30          NaN        daum  \n",
       "6  2021. 07. 28. 21:15          NaN        daum  \n",
       "8  2021. 07. 28. 22:33          NaN        daum  "
      ]
     },
     "execution_count": 77,
     "metadata": {},
     "output_type": "execute_result"
    }
   ],
   "source": [
    "daum.drop_duplicates().head()"
   ]
  },
  {
   "cell_type": "code",
   "execution_count": 74,
   "id": "3f05c306",
   "metadata": {
    "ExecuteTime": {
     "end_time": "2021-10-15T11:41:23.783397Z",
     "start_time": "2021-10-15T11:41:23.757432Z"
    },
    "scrolled": true
   },
   "outputs": [
    {
     "data": {
      "text/html": [
       "<div>\n",
       "<style scoped>\n",
       "    .dataframe tbody tr th:only-of-type {\n",
       "        vertical-align: middle;\n",
       "    }\n",
       "\n",
       "    .dataframe tbody tr th {\n",
       "        vertical-align: top;\n",
       "    }\n",
       "\n",
       "    .dataframe thead th {\n",
       "        text-align: right;\n",
       "    }\n",
       "</style>\n",
       "<table border=\"1\" class=\"dataframe\">\n",
       "  <thead>\n",
       "    <tr style=\"text-align: right;\">\n",
       "      <th></th>\n",
       "      <th>title</th>\n",
       "      <th>genre</th>\n",
       "      <th>nation</th>\n",
       "      <th>running_time</th>\n",
       "      <th>release_date</th>\n",
       "      <th>director</th>\n",
       "      <th>actor</th>\n",
       "      <th>grade</th>\n",
       "      <th>summary</th>\n",
       "      <th>poster</th>\n",
       "      <th>score</th>\n",
       "      <th>content</th>\n",
       "      <th>write_date</th>\n",
       "      <th>source_site</th>\n",
       "    </tr>\n",
       "  </thead>\n",
       "  <tbody>\n",
       "    <tr>\n",
       "      <th>0</th>\n",
       "      <td>0.0MHz</td>\n",
       "      <td>공포</td>\n",
       "      <td>한국</td>\n",
       "      <td>102분</td>\n",
       "      <td>2019 .05.29 개봉</td>\n",
       "      <td>유선동</td>\n",
       "      <td>정은지(소희), 이성열(상엽), 최윤영(윤정)</td>\n",
       "      <td>15세 관람가</td>\n",
       "      <td>에디슨의 마지막 발명품, 유령 탐지기?\\n “증명할 수 없는 미스터리란 없다”\\n ...</td>\n",
       "      <td>https://movie-phinf.pstatic.net/20190517_285/1...</td>\n",
       "      <td>1</td>\n",
       "      <td>와 정말 무서운집 수준의 공포영화가 한국에 다시 나왔네요. 꼭 보러 가세요.착석하신...</td>\n",
       "      <td>2019.05.29 13:30</td>\n",
       "      <td>naver</td>\n",
       "    </tr>\n",
       "  </tbody>\n",
       "</table>\n",
       "</div>"
      ],
      "text/plain": [
       "    title genre nation running_time    release_date director  \\\n",
       "0  0.0MHz    공포     한국         102분  2019 .05.29 개봉      유선동   \n",
       "\n",
       "                       actor    grade  \\\n",
       "0  정은지(소희), 이성열(상엽), 최윤영(윤정)  15세 관람가   \n",
       "\n",
       "                                             summary  \\\n",
       "0  에디슨의 마지막 발명품, 유령 탐지기?\\n “증명할 수 없는 미스터리란 없다”\\n ...   \n",
       "\n",
       "                                              poster  score  \\\n",
       "0  https://movie-phinf.pstatic.net/20190517_285/1...      1   \n",
       "\n",
       "                                             content        write_date  \\\n",
       "0  와 정말 무서운집 수준의 공포영화가 한국에 다시 나왔네요. 꼭 보러 가세요.착석하신...  2019.05.29 13:30   \n",
       "\n",
       "  source_site  \n",
       "0       naver  "
      ]
     },
     "execution_count": 74,
     "metadata": {},
     "output_type": "execute_result"
    }
   ],
   "source": [
    "movie_n.head(1)"
   ]
  },
  {
   "cell_type": "code",
   "execution_count": 97,
   "id": "d793c0a5",
   "metadata": {
    "ExecuteTime": {
     "end_time": "2021-10-15T13:29:12.581118Z",
     "start_time": "2021-10-15T13:29:12.538986Z"
    }
   },
   "outputs": [],
   "source": [
    "nn= movie_n['title'].unique().tolist()"
   ]
  },
  {
   "cell_type": "code",
   "execution_count": 73,
   "id": "c1b24718",
   "metadata": {
    "ExecuteTime": {
     "end_time": "2021-10-15T11:40:06.286487Z",
     "start_time": "2021-10-15T11:40:06.279493Z"
    }
   },
   "outputs": [
    {
     "data": {
      "text/plain": [
       "['0.0MHz',\n",
       " '1 더하기 3',\n",
       " '10 미니츠 곤',\n",
       " '100일 동안 100가지로 100퍼센트 행복찾기',\n",
       " '10년',\n",
       " '12번째 솔저',\n",
       " '13년의 공백',\n",
       " '1919 유관순',\n",
       " '47미터 2',\n",
       " '6솔져스']"
      ]
     },
     "execution_count": 73,
     "metadata": {},
     "output_type": "execute_result"
    }
   ],
   "source": [
    "nn[:10]"
   ]
  },
  {
   "cell_type": "code",
   "execution_count": 20,
   "id": "5202e87a",
   "metadata": {
    "ExecuteTime": {
     "end_time": "2021-10-15T11:10:13.001255Z",
     "start_time": "2021-10-15T11:10:12.993286Z"
    }
   },
   "outputs": [
    {
     "data": {
      "text/plain": [
       "1639"
      ]
     },
     "execution_count": 20,
     "metadata": {},
     "output_type": "execute_result"
    }
   ],
   "source": [
    "len(nn)"
   ]
  },
  {
   "cell_type": "markdown",
   "id": "68b0ec9f",
   "metadata": {},
   "source": [
    "---"
   ]
  },
  {
   "cell_type": "markdown",
   "id": "d752d444",
   "metadata": {},
   "source": [
    "## 네이버 영화제목 다음 영화제목 to_dict"
   ]
  },
  {
   "cell_type": "markdown",
   "id": "6da45647",
   "metadata": {},
   "source": [
    "### 네이버 제목"
   ]
  },
  {
   "cell_type": "code",
   "execution_count": 104,
   "id": "631f44b5",
   "metadata": {
    "ExecuteTime": {
     "end_time": "2021-10-15T13:33:01.502782Z",
     "start_time": "2021-10-15T13:33:01.439738Z"
    }
   },
   "outputs": [],
   "source": [
    "meta = pd.read_csv('meta192021.csv')"
   ]
  },
  {
   "cell_type": "code",
   "execution_count": 105,
   "id": "a956b07e",
   "metadata": {
    "ExecuteTime": {
     "end_time": "2021-10-15T13:33:06.911867Z",
     "start_time": "2021-10-15T13:33:06.900119Z"
    }
   },
   "outputs": [],
   "source": [
    "n_title = pd.DataFrame(meta['title'])"
   ]
  },
  {
   "cell_type": "code",
   "execution_count": 106,
   "id": "bafed11d",
   "metadata": {
    "ExecuteTime": {
     "end_time": "2021-10-15T13:33:08.530974Z",
     "start_time": "2021-10-15T13:33:08.523972Z"
    }
   },
   "outputs": [],
   "source": [
    "n_title = n_title.drop_duplicates().reset_index(drop=True)"
   ]
  },
  {
   "cell_type": "code",
   "execution_count": 107,
   "id": "d9c3fdf6",
   "metadata": {
    "ExecuteTime": {
     "end_time": "2021-10-15T13:33:14.108820Z",
     "start_time": "2021-10-15T13:33:14.093790Z"
    },
    "scrolled": false
   },
   "outputs": [
    {
     "data": {
      "text/html": [
       "<div>\n",
       "<style scoped>\n",
       "    .dataframe tbody tr th:only-of-type {\n",
       "        vertical-align: middle;\n",
       "    }\n",
       "\n",
       "    .dataframe tbody tr th {\n",
       "        vertical-align: top;\n",
       "    }\n",
       "\n",
       "    .dataframe thead th {\n",
       "        text-align: right;\n",
       "    }\n",
       "</style>\n",
       "<table border=\"1\" class=\"dataframe\">\n",
       "  <thead>\n",
       "    <tr style=\"text-align: right;\">\n",
       "      <th></th>\n",
       "      <th>title</th>\n",
       "    </tr>\n",
       "  </thead>\n",
       "  <tbody>\n",
       "    <tr>\n",
       "      <th>0</th>\n",
       "      <td>0.0MHz</td>\n",
       "    </tr>\n",
       "    <tr>\n",
       "      <th>1</th>\n",
       "      <td>1 더하기 3</td>\n",
       "    </tr>\n",
       "    <tr>\n",
       "      <th>2</th>\n",
       "      <td>10 미니츠 곤</td>\n",
       "    </tr>\n",
       "    <tr>\n",
       "      <th>3</th>\n",
       "      <td>100일 동안 100가지로 100퍼센트 행복찾기</td>\n",
       "    </tr>\n",
       "    <tr>\n",
       "      <th>4</th>\n",
       "      <td>10년</td>\n",
       "    </tr>\n",
       "    <tr>\n",
       "      <th>...</th>\n",
       "      <td>...</td>\n",
       "    </tr>\n",
       "    <tr>\n",
       "      <th>1908</th>\n",
       "      <td>해변의 에트랑제</td>\n",
       "    </tr>\n",
       "    <tr>\n",
       "      <th>1909</th>\n",
       "      <td>헬렌: 내 영혼의 자화상</td>\n",
       "    </tr>\n",
       "    <tr>\n",
       "      <th>1910</th>\n",
       "      <td>호라이즌 라인</td>\n",
       "    </tr>\n",
       "    <tr>\n",
       "      <th>1911</th>\n",
       "      <td>호스트: 접속금지</td>\n",
       "    </tr>\n",
       "    <tr>\n",
       "      <th>1912</th>\n",
       "      <td>혼자 사는 사람들</td>\n",
       "    </tr>\n",
       "  </tbody>\n",
       "</table>\n",
       "<p>1913 rows × 1 columns</p>\n",
       "</div>"
      ],
      "text/plain": [
       "                           title\n",
       "0                         0.0MHz\n",
       "1                        1 더하기 3\n",
       "2                       10 미니츠 곤\n",
       "3     100일 동안 100가지로 100퍼센트 행복찾기\n",
       "4                            10년\n",
       "...                          ...\n",
       "1908                    해변의 에트랑제\n",
       "1909               헬렌: 내 영혼의 자화상\n",
       "1910                     호라이즌 라인\n",
       "1911                   호스트: 접속금지\n",
       "1912                   혼자 사는 사람들\n",
       "\n",
       "[1913 rows x 1 columns]"
      ]
     },
     "execution_count": 107,
     "metadata": {},
     "output_type": "execute_result"
    }
   ],
   "source": [
    "n_title"
   ]
  },
  {
   "cell_type": "markdown",
   "id": "0ded1754",
   "metadata": {},
   "source": [
    "### 다음 제목"
   ]
  },
  {
   "cell_type": "code",
   "execution_count": 108,
   "id": "840cd2e7",
   "metadata": {
    "ExecuteTime": {
     "end_time": "2021-10-15T13:34:00.392954Z",
     "start_time": "2021-10-15T13:34:00.381918Z"
    }
   },
   "outputs": [],
   "source": [
    "d_title = pd.DataFrame(daum['title'])"
   ]
  },
  {
   "cell_type": "code",
   "execution_count": 109,
   "id": "6ad293d4",
   "metadata": {
    "ExecuteTime": {
     "end_time": "2021-10-15T13:34:10.964926Z",
     "start_time": "2021-10-15T13:34:10.943776Z"
    }
   },
   "outputs": [],
   "source": [
    "d_title = d_title.drop_duplicates().reset_index(drop=True)"
   ]
  },
  {
   "cell_type": "code",
   "execution_count": 120,
   "id": "e2caaadf",
   "metadata": {
    "ExecuteTime": {
     "end_time": "2021-10-15T13:46:31.208789Z",
     "start_time": "2021-10-15T13:46:31.199786Z"
    }
   },
   "outputs": [],
   "source": [
    "d_title = d_title.rename(columns = {'title':'daum_title'})"
   ]
  },
  {
   "cell_type": "markdown",
   "id": "f46ad3b6",
   "metadata": {},
   "source": [
    "### rename merge"
   ]
  },
  {
   "cell_type": "code",
   "execution_count": null,
   "id": "39de867a",
   "metadata": {},
   "outputs": [],
   "source": []
  },
  {
   "cell_type": "code",
   "execution_count": 121,
   "id": "0e8a1b1d",
   "metadata": {
    "ExecuteTime": {
     "end_time": "2021-10-15T13:46:45.963326Z",
     "start_time": "2021-10-15T13:46:45.948333Z"
    }
   },
   "outputs": [],
   "source": [
    "n_title = n_title.rename(columns = {'title':'naver_title'})"
   ]
  },
  {
   "cell_type": "code",
   "execution_count": 122,
   "id": "b82e3fe3",
   "metadata": {
    "ExecuteTime": {
     "end_time": "2021-10-15T13:46:47.984747Z",
     "start_time": "2021-10-15T13:46:47.962332Z"
    }
   },
   "outputs": [],
   "source": [
    "merge_title = pd.concat([n_title,d_title],axis=1)"
   ]
  },
  {
   "cell_type": "code",
   "execution_count": 123,
   "id": "89e65d3a",
   "metadata": {
    "ExecuteTime": {
     "end_time": "2021-10-15T13:46:49.442309Z",
     "start_time": "2021-10-15T13:46:49.417336Z"
    }
   },
   "outputs": [
    {
     "data": {
      "text/html": [
       "<div>\n",
       "<style scoped>\n",
       "    .dataframe tbody tr th:only-of-type {\n",
       "        vertical-align: middle;\n",
       "    }\n",
       "\n",
       "    .dataframe tbody tr th {\n",
       "        vertical-align: top;\n",
       "    }\n",
       "\n",
       "    .dataframe thead th {\n",
       "        text-align: right;\n",
       "    }\n",
       "</style>\n",
       "<table border=\"1\" class=\"dataframe\">\n",
       "  <thead>\n",
       "    <tr style=\"text-align: right;\">\n",
       "      <th></th>\n",
       "      <th>naver_title</th>\n",
       "      <th>daum_title</th>\n",
       "    </tr>\n",
       "  </thead>\n",
       "  <tbody>\n",
       "    <tr>\n",
       "      <th>0</th>\n",
       "      <td>0.0MHz</td>\n",
       "      <td>모가디슈</td>\n",
       "    </tr>\n",
       "    <tr>\n",
       "      <th>1</th>\n",
       "      <td>1 더하기 3</td>\n",
       "      <td>블랙 위도우</td>\n",
       "    </tr>\n",
       "    <tr>\n",
       "      <th>2</th>\n",
       "      <td>10 미니츠 곤</td>\n",
       "      <td>분노의 질주: 더 얼티메이트</td>\n",
       "    </tr>\n",
       "    <tr>\n",
       "      <th>3</th>\n",
       "      <td>100일 동안 100가지로 100퍼센트 행복찾기</td>\n",
       "      <td>싱크홀</td>\n",
       "    </tr>\n",
       "    <tr>\n",
       "      <th>4</th>\n",
       "      <td>10년</td>\n",
       "      <td>극장판 귀멸의 칼날: 무한열차편</td>\n",
       "    </tr>\n",
       "    <tr>\n",
       "      <th>...</th>\n",
       "      <td>...</td>\n",
       "      <td>...</td>\n",
       "    </tr>\n",
       "    <tr>\n",
       "      <th>1908</th>\n",
       "      <td>해변의 에트랑제</td>\n",
       "      <td>NaN</td>\n",
       "    </tr>\n",
       "    <tr>\n",
       "      <th>1909</th>\n",
       "      <td>헬렌: 내 영혼의 자화상</td>\n",
       "      <td>NaN</td>\n",
       "    </tr>\n",
       "    <tr>\n",
       "      <th>1910</th>\n",
       "      <td>호라이즌 라인</td>\n",
       "      <td>NaN</td>\n",
       "    </tr>\n",
       "    <tr>\n",
       "      <th>1911</th>\n",
       "      <td>호스트: 접속금지</td>\n",
       "      <td>NaN</td>\n",
       "    </tr>\n",
       "    <tr>\n",
       "      <th>1912</th>\n",
       "      <td>혼자 사는 사람들</td>\n",
       "      <td>NaN</td>\n",
       "    </tr>\n",
       "  </tbody>\n",
       "</table>\n",
       "<p>1913 rows × 2 columns</p>\n",
       "</div>"
      ],
      "text/plain": [
       "                     naver_title         daum_title\n",
       "0                         0.0MHz               모가디슈\n",
       "1                        1 더하기 3             블랙 위도우\n",
       "2                       10 미니츠 곤    분노의 질주: 더 얼티메이트\n",
       "3     100일 동안 100가지로 100퍼센트 행복찾기                싱크홀\n",
       "4                            10년  극장판 귀멸의 칼날: 무한열차편\n",
       "...                          ...                ...\n",
       "1908                    해변의 에트랑제                NaN\n",
       "1909               헬렌: 내 영혼의 자화상                NaN\n",
       "1910                     호라이즌 라인                NaN\n",
       "1911                   호스트: 접속금지                NaN\n",
       "1912                   혼자 사는 사람들                NaN\n",
       "\n",
       "[1913 rows x 2 columns]"
      ]
     },
     "execution_count": 123,
     "metadata": {},
     "output_type": "execute_result"
    }
   ],
   "source": [
    "merge_title"
   ]
  },
  {
   "cell_type": "code",
   "execution_count": 124,
   "id": "5720256b",
   "metadata": {
    "ExecuteTime": {
     "end_time": "2021-10-15T13:47:12.337507Z",
     "start_time": "2021-10-15T13:47:12.332544Z"
    }
   },
   "outputs": [],
   "source": [
    "mt = merge_title.to_dict('list')"
   ]
  },
  {
   "cell_type": "markdown",
   "id": "77a56c60",
   "metadata": {},
   "source": [
    "---"
   ]
  },
  {
   "cell_type": "code",
   "execution_count": 111,
   "id": "e7f1a072",
   "metadata": {
    "ExecuteTime": {
     "end_time": "2021-10-15T13:42:37.877515Z",
     "start_time": "2021-10-15T13:42:37.850362Z"
    }
   },
   "outputs": [],
   "source": [
    "d = d_title.to_dict('list')"
   ]
  },
  {
   "cell_type": "code",
   "execution_count": 113,
   "id": "cd538248",
   "metadata": {
    "ExecuteTime": {
     "end_time": "2021-10-15T13:43:02.910159Z",
     "start_time": "2021-10-15T13:43:02.895631Z"
    }
   },
   "outputs": [],
   "source": [
    "n = n_title.to_dict('list')"
   ]
  },
  {
   "cell_type": "code",
   "execution_count": null,
   "id": "73503794",
   "metadata": {},
   "outputs": [],
   "source": []
  },
  {
   "cell_type": "markdown",
   "id": "50df5e1f",
   "metadata": {},
   "source": [
    "---"
   ]
  },
  {
   "cell_type": "markdown",
   "id": "d1bbcfab",
   "metadata": {
    "ExecuteTime": {
     "end_time": "2021-10-15T15:57:34.965460Z",
     "start_time": "2021-10-15T15:57:34.962445Z"
    }
   },
   "source": [
    "## title match"
   ]
  },
  {
   "cell_type": "code",
   "execution_count": null,
   "id": "ea2f45f3",
   "metadata": {},
   "outputs": [],
   "source": [
    "ddaum['title'].unique().tolist()"
   ]
  },
  {
   "cell_type": "code",
   "execution_count": 233,
   "id": "ce79fecb",
   "metadata": {
    "ExecuteTime": {
     "end_time": "2021-10-15T15:20:13.114858Z",
     "start_time": "2021-10-15T15:20:13.099783Z"
    }
   },
   "outputs": [
    {
     "data": {
      "text/plain": [
       "0                           0.0MHz\n",
       "1                          1 더하기 3\n",
       "2                         10 미니츠 곤\n",
       "3       100일 동안 100가지로 100퍼센트 행복찾기\n",
       "4                              10년\n",
       "                   ...            \n",
       "1913                      해변의 에트랑제\n",
       "1914                 헬렌: 내 영혼의 자화상\n",
       "1915                       호라이즌 라인\n",
       "1916                     호스트: 접속금지\n",
       "1917                     혼자 사는 사람들\n",
       "Name: title, Length: 1918, dtype: object"
      ]
     },
     "execution_count": 233,
     "metadata": {},
     "output_type": "execute_result"
    }
   ],
   "source": [
    "meta['title']"
   ]
  },
  {
   "cell_type": "code",
   "execution_count": 202,
   "id": "475f1ab6",
   "metadata": {
    "ExecuteTime": {
     "end_time": "2021-10-15T15:11:16.672780Z",
     "start_time": "2021-10-15T15:11:16.651781Z"
    }
   },
   "outputs": [],
   "source": [
    "dtitle = daum['title'].unique().tolist()"
   ]
  },
  {
   "cell_type": "code",
   "execution_count": 237,
   "id": "51aca0d2",
   "metadata": {
    "ExecuteTime": {
     "end_time": "2021-10-15T15:22:20.192165Z",
     "start_time": "2021-10-15T15:22:20.184169Z"
    }
   },
   "outputs": [],
   "source": [
    "result = []"
   ]
  },
  {
   "cell_type": "code",
   "execution_count": 238,
   "id": "008c1a93",
   "metadata": {
    "ExecuteTime": {
     "end_time": "2021-10-15T15:22:56.596232Z",
     "start_time": "2021-10-15T15:22:56.588122Z"
    }
   },
   "outputs": [],
   "source": [
    "result=[]\n",
    "def find_name(titles):\n",
    "    ntitle=[]\n",
    "\n",
    "    for i in range(0,len(titles)):\n",
    "        title = titles[i][:4] # 여기서 숫자 변경해주시면 됩니다\n",
    "        naver = meta[meta['title'].str.contains(title)]\n",
    "        ntitle.append(naver.title.tolist())\n",
    "\n",
    "        df= pd.DataFrame({'naver_title':ntitle})\n",
    "        df['daum_title']= titles[i]\n",
    "        result.append(df)"
   ]
  },
  {
   "cell_type": "code",
   "execution_count": 210,
   "id": "c5756075",
   "metadata": {
    "ExecuteTime": {
     "end_time": "2021-10-15T15:13:29.222257Z",
     "start_time": "2021-10-15T15:13:29.181254Z"
    }
   },
   "outputs": [],
   "source": [
    "daum = daum.fillna(' ')"
   ]
  },
  {
   "cell_type": "code",
   "execution_count": 240,
   "id": "cb9df703",
   "metadata": {
    "ExecuteTime": {
     "end_time": "2021-10-15T15:23:02.047383Z",
     "start_time": "2021-10-15T15:23:01.790229Z"
    }
   },
   "outputs": [],
   "source": [
    "find_name(dtitle)"
   ]
  },
  {
   "cell_type": "code",
   "execution_count": 242,
   "id": "d0fc2726",
   "metadata": {
    "ExecuteTime": {
     "end_time": "2021-10-15T15:24:04.488121Z",
     "start_time": "2021-10-15T15:24:04.465615Z"
    }
   },
   "outputs": [],
   "source": [
    "a = pd.concat(result).reset_index(drop=True)"
   ]
  },
  {
   "cell_type": "code",
   "execution_count": 244,
   "id": "87b39041",
   "metadata": {
    "ExecuteTime": {
     "end_time": "2021-10-15T15:26:20.751036Z",
     "start_time": "2021-10-15T15:26:20.731808Z"
    }
   },
   "outputs": [],
   "source": [
    "b = a.drop_duplicates(subset='daum_title',keep='last').reset_index(drop=True)"
   ]
  },
  {
   "cell_type": "code",
   "execution_count": 251,
   "id": "878d759a",
   "metadata": {
    "ExecuteTime": {
     "end_time": "2021-10-15T15:28:43.934315Z",
     "start_time": "2021-10-15T15:28:43.907313Z"
    }
   },
   "outputs": [
    {
     "data": {
      "text/html": [
       "<div>\n",
       "<style scoped>\n",
       "    .dataframe tbody tr th:only-of-type {\n",
       "        vertical-align: middle;\n",
       "    }\n",
       "\n",
       "    .dataframe tbody tr th {\n",
       "        vertical-align: top;\n",
       "    }\n",
       "\n",
       "    .dataframe thead th {\n",
       "        text-align: right;\n",
       "    }\n",
       "</style>\n",
       "<table border=\"1\" class=\"dataframe\">\n",
       "  <thead>\n",
       "    <tr style=\"text-align: right;\">\n",
       "      <th></th>\n",
       "      <th>naver_title</th>\n",
       "      <th>daum_title</th>\n",
       "    </tr>\n",
       "  </thead>\n",
       "  <tbody>\n",
       "    <tr>\n",
       "      <th>46</th>\n",
       "      <td>[콰이어트 플레이스 2]</td>\n",
       "      <td>콰이어트 플레이스 2</td>\n",
       "    </tr>\n",
       "    <tr>\n",
       "      <th>47</th>\n",
       "      <td>[랑종]</td>\n",
       "      <td>랑종</td>\n",
       "    </tr>\n",
       "    <tr>\n",
       "      <th>48</th>\n",
       "      <td>[컨저링 맨션, 컨저링 하우스, 컨저링 3: 악마가 시켰다]</td>\n",
       "      <td>컨저링 3: 악마가 시켰다</td>\n",
       "    </tr>\n",
       "    <tr>\n",
       "      <th>49</th>\n",
       "      <td>[토이 스토리 4]</td>\n",
       "      <td>토이 스토리 4</td>\n",
       "    </tr>\n",
       "    <tr>\n",
       "      <th>50</th>\n",
       "      <td>[주먹왕 랄프 2: 인터넷 속으로]</td>\n",
       "      <td>주먹왕 랄프 2: 인터넷 속으로</td>\n",
       "    </tr>\n",
       "    <tr>\n",
       "      <th>51</th>\n",
       "      <td>[드래곤 길들이기 3, 드래곤 빌리지, 드래곤 솔져, 드래곤 헌터 트레져, 리틀드래...</td>\n",
       "      <td>드래곤 길들이기 3</td>\n",
       "    </tr>\n",
       "    <tr>\n",
       "      <th>52</th>\n",
       "      <td>[말레피센트 2]</td>\n",
       "      <td>말레피센트 2</td>\n",
       "    </tr>\n",
       "    <tr>\n",
       "      <th>53</th>\n",
       "      <td>[마이펫의 이중생활2]</td>\n",
       "      <td>마이펫의 이중생활 2</td>\n",
       "    </tr>\n",
       "    <tr>\n",
       "      <th>54</th>\n",
       "      <td>[쥬만지: 넥스트 레벨]</td>\n",
       "      <td>쥬만지: 넥스트 레벨</td>\n",
       "    </tr>\n",
       "    <tr>\n",
       "      <th>55</th>\n",
       "      <td>[남산의 부장들]</td>\n",
       "      <td>남산의 부장들</td>\n",
       "    </tr>\n",
       "    <tr>\n",
       "      <th>56</th>\n",
       "      <td>[다만 악에서 구하소서, 다만 악에서 구하소서 파이널컷]</td>\n",
       "      <td>다만 악에서 구하소서</td>\n",
       "    </tr>\n",
       "    <tr>\n",
       "      <th>57</th>\n",
       "      <td>[반도]</td>\n",
       "      <td>반도</td>\n",
       "    </tr>\n",
       "    <tr>\n",
       "      <th>58</th>\n",
       "      <td>[아메리칸 히트맨]</td>\n",
       "      <td>히트맨</td>\n",
       "    </tr>\n",
       "    <tr>\n",
       "      <th>59</th>\n",
       "      <td>[테넷]</td>\n",
       "      <td>테넷</td>\n",
       "    </tr>\n",
       "    <tr>\n",
       "      <th>60</th>\n",
       "      <td>[백두산]</td>\n",
       "      <td>백두산</td>\n",
       "    </tr>\n",
       "    <tr>\n",
       "      <th>61</th>\n",
       "      <td>[#살아있다]</td>\n",
       "      <td>#살아있다</td>\n",
       "    </tr>\n",
       "    <tr>\n",
       "      <th>62</th>\n",
       "      <td>[강철비2: 정상회담]</td>\n",
       "      <td>강철비2: 정상회담</td>\n",
       "    </tr>\n",
       "    <tr>\n",
       "      <th>63</th>\n",
       "      <td>[담보]</td>\n",
       "      <td>담보</td>\n",
       "    </tr>\n",
       "    <tr>\n",
       "      <th>64</th>\n",
       "      <td>[닥터 두리틀]</td>\n",
       "      <td>닥터 두리틀</td>\n",
       "    </tr>\n",
       "    <tr>\n",
       "      <th>65</th>\n",
       "      <td>[삼진그룹 영어토익반]</td>\n",
       "      <td>삼진그룹 영어토익반</td>\n",
       "    </tr>\n",
       "    <tr>\n",
       "      <th>66</th>\n",
       "      <td>[정직한 후보]</td>\n",
       "      <td>정직한 후보</td>\n",
       "    </tr>\n",
       "    <tr>\n",
       "      <th>67</th>\n",
       "      <td>[도굴]</td>\n",
       "      <td>도굴</td>\n",
       "    </tr>\n",
       "    <tr>\n",
       "      <th>68</th>\n",
       "      <td>[클로젯]</td>\n",
       "      <td>클로젯</td>\n",
       "    </tr>\n",
       "    <tr>\n",
       "      <th>69</th>\n",
       "      <td>[오케이 마담]</td>\n",
       "      <td>오케이 마담</td>\n",
       "    </tr>\n",
       "    <tr>\n",
       "      <th>70</th>\n",
       "      <td>[해치지않아]</td>\n",
       "      <td>해치지않아</td>\n",
       "    </tr>\n",
       "    <tr>\n",
       "      <th>71</th>\n",
       "      <td>[]</td>\n",
       "      <td>천문: 하늘에 묻는다</td>\n",
       "    </tr>\n",
       "    <tr>\n",
       "      <th>72</th>\n",
       "      <td>[결백]</td>\n",
       "      <td>결백</td>\n",
       "    </tr>\n",
       "    <tr>\n",
       "      <th>73</th>\n",
       "      <td>[1917]</td>\n",
       "      <td>1917</td>\n",
       "    </tr>\n",
       "    <tr>\n",
       "      <th>74</th>\n",
       "      <td>[작은 아씨들]</td>\n",
       "      <td>작은 아씨들</td>\n",
       "    </tr>\n",
       "    <tr>\n",
       "      <th>75</th>\n",
       "      <td>[미드웨이]</td>\n",
       "      <td>미드웨이</td>\n",
       "    </tr>\n",
       "    <tr>\n",
       "      <th>76</th>\n",
       "      <td>[시동]</td>\n",
       "      <td>시동</td>\n",
       "    </tr>\n",
       "    <tr>\n",
       "      <th>77</th>\n",
       "      <td>[지푸라기라도 잡고 싶은 짐승들]</td>\n",
       "      <td>지푸라기라도 잡고 싶은 짐승들</td>\n",
       "    </tr>\n",
       "    <tr>\n",
       "      <th>78</th>\n",
       "      <td>[미스터 보스, 미스터 주: 사라진 VIP, 미스터 존스]</td>\n",
       "      <td>미스터 주: 사라진 VIP</td>\n",
       "    </tr>\n",
       "    <tr>\n",
       "      <th>79</th>\n",
       "      <td>[인비저블 위트니스, 인비저블 라이프, 인비저블맨]</td>\n",
       "      <td>인비저블맨</td>\n",
       "    </tr>\n",
       "    <tr>\n",
       "      <th>80</th>\n",
       "      <td>[나쁜 녀석들: 더 무비, 나쁜 녀석들 : 포에버]</td>\n",
       "      <td>나쁜 녀석들 : 포에버</td>\n",
       "    </tr>\n",
       "    <tr>\n",
       "      <th>81</th>\n",
       "      <td>[국제수사]</td>\n",
       "      <td>국제수사</td>\n",
       "    </tr>\n",
       "    <tr>\n",
       "      <th>82</th>\n",
       "      <td>[침입자, 침입자]</td>\n",
       "      <td>침입자</td>\n",
       "    </tr>\n",
       "    <tr>\n",
       "      <th>83</th>\n",
       "      <td>[스타워즈: 라이즈 오브 스카이워커]</td>\n",
       "      <td>스타워즈: 라이즈 오브 스카이워커</td>\n",
       "    </tr>\n",
       "    <tr>\n",
       "      <th>84</th>\n",
       "      <td>[스파이 지니어스]</td>\n",
       "      <td>스파이 지니어스</td>\n",
       "    </tr>\n",
       "    <tr>\n",
       "      <th>85</th>\n",
       "      <td>[온워드: 단 하루의 기적]</td>\n",
       "      <td>온워드: 단 하루의 기적</td>\n",
       "    </tr>\n",
       "    <tr>\n",
       "      <th>86</th>\n",
       "      <td>[소리도 없이]</td>\n",
       "      <td>소리도 없이</td>\n",
       "    </tr>\n",
       "    <tr>\n",
       "      <th>87</th>\n",
       "      <td>[버즈 오브 프레이(할리 퀸의 황홀한 해방)]</td>\n",
       "      <td>버즈 오브 프레이(할리 퀸의 황홀한 해방)</td>\n",
       "    </tr>\n",
       "    <tr>\n",
       "      <th>88</th>\n",
       "      <td>[오! 문희]</td>\n",
       "      <td>오! 문희</td>\n",
       "    </tr>\n",
       "    <tr>\n",
       "      <th>89</th>\n",
       "      <td>[그린랜드]</td>\n",
       "      <td>그린랜드</td>\n",
       "    </tr>\n",
       "    <tr>\n",
       "      <th>90</th>\n",
       "      <td>[런던 워리어, 사일런스, 액츠 오브 바이올런스, 장난스런 키스, 칠드런 액트, 커...</td>\n",
       "      <td>런</td>\n",
       "    </tr>\n",
       "    <tr>\n",
       "      <th>91</th>\n",
       "      <td>[내가 죽던 날, 집에 돌아오면, 언제나 아내가 죽은 척을 하고 있다, 내가 죽기를...</td>\n",
       "      <td>내가 죽던 날</td>\n",
       "    </tr>\n",
       "    <tr>\n",
       "      <th>92</th>\n",
       "      <td>[신비아파트 극장판 하늘도깨비 대 요르문간드]</td>\n",
       "      <td>신비아파트 극장판 하늘도깨비 대 요르문간드</td>\n",
       "    </tr>\n",
       "    <tr>\n",
       "      <th>93</th>\n",
       "      <td>[프리즌 브레이커스, 프리즌 이스케이프]</td>\n",
       "      <td>프리즌 이스케이프</td>\n",
       "    </tr>\n",
       "    <tr>\n",
       "      <th>94</th>\n",
       "      <td>[조제, 조제, 호랑이 그리고 물고기들]</td>\n",
       "      <td>조제</td>\n",
       "    </tr>\n",
       "    <tr>\n",
       "      <th>95</th>\n",
       "      <td>[밤쉘: 세상을 바꾼 폭탄선언]</td>\n",
       "      <td>밤쉘: 세상을 바꾼 폭탄선언</td>\n",
       "    </tr>\n",
       "  </tbody>\n",
       "</table>\n",
       "</div>"
      ],
      "text/plain": [
       "                                          naver_title               daum_title\n",
       "46                                      [콰이어트 플레이스 2]              콰이어트 플레이스 2\n",
       "47                                               [랑종]                       랑종\n",
       "48                  [컨저링 맨션, 컨저링 하우스, 컨저링 3: 악마가 시켰다]           컨저링 3: 악마가 시켰다\n",
       "49                                         [토이 스토리 4]                 토이 스토리 4\n",
       "50                                [주먹왕 랄프 2: 인터넷 속으로]        주먹왕 랄프 2: 인터넷 속으로\n",
       "51  [드래곤 길들이기 3, 드래곤 빌리지, 드래곤 솔져, 드래곤 헌터 트레져, 리틀드래...               드래곤 길들이기 3\n",
       "52                                          [말레피센트 2]                  말레피센트 2\n",
       "53                                       [마이펫의 이중생활2]              마이펫의 이중생활 2\n",
       "54                                      [쥬만지: 넥스트 레벨]              쥬만지: 넥스트 레벨\n",
       "55                                          [남산의 부장들]                  남산의 부장들\n",
       "56                    [다만 악에서 구하소서, 다만 악에서 구하소서 파이널컷]              다만 악에서 구하소서\n",
       "57                                               [반도]                       반도\n",
       "58                                         [아메리칸 히트맨]                      히트맨\n",
       "59                                               [테넷]                       테넷\n",
       "60                                              [백두산]                      백두산\n",
       "61                                            [#살아있다]                    #살아있다\n",
       "62                                       [강철비2: 정상회담]               강철비2: 정상회담\n",
       "63                                               [담보]                       담보\n",
       "64                                           [닥터 두리틀]                   닥터 두리틀\n",
       "65                                       [삼진그룹 영어토익반]               삼진그룹 영어토익반\n",
       "66                                           [정직한 후보]                   정직한 후보\n",
       "67                                               [도굴]                       도굴\n",
       "68                                              [클로젯]                      클로젯\n",
       "69                                           [오케이 마담]                   오케이 마담\n",
       "70                                            [해치지않아]                    해치지않아\n",
       "71                                                 []              천문: 하늘에 묻는다\n",
       "72                                               [결백]                       결백\n",
       "73                                             [1917]                     1917\n",
       "74                                           [작은 아씨들]                   작은 아씨들\n",
       "75                                             [미드웨이]                     미드웨이\n",
       "76                                               [시동]                       시동\n",
       "77                                 [지푸라기라도 잡고 싶은 짐승들]         지푸라기라도 잡고 싶은 짐승들\n",
       "78                   [미스터 보스, 미스터 주: 사라진 VIP, 미스터 존스]           미스터 주: 사라진 VIP\n",
       "79                       [인비저블 위트니스, 인비저블 라이프, 인비저블맨]                    인비저블맨\n",
       "80                       [나쁜 녀석들: 더 무비, 나쁜 녀석들 : 포에버]             나쁜 녀석들 : 포에버\n",
       "81                                             [국제수사]                     국제수사\n",
       "82                                         [침입자, 침입자]                      침입자\n",
       "83                               [스타워즈: 라이즈 오브 스카이워커]       스타워즈: 라이즈 오브 스카이워커\n",
       "84                                         [스파이 지니어스]                 스파이 지니어스\n",
       "85                                    [온워드: 단 하루의 기적]            온워드: 단 하루의 기적\n",
       "86                                           [소리도 없이]                   소리도 없이\n",
       "87                          [버즈 오브 프레이(할리 퀸의 황홀한 해방)]  버즈 오브 프레이(할리 퀸의 황홀한 해방)\n",
       "88                                            [오! 문희]                    오! 문희\n",
       "89                                             [그린랜드]                     그린랜드\n",
       "90  [런던 워리어, 사일런스, 액츠 오브 바이올런스, 장난스런 키스, 칠드런 액트, 커...                        런\n",
       "91  [내가 죽던 날, 집에 돌아오면, 언제나 아내가 죽은 척을 하고 있다, 내가 죽기를...                  내가 죽던 날\n",
       "92                          [신비아파트 극장판 하늘도깨비 대 요르문간드]  신비아파트 극장판 하늘도깨비 대 요르문간드\n",
       "93                             [프리즌 브레이커스, 프리즌 이스케이프]                프리즌 이스케이프\n",
       "94                             [조제, 조제, 호랑이 그리고 물고기들]                       조제\n",
       "95                                  [밤쉘: 세상을 바꾼 폭탄선언]          밤쉘: 세상을 바꾼 폭탄선언"
      ]
     },
     "execution_count": 251,
     "metadata": {},
     "output_type": "execute_result"
    }
   ],
   "source": [
    "b.tail(50)"
   ]
  },
  {
   "cell_type": "code",
   "execution_count": 270,
   "id": "aaae4a0a",
   "metadata": {
    "ExecuteTime": {
     "end_time": "2021-10-15T15:44:13.909580Z",
     "start_time": "2021-10-15T15:44:13.894021Z"
    }
   },
   "outputs": [
    {
     "data": {
      "text/plain": [
       "'디슈'"
      ]
     },
     "execution_count": 270,
     "metadata": {},
     "output_type": "execute_result"
    }
   ],
   "source": [
    "dd[0][-2:]"
   ]
  },
  {
   "cell_type": "code",
   "execution_count": null,
   "id": "7398dd38",
   "metadata": {},
   "outputs": [],
   "source": [
    "# 시도하려 했으나 ... 말잇못"
   ]
  },
  {
   "cell_type": "code",
   "execution_count": 273,
   "id": "b542944b",
   "metadata": {
    "ExecuteTime": {
     "end_time": "2021-10-15T15:47:59.157776Z",
     "start_time": "2021-10-15T15:47:59.139775Z"
    }
   },
   "outputs": [],
   "source": [
    "result1=[]\n",
    "def find_name1(titles):\n",
    "    ntitle=[]\n",
    "\n",
    "    for i in range(0,len(titles)):\n",
    "        title = titles[i][:7]\n",
    "        naver = meta[meta['title'].str.contains(title)].title.tolist()\n",
    "        naver = naver[-2:] == titles[-2:]\n",
    "        ntitle.append(naver)\n",
    "\n",
    "        df= pd.DataFrame({'naver_title':ntitle[0]})\n",
    "        df['daum_title']= titles[i]\n",
    "        result1.append(df)"
   ]
  },
  {
   "cell_type": "code",
   "execution_count": 274,
   "id": "d139af58",
   "metadata": {
    "ExecuteTime": {
     "end_time": "2021-10-15T15:48:00.119277Z",
     "start_time": "2021-10-15T15:48:00.097240Z"
    }
   },
   "outputs": [
    {
     "ename": "ValueError",
     "evalue": "If using all scalar values, you must pass an index",
     "output_type": "error",
     "traceback": [
      "\u001b[1;31m---------------------------------------------------------------------------\u001b[0m",
      "\u001b[1;31mValueError\u001b[0m                                Traceback (most recent call last)",
      "\u001b[1;32m<ipython-input-274-5bf2b8cf9a4c>\u001b[0m in \u001b[0;36m<module>\u001b[1;34m\u001b[0m\n\u001b[1;32m----> 1\u001b[1;33m \u001b[0mfind_name1\u001b[0m\u001b[1;33m(\u001b[0m\u001b[0mdtitle\u001b[0m\u001b[1;33m)\u001b[0m\u001b[1;33m\u001b[0m\u001b[1;33m\u001b[0m\u001b[0m\n\u001b[0m",
      "\u001b[1;32m<ipython-input-273-58d1c327ea68>\u001b[0m in \u001b[0;36mfind_name1\u001b[1;34m(titles)\u001b[0m\n\u001b[0;32m      9\u001b[0m         \u001b[0mntitle\u001b[0m\u001b[1;33m.\u001b[0m\u001b[0mappend\u001b[0m\u001b[1;33m(\u001b[0m\u001b[0mnaver\u001b[0m\u001b[1;33m)\u001b[0m\u001b[1;33m\u001b[0m\u001b[1;33m\u001b[0m\u001b[0m\n\u001b[0;32m     10\u001b[0m \u001b[1;33m\u001b[0m\u001b[0m\n\u001b[1;32m---> 11\u001b[1;33m         \u001b[0mdf\u001b[0m\u001b[1;33m=\u001b[0m \u001b[0mpd\u001b[0m\u001b[1;33m.\u001b[0m\u001b[0mDataFrame\u001b[0m\u001b[1;33m(\u001b[0m\u001b[1;33m{\u001b[0m\u001b[1;34m'naver_title'\u001b[0m\u001b[1;33m:\u001b[0m\u001b[0mntitle\u001b[0m\u001b[1;33m[\u001b[0m\u001b[1;36m0\u001b[0m\u001b[1;33m]\u001b[0m\u001b[1;33m}\u001b[0m\u001b[1;33m)\u001b[0m\u001b[1;33m\u001b[0m\u001b[1;33m\u001b[0m\u001b[0m\n\u001b[0m\u001b[0;32m     12\u001b[0m         \u001b[0mdf\u001b[0m\u001b[1;33m[\u001b[0m\u001b[1;34m'daum_title'\u001b[0m\u001b[1;33m]\u001b[0m\u001b[1;33m=\u001b[0m \u001b[0mtitles\u001b[0m\u001b[1;33m[\u001b[0m\u001b[0mi\u001b[0m\u001b[1;33m]\u001b[0m\u001b[1;33m\u001b[0m\u001b[1;33m\u001b[0m\u001b[0m\n\u001b[0;32m     13\u001b[0m         \u001b[0mresult1\u001b[0m\u001b[1;33m.\u001b[0m\u001b[0mappend\u001b[0m\u001b[1;33m(\u001b[0m\u001b[0mdf\u001b[0m\u001b[1;33m)\u001b[0m\u001b[1;33m\u001b[0m\u001b[1;33m\u001b[0m\u001b[0m\n",
      "\u001b[1;32mC:\\ProgramData\\Anaconda3\\lib\\site-packages\\pandas\\core\\frame.py\u001b[0m in \u001b[0;36m__init__\u001b[1;34m(self, data, index, columns, dtype, copy)\u001b[0m\n\u001b[0;32m    527\u001b[0m \u001b[1;33m\u001b[0m\u001b[0m\n\u001b[0;32m    528\u001b[0m         \u001b[1;32melif\u001b[0m \u001b[0misinstance\u001b[0m\u001b[1;33m(\u001b[0m\u001b[0mdata\u001b[0m\u001b[1;33m,\u001b[0m \u001b[0mdict\u001b[0m\u001b[1;33m)\u001b[0m\u001b[1;33m:\u001b[0m\u001b[1;33m\u001b[0m\u001b[1;33m\u001b[0m\u001b[0m\n\u001b[1;32m--> 529\u001b[1;33m             \u001b[0mmgr\u001b[0m \u001b[1;33m=\u001b[0m \u001b[0minit_dict\u001b[0m\u001b[1;33m(\u001b[0m\u001b[0mdata\u001b[0m\u001b[1;33m,\u001b[0m \u001b[0mindex\u001b[0m\u001b[1;33m,\u001b[0m \u001b[0mcolumns\u001b[0m\u001b[1;33m,\u001b[0m \u001b[0mdtype\u001b[0m\u001b[1;33m=\u001b[0m\u001b[0mdtype\u001b[0m\u001b[1;33m)\u001b[0m\u001b[1;33m\u001b[0m\u001b[1;33m\u001b[0m\u001b[0m\n\u001b[0m\u001b[0;32m    530\u001b[0m         \u001b[1;32melif\u001b[0m \u001b[0misinstance\u001b[0m\u001b[1;33m(\u001b[0m\u001b[0mdata\u001b[0m\u001b[1;33m,\u001b[0m \u001b[0mma\u001b[0m\u001b[1;33m.\u001b[0m\u001b[0mMaskedArray\u001b[0m\u001b[1;33m)\u001b[0m\u001b[1;33m:\u001b[0m\u001b[1;33m\u001b[0m\u001b[1;33m\u001b[0m\u001b[0m\n\u001b[0;32m    531\u001b[0m             \u001b[1;32mimport\u001b[0m \u001b[0mnumpy\u001b[0m\u001b[1;33m.\u001b[0m\u001b[0mma\u001b[0m\u001b[1;33m.\u001b[0m\u001b[0mmrecords\u001b[0m \u001b[1;32mas\u001b[0m \u001b[0mmrecords\u001b[0m\u001b[1;33m\u001b[0m\u001b[1;33m\u001b[0m\u001b[0m\n",
      "\u001b[1;32mC:\\ProgramData\\Anaconda3\\lib\\site-packages\\pandas\\core\\internals\\construction.py\u001b[0m in \u001b[0;36minit_dict\u001b[1;34m(data, index, columns, dtype)\u001b[0m\n\u001b[0;32m    285\u001b[0m             \u001b[0marr\u001b[0m \u001b[1;32mif\u001b[0m \u001b[1;32mnot\u001b[0m \u001b[0mis_datetime64tz_dtype\u001b[0m\u001b[1;33m(\u001b[0m\u001b[0marr\u001b[0m\u001b[1;33m)\u001b[0m \u001b[1;32melse\u001b[0m \u001b[0marr\u001b[0m\u001b[1;33m.\u001b[0m\u001b[0mcopy\u001b[0m\u001b[1;33m(\u001b[0m\u001b[1;33m)\u001b[0m \u001b[1;32mfor\u001b[0m \u001b[0marr\u001b[0m \u001b[1;32min\u001b[0m \u001b[0marrays\u001b[0m\u001b[1;33m\u001b[0m\u001b[1;33m\u001b[0m\u001b[0m\n\u001b[0;32m    286\u001b[0m         ]\n\u001b[1;32m--> 287\u001b[1;33m     \u001b[1;32mreturn\u001b[0m \u001b[0marrays_to_mgr\u001b[0m\u001b[1;33m(\u001b[0m\u001b[0marrays\u001b[0m\u001b[1;33m,\u001b[0m \u001b[0mdata_names\u001b[0m\u001b[1;33m,\u001b[0m \u001b[0mindex\u001b[0m\u001b[1;33m,\u001b[0m \u001b[0mcolumns\u001b[0m\u001b[1;33m,\u001b[0m \u001b[0mdtype\u001b[0m\u001b[1;33m=\u001b[0m\u001b[0mdtype\u001b[0m\u001b[1;33m)\u001b[0m\u001b[1;33m\u001b[0m\u001b[1;33m\u001b[0m\u001b[0m\n\u001b[0m\u001b[0;32m    288\u001b[0m \u001b[1;33m\u001b[0m\u001b[0m\n\u001b[0;32m    289\u001b[0m \u001b[1;33m\u001b[0m\u001b[0m\n",
      "\u001b[1;32mC:\\ProgramData\\Anaconda3\\lib\\site-packages\\pandas\\core\\internals\\construction.py\u001b[0m in \u001b[0;36marrays_to_mgr\u001b[1;34m(arrays, arr_names, index, columns, dtype, verify_integrity)\u001b[0m\n\u001b[0;32m     78\u001b[0m         \u001b[1;31m# figure out the index, if necessary\u001b[0m\u001b[1;33m\u001b[0m\u001b[1;33m\u001b[0m\u001b[1;33m\u001b[0m\u001b[0m\n\u001b[0;32m     79\u001b[0m         \u001b[1;32mif\u001b[0m \u001b[0mindex\u001b[0m \u001b[1;32mis\u001b[0m \u001b[1;32mNone\u001b[0m\u001b[1;33m:\u001b[0m\u001b[1;33m\u001b[0m\u001b[1;33m\u001b[0m\u001b[0m\n\u001b[1;32m---> 80\u001b[1;33m             \u001b[0mindex\u001b[0m \u001b[1;33m=\u001b[0m \u001b[0mextract_index\u001b[0m\u001b[1;33m(\u001b[0m\u001b[0marrays\u001b[0m\u001b[1;33m)\u001b[0m\u001b[1;33m\u001b[0m\u001b[1;33m\u001b[0m\u001b[0m\n\u001b[0m\u001b[0;32m     81\u001b[0m         \u001b[1;32melse\u001b[0m\u001b[1;33m:\u001b[0m\u001b[1;33m\u001b[0m\u001b[1;33m\u001b[0m\u001b[0m\n\u001b[0;32m     82\u001b[0m             \u001b[0mindex\u001b[0m \u001b[1;33m=\u001b[0m \u001b[0mensure_index\u001b[0m\u001b[1;33m(\u001b[0m\u001b[0mindex\u001b[0m\u001b[1;33m)\u001b[0m\u001b[1;33m\u001b[0m\u001b[1;33m\u001b[0m\u001b[0m\n",
      "\u001b[1;32mC:\\ProgramData\\Anaconda3\\lib\\site-packages\\pandas\\core\\internals\\construction.py\u001b[0m in \u001b[0;36mextract_index\u001b[1;34m(data)\u001b[0m\n\u001b[0;32m    389\u001b[0m \u001b[1;33m\u001b[0m\u001b[0m\n\u001b[0;32m    390\u001b[0m         \u001b[1;32mif\u001b[0m \u001b[1;32mnot\u001b[0m \u001b[0mindexes\u001b[0m \u001b[1;32mand\u001b[0m \u001b[1;32mnot\u001b[0m \u001b[0mraw_lengths\u001b[0m\u001b[1;33m:\u001b[0m\u001b[1;33m\u001b[0m\u001b[1;33m\u001b[0m\u001b[0m\n\u001b[1;32m--> 391\u001b[1;33m             \u001b[1;32mraise\u001b[0m \u001b[0mValueError\u001b[0m\u001b[1;33m(\u001b[0m\u001b[1;34m\"If using all scalar values, you must pass an index\"\u001b[0m\u001b[1;33m)\u001b[0m\u001b[1;33m\u001b[0m\u001b[1;33m\u001b[0m\u001b[0m\n\u001b[0m\u001b[0;32m    392\u001b[0m \u001b[1;33m\u001b[0m\u001b[0m\n\u001b[0;32m    393\u001b[0m         \u001b[1;32mif\u001b[0m \u001b[0mhave_series\u001b[0m\u001b[1;33m:\u001b[0m\u001b[1;33m\u001b[0m\u001b[1;33m\u001b[0m\u001b[0m\n",
      "\u001b[1;31mValueError\u001b[0m: If using all scalar values, you must pass an index"
     ]
    }
   ],
   "source": [
    "find_name1(dtitle)"
   ]
  },
  {
   "cell_type": "code",
   "execution_count": 265,
   "id": "3a70f272",
   "metadata": {
    "ExecuteTime": {
     "end_time": "2021-10-15T15:42:28.507081Z",
     "start_time": "2021-10-15T15:42:28.485658Z"
    }
   },
   "outputs": [],
   "source": [
    "aa = pd.concat(result).reset_index(drop=True)"
   ]
  },
  {
   "cell_type": "code",
   "execution_count": 266,
   "id": "77915311",
   "metadata": {
    "ExecuteTime": {
     "end_time": "2021-10-15T15:42:29.585079Z",
     "start_time": "2021-10-15T15:42:29.575082Z"
    }
   },
   "outputs": [],
   "source": [
    "bb = aa.drop_duplicates(subset='daum_title',keep='last').reset_index(drop=True)"
   ]
  },
  {
   "cell_type": "code",
   "execution_count": 267,
   "id": "a67afc6b",
   "metadata": {
    "ExecuteTime": {
     "end_time": "2021-10-15T15:42:30.663522Z",
     "start_time": "2021-10-15T15:42:30.630424Z"
    }
   },
   "outputs": [
    {
     "data": {
      "text/html": [
       "<div>\n",
       "<style scoped>\n",
       "    .dataframe tbody tr th:only-of-type {\n",
       "        vertical-align: middle;\n",
       "    }\n",
       "\n",
       "    .dataframe tbody tr th {\n",
       "        vertical-align: top;\n",
       "    }\n",
       "\n",
       "    .dataframe thead th {\n",
       "        text-align: right;\n",
       "    }\n",
       "</style>\n",
       "<table border=\"1\" class=\"dataframe\">\n",
       "  <thead>\n",
       "    <tr style=\"text-align: right;\">\n",
       "      <th></th>\n",
       "      <th>naver_title</th>\n",
       "      <th>daum_title</th>\n",
       "    </tr>\n",
       "  </thead>\n",
       "  <tbody>\n",
       "    <tr>\n",
       "      <th>46</th>\n",
       "      <td>[콰이어트 플레이스 2]</td>\n",
       "      <td>콰이어트 플레이스 2</td>\n",
       "    </tr>\n",
       "    <tr>\n",
       "      <th>47</th>\n",
       "      <td>[랑종]</td>\n",
       "      <td>랑종</td>\n",
       "    </tr>\n",
       "    <tr>\n",
       "      <th>48</th>\n",
       "      <td>[컨저링 맨션, 컨저링 하우스, 컨저링 3: 악마가 시켰다]</td>\n",
       "      <td>컨저링 3: 악마가 시켰다</td>\n",
       "    </tr>\n",
       "    <tr>\n",
       "      <th>49</th>\n",
       "      <td>[토이 스토리 4]</td>\n",
       "      <td>토이 스토리 4</td>\n",
       "    </tr>\n",
       "    <tr>\n",
       "      <th>50</th>\n",
       "      <td>[주먹왕 랄프 2: 인터넷 속으로]</td>\n",
       "      <td>주먹왕 랄프 2: 인터넷 속으로</td>\n",
       "    </tr>\n",
       "    <tr>\n",
       "      <th>51</th>\n",
       "      <td>[드래곤 길들이기 3, 드래곤 빌리지, 드래곤 솔져, 드래곤 헌터 트레져, 리틀드래...</td>\n",
       "      <td>드래곤 길들이기 3</td>\n",
       "    </tr>\n",
       "    <tr>\n",
       "      <th>52</th>\n",
       "      <td>[말레피센트 2]</td>\n",
       "      <td>말레피센트 2</td>\n",
       "    </tr>\n",
       "    <tr>\n",
       "      <th>53</th>\n",
       "      <td>[마이펫의 이중생활2]</td>\n",
       "      <td>마이펫의 이중생활 2</td>\n",
       "    </tr>\n",
       "    <tr>\n",
       "      <th>54</th>\n",
       "      <td>[쥬만지: 넥스트 레벨]</td>\n",
       "      <td>쥬만지: 넥스트 레벨</td>\n",
       "    </tr>\n",
       "    <tr>\n",
       "      <th>55</th>\n",
       "      <td>[남산의 부장들]</td>\n",
       "      <td>남산의 부장들</td>\n",
       "    </tr>\n",
       "    <tr>\n",
       "      <th>56</th>\n",
       "      <td>[다만 악에서 구하소서, 다만 악에서 구하소서 파이널컷]</td>\n",
       "      <td>다만 악에서 구하소서</td>\n",
       "    </tr>\n",
       "    <tr>\n",
       "      <th>57</th>\n",
       "      <td>[반도]</td>\n",
       "      <td>반도</td>\n",
       "    </tr>\n",
       "    <tr>\n",
       "      <th>58</th>\n",
       "      <td>[아메리칸 히트맨]</td>\n",
       "      <td>히트맨</td>\n",
       "    </tr>\n",
       "    <tr>\n",
       "      <th>59</th>\n",
       "      <td>[테넷]</td>\n",
       "      <td>테넷</td>\n",
       "    </tr>\n",
       "    <tr>\n",
       "      <th>60</th>\n",
       "      <td>[백두산]</td>\n",
       "      <td>백두산</td>\n",
       "    </tr>\n",
       "    <tr>\n",
       "      <th>61</th>\n",
       "      <td>[#살아있다]</td>\n",
       "      <td>#살아있다</td>\n",
       "    </tr>\n",
       "    <tr>\n",
       "      <th>62</th>\n",
       "      <td>[강철비2: 정상회담]</td>\n",
       "      <td>강철비2: 정상회담</td>\n",
       "    </tr>\n",
       "    <tr>\n",
       "      <th>63</th>\n",
       "      <td>[담보]</td>\n",
       "      <td>담보</td>\n",
       "    </tr>\n",
       "    <tr>\n",
       "      <th>64</th>\n",
       "      <td>[닥터 두리틀]</td>\n",
       "      <td>닥터 두리틀</td>\n",
       "    </tr>\n",
       "    <tr>\n",
       "      <th>65</th>\n",
       "      <td>[삼진그룹 영어토익반]</td>\n",
       "      <td>삼진그룹 영어토익반</td>\n",
       "    </tr>\n",
       "    <tr>\n",
       "      <th>66</th>\n",
       "      <td>[정직한 후보]</td>\n",
       "      <td>정직한 후보</td>\n",
       "    </tr>\n",
       "    <tr>\n",
       "      <th>67</th>\n",
       "      <td>[도굴]</td>\n",
       "      <td>도굴</td>\n",
       "    </tr>\n",
       "    <tr>\n",
       "      <th>68</th>\n",
       "      <td>[클로젯]</td>\n",
       "      <td>클로젯</td>\n",
       "    </tr>\n",
       "    <tr>\n",
       "      <th>69</th>\n",
       "      <td>[오케이 마담]</td>\n",
       "      <td>오케이 마담</td>\n",
       "    </tr>\n",
       "    <tr>\n",
       "      <th>70</th>\n",
       "      <td>[해치지않아]</td>\n",
       "      <td>해치지않아</td>\n",
       "    </tr>\n",
       "    <tr>\n",
       "      <th>71</th>\n",
       "      <td>[]</td>\n",
       "      <td>천문: 하늘에 묻는다</td>\n",
       "    </tr>\n",
       "    <tr>\n",
       "      <th>72</th>\n",
       "      <td>[결백]</td>\n",
       "      <td>결백</td>\n",
       "    </tr>\n",
       "    <tr>\n",
       "      <th>73</th>\n",
       "      <td>[1917]</td>\n",
       "      <td>1917</td>\n",
       "    </tr>\n",
       "    <tr>\n",
       "      <th>74</th>\n",
       "      <td>[작은 아씨들]</td>\n",
       "      <td>작은 아씨들</td>\n",
       "    </tr>\n",
       "    <tr>\n",
       "      <th>75</th>\n",
       "      <td>[미드웨이]</td>\n",
       "      <td>미드웨이</td>\n",
       "    </tr>\n",
       "    <tr>\n",
       "      <th>76</th>\n",
       "      <td>[시동]</td>\n",
       "      <td>시동</td>\n",
       "    </tr>\n",
       "    <tr>\n",
       "      <th>77</th>\n",
       "      <td>[지푸라기라도 잡고 싶은 짐승들]</td>\n",
       "      <td>지푸라기라도 잡고 싶은 짐승들</td>\n",
       "    </tr>\n",
       "    <tr>\n",
       "      <th>78</th>\n",
       "      <td>[미스터 보스, 미스터 주: 사라진 VIP, 미스터 존스]</td>\n",
       "      <td>미스터 주: 사라진 VIP</td>\n",
       "    </tr>\n",
       "    <tr>\n",
       "      <th>79</th>\n",
       "      <td>[인비저블 위트니스, 인비저블 라이프, 인비저블맨]</td>\n",
       "      <td>인비저블맨</td>\n",
       "    </tr>\n",
       "    <tr>\n",
       "      <th>80</th>\n",
       "      <td>[나쁜 녀석들: 더 무비, 나쁜 녀석들 : 포에버]</td>\n",
       "      <td>나쁜 녀석들 : 포에버</td>\n",
       "    </tr>\n",
       "    <tr>\n",
       "      <th>81</th>\n",
       "      <td>[국제수사]</td>\n",
       "      <td>국제수사</td>\n",
       "    </tr>\n",
       "    <tr>\n",
       "      <th>82</th>\n",
       "      <td>[침입자, 침입자]</td>\n",
       "      <td>침입자</td>\n",
       "    </tr>\n",
       "    <tr>\n",
       "      <th>83</th>\n",
       "      <td>[스타워즈: 라이즈 오브 스카이워커]</td>\n",
       "      <td>스타워즈: 라이즈 오브 스카이워커</td>\n",
       "    </tr>\n",
       "    <tr>\n",
       "      <th>84</th>\n",
       "      <td>[스파이 지니어스]</td>\n",
       "      <td>스파이 지니어스</td>\n",
       "    </tr>\n",
       "    <tr>\n",
       "      <th>85</th>\n",
       "      <td>[온워드: 단 하루의 기적]</td>\n",
       "      <td>온워드: 단 하루의 기적</td>\n",
       "    </tr>\n",
       "    <tr>\n",
       "      <th>86</th>\n",
       "      <td>[소리도 없이]</td>\n",
       "      <td>소리도 없이</td>\n",
       "    </tr>\n",
       "    <tr>\n",
       "      <th>87</th>\n",
       "      <td>[버즈 오브 프레이(할리 퀸의 황홀한 해방)]</td>\n",
       "      <td>버즈 오브 프레이(할리 퀸의 황홀한 해방)</td>\n",
       "    </tr>\n",
       "    <tr>\n",
       "      <th>88</th>\n",
       "      <td>[오! 문희]</td>\n",
       "      <td>오! 문희</td>\n",
       "    </tr>\n",
       "    <tr>\n",
       "      <th>89</th>\n",
       "      <td>[그린랜드]</td>\n",
       "      <td>그린랜드</td>\n",
       "    </tr>\n",
       "    <tr>\n",
       "      <th>90</th>\n",
       "      <td>[런던 워리어, 사일런스, 액츠 오브 바이올런스, 장난스런 키스, 칠드런 액트, 커...</td>\n",
       "      <td>런</td>\n",
       "    </tr>\n",
       "    <tr>\n",
       "      <th>91</th>\n",
       "      <td>[내가 죽던 날, 집에 돌아오면, 언제나 아내가 죽은 척을 하고 있다, 내가 죽기를...</td>\n",
       "      <td>내가 죽던 날</td>\n",
       "    </tr>\n",
       "    <tr>\n",
       "      <th>92</th>\n",
       "      <td>[신비아파트 극장판 하늘도깨비 대 요르문간드]</td>\n",
       "      <td>신비아파트 극장판 하늘도깨비 대 요르문간드</td>\n",
       "    </tr>\n",
       "    <tr>\n",
       "      <th>93</th>\n",
       "      <td>[프리즌 브레이커스, 프리즌 이스케이프]</td>\n",
       "      <td>프리즌 이스케이프</td>\n",
       "    </tr>\n",
       "    <tr>\n",
       "      <th>94</th>\n",
       "      <td>[조제, 조제, 호랑이 그리고 물고기들]</td>\n",
       "      <td>조제</td>\n",
       "    </tr>\n",
       "    <tr>\n",
       "      <th>95</th>\n",
       "      <td>[밤쉘: 세상을 바꾼 폭탄선언]</td>\n",
       "      <td>밤쉘: 세상을 바꾼 폭탄선언</td>\n",
       "    </tr>\n",
       "  </tbody>\n",
       "</table>\n",
       "</div>"
      ],
      "text/plain": [
       "                                          naver_title               daum_title\n",
       "46                                      [콰이어트 플레이스 2]              콰이어트 플레이스 2\n",
       "47                                               [랑종]                       랑종\n",
       "48                  [컨저링 맨션, 컨저링 하우스, 컨저링 3: 악마가 시켰다]           컨저링 3: 악마가 시켰다\n",
       "49                                         [토이 스토리 4]                 토이 스토리 4\n",
       "50                                [주먹왕 랄프 2: 인터넷 속으로]        주먹왕 랄프 2: 인터넷 속으로\n",
       "51  [드래곤 길들이기 3, 드래곤 빌리지, 드래곤 솔져, 드래곤 헌터 트레져, 리틀드래...               드래곤 길들이기 3\n",
       "52                                          [말레피센트 2]                  말레피센트 2\n",
       "53                                       [마이펫의 이중생활2]              마이펫의 이중생활 2\n",
       "54                                      [쥬만지: 넥스트 레벨]              쥬만지: 넥스트 레벨\n",
       "55                                          [남산의 부장들]                  남산의 부장들\n",
       "56                    [다만 악에서 구하소서, 다만 악에서 구하소서 파이널컷]              다만 악에서 구하소서\n",
       "57                                               [반도]                       반도\n",
       "58                                         [아메리칸 히트맨]                      히트맨\n",
       "59                                               [테넷]                       테넷\n",
       "60                                              [백두산]                      백두산\n",
       "61                                            [#살아있다]                    #살아있다\n",
       "62                                       [강철비2: 정상회담]               강철비2: 정상회담\n",
       "63                                               [담보]                       담보\n",
       "64                                           [닥터 두리틀]                   닥터 두리틀\n",
       "65                                       [삼진그룹 영어토익반]               삼진그룹 영어토익반\n",
       "66                                           [정직한 후보]                   정직한 후보\n",
       "67                                               [도굴]                       도굴\n",
       "68                                              [클로젯]                      클로젯\n",
       "69                                           [오케이 마담]                   오케이 마담\n",
       "70                                            [해치지않아]                    해치지않아\n",
       "71                                                 []              천문: 하늘에 묻는다\n",
       "72                                               [결백]                       결백\n",
       "73                                             [1917]                     1917\n",
       "74                                           [작은 아씨들]                   작은 아씨들\n",
       "75                                             [미드웨이]                     미드웨이\n",
       "76                                               [시동]                       시동\n",
       "77                                 [지푸라기라도 잡고 싶은 짐승들]         지푸라기라도 잡고 싶은 짐승들\n",
       "78                   [미스터 보스, 미스터 주: 사라진 VIP, 미스터 존스]           미스터 주: 사라진 VIP\n",
       "79                       [인비저블 위트니스, 인비저블 라이프, 인비저블맨]                    인비저블맨\n",
       "80                       [나쁜 녀석들: 더 무비, 나쁜 녀석들 : 포에버]             나쁜 녀석들 : 포에버\n",
       "81                                             [국제수사]                     국제수사\n",
       "82                                         [침입자, 침입자]                      침입자\n",
       "83                               [스타워즈: 라이즈 오브 스카이워커]       스타워즈: 라이즈 오브 스카이워커\n",
       "84                                         [스파이 지니어스]                 스파이 지니어스\n",
       "85                                    [온워드: 단 하루의 기적]            온워드: 단 하루의 기적\n",
       "86                                           [소리도 없이]                   소리도 없이\n",
       "87                          [버즈 오브 프레이(할리 퀸의 황홀한 해방)]  버즈 오브 프레이(할리 퀸의 황홀한 해방)\n",
       "88                                            [오! 문희]                    오! 문희\n",
       "89                                             [그린랜드]                     그린랜드\n",
       "90  [런던 워리어, 사일런스, 액츠 오브 바이올런스, 장난스런 키스, 칠드런 액트, 커...                        런\n",
       "91  [내가 죽던 날, 집에 돌아오면, 언제나 아내가 죽은 척을 하고 있다, 내가 죽기를...                  내가 죽던 날\n",
       "92                          [신비아파트 극장판 하늘도깨비 대 요르문간드]  신비아파트 극장판 하늘도깨비 대 요르문간드\n",
       "93                             [프리즌 브레이커스, 프리즌 이스케이프]                프리즌 이스케이프\n",
       "94                             [조제, 조제, 호랑이 그리고 물고기들]                       조제\n",
       "95                                  [밤쉘: 세상을 바꾼 폭탄선언]          밤쉘: 세상을 바꾼 폭탄선언"
      ]
     },
     "execution_count": 267,
     "metadata": {},
     "output_type": "execute_result"
    }
   ],
   "source": [
    "bb.tail(50)"
   ]
  },
  {
   "cell_type": "markdown",
   "id": "ef3de755",
   "metadata": {
    "ExecuteTime": {
     "end_time": "2021-10-15T11:13:27.019450Z",
     "start_time": "2021-10-15T11:13:27.009454Z"
    }
   },
   "source": [
    "* 네이버 영화에 기록되지 않은 다음 리뷰 영화목록"
   ]
  },
  {
   "cell_type": "markdown",
   "id": "834b5438",
   "metadata": {
    "ExecuteTime": {
     "end_time": "2021-10-15T13:10:14.474024Z",
     "start_time": "2021-10-15T13:10:14.450912Z"
    }
   },
   "source": [
    "for title in dd:\n",
    "    if title not in nn:\n",
    "        print(title)"
   ]
  },
  {
   "cell_type": "code",
   "execution_count": 24,
   "id": "bb0549ae",
   "metadata": {
    "ExecuteTime": {
     "end_time": "2021-10-15T11:12:16.192185Z",
     "start_time": "2021-10-15T11:12:16.158841Z"
    }
   },
   "outputs": [
    {
     "data": {
      "text/html": [
       "<div>\n",
       "<style scoped>\n",
       "    .dataframe tbody tr th:only-of-type {\n",
       "        vertical-align: middle;\n",
       "    }\n",
       "\n",
       "    .dataframe tbody tr th {\n",
       "        vertical-align: top;\n",
       "    }\n",
       "\n",
       "    .dataframe thead th {\n",
       "        text-align: right;\n",
       "    }\n",
       "</style>\n",
       "<table border=\"1\" class=\"dataframe\">\n",
       "  <thead>\n",
       "    <tr style=\"text-align: right;\">\n",
       "      <th></th>\n",
       "      <th>title</th>\n",
       "      <th>genre</th>\n",
       "      <th>nation</th>\n",
       "      <th>running_time</th>\n",
       "      <th>release_date</th>\n",
       "      <th>director</th>\n",
       "      <th>actor</th>\n",
       "      <th>grade</th>\n",
       "      <th>summary</th>\n",
       "      <th>poster</th>\n",
       "      <th>score</th>\n",
       "      <th>content</th>\n",
       "      <th>write_date</th>\n",
       "      <th>source_site</th>\n",
       "    </tr>\n",
       "  </thead>\n",
       "  <tbody>\n",
       "  </tbody>\n",
       "</table>\n",
       "</div>"
      ],
      "text/plain": [
       "Empty DataFrame\n",
       "Columns: [title, genre, nation, running_time, release_date, director, actor, grade, summary, poster, score, content, write_date, source_site]\n",
       "Index: []"
      ]
     },
     "execution_count": 24,
     "metadata": {},
     "output_type": "execute_result"
    }
   ],
   "source": [
    "movie_n[movie_n['title']=='샹치와 텐 링즈의 전설']"
   ]
  },
  {
   "cell_type": "markdown",
   "id": "c263bf06",
   "metadata": {},
   "source": [
    "---"
   ]
  },
  {
   "cell_type": "code",
   "execution_count": 26,
   "id": "724bd1b3",
   "metadata": {
    "ExecuteTime": {
     "end_time": "2021-10-15T11:12:57.402656Z",
     "start_time": "2021-10-15T11:12:57.379656Z"
    }
   },
   "outputs": [
    {
     "data": {
      "text/html": [
       "<div>\n",
       "<style scoped>\n",
       "    .dataframe tbody tr th:only-of-type {\n",
       "        vertical-align: middle;\n",
       "    }\n",
       "\n",
       "    .dataframe tbody tr th {\n",
       "        vertical-align: top;\n",
       "    }\n",
       "\n",
       "    .dataframe thead th {\n",
       "        text-align: right;\n",
       "    }\n",
       "</style>\n",
       "<table border=\"1\" class=\"dataframe\">\n",
       "  <thead>\n",
       "    <tr style=\"text-align: right;\">\n",
       "      <th></th>\n",
       "      <th>title</th>\n",
       "      <th>score</th>\n",
       "      <th>content</th>\n",
       "      <th>write_date</th>\n",
       "      <th>release_date</th>\n",
       "      <th>source_site</th>\n",
       "    </tr>\n",
       "  </thead>\n",
       "  <tbody>\n",
       "    <tr>\n",
       "      <th>3723</th>\n",
       "      <td>샹치와 텐 링즈의 전설</td>\n",
       "      <td>1</td>\n",
       "      <td>돈받고 찬사보낸 기자분들 머리 박으세요. 쿠키영상 찬사는... 앤트맨2때에 이어서 ...</td>\n",
       "      <td>2021. 09. 02. 23:00</td>\n",
       "      <td>NaN</td>\n",
       "      <td>daum</td>\n",
       "    </tr>\n",
       "  </tbody>\n",
       "</table>\n",
       "</div>"
      ],
      "text/plain": [
       "             title  score                                            content  \\\n",
       "3723  샹치와 텐 링즈의 전설      1  돈받고 찬사보낸 기자분들 머리 박으세요. 쿠키영상 찬사는... 앤트맨2때에 이어서 ...   \n",
       "\n",
       "               write_date release_date source_site  \n",
       "3723  2021. 09. 02. 23:00          NaN        daum  "
      ]
     },
     "execution_count": 26,
     "metadata": {},
     "output_type": "execute_result"
    }
   ],
   "source": [
    "daum[daum['title']=='샹치와 텐 링즈의 전설'].head(1)"
   ]
  },
  {
   "cell_type": "code",
   "execution_count": 32,
   "id": "6b7147c4",
   "metadata": {
    "ExecuteTime": {
     "end_time": "2021-10-15T11:14:42.088193Z",
     "start_time": "2021-10-15T11:14:42.060143Z"
    }
   },
   "outputs": [
    {
     "data": {
      "text/html": [
       "<div>\n",
       "<style scoped>\n",
       "    .dataframe tbody tr th:only-of-type {\n",
       "        vertical-align: middle;\n",
       "    }\n",
       "\n",
       "    .dataframe tbody tr th {\n",
       "        vertical-align: top;\n",
       "    }\n",
       "\n",
       "    .dataframe thead th {\n",
       "        text-align: right;\n",
       "    }\n",
       "</style>\n",
       "<table border=\"1\" class=\"dataframe\">\n",
       "  <thead>\n",
       "    <tr style=\"text-align: right;\">\n",
       "      <th></th>\n",
       "      <th>title</th>\n",
       "      <th>score</th>\n",
       "      <th>content</th>\n",
       "      <th>write_date</th>\n",
       "      <th>release_date</th>\n",
       "      <th>source_site</th>\n",
       "    </tr>\n",
       "  </thead>\n",
       "  <tbody>\n",
       "    <tr>\n",
       "      <th>10688</th>\n",
       "      <td>명탐정 코난: 비색의 탄환</td>\n",
       "      <td>10</td>\n",
       "      <td>기대되네요.</td>\n",
       "      <td>2020. 05. 22. 13:35</td>\n",
       "      <td>NaN</td>\n",
       "      <td>daum</td>\n",
       "    </tr>\n",
       "  </tbody>\n",
       "</table>\n",
       "</div>"
      ],
      "text/plain": [
       "                title  score content           write_date release_date  \\\n",
       "10688  명탐정 코난: 비색의 탄환     10  기대되네요.  2020. 05. 22. 13:35          NaN   \n",
       "\n",
       "      source_site  \n",
       "10688        daum  "
      ]
     },
     "execution_count": 32,
     "metadata": {},
     "output_type": "execute_result"
    }
   ],
   "source": [
    "daum[daum['title']=='명탐정 코난: 비색의 탄환'].head(1)"
   ]
  },
  {
   "cell_type": "code",
   "execution_count": 31,
   "id": "97b22003",
   "metadata": {
    "ExecuteTime": {
     "end_time": "2021-10-15T11:14:41.391499Z",
     "start_time": "2021-10-15T11:14:41.365513Z"
    }
   },
   "outputs": [
    {
     "data": {
      "text/html": [
       "<div>\n",
       "<style scoped>\n",
       "    .dataframe tbody tr th:only-of-type {\n",
       "        vertical-align: middle;\n",
       "    }\n",
       "\n",
       "    .dataframe tbody tr th {\n",
       "        vertical-align: top;\n",
       "    }\n",
       "\n",
       "    .dataframe thead th {\n",
       "        text-align: right;\n",
       "    }\n",
       "</style>\n",
       "<table border=\"1\" class=\"dataframe\">\n",
       "  <thead>\n",
       "    <tr style=\"text-align: right;\">\n",
       "      <th></th>\n",
       "      <th>title</th>\n",
       "      <th>score</th>\n",
       "      <th>content</th>\n",
       "      <th>write_date</th>\n",
       "      <th>release_date</th>\n",
       "      <th>source_site</th>\n",
       "    </tr>\n",
       "  </thead>\n",
       "  <tbody>\n",
       "    <tr>\n",
       "      <th>20837</th>\n",
       "      <td>마이펫의 이중생활 2</td>\n",
       "      <td>7</td>\n",
       "      <td>동작과 표정들이 살아있네</td>\n",
       "      <td>2020. 09. 30. 18:30</td>\n",
       "      <td>2019.07.31</td>\n",
       "      <td>daum</td>\n",
       "    </tr>\n",
       "  </tbody>\n",
       "</table>\n",
       "</div>"
      ],
      "text/plain": [
       "             title  score        content           write_date release_date  \\\n",
       "20837  마이펫의 이중생활 2      7  동작과 표정들이 살아있네  2020. 09. 30. 18:30   2019.07.31   \n",
       "\n",
       "      source_site  \n",
       "20837        daum  "
      ]
     },
     "execution_count": 31,
     "metadata": {},
     "output_type": "execute_result"
    }
   ],
   "source": [
    "daum[daum['title']=='마이펫의 이중생활 2'].head(1)"
   ]
  },
  {
   "cell_type": "code",
   "execution_count": 30,
   "id": "c6ce3386",
   "metadata": {
    "ExecuteTime": {
     "end_time": "2021-10-15T11:14:40.712087Z",
     "start_time": "2021-10-15T11:14:40.685064Z"
    }
   },
   "outputs": [
    {
     "data": {
      "text/html": [
       "<div>\n",
       "<style scoped>\n",
       "    .dataframe tbody tr th:only-of-type {\n",
       "        vertical-align: middle;\n",
       "    }\n",
       "\n",
       "    .dataframe tbody tr th {\n",
       "        vertical-align: top;\n",
       "    }\n",
       "\n",
       "    .dataframe thead th {\n",
       "        text-align: right;\n",
       "    }\n",
       "</style>\n",
       "<table border=\"1\" class=\"dataframe\">\n",
       "  <thead>\n",
       "    <tr style=\"text-align: right;\">\n",
       "      <th></th>\n",
       "      <th>title</th>\n",
       "      <th>score</th>\n",
       "      <th>content</th>\n",
       "      <th>write_date</th>\n",
       "      <th>release_date</th>\n",
       "      <th>source_site</th>\n",
       "    </tr>\n",
       "  </thead>\n",
       "  <tbody>\n",
       "    <tr>\n",
       "      <th>20513</th>\n",
       "      <td>말레피센트 2</td>\n",
       "      <td>0</td>\n",
       "      <td>기 발암승 발암전 발암결 발암</td>\n",
       "      <td>2020. 05. 14. 07:44</td>\n",
       "      <td>2019.10.17</td>\n",
       "      <td>daum</td>\n",
       "    </tr>\n",
       "  </tbody>\n",
       "</table>\n",
       "</div>"
      ],
      "text/plain": [
       "         title  score           content           write_date release_date  \\\n",
       "20513  말레피센트 2      0  기 발암승 발암전 발암결 발암  2020. 05. 14. 07:44   2019.10.17   \n",
       "\n",
       "      source_site  \n",
       "20513        daum  "
      ]
     },
     "execution_count": 30,
     "metadata": {},
     "output_type": "execute_result"
    }
   ],
   "source": [
    "daum[daum['title']=='말레피센트 2'].head(1)"
   ]
  },
  {
   "cell_type": "code",
   "execution_count": 29,
   "id": "7fd22fc3",
   "metadata": {
    "ExecuteTime": {
     "end_time": "2021-10-15T11:14:40.035175Z",
     "start_time": "2021-10-15T11:14:39.994701Z"
    }
   },
   "outputs": [
    {
     "data": {
      "text/html": [
       "<div>\n",
       "<style scoped>\n",
       "    .dataframe tbody tr th:only-of-type {\n",
       "        vertical-align: middle;\n",
       "    }\n",
       "\n",
       "    .dataframe tbody tr th {\n",
       "        vertical-align: top;\n",
       "    }\n",
       "\n",
       "    .dataframe thead th {\n",
       "        text-align: right;\n",
       "    }\n",
       "</style>\n",
       "<table border=\"1\" class=\"dataframe\">\n",
       "  <thead>\n",
       "    <tr style=\"text-align: right;\">\n",
       "      <th></th>\n",
       "      <th>title</th>\n",
       "      <th>score</th>\n",
       "      <th>content</th>\n",
       "      <th>write_date</th>\n",
       "      <th>release_date</th>\n",
       "      <th>source_site</th>\n",
       "    </tr>\n",
       "  </thead>\n",
       "  <tbody>\n",
       "    <tr>\n",
       "      <th>22112</th>\n",
       "      <td>히트맨</td>\n",
       "      <td>10</td>\n",
       "      <td>웃느라 정신 못 차림.  ^^\\n재밌자는 영화한테 예술성을 바라나?\\n왜 이리 평점...</td>\n",
       "      <td>2020. 11. 09. 10:41</td>\n",
       "      <td>NaN</td>\n",
       "      <td>daum</td>\n",
       "    </tr>\n",
       "  </tbody>\n",
       "</table>\n",
       "</div>"
      ],
      "text/plain": [
       "      title  score                                            content  \\\n",
       "22112   히트맨     10  웃느라 정신 못 차림.  ^^\\n재밌자는 영화한테 예술성을 바라나?\\n왜 이리 평점...   \n",
       "\n",
       "                write_date release_date source_site  \n",
       "22112  2020. 11. 09. 10:41          NaN        daum  "
      ]
     },
     "execution_count": 29,
     "metadata": {},
     "output_type": "execute_result"
    }
   ],
   "source": [
    "daum[daum['title']=='히트맨'].head(1)"
   ]
  },
  {
   "cell_type": "code",
   "execution_count": 28,
   "id": "e77d536c",
   "metadata": {
    "ExecuteTime": {
     "end_time": "2021-10-15T11:14:39.179807Z",
     "start_time": "2021-10-15T11:14:39.163805Z"
    }
   },
   "outputs": [
    {
     "data": {
      "text/html": [
       "<div>\n",
       "<style scoped>\n",
       "    .dataframe tbody tr th:only-of-type {\n",
       "        vertical-align: middle;\n",
       "    }\n",
       "\n",
       "    .dataframe tbody tr th {\n",
       "        vertical-align: top;\n",
       "    }\n",
       "\n",
       "    .dataframe thead th {\n",
       "        text-align: right;\n",
       "    }\n",
       "</style>\n",
       "<table border=\"1\" class=\"dataframe\">\n",
       "  <thead>\n",
       "    <tr style=\"text-align: right;\">\n",
       "      <th></th>\n",
       "      <th>title</th>\n",
       "      <th>score</th>\n",
       "      <th>content</th>\n",
       "      <th>write_date</th>\n",
       "      <th>release_date</th>\n",
       "      <th>source_site</th>\n",
       "    </tr>\n",
       "  </thead>\n",
       "  <tbody>\n",
       "    <tr>\n",
       "      <th>26071</th>\n",
       "      <td>천문: 하늘에 묻는다</td>\n",
       "      <td>10</td>\n",
       "      <td>감독이 왜 이 영화를 만들었는지 그가 관객에게 전하고 싶은 메세지가 정확하게 읽히는...</td>\n",
       "      <td>2020. 10. 02. 00:11</td>\n",
       "      <td>NaN</td>\n",
       "      <td>daum</td>\n",
       "    </tr>\n",
       "  </tbody>\n",
       "</table>\n",
       "</div>"
      ],
      "text/plain": [
       "             title  score                                            content  \\\n",
       "26071  천문: 하늘에 묻는다     10  감독이 왜 이 영화를 만들었는지 그가 관객에게 전하고 싶은 메세지가 정확하게 읽히는...   \n",
       "\n",
       "                write_date release_date source_site  \n",
       "26071  2020. 10. 02. 00:11          NaN        daum  "
      ]
     },
     "execution_count": 28,
     "metadata": {},
     "output_type": "execute_result"
    }
   ],
   "source": [
    "daum[daum['title']=='천문: 하늘에 묻는다'].head(1)"
   ]
  }
 ],
 "metadata": {
  "hide_input": false,
  "kernelspec": {
   "display_name": "Python 3",
   "language": "python",
   "name": "python3"
  },
  "language_info": {
   "codemirror_mode": {
    "name": "ipython",
    "version": 3
   },
   "file_extension": ".py",
   "mimetype": "text/x-python",
   "name": "python",
   "nbconvert_exporter": "python",
   "pygments_lexer": "ipython3",
   "version": "3.8.8"
  },
  "toc": {
   "base_numbering": 1,
   "nav_menu": {},
   "number_sections": true,
   "sideBar": true,
   "skip_h1_title": false,
   "title_cell": "Table of Contents",
   "title_sidebar": "Contents",
   "toc_cell": false,
   "toc_position": {},
   "toc_section_display": true,
   "toc_window_display": false
  },
  "varInspector": {
   "cols": {
    "lenName": 16,
    "lenType": 16,
    "lenVar": 40
   },
   "kernels_config": {
    "python": {
     "delete_cmd_postfix": "",
     "delete_cmd_prefix": "del ",
     "library": "var_list.py",
     "varRefreshCmd": "print(var_dic_list())"
    },
    "r": {
     "delete_cmd_postfix": ") ",
     "delete_cmd_prefix": "rm(",
     "library": "var_list.r",
     "varRefreshCmd": "cat(var_dic_list()) "
    }
   },
   "types_to_exclude": [
    "module",
    "function",
    "builtin_function_or_method",
    "instance",
    "_Feature"
   ],
   "window_display": false
  }
 },
 "nbformat": 4,
 "nbformat_minor": 5
}
